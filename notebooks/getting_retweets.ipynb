{
 "cells": [
  {
   "cell_type": "markdown",
   "metadata": {},
   "source": [
    "# GETTING INFORMATION FROM RETWEETS"
   ]
  },
  {
   "cell_type": "code",
   "execution_count": 16,
   "metadata": {},
   "outputs": [],
   "source": [
    "import json, os\n",
    "import datetime\n",
    "from pydantic import HttpUrl\n",
    "import pandas as pd\n",
    "from tqdm import tqdm\n",
    "\n",
    "from pnytter import Pnytter"
   ]
  },
  {
   "cell_type": "markdown",
   "metadata": {},
   "source": []
  },
  {
   "cell_type": "markdown",
   "metadata": {},
   "source": [
    "## 1. Load the Retweets list"
   ]
  },
  {
   "cell_type": "code",
   "execution_count": 17,
   "metadata": {},
   "outputs": [],
   "source": [
    "df_retweets = pd.read_csv('202503192227-RETWEETS_ETIQUETADOS_CONTAINS_HATE_TRUE.csv', index_col=None)\n",
    "df_retweets = df_retweets.rename(columns={'count_star()':'ocurrencias'})"
   ]
  },
  {
   "cell_type": "code",
   "execution_count": 18,
   "metadata": {},
   "outputs": [
    {
     "data": {
      "text/html": [
       "<div>\n",
       "<style scoped>\n",
       "    .dataframe tbody tr th:only-of-type {\n",
       "        vertical-align: middle;\n",
       "    }\n",
       "\n",
       "    .dataframe tbody tr th {\n",
       "        vertical-align: top;\n",
       "    }\n",
       "\n",
       "    .dataframe thead th {\n",
       "        text-align: right;\n",
       "    }\n",
       "</style>\n",
       "<table border=\"1\" class=\"dataframe\">\n",
       "  <thead>\n",
       "    <tr style=\"text-align: right;\">\n",
       "      <th></th>\n",
       "      <th>tweet_id</th>\n",
       "      <th>author</th>\n",
       "      <th>ocurrencias</th>\n",
       "    </tr>\n",
       "  </thead>\n",
       "  <tbody>\n",
       "    <tr>\n",
       "      <th>0</th>\n",
       "      <td>1795781220925669620</td>\n",
       "      <td>963492493458329602</td>\n",
       "      <td>2</td>\n",
       "    </tr>\n",
       "    <tr>\n",
       "      <th>1</th>\n",
       "      <td>1795383660088074396</td>\n",
       "      <td>796158301788667908</td>\n",
       "      <td>2</td>\n",
       "    </tr>\n",
       "    <tr>\n",
       "      <th>2</th>\n",
       "      <td>1795168528464540035</td>\n",
       "      <td>482147864</td>\n",
       "      <td>2</td>\n",
       "    </tr>\n",
       "    <tr>\n",
       "      <th>3</th>\n",
       "      <td>1798852393096130705</td>\n",
       "      <td>1621152552258801672</td>\n",
       "      <td>2</td>\n",
       "    </tr>\n",
       "    <tr>\n",
       "      <th>4</th>\n",
       "      <td>1801196737324843027</td>\n",
       "      <td>1665677569671168002</td>\n",
       "      <td>2</td>\n",
       "    </tr>\n",
       "  </tbody>\n",
       "</table>\n",
       "</div>"
      ],
      "text/plain": [
       "              tweet_id               author  ocurrencias\n",
       "0  1795781220925669620   963492493458329602            2\n",
       "1  1795383660088074396   796158301788667908            2\n",
       "2  1795168528464540035            482147864            2\n",
       "3  1798852393096130705  1621152552258801672            2\n",
       "4  1801196737324843027  1665677569671168002            2"
      ]
     },
     "execution_count": 18,
     "metadata": {},
     "output_type": "execute_result"
    }
   ],
   "source": [
    "df_retweets.head()"
   ]
  },
  {
   "cell_type": "code",
   "execution_count": 19,
   "metadata": {},
   "outputs": [
    {
     "data": {
      "text/plain": [
       "(1776, 3)"
      ]
     },
     "execution_count": 19,
     "metadata": {},
     "output_type": "execute_result"
    }
   ],
   "source": [
    "df_retweets.shape"
   ]
  },
  {
   "cell_type": "markdown",
   "metadata": {},
   "source": [
    "## 2. Get the Retweets's information"
   ]
  },
  {
   "cell_type": "code",
   "execution_count": 20,
   "metadata": {},
   "outputs": [
    {
     "name": "stdout",
     "output_type": "stream",
     "text": [
      "Local server\n"
     ]
    }
   ],
   "source": [
    "localserver = True\n",
    "\n",
    "# The Pnytter object needs at least 1 Nitter instance to work, but these can be added after initialization\n",
    "if localserver: \n",
    "  pnytter = Pnytter(\n",
    "    nitter_instances=[\"http://localhost:8080\"]\n",
    "  )\n",
    "  print(\"Local server\")\n",
    "else:\n",
    "  pnytter = Pnytter(\n",
    "    nitter_instances=['https://xcancel.com',\n",
    "  'https://lightbrd.com',\n",
    "  'https://nitter.lucabased.xyz',\n",
    "  'https://nitter.space',\n",
    "  'https://nitter.net',\n",
    "  'https://nitter.privacyredirect.com',\n",
    "  'https://nitter.privacydev.net',\n",
    "  'https://nitter.poast.org',\n",
    "  'http://nitter.coffee2m3bjsrrqqycx6ghkxrnejl2q6nl7pjw2j4clchjj6uk5zozad.onion']\n",
    "  )\n",
    "  print(\"Remote server\")"
   ]
  },
  {
   "cell_type": "markdown",
   "metadata": {},
   "source": [
    "Si partimos de datos ya descagados, estos han de estar en un fichero denominado **retweets_previo.csv** para seguir descargando datos a partir de estos."
   ]
  },
  {
   "cell_type": "code",
   "execution_count": 21,
   "metadata": {},
   "outputs": [],
   "source": [
    "if os.path.exists('retweets_previo.csv'):\n",
    "    df_anterior = pd.read_csv('retweets_previo.csv')"
   ]
  },
  {
   "cell_type": "code",
   "execution_count": 22,
   "metadata": {},
   "outputs": [
    {
     "name": "stderr",
     "output_type": "stream",
     "text": [
      "Buscando Retweets: 100%|██████████| 1776/1776 [06:06<00:00,  4.85it/s]"
     ]
    },
    {
     "name": "stdout",
     "output_type": "stream",
     "text": [
      "Archivos retweets.csv y errors.csv generados correctamente.\n"
     ]
    },
    {
     "name": "stderr",
     "output_type": "stream",
     "text": [
      "\n"
     ]
    }
   ],
   "source": [
    "cont = 0\n",
    "\n",
    "data = {\n",
    "    'tweet_id': [],\n",
    "    'author': [],\n",
    "    'author_id': [],\n",
    "    'created_at': [],\n",
    "    'text': [],\n",
    "    'retweets_count': [], \n",
    "    'comments_count': [],\n",
    "    'likes_count': [],\n",
    "    'quotes_count': []\n",
    "}\n",
    "\n",
    "error = {\n",
    "    'tweet_id': [],\n",
    "}\n",
    "\n",
    "for row in tqdm(df_retweets.itertuples(), total=len(df_retweets), desc='Buscando Retweets'):\n",
    "    \n",
    "    # check if the tweet was already processed\n",
    "    if 'df_anterior' in locals():\n",
    "        if row.tweet_id in df_anterior.tweet_id.values:\n",
    "            cont += 1\n",
    "            continue\n",
    "\n",
    "    try:\n",
    "        tweet = pnytter.get_tweet(row.tweet_id)\n",
    "    except Exception as e:\n",
    "        cont += 1\n",
    "        #print(f\"Error al obtener el tweet {row.tweet_id}: {e}\")\n",
    "        error['tweet_id'].append(row.tweet_id)\n",
    "        continue\n",
    "\n",
    "    try: \n",
    "        data['author'].append(tweet.author) \n",
    "        data['created_at'].append(tweet.created_on)\n",
    "        data['text'].append(tweet.text)\n",
    "        data['retweets_count'].append(tweet.stats.retweets)\n",
    "        data['comments_count'].append(tweet.stats.comments)\n",
    "        data['likes_count'].append(tweet.stats.likes)\n",
    "        data['quotes_count'].append(tweet.stats.quotes)\n",
    "        data['tweet_id'].append(row.tweet_id)\n",
    "        data['author_id'].append(row.author)\n",
    "\n",
    "    except AttributeError:\n",
    "        #print(f\"Error al procesar el tweet {row.tweet_id}: {e}\")\n",
    "        error['tweet_id'].append(row.tweet_id)\n",
    "\n",
    "    cont += 1\n",
    "\n",
    "    if cont == 100:\n",
    "        cont = 0       \n",
    "        df = pd.DataFrame(data)\n",
    "        df_error = pd.DataFrame(error)\n",
    "        df.to_csv('retweets_temp.csv', index=False)\n",
    "        df_error.to_csv('errors_temp.csv', index=False)\n",
    "\n",
    "\n",
    "df = pd.DataFrame(data)\n",
    "df_error = pd.DataFrame(error)\n",
    "df.to_csv('retweets.csv', index=False)\n",
    "df_error.to_csv('errors.csv', index=False)\n",
    "print(\"Archivos retweets.csv y errors.csv generados correctamente.\")\n"
   ]
  },
  {
   "cell_type": "markdown",
   "metadata": {},
   "source": [
    "## Concat de retweets_previo y retweets\n",
    "\n",
    "Cómo hemos comentado anteriormente, si hemos partido de datos ya descargados, partiremos de retweets_previo, por eso hemos de hacer un concat de retweets_previo y retweets en retweets_final."
   ]
  },
  {
   "cell_type": "code",
   "execution_count": 23,
   "metadata": {},
   "outputs": [],
   "source": [
    "if os.path.exists('retweets_previo.csv'):\n",
    "    df_temp = pd.read_csv('retweets_previo.csv')\n",
    "    if os.path.exists('retweets.csv'):\n",
    "        df = pd.read_csv('retweets.csv')\n",
    "        df_final = pd.concat([df, df_temp], ignore_index=True)\n",
    "        df_final.to_csv('retweets_final.csv', index=False)"
   ]
  },
  {
   "cell_type": "code",
   "execution_count": 24,
   "metadata": {},
   "outputs": [
    {
     "name": "stdout",
     "output_type": "stream",
     "text": [
      "Datos en retweets Previos: (1624, 9)\n",
      "Datos descargados en esta ejecución: (0, 9)\n",
      "Datos Totales: (1624, 9)\n"
     ]
    }
   ],
   "source": [
    "print(\"Datos en retweets Previos:\", df_temp.shape)\n",
    "print(\"Datos descargados en esta ejecución:\", df.shape)\n",
    "print(\"Datos Totales:\", df_final.shape)"
   ]
  },
  {
   "cell_type": "code",
   "execution_count": 25,
   "metadata": {},
   "outputs": [
    {
     "name": "stdout",
     "output_type": "stream",
     "text": [
      "Empty DataFrame\n",
      "Columns: [tweet_id, author, author_id, created_at, text, retweets_count, comments_count, likes_count, quotes_count]\n",
      "Index: []\n",
      "Número de duplicatas: 0\n"
     ]
    }
   ],
   "source": [
    "# Verificar duplicatas em todas as colunas\n",
    "duplicated_rows = df_final[df_final.duplicated()]\n",
    "\n",
    "# Exibir as duplicatas\n",
    "print(duplicated_rows)\n",
    "\n",
    "# Contar o número de duplicatas\n",
    "print(f\"Número de duplicatas: {duplicated_rows.shape[0]}\")"
   ]
  },
  {
   "cell_type": "code",
   "execution_count": 26,
   "metadata": {},
   "outputs": [
    {
     "name": "stdout",
     "output_type": "stream",
     "text": [
      "Empty DataFrame\n",
      "Columns: [tweet_id, author, author_id, created_at, text, retweets_count, comments_count, likes_count, quotes_count]\n",
      "Index: []\n",
      "Número de duplicatas: 0\n"
     ]
    }
   ],
   "source": [
    "# Verificar duplicatas em todas as colunas\n",
    "duplicated_rows = df[df.duplicated()]\n",
    "\n",
    "# Exibir as duplicatas\n",
    "print(duplicated_rows)\n",
    "\n",
    "# Contar o número de duplicatas\n",
    "print(f\"Número de duplicatas: {duplicated_rows.shape[0]}\")"
   ]
  },
  {
   "cell_type": "code",
   "execution_count": 27,
   "metadata": {},
   "outputs": [
    {
     "name": "stdout",
     "output_type": "stream",
     "text": [
      "Empty DataFrame\n",
      "Columns: [tweet_id, author, author_id, created_at, text, retweets_count, comments_count, likes_count, quotes_count]\n",
      "Index: []\n",
      "Número de duplicatas: 0\n"
     ]
    }
   ],
   "source": [
    "# Verificar duplicatas em todas as colunas\n",
    "duplicated_rows = df_temp[df_temp.duplicated()]\n",
    "\n",
    "# Exibir as duplicatas\n",
    "print(duplicated_rows)\n",
    "\n",
    "# Contar o número de duplicatas\n",
    "print(f\"Número de duplicatas: {duplicated_rows.shape[0]}\")"
   ]
  },
  {
   "cell_type": "code",
   "execution_count": 28,
   "metadata": {},
   "outputs": [],
   "source": [
    "# borramos y renombramos los ficheros resultantes\n",
    "os.remove('retweets.csv')\n",
    "os.remove('retweets_previo.csv')\n",
    "os.rename('retweets_final.csv', 'retweets_previo.csv')"
   ]
  },
  {
   "cell_type": "code",
   "execution_count": 29,
   "metadata": {},
   "outputs": [
    {
     "name": "stdout",
     "output_type": "stream",
     "text": [
      "Datos Finales: (1624, 9)\n"
     ]
    }
   ],
   "source": [
    "df_test = pd.read_csv('retweets_previo.csv')\n",
    "print(\"Datos Finales:\", df_test.shape)"
   ]
  },
  {
   "cell_type": "code",
   "execution_count": 30,
   "metadata": {},
   "outputs": [
    {
     "data": {
      "text/html": [
       "<div>\n",
       "<style scoped>\n",
       "    .dataframe tbody tr th:only-of-type {\n",
       "        vertical-align: middle;\n",
       "    }\n",
       "\n",
       "    .dataframe tbody tr th {\n",
       "        vertical-align: top;\n",
       "    }\n",
       "\n",
       "    .dataframe thead th {\n",
       "        text-align: right;\n",
       "    }\n",
       "</style>\n",
       "<table border=\"1\" class=\"dataframe\">\n",
       "  <thead>\n",
       "    <tr style=\"text-align: right;\">\n",
       "      <th></th>\n",
       "      <th>tweet_id</th>\n",
       "      <th>author</th>\n",
       "      <th>author_id</th>\n",
       "      <th>created_at</th>\n",
       "      <th>text</th>\n",
       "      <th>retweets_count</th>\n",
       "      <th>comments_count</th>\n",
       "      <th>likes_count</th>\n",
       "      <th>quotes_count</th>\n",
       "    </tr>\n",
       "  </thead>\n",
       "  <tbody>\n",
       "    <tr>\n",
       "      <th>1618</th>\n",
       "      <td>1805031024553853082</td>\n",
       "      <td>jorgitomaduixas</td>\n",
       "      <td>579297067</td>\n",
       "      <td>2024-06-24 00:11:00+00:00</td>\n",
       "      <td>No es futbol, és política, se trata de catalan...</td>\n",
       "      <td>22</td>\n",
       "      <td>25</td>\n",
       "      <td>302</td>\n",
       "      <td>8</td>\n",
       "    </tr>\n",
       "    <tr>\n",
       "      <th>1015</th>\n",
       "      <td>1804311342439858354</td>\n",
       "      <td>republicatransg</td>\n",
       "      <td>1559972449579683841</td>\n",
       "      <td>2024-06-22 00:32:00+00:00</td>\n",
       "      <td>Que tú mantengas las piernas cerradas delante ...</td>\n",
       "      <td>37</td>\n",
       "      <td>36</td>\n",
       "      <td>299</td>\n",
       "      <td>1</td>\n",
       "    </tr>\n",
       "    <tr>\n",
       "      <th>121</th>\n",
       "      <td>1808078694595862978</td>\n",
       "      <td>Hsa1981_02</td>\n",
       "      <td>1466095115060002832</td>\n",
       "      <td>2024-07-02 10:02:00+00:00</td>\n",
       "      <td>Pero, ¿ Ya habéis pagado las nóminas ? , ¿ Ya ...</td>\n",
       "      <td>14</td>\n",
       "      <td>19</td>\n",
       "      <td>275</td>\n",
       "      <td>0</td>\n",
       "    </tr>\n",
       "    <tr>\n",
       "      <th>1553</th>\n",
       "      <td>1801199879458341013</td>\n",
       "      <td>esmultivac</td>\n",
       "      <td>158730655</td>\n",
       "      <td>2024-06-13 10:28:00+00:00</td>\n",
       "      <td>Quieres decir que tienes que repetir siempre l...</td>\n",
       "      <td>16</td>\n",
       "      <td>7</td>\n",
       "      <td>157</td>\n",
       "      <td>0</td>\n",
       "    </tr>\n",
       "    <tr>\n",
       "      <th>1603</th>\n",
       "      <td>1803920415670309221</td>\n",
       "      <td>10InfoBlaugrana</td>\n",
       "      <td>1313101153970917378</td>\n",
       "      <td>2024-06-20 22:38:00+00:00</td>\n",
       "      <td>Ahora no te subas al barco payaso</td>\n",
       "      <td>0</td>\n",
       "      <td>1</td>\n",
       "      <td>100</td>\n",
       "      <td>0</td>\n",
       "    </tr>\n",
       "    <tr>\n",
       "      <th>1525</th>\n",
       "      <td>1807156622797717558</td>\n",
       "      <td>StalingradolaB</td>\n",
       "      <td>2254499835</td>\n",
       "      <td>2024-06-29 20:58:00+00:00</td>\n",
       "      <td>No tienes vergüenza.\\r\\nNos habéis privado de ...</td>\n",
       "      <td>22</td>\n",
       "      <td>2</td>\n",
       "      <td>97</td>\n",
       "      <td>0</td>\n",
       "    </tr>\n",
       "    <tr>\n",
       "      <th>292</th>\n",
       "      <td>1808108166959264099</td>\n",
       "      <td>DaniCuevasLpz</td>\n",
       "      <td>417499634</td>\n",
       "      <td>2024-07-02 11:59:00+00:00</td>\n",
       "      <td>Y vosotros os lo creéis.\\r\\n\\r\\nParece mentira...</td>\n",
       "      <td>0</td>\n",
       "      <td>6</td>\n",
       "      <td>70</td>\n",
       "      <td>0</td>\n",
       "    </tr>\n",
       "    <tr>\n",
       "      <th>68</th>\n",
       "      <td>1808109156584296936</td>\n",
       "      <td>JordiMajoRuaix</td>\n",
       "      <td>1342079120893763585</td>\n",
       "      <td>2024-07-02 12:03:00+00:00</td>\n",
       "      <td>Vaya información más absurda además de poco cr...</td>\n",
       "      <td>2</td>\n",
       "      <td>5</td>\n",
       "      <td>62</td>\n",
       "      <td>1</td>\n",
       "    </tr>\n",
       "    <tr>\n",
       "      <th>685</th>\n",
       "      <td>1807893863723373021</td>\n",
       "      <td>Gelito_RM</td>\n",
       "      <td>1694073790228058112</td>\n",
       "      <td>2024-07-01 21:47:00+00:00</td>\n",
       "      <td>Carme con las arrugas que me llevas estas tu p...</td>\n",
       "      <td>0</td>\n",
       "      <td>0</td>\n",
       "      <td>51</td>\n",
       "      <td>0</td>\n",
       "    </tr>\n",
       "    <tr>\n",
       "      <th>623</th>\n",
       "      <td>1805109486983520275</td>\n",
       "      <td>Nachete82</td>\n",
       "      <td>183635768</td>\n",
       "      <td>2024-06-24 05:23:00+00:00</td>\n",
       "      <td>Si me hablases de continentes te lo puedo comp...</td>\n",
       "      <td>0</td>\n",
       "      <td>1</td>\n",
       "      <td>41</td>\n",
       "      <td>1</td>\n",
       "    </tr>\n",
       "  </tbody>\n",
       "</table>\n",
       "</div>"
      ],
      "text/plain": [
       "                 tweet_id           author            author_id  \\\n",
       "1618  1805031024553853082  jorgitomaduixas            579297067   \n",
       "1015  1804311342439858354  republicatransg  1559972449579683841   \n",
       "121   1808078694595862978       Hsa1981_02  1466095115060002832   \n",
       "1553  1801199879458341013       esmultivac            158730655   \n",
       "1603  1803920415670309221  10InfoBlaugrana  1313101153970917378   \n",
       "1525  1807156622797717558   StalingradolaB           2254499835   \n",
       "292   1808108166959264099    DaniCuevasLpz            417499634   \n",
       "68    1808109156584296936   JordiMajoRuaix  1342079120893763585   \n",
       "685   1807893863723373021        Gelito_RM  1694073790228058112   \n",
       "623   1805109486983520275        Nachete82            183635768   \n",
       "\n",
       "                     created_at  \\\n",
       "1618  2024-06-24 00:11:00+00:00   \n",
       "1015  2024-06-22 00:32:00+00:00   \n",
       "121   2024-07-02 10:02:00+00:00   \n",
       "1553  2024-06-13 10:28:00+00:00   \n",
       "1603  2024-06-20 22:38:00+00:00   \n",
       "1525  2024-06-29 20:58:00+00:00   \n",
       "292   2024-07-02 11:59:00+00:00   \n",
       "68    2024-07-02 12:03:00+00:00   \n",
       "685   2024-07-01 21:47:00+00:00   \n",
       "623   2024-06-24 05:23:00+00:00   \n",
       "\n",
       "                                                   text  retweets_count  \\\n",
       "1618  No es futbol, és política, se trata de catalan...              22   \n",
       "1015  Que tú mantengas las piernas cerradas delante ...              37   \n",
       "121   Pero, ¿ Ya habéis pagado las nóminas ? , ¿ Ya ...              14   \n",
       "1553  Quieres decir que tienes que repetir siempre l...              16   \n",
       "1603                  Ahora no te subas al barco payaso               0   \n",
       "1525  No tienes vergüenza.\\r\\nNos habéis privado de ...              22   \n",
       "292   Y vosotros os lo creéis.\\r\\n\\r\\nParece mentira...               0   \n",
       "68    Vaya información más absurda además de poco cr...               2   \n",
       "685   Carme con las arrugas que me llevas estas tu p...               0   \n",
       "623   Si me hablases de continentes te lo puedo comp...               0   \n",
       "\n",
       "      comments_count  likes_count  quotes_count  \n",
       "1618              25          302             8  \n",
       "1015              36          299             1  \n",
       "121               19          275             0  \n",
       "1553               7          157             0  \n",
       "1603               1          100             0  \n",
       "1525               2           97             0  \n",
       "292                6           70             0  \n",
       "68                 5           62             1  \n",
       "685                0           51             0  \n",
       "623                1           41             1  "
      ]
     },
     "execution_count": 30,
     "metadata": {},
     "output_type": "execute_result"
    }
   ],
   "source": [
    "df_test.sort_values(by='likes_count', ascending=False).head(10)"
   ]
  }
 ],
 "metadata": {
  "kernelspec": {
   "display_name": "tweets",
   "language": "python",
   "name": "python3"
  },
  "language_info": {
   "codemirror_mode": {
    "name": "ipython",
    "version": 3
   },
   "file_extension": ".py",
   "mimetype": "text/x-python",
   "name": "python",
   "nbconvert_exporter": "python",
   "pygments_lexer": "ipython3",
   "version": "3.11.11"
  }
 },
 "nbformat": 4,
 "nbformat_minor": 4
}
