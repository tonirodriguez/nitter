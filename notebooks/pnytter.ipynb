{
 "cells": [
  {
   "cell_type": "markdown",
   "metadata": {},
   "source": [
    "# Pnytter\n",
    "\n",
    "- [Manual](https://github.com/David-Lor/pnytter)"
   ]
  },
  {
   "cell_type": "code",
   "execution_count": 2,
   "metadata": {},
   "outputs": [],
   "source": [
    "import datetime\n",
    "import json\n",
    "import pandas as pd\n",
    "from pnytter import Pnytter\n",
    "import pprint"
   ]
  },
  {
   "cell_type": "code",
   "execution_count": 12,
   "metadata": {},
   "outputs": [
    {
     "name": "stdout",
     "output_type": "stream",
     "text": [
      "Local server\n"
     ]
    }
   ],
   "source": [
    "localserver = True\n",
    "\n",
    "# The Pnytter object needs at least 1 Nitter instance to work, but these can be added after initialization\n",
    "if localserver: \n",
    "  pnytter = Pnytter(\n",
    "    nitter_instances=[\"http://localhost:8080\"]\n",
    "  )\n",
    "  print(\"Local server\")\n",
    "else:\n",
    "  pnytter = Pnytter(\n",
    "    nitter_instances=['https://xcancel.com',\n",
    "  'https://lightbrd.com',\n",
    "  'https://nitter.lucabased.xyz',\n",
    "  'https://nitter.space',\n",
    "  'https://nitter.net',\n",
    "  'https://nitter.privacyredirect.com',\n",
    "  'https://nitter.privacydev.net',\n",
    "  'https://nitter.poast.org',\n",
    "  'http://nitter.coffee2m3bjsrrqqycx6ghkxrnejl2q6nl7pjw2j4clchjj6uk5zozad.onion']\n",
    "  )\n",
    "  print(\"Remote server\")"
   ]
  },
  {
   "cell_type": "code",
   "execution_count": 5,
   "metadata": {},
   "outputs": [],
   "source": [
    "# Method to add instances to a Pnytter object. The `times` kwarg repeats the instance to increase its chances of being used\n",
    "#pnytter.add_instance(\"https://nitter.net\", times=2)"
   ]
  },
  {
   "cell_type": "code",
   "execution_count": 3,
   "metadata": {},
   "outputs": [
    {
     "name": "stdout",
     "output_type": "stream",
     "text": [
      "{'id': None,\n",
      " 'username': 'agustinpicag',\n",
      " 'fullname': 'Agustin Picapiedra G',\n",
      " 'biography': '',\n",
      " 'verified': True,\n",
      " 'joined_datetime': datetime.datetime(2014, 12, 29, 15, 57, tzinfo=datetime.timezone.utc),\n",
      " 'stats': {'tweets': 632, 'following': 305, 'followers': 45, 'likes': 39244},\n",
      " 'pictures': {'profile': {'twitter_url': HttpUrl('https://pbs.twimg.com/profile_images/1021677838737592321/hFfXu_e_.jpg', scheme='https', host='pbs.twimg.com', tld='com', host_type='domain', port='443', path='/profile_images/1021677838737592321/hFfXu_e_.jpg'),\n",
      "                          'nitter_path': '/pic/pbs.twimg.com%2Fprofile_images%2F1021677838737592321%2FhFfXu_e_.jpg'},\n",
      "              'banner': None}}\n"
     ]
    }
   ],
   "source": [
    "user = pnytter.find_user(\"agustinpicag\")\n",
    "pprint.pp(user.dict())"
   ]
  },
  {
   "cell_type": "code",
   "execution_count": 4,
   "metadata": {},
   "outputs": [],
   "source": [
    "# Convertir el diccionario del usuario a un DataFrame\n",
    "user_dict = user.dict()  # Asegúrate de que user.dict() devuelva un diccionario válido\n",
    "df = pd.DataFrame.from_dict([user_dict]) "
   ]
  },
  {
   "cell_type": "code",
   "execution_count": 13,
   "metadata": {},
   "outputs": [
    {
     "data": {
      "text/plain": [
       "'agustinpicag'"
      ]
     },
     "execution_count": 13,
     "metadata": {},
     "output_type": "execute_result"
    }
   ],
   "source": [
    "user_dict"
   ]
  },
  {
   "cell_type": "code",
   "execution_count": 5,
   "metadata": {},
   "outputs": [
    {
     "data": {
      "text/plain": [
       "datetime.datetime(2014, 12, 29, 15, 57, tzinfo=datetime.timezone.utc)"
      ]
     },
     "execution_count": 5,
     "metadata": {},
     "output_type": "execute_result"
    }
   ],
   "source": [
    "user.joined_datetime"
   ]
  },
  {
   "cell_type": "code",
   "execution_count": 6,
   "metadata": {},
   "outputs": [
    {
     "name": "stdout",
     "output_type": "stream",
     "text": [
      "2014-12-29 15:57:00+00:00\n"
     ]
    }
   ],
   "source": [
    "print(user.joined_datetime)"
   ]
  },
  {
   "cell_type": "code",
   "execution_count": 8,
   "metadata": {},
   "outputs": [
    {
     "name": "stdout",
     "output_type": "stream",
     "text": [
      "2014-12-29 15:57:00+00:00\n"
     ]
    }
   ],
   "source": [
    "fecha = \"joined = user.joined_datetime\"\n",
    "exec(fecha)\n",
    "print(joined)"
   ]
  },
  {
   "cell_type": "code",
   "execution_count": 9,
   "metadata": {},
   "outputs": [
    {
     "data": {
      "text/plain": [
       "datetime.datetime"
      ]
     },
     "execution_count": 9,
     "metadata": {},
     "output_type": "execute_result"
    }
   ],
   "source": [
    "type(joined)"
   ]
  },
  {
   "cell_type": "code",
   "execution_count": 10,
   "metadata": {},
   "outputs": [
    {
     "name": "stdout",
     "output_type": "stream",
     "text": [
      "https://pbs.twimg.com/profile_images/1021677838737592321/hFfXu_e_.jpg\n"
     ]
    }
   ],
   "source": [
    "url = \"url1 = user.pictures.profile.twitter_url\"\n",
    "exec(url)\n",
    "print(url1)"
   ]
  },
  {
   "cell_type": "code",
   "execution_count": 11,
   "metadata": {},
   "outputs": [
    {
     "name": "stdout",
     "output_type": "stream",
     "text": [
      "None\n"
     ]
    }
   ],
   "source": [
    "url = \"\"\"\n",
    "try: \n",
    "    url2 = user.pictures.banner.twitter_url\n",
    "except AttributeError:\n",
    "    url2 = None\n",
    "    \"\"\"\n",
    "exec(url)\n",
    "print(url2)"
   ]
  },
  {
   "cell_type": "code",
   "execution_count": 12,
   "metadata": {},
   "outputs": [
    {
     "data": {
      "text/plain": [
       "''"
      ]
     },
     "execution_count": 12,
     "metadata": {},
     "output_type": "execute_result"
    }
   ],
   "source": [
    "user.biography"
   ]
  },
  {
   "cell_type": "code",
   "execution_count": 13,
   "metadata": {},
   "outputs": [
    {
     "data": {
      "text/plain": [
       "632"
      ]
     },
     "execution_count": 13,
     "metadata": {},
     "output_type": "execute_result"
    }
   ],
   "source": [
    "user.stats.tweets"
   ]
  },
  {
   "cell_type": "code",
   "execution_count": 35,
   "metadata": {},
   "outputs": [
    {
     "name": "stdout",
     "output_type": "stream",
     "text": [
      "{'id': 1694344217554776065,\n",
      " 'username': 'v66710974699714',\n",
      " 'fullname': 'v 66@&tiburon',\n",
      " 'biography': '',\n",
      " 'verified': False,\n",
      " 'joined_datetime': datetime.datetime(2023, 8, 23, 13, 42, tzinfo=datetime.timezone.utc),\n",
      " 'stats': {'tweets': 16765, 'following': 18, 'followers': 0, 'likes': 4},\n",
      " 'pictures': {'profile': {'twitter_url': HttpUrl('https://pbs.twimg.com/profile_images/1851281648395964416/Q35uoO8v.jpg', scheme='https', host='pbs.twimg.com', tld='com', host_type='domain', port='443', path='/profile_images/1851281648395964416/Q35uoO8v.jpg'),\n",
      "                          'nitter_path': '/pic/pbs.twimg.com%2Fprofile_images%2F1851281648395964416%2FQ35uoO8v.jpg'},\n",
      "              'banner': {'twitter_url': HttpUrl('https://pbs.twimg.com/profile_banners/1694344217554776065/1730813202/1500x500', scheme='https', host='pbs.twimg.com', tld='com', host_type='domain', port='443', path='/profile_banners/1694344217554776065/1730813202/1500x500'),\n",
      "                         'nitter_path': '/pic/https%3A%2F%2Fpbs.twimg.com%2Fprofile_banners%2F1694344217554776065%2F1730813202%2F1500x500'}}}\n"
     ]
    }
   ],
   "source": [
    "user = pnytter.find_user(\"v66710974699714\")  ### MAX HATER RETWEETS ETIQUETATS\n",
    "pprint.pp(user.dict())                       ### ATENCIÓ AL BANNER I LA IMATGE DEL PROFILE!!!"
   ]
  },
  {
   "cell_type": "code",
   "execution_count": 40,
   "metadata": {},
   "outputs": [
    {
     "name": "stdout",
     "output_type": "stream",
     "text": [
      "{'id': 714377328869171205,\n",
      " 'username': 'quinomartinez58',\n",
      " 'fullname': 'El canto del mirlo 🇪🇸',\n",
      " 'biography': 'El periodismo desinteresado no es arbitrario y afín .',\n",
      " 'verified': True,\n",
      " 'joined_datetime': datetime.datetime(2016, 3, 28, 9, 3, tzinfo=datetime.timezone.utc),\n",
      " 'stats': {'tweets': 39909, 'following': 57, 'followers': 10, 'likes': 178},\n",
      " 'pictures': {'profile': {'twitter_url': HttpUrl('https://pbs.twimg.com/profile_images/1860700823191265280/sbE8YKQF.jpg', scheme='https', host='pbs.twimg.com', tld='com', host_type='domain', port='443', path='/profile_images/1860700823191265280/sbE8YKQF.jpg'),\n",
      "                          'nitter_path': '/pic/pbs.twimg.com%2Fprofile_images%2F1860700823191265280%2FsbE8YKQF.jpg'},\n",
      "              'banner': {'twitter_url': HttpUrl('https://pbs.twimg.com/profile_banners/714377328869171205/1682869429/1500x500', scheme='https', host='pbs.twimg.com', tld='com', host_type='domain', port='443', path='/profile_banners/714377328869171205/1682869429/1500x500'),\n",
      "                         'nitter_path': '/pic/https%3A%2F%2Fpbs.twimg.com%2Fprofile_banners%2F714377328869171205%2F1682869429%2F1500x500'}}}\n"
     ]
    }
   ],
   "source": [
    "user = pnytter.find_user(\"quinomartinez58\")  ### SEGON MAX HATER RETWEETS ETIQUETATS\n",
    "pprint.pp(user.dict())"
   ]
  },
  {
   "cell_type": "code",
   "execution_count": 13,
   "metadata": {},
   "outputs": [
    {
     "name": "stdout",
     "output_type": "stream",
     "text": [
      "{'id': 1440246786841399300,\n",
      " 'username': 'SiempreFieles14',\n",
      " 'fullname': 'Siempre Fieles 15🏆',\n",
      " 'biography': 'SER DEL REAL MADRID NO ES UNA OPCIÓN,ES UN SENTIMIENTO.\\n'\n",
      "              '               💡📽🎬 \\n'\n",
      "              '🏆🏆🏆🏆🏆🏆🏆🏆🏆🏆🏆🏆🏆🏆🏆............loading.🇪🇸',\n",
      " 'verified': True,\n",
      " 'joined_datetime': datetime.datetime(2021, 9, 21, 9, 29, tzinfo=datetime.timezone.utc),\n",
      " 'stats': {'tweets': 21357,\n",
      "           'following': 4086,\n",
      "           'followers': 4263,\n",
      "           'likes': 57552},\n",
      " 'pictures': {'profile': {'twitter_url': HttpUrl('https://pbs.twimg.com/profile_images/1440249483653107714/R3MZUkEl.jpg', scheme='https', host='pbs.twimg.com', tld='com', host_type='domain', port='443', path='/profile_images/1440249483653107714/R3MZUkEl.jpg'),\n",
      "                          'nitter_path': '/pic/pbs.twimg.com%2Fprofile_images%2F1440249483653107714%2FR3MZUkEl.jpg'},\n",
      "              'banner': {'twitter_url': HttpUrl('https://pbs.twimg.com/profile_banners/1440246786841399300/1711185588/1500x500', scheme='https', host='pbs.twimg.com', tld='com', host_type='domain', port='443', path='/profile_banners/1440246786841399300/1711185588/1500x500'),\n",
      "                         'nitter_path': '/pic/https%3A%2F%2Fpbs.twimg.com%2Fprofile_banners%2F1440246786841399300%2F1711185588%2F1500x500'}}}\n"
     ]
    }
   ],
   "source": [
    "user = pnytter.find_user(\"SiempreFieles14\")\n",
    "pprint.pp(user.dict())"
   ]
  },
  {
   "cell_type": "code",
   "execution_count": 16,
   "metadata": {},
   "outputs": [
    {
     "data": {
      "text/plain": [
       "'1440246786841399300'"
      ]
     },
     "execution_count": 16,
     "metadata": {},
     "output_type": "execute_result"
    }
   ],
   "source": [
    "str(user.id)"
   ]
  },
  {
   "cell_type": "markdown",
   "metadata": {},
   "source": [
    "### Obtenemos los tweets de un usario en un período"
   ]
  },
  {
   "cell_type": "code",
   "execution_count": 7,
   "metadata": {},
   "outputs": [
    {
     "name": "stdout",
     "output_type": "stream",
     "text": [
      "[TwitterTweet(tweet_id=1901357116725850616, author='iescolar', created_on=datetime.datetime(2025, 3, 16, 19, 37, tzinfo=datetime.timezone.utc), text='ÚLTIMA HORA | Desconvocada la huelga de Renfe y Adif tras alcanzar un acuerdo los sindicatos y el Ministerio de Transportes\\neldiario.es/economia/renfe-a…', stats=Stats(comments=12, retweets=110, quotes=1, likes=431)),\n",
      " TwitterTweet(tweet_id=1901347740241535151, author='iescolar', created_on=datetime.datetime(2025, 3, 16, 19, 0, tzinfo=datetime.timezone.utc), text='Consejeros, concejales y obispos: los altos cargos que se colaron para vacunarse de la COVID-19 en la Región de Murcia\\neldiario.es/murcia/politica/…', stats=Stats(comments=12, retweets=356, quotes=4, likes=495)),\n",
      " TwitterTweet(tweet_id=1901332641477239176, author='iescolar', created_on=datetime.datetime(2025, 3, 16, 18, 0, tzinfo=datetime.timezone.utc), text='El sector energético gana más de la mitad de las indemnizaciones por las sentencias en contra del Estado\\neldiario.es/economia/sector-…', stats=Stats(comments=2, retweets=10, quotes=0, likes=23)),\n",
      " TwitterTweet(tweet_id=1901317538585211385, author='iescolar', created_on=datetime.datetime(2025, 3, 16, 17, 0, tzinfo=datetime.timezone.utc), text='Las políticas de Trump más la escalada de la deuda añaden “riesgo de infarto” a la economía de EEUU\\neldiario.es/economia/politic…', stats=Stats(comments=6, retweets=73, quotes=0, likes=109)),\n",
      " TwitterTweet(tweet_id=1901302442890846293, author='iescolar', created_on=datetime.datetime(2025, 3, 16, 16, 0, tzinfo=datetime.timezone.utc), text='Un edil de Estepona, al juez que investiga malversación: “No existe control de los cargos de confianza y no nos va mal”\\neldiario.es/andalucia/malaga…', stats=Stats(comments=5, retweets=103, quotes=0, likes=166)),\n",
      " TwitterTweet(tweet_id=1901294998471012709, author='iescolar', created_on=datetime.datetime(2025, 3, 16, 15, 30, tzinfo=datetime.timezone.utc), text='Junqueras obtiene el aval de la militancia para modelar una ERC “desacomplejada”\\neldiario.es/catalunya/junque…', stats=Stats(comments=0, retweets=8, quotes=0, likes=42)),\n",
      " TwitterTweet(tweet_id=1901279789689770292, author='iescolar', created_on=datetime.datetime(2025, 3, 16, 14, 30, tzinfo=datetime.timezone.utc), text='El Gran Telescopio de Canarias disparará un potente láser para crear estrellas artificiales y afinar su visión del cosmos\\neldiario.es/sociedad/gran-te…', stats=Stats(comments=0, retweets=6, quotes=0, likes=27)),\n",
      " TwitterTweet(tweet_id=1901272238810358016, author='iescolar', created_on=datetime.datetime(2025, 3, 16, 14, 0, tzinfo=datetime.timezone.utc), text='¿Los jóvenes ya no temen una dictadura? Claves del declive de la confianza en la democracia en las nuevas generaciones\\neldiario.es/politica/jovenes…', stats=Stats(comments=107, retweets=53, quotes=8, likes=115)),\n",
      " TwitterTweet(tweet_id=1901264689302221168, author='iescolar', created_on=datetime.datetime(2025, 3, 16, 13, 30, tzinfo=datetime.timezone.utc), text='El goteo antiecologista no para de filtrarse en las políticas ambientales: el auge de la extrema derecha y algo más\\neldiario.es/sociedad/goteo-a…', stats=Stats(comments=10, retweets=28, quotes=1, likes=55)),\n",
      " TwitterTweet(tweet_id=1901257149290065981, author='iescolar', created_on=datetime.datetime(2025, 3, 16, 13, 0, tzinfo=datetime.timezone.utc), text='Altri y la Xunta: cuando un gobierno ignora manifestaciones históricas por tierra y mar contra la amenaza ambiental\\neldiario.es/galicia/altri-xu…', stats=Stats(comments=11, retweets=102, quotes=7, likes=178)),\n",
      " TwitterTweet(tweet_id=1901249591380500817, author='iescolar', created_on=datetime.datetime(2025, 3, 16, 12, 30, tzinfo=datetime.timezone.utc), text='POLÍTICA PARA SUPERVIVIENTES | La fábula macabra de Ayuso, la salvadora del mundo. Por Iñigo Sáenz de Ugarte\\neldiario.es/blog/politica-pa…', stats=Stats(comments=25, retweets=32, quotes=1, likes=93)),\n",
      " TwitterTweet(tweet_id=1901243298653573390, author='iescolar', created_on=datetime.datetime(2025, 3, 16, 12, 5, tzinfo=datetime.timezone.utc), text='Margaret MacMillan, historiadora: “Trump aún no es un dictador en toda regla, pero sus instintos van en esa dirección”\\neldiario.es/cultura/margaret…', stats=Stats(comments=5, retweets=27, quotes=0, likes=104)),\n",
      " TwitterTweet(tweet_id=1901234491735322644, author='iescolar', created_on=datetime.datetime(2025, 3, 16, 11, 30, tzinfo=datetime.timezone.utc), text='ENTREVISTA | Joaquín Almunia: “Europa ha vivido de la protección de Estados Unidos y ahora ve que en vez de un aliado es un rival”\\neldiario.es/economia/joaquin…', stats=Stats(comments=11, retweets=22, quotes=1, likes=93)),\n",
      " TwitterTweet(tweet_id=1901227695884878225, author='iescolar', created_on=datetime.datetime(2025, 3, 16, 11, 3, tzinfo=datetime.timezone.utc), text='ANÁLISIS | Un fardo judicial persigue a Mazón: el nexo causal de 228 homicidios imprudentes de la DANA\\neldiario.es/comunitat-valenc…', stats=Stats(comments=18, retweets=147, quotes=4, likes=295)),\n",
      " TwitterTweet(tweet_id=1901219390596739442, author='iescolar', created_on=datetime.datetime(2025, 3, 16, 10, 30, tzinfo=datetime.timezone.utc), text='Trump resucita la Ley de Enemigos Extranjeros para agilizar las deportaciones y un juez la bloquea\\neldiario.es/internacional/tr…', stats=Stats(comments=4, retweets=71, quotes=0, likes=144)),\n",
      " TwitterTweet(tweet_id=1901212344530661521, author='iescolar', created_on=datetime.datetime(2025, 3, 16, 10, 2, tzinfo=datetime.timezone.utc), text='Musk, el cuerpo extraño que empieza a pasarle factura a Trump\\neldiario.es/internacional/mu…', stats=Stats(comments=10, retweets=56, quotes=0, likes=132)),\n",
      " TwitterTweet(tweet_id=1901204292796572112, author='iescolar', created_on=datetime.datetime(2025, 3, 16, 9, 30, tzinfo=datetime.timezone.utc), text='La crónica de @estherpalomera -> La doctrina Feijóo sobre la deriva “autócrata” alcanza a los gobiernos de González y Aznar\\neldiario.es/politica/doctrin…', stats=Stats(comments=14, retweets=41, quotes=0, likes=62)),\n",
      " TwitterTweet(tweet_id=1901196762322182415, author='iescolar', created_on=datetime.datetime(2025, 3, 16, 9, 0, tzinfo=datetime.timezone.utc), text='Feijóo deja solo a Mazón ante su investigación judicial\\neldiario.es/politica/feijoo-…', stats=Stats(comments=19, retweets=28, quotes=0, likes=98)),\n",
      " TwitterTweet(tweet_id=1900994238583579103, author='iescolar', created_on=datetime.datetime(2025, 3, 15, 19, 35, tzinfo=datetime.timezone.utc), text='Atención a esto -> Estados Unidos anuncia un nuevo ataque contra los hutíes de Yemen\\neldiario.es/internacional/es…', stats=Stats(comments=4, retweets=14, quotes=1, likes=27)),\n",
      " TwitterTweet(tweet_id=1900985348454576269, author='iescolar', created_on=datetime.datetime(2025, 3, 15, 19, 0, tzinfo=datetime.timezone.utc), text='Vivir con las secuelas del covid persistente cinco años después de la pandemia\\ncordopolis.eldiario.es/cordo…', stats=Stats(comments=10, retweets=11, quotes=0, likes=28)),\n",
      " TwitterTweet(tweet_id=1900970252378247505, author='iescolar', created_on=datetime.datetime(2025, 3, 15, 18, 0, tzinfo=datetime.timezone.utc), text='Desalojadas 200 personas que vivían en la antigua cárcel de Palma entre basura, sin agua ni luz: “No tenemos adonde ir”\\neldiario.es/illes-balears/so…', stats=Stats(comments=9, retweets=30, quotes=0, likes=59)),\n",
      " TwitterTweet(tweet_id=1900955150283420141, author='iescolar', created_on=datetime.datetime(2025, 3, 15, 17, 0, tzinfo=datetime.timezone.utc), text='Junqueras entierra el clima de guerra interna en el final del congreso de ERC\\neldiario.es/catalunya/junque…', stats=Stats(comments=7, retweets=10, quotes=0, likes=30)),\n",
      " TwitterTweet(tweet_id=1900940058988843341, author='iescolar', created_on=datetime.datetime(2025, 3, 15, 16, 0, tzinfo=datetime.timezone.utc), text='Los demócratas ceden y salvan la administración Trump del cierre de gobierno\\neldiario.es/internacional/de…', stats=Stats(comments=7, retweets=6, quotes=0, likes=21)),\n",
      " TwitterTweet(tweet_id=1900924959670841504, author='iescolar', created_on=datetime.datetime(2025, 3, 15, 15, 0, tzinfo=datetime.timezone.utc), text='La desaparición de un escudo franquista acaba con la carrera política en el PP de una alcaldesa de Valladolid\\neldiario.es/castilla-y-leon/…', stats=Stats(comments=2, retweets=21, quotes=1, likes=46)),\n",
      " TwitterTweet(tweet_id=1900917652819730540, author='iescolar', created_on=datetime.datetime(2025, 3, 15, 14, 31, tzinfo=datetime.timezone.utc), text='La detención de estudiantes y activistas propalestinos siembra el miedo en la Universidad de Columbia\\neldiario.es/internacional/de…', stats=Stats(comments=10, retweets=40, quotes=0, likes=66)),\n",
      " TwitterTweet(tweet_id=1900909855981887934, author='iescolar', created_on=datetime.datetime(2025, 3, 15, 14, 0, tzinfo=datetime.timezone.utc), text='Cuando el coronavirus se cruzó en su vida, dejó Madrid para volver al pueblo\\neldiario.es/asturias/coronav…', stats=Stats(comments=5, retweets=5, quotes=0, likes=36)),\n",
      " TwitterTweet(tweet_id=1900903056776007905, author='iescolar', created_on=datetime.datetime(2025, 3, 15, 13, 33, tzinfo=datetime.timezone.utc), text='13 consultores privados desarrollarán el Plan de Reconstrucción de Mazón al dejar la conselleria sin personal\\neldiario.es/comunitat-valenc…', stats=Stats(comments=32, retweets=200, quotes=15, likes=244)),\n",
      " TwitterTweet(tweet_id=1900894757729288487, author='iescolar', created_on=datetime.datetime(2025, 3, 15, 13, 0, tzinfo=datetime.timezone.utc), text='La oferta hotelera se vuelve de lujo: España se lanza a abrir establecimientos más caros y da la espalda a los asequibles\\neldiario.es/economia/oferta-…', stats=Stats(comments=20, retweets=15, quotes=1, likes=32)),\n",
      " TwitterTweet(tweet_id=1900887706109923678, author='iescolar', created_on=datetime.datetime(2025, 3, 15, 12, 32, tzinfo=datetime.timezone.utc), text='Marcelino, el cura detenido por abusos en La Moraleja, y su historia como secretario personal del pederasta Marcial Maciel\\neldiario.es/sociedad/marceli…', stats=Stats(comments=9, retweets=136, quotes=4, likes=169)),\n",
      " TwitterTweet(tweet_id=1900879654568820807, author='iescolar', created_on=datetime.datetime(2025, 3, 15, 12, 0, tzinfo=datetime.timezone.utc), text='Altri: hechos, nombres y números tras el proyecto industrial más discutido de la historia reciente de Galicia\\neldiario.es/galicia/altri-he…', stats=Stats(comments=2, retweets=13, quotes=1, likes=35)),\n",
      " TwitterTweet(tweet_id=1900871109475549542, author='iescolar', created_on=datetime.datetime(2025, 3, 15, 11, 26, tzinfo=datetime.timezone.utc), text='Starmer, a los europeos sobre la paz en Ucrania: “Debemos defender cualquier acuerdo nosotros mismos”\\neldiario.es/internacional/st…', stats=Stats(comments=5, retweets=13, quotes=1, likes=38)),\n",
      " TwitterTweet(tweet_id=1900864562229895417, author='iescolar', created_on=datetime.datetime(2025, 3, 15, 11, 0, tzinfo=datetime.timezone.utc), text='El Constitucional evidencia las maniobras del PP para instrumentalizar el Senado\\neldiario.es/politica/constit…', stats=Stats(comments=246, retweets=770, quotes=16, likes=1517)),\n",
      " TwitterTweet(tweet_id=1900857003372621988, author='iescolar', created_on=datetime.datetime(2025, 3, 15, 10, 30, tzinfo=datetime.timezone.utc), text='Los hospitales privados reclaman ahora su parte de Muface tras el 40% más para las aseguradoras: “Que no vengan llorando”\\neldiario.es/economia/hospita…', stats=Stats(comments=7, retweets=38, quotes=2, likes=78)),\n",
      " TwitterTweet(tweet_id=1900849452963033415, author='iescolar', created_on=datetime.datetime(2025, 3, 15, 10, 0, tzinfo=datetime.timezone.utc), text='Los vídeos inéditos de la Guerra Civil que grabó el magnate Hearst para EEUU y acaban de salir a la luz\\neldiario.es/sociedad/videos-…', stats=Stats(comments=13, retweets=160, quotes=2, likes=319)),\n",
      " TwitterTweet(tweet_id=1900841903735926959, author='iescolar', created_on=datetime.datetime(2025, 3, 15, 9, 30, tzinfo=datetime.timezone.utc), text='La IA de Elon Musk irrumpe en X a favor de los demócratas: “Los datos pesan más que las afiliaciones políticas”\\neldiario.es/tecnologia/ia-el…', stats=Stats(comments=3, retweets=38, quotes=2, likes=72)),\n",
      " TwitterTweet(tweet_id=1900834355422826698, author='iescolar', created_on=datetime.datetime(2025, 3, 15, 9, 0, tzinfo=datetime.timezone.utc), text=\"Como cada sábado, he enviado ya a los socios y socias de elDiario.es\\xa0'el boletín del director', una carta en la que repaso las claves de la actualidad. Este es el de hoy: 'Un balcón a la memoria en la Puerta del Sol' eldiario.es/blog/el-boletin-…\", stats=Stats(comments=8, retweets=28, quotes=1, likes=63)),\n",
      " TwitterTweet(tweet_id=1900824950824398928, author='iescolar', created_on=datetime.datetime(2025, 3, 15, 8, 22, tzinfo=datetime.timezone.utc), text='La crisis de seguridad en Europa cambia el paso al mandato de Sánchez sin una mayoría estable en el Congreso\\neldiario.es/politica/crisis-…', stats=Stats(comments=10, retweets=16, quotes=2, likes=38)),\n",
      " TwitterTweet(tweet_id=1900638067696038308, author='iescolar', created_on=datetime.datetime(2025, 3, 14, 20, 0, tzinfo=datetime.timezone.utc), text='El ultrarrico gurú de Milei tiene un letrero ilegal de España SA en la Gran Vía de Madrid\\neldiario.es/economia/ultrarr…', stats=Stats(comments=20, retweets=73, quotes=1, likes=108)),\n",
      " TwitterTweet(tweet_id=1900630510373904675, author='iescolar', created_on=datetime.datetime(2025, 3, 14, 19, 30, tzinfo=datetime.timezone.utc), text='La Casa de Alba acusa a la Guardia Civil de “tergiversar datos” para imputarle daños por los pozos ilegales junto a Doñana\\neldiario.es/sevilla/casa-alb…', stats=Stats(comments=22, retweets=111, quotes=3, likes=139)),\n",
      " TwitterTweet(tweet_id=1900622960324411667, author='iescolar', created_on=datetime.datetime(2025, 3, 14, 19, 0, tzinfo=datetime.timezone.utc), text='Los Bomberos en periodo de formación reclaman el salario mínimo: “Pasamos la oposición y no tenemos un sueldo digno”\\neldiario.es/catalunya/bomber…', stats=Stats(comments=0, retweets=18, quotes=0, likes=30)),\n",
      " TwitterTweet(tweet_id=1900616417298481221, author='iescolar', created_on=datetime.datetime(2025, 3, 14, 18, 34, tzinfo=datetime.timezone.utc), text='La construcción de la noria gigante de Madrid pone en riesgo 300 árboles del parque Tierno Galván\\neldiario.es/madrid/somos/arg…', stats=Stats(comments=150, retweets=487, quotes=25, likes=554)),\n",
      " TwitterTweet(tweet_id=1900610377840292224, author='iescolar', created_on=datetime.datetime(2025, 3, 14, 18, 10, tzinfo=datetime.timezone.utc), text='Un “chollo” por 500 euros al mes se convierte en una “estafa” inmobiliaria: “Estoy luchando por un techo”\\neldiario.es/illes-balears/ec…', stats=Stats(comments=5, retweets=17, quotes=0, likes=37)),\n",
      " TwitterTweet(tweet_id=1900604086191337911, author='iescolar', created_on=datetime.datetime(2025, 3, 14, 17, 45, tzinfo=datetime.timezone.utc), text='“¿Qué pasó dentro del barco?”: el caso de Marouan, el joven desaparecido en un ferry de Marruecos a España\\neldiario.es/desalambre/marou…', stats=Stats(comments=2, retweets=9, quotes=0, likes=12)),\n",
      " TwitterTweet(tweet_id=1900593935338066176, author='iescolar', created_on=datetime.datetime(2025, 3, 14, 17, 4, tzinfo=datetime.timezone.utc), text='El Gobierno rectifica y los parados cobrarán la prestación aunque no hagan la Declaración de la Renta en 2025\\neldiario.es/economia/gobiern…', stats=Stats(comments=1, retweets=27, quotes=0, likes=57)),\n",
      " TwitterTweet(tweet_id=1900591755000492144, author='iescolar', created_on=datetime.datetime(2025, 3, 14, 16, 56, tzinfo=datetime.timezone.utc), text='Uno de los jurados del juicio millonario contra Greenpeace trabajó para una compañía ligada a la demandante\\neldiario.es/sociedad/jurados…', stats=Stats(comments=0, retweets=21, quotes=0, likes=37)),\n",
      " TwitterTweet(tweet_id=1900584456911536621, author='iescolar', created_on=datetime.datetime(2025, 3, 14, 16, 27, tzinfo=datetime.timezone.utc), text='De reclamar la devolución de piezas a colaborar con sus nuevos dueños: la nueva mentalidad sobre el patrimonio exiliado\\neldiario.es/cultura/reclamar…', stats=Stats(comments=1, retweets=7, quotes=0, likes=24)),\n",
      " TwitterTweet(tweet_id=1900577672847360050, author='iescolar', created_on=datetime.datetime(2025, 3, 14, 16, 0, tzinfo=datetime.timezone.utc), text='El PP dice ahora que Mazón informó a Feijóo sobre la DANA la noche del día 29 y la mañana del 30\\neldiario.es/politica/pp-dice…', stats=Stats(comments=19, retweets=32, quotes=1, likes=109)),\n",
      " TwitterTweet(tweet_id=1900570616022913356, author='iescolar', created_on=datetime.datetime(2025, 3, 14, 15, 32, tzinfo=datetime.timezone.utc), text='Las actas secretas de la muerte de García Caparrós enfrentan a PSOE y Sumar, que estudia recurrir al Constitucional\\neldiario.es/andalucia/actas-…', stats=Stats(comments=2, retweets=16, quotes=0, likes=35)),\n",
      " TwitterTweet(tweet_id=1900563821342978376, author='iescolar', created_on=datetime.datetime(2025, 3, 14, 15, 5, tzinfo=datetime.timezone.utc), text='Vox abrirá un expediente al alcalde en funciones en un pueblo de Zamora por apoyar la eliminación de calles franquistas\\neldiario.es/castilla-y-leon/…', stats=Stats(comments=12, retweets=49, quotes=0, likes=73)),\n",
      " TwitterTweet(tweet_id=1900558535840198811, author='iescolar', created_on=datetime.datetime(2025, 3, 14, 14, 44, tzinfo=datetime.timezone.utc), text='Bruselas responde a Trump que las “amenazas no ayudan” a crear estabilidad y le insta a retirar aranceles\\neldiario.es/economia/brusela…', stats=Stats(comments=5, retweets=20, quotes=1, likes=67)),\n",
      " TwitterTweet(tweet_id=1900552496768270657, author='iescolar', created_on=datetime.datetime(2025, 3, 14, 14, 20, tzinfo=datetime.timezone.utc), text='Los magistrados de Barcelona evitan avalar los desahucios en 24 horas sin permiso judicial de pisos ocupados\\neldiario.es/catalunya/magist…', stats=Stats(comments=2, retweets=10, quotes=0, likes=34)),\n",
      " TwitterTweet(tweet_id=1900546204745793569, author='iescolar', created_on=datetime.datetime(2025, 3, 14, 13, 55, tzinfo=datetime.timezone.utc), text='ÚLTIMA HORA | Trump dice que ha tenido una conversación “buena y productiva” con Putin y que hay “muchas posibilidades” de poner fin la guerra de Ucrania\\neldiario.es/internacional/tr…', stats=Stats(comments=22, retweets=6, quotes=4, likes=28)),\n",
      " TwitterTweet(tweet_id=1900542429977010621, author='iescolar', created_on=datetime.datetime(2025, 3, 14, 13, 40, tzinfo=datetime.timezone.utc), text='Atención -> Las víctimas de la DANA anuncian querellas por homicidio imprudente y se personarán en las causas ya abiertas\\neldiario.es/politica/victima…', stats=Stats(comments=102, retweets=1190, quotes=21, likes=2837)),\n",
      " TwitterTweet(tweet_id=1900539915215224954, author='iescolar', created_on=datetime.datetime(2025, 3, 14, 13, 30, tzinfo=datetime.timezone.utc), text='Piqué defiende ante la jueza la comisión que cobró por llevar la Supercopa a Arabia Saudí y niega pagos a Rubiales\\neldiario.es/politica/pique-d…', stats=Stats(comments=6, retweets=8, quotes=2, likes=25)),\n",
      " TwitterTweet(tweet_id=1900534945908429177, author='iescolar', created_on=datetime.datetime(2025, 3, 14, 13, 10, tzinfo=datetime.timezone.utc), text='ÚLTIMA HORA | Ayuso se querella contra Reyes Maroto y Almeida rompe relaciones por decir que hubo “7.291 personas mayores asesinadas”\\neldiario.es/madrid/somos/ayu…', stats=Stats(comments=444, retweets=359, quotes=30, likes=832)),\n",
      " TwitterTweet(tweet_id=1900532367821066353, author='iescolar', created_on=datetime.datetime(2025, 3, 14, 13, 0, tzinfo=datetime.timezone.utc), text='Conmoción en Argentina por la represión policial que dejó grave a un fotógrafo: “No tenemos miedo a estos fascistas”\\neldiario.es/internacional/ja…', stats=Stats(comments=11, retweets=86, quotes=1, likes=130)),\n",
      " TwitterTweet(tweet_id=1900526072762073142, author='iescolar', created_on=datetime.datetime(2025, 3, 14, 12, 35, tzinfo=datetime.timezone.utc), text='La primera sede que tuvo la Falange de Primo de Rivera es desde ahora la de un ministerio del Gobierno\\neldiario.es/sociedad/primera…', stats=Stats(comments=1, retweets=11, quotes=0, likes=36)),\n",
      " TwitterTweet(tweet_id=1900519277603541281, author='iescolar', created_on=datetime.datetime(2025, 3, 14, 12, 8, tzinfo=datetime.timezone.utc), text='ÚLTIMA HORA | La jueza de la DANA acepta los audios de llamadas al 112 con consentimiento “caso por caso” de familiares de fallecidos\\neldiario.es/comunitat-valenc…', stats=Stats(comments=56, retweets=770, quotes=8, likes=1981)),\n",
      " TwitterTweet(tweet_id=1900513741067919406, author='iescolar', created_on=datetime.datetime(2025, 3, 14, 11, 46, tzinfo=datetime.timezone.utc), text='Fernando Simón, cinco años después: “Hubo propuestas políticas que los técnicos conseguimos que se pararan”\\neldiario.es/sociedad/fernand…', stats=Stats(comments=21, retweets=85, quotes=1, likes=217)),\n",
      " TwitterTweet(tweet_id=1900507198331220120, author='iescolar', created_on=datetime.datetime(2025, 3, 14, 11, 20, tzinfo=datetime.timezone.utc), text='La crónica de @estherpalomera -> La refriega nacional impide una mirada estratégica común sobre el rearme de la UE entre el Gobierno, sus socios y la oposición\\neldiario.es/politica/refrieg…', stats=Stats(comments=6, retweets=6, quotes=0, likes=28)),\n",
      " TwitterTweet(tweet_id=1900502173634515008, author='iescolar', created_on=datetime.datetime(2025, 3, 14, 11, 0, tzinfo=datetime.timezone.utc), text='Ayuso critica el “despliegue sin precedentes” de RTVE e insiste en que la cifra de muertes en las residencias es “mentira”\\neldiario.es/madrid/ayuso-cri…', stats=Stats(comments=104, retweets=60, quotes=10, likes=176)),\n",
      " TwitterTweet(tweet_id=1900499733765935610, author='iescolar', created_on=datetime.datetime(2025, 3, 14, 10, 50, tzinfo=datetime.timezone.utc), text='Ojo -> La Fiscalía se opone a la demanda de la pareja de Ayuso contra María Jesús Montero en el Supremo\\neldiario.es/politica/fiscali…', stats=Stats(comments=798, retweets=681, quotes=43, likes=1926)),\n",
      " TwitterTweet(tweet_id=1900494618199785784, author='iescolar', created_on=datetime.datetime(2025, 3, 14, 10, 30, tzinfo=datetime.timezone.utc), text='El PP dice ahora que Mazón informó a Feijóo sobre la DANA “a las nueve, las diez o las 11 de la mañana” del 29 de octubre\\neldiario.es/politica/pp-dice…', stats=Stats(comments=181, retweets=369, quotes=42, likes=741)),\n",
      " TwitterTweet(tweet_id=1900489078610797051, author='iescolar', created_on=datetime.datetime(2025, 3, 14, 10, 8, tzinfo=datetime.timezone.utc), text='Putin hace equilibrios sobre la tregua para no distanciar a Trump mientras Zelenski pide más presión\\neldiario.es/internacional/pu…', stats=Stats(comments=0, retweets=3, quotes=0, likes=13)),\n",
      " TwitterTweet(tweet_id=1900485051969880106, author='iescolar', created_on=datetime.datetime(2025, 3, 14, 9, 52, tzinfo=datetime.timezone.utc), text=\"Extremadura destina 650.000 euros públicos para llevar a Cáceres la Bienal Vargas Llosa de un 'think tank' ultraliberal\\neldiario.es/extremadura/poli…\", stats=Stats(comments=16, retweets=65, quotes=2, likes=86)),\n",
      " TwitterTweet(tweet_id=1900478005518184950, author='iescolar', created_on=datetime.datetime(2025, 3, 14, 9, 24, tzinfo=datetime.timezone.utc), text='El documental ‘7291’ visto con la hija de uno de los residentes fallecidos: “¿Esta gente no está en la cárcel?”\\neldiario.es/madrid/documenta…', stats=Stats(comments=386, retweets=522, quotes=15, likes=1145)),\n",
      " TwitterTweet(tweet_id=1900471983592325200, author='iescolar', created_on=datetime.datetime(2025, 3, 14, 9, 0, tzinfo=datetime.timezone.utc), text='Elon Musk entierra la imagen progresista de Tesla para que sea “el coche oficial del trumpismo”\\neldiario.es/tecnologia/elon-…', stats=Stats(comments=21, retweets=9, quotes=1, likes=39)),\n",
      " TwitterTweet(tweet_id=1900466680641298805, author='iescolar', created_on=datetime.datetime(2025, 3, 14, 8, 39, tzinfo=datetime.timezone.utc), text='De las cabras ahogadas en Turís a la alerta en el río Magro: el caos del equipo de Mazón comenzó la mañana de la DANA\\neldiario.es/comunitat-valenc…', stats=Stats(comments=6, retweets=47, quotes=1, likes=101)),\n",
      " TwitterTweet(tweet_id=1900461031220040143, author='iescolar', created_on=datetime.datetime(2025, 3, 14, 8, 16, tzinfo=datetime.timezone.utc), text=\"El documental '7291' sobre las residencias madrileñas triunfa con un 15% y 1,3 millones en La 2 y el Canal 24 horas\\neldiario.es/vertele/audienci…\", stats=Stats(comments=231, retweets=580, quotes=19, likes=1565)),\n",
      " TwitterTweet(tweet_id=1900454092532486431, author='iescolar', created_on=datetime.datetime(2025, 3, 14, 7, 48, tzinfo=datetime.timezone.utc), text='Ojo -> La Xunta da luz verde al proyecto de macrocelulosa de Altri pese a la oposición de vecinos y ecologistas: “Es viable”\\neldiario.es/galicia/xunta-da…', stats=Stats(comments=45, retweets=129, quotes=9, likes=135)),\n",
      " TwitterTweet(tweet_id=1900449316243726794, author='iescolar', created_on=datetime.datetime(2025, 3, 14, 7, 30, tzinfo=datetime.timezone.utc), text='Los contratos de alquiler de temporada aumentaron hasta el 14% en las ciudades catalanas afectadas por la Ley de Vivienda\\neldiario.es/catalunya/contra…', stats=Stats(comments=5, retweets=10, quotes=0, likes=21)),\n",
      " TwitterTweet(tweet_id=1900441770426499475, author='iescolar', created_on=datetime.datetime(2025, 3, 14, 7, 0, tzinfo=datetime.timezone.utc), text='Ayuso trata de reescribir su gestión en la pandemia con ataques a RTVE y a la oposición en la Asamblea\\neldiario.es/madrid/ayuso-tra…', stats=Stats(comments=220, retweets=230, quotes=10, likes=501)),\n",
      " TwitterTweet(tweet_id=1900290779152863232, author='iescolar', created_on=datetime.datetime(2025, 3, 13, 21, 0, tzinfo=datetime.timezone.utc), text='ENTREVISTA | Dima Moussa, política opositora a Al Asad: “No queremos que el Gobierno falle, puede ser una catástrofe para Siria”  eldiario.es/internacional/di…', stats=Stats(comments=11, retweets=10, quotes=0, likes=28)),\n",
      " TwitterTweet(tweet_id=1900280705676173785, author='iescolar', created_on=datetime.datetime(2025, 3, 13, 20, 20, tzinfo=datetime.timezone.utc), text='Sean Scully, el hijo pródigo del arte abstracto, regresa a Barcelona: “Mi trabajo desfila entre Miguel Ángel y Leonardo” eldiario.es/catalunya/sean-s…', stats=Stats(comments=3, retweets=1, quotes=0, likes=10)),\n",
      " TwitterTweet(tweet_id=1900280396450877443, author='iescolar', created_on=datetime.datetime(2025, 3, 13, 20, 18, tzinfo=datetime.timezone.utc), text='ÚLTIMA HORA | El presidente de Portugal convoca elecciones anticipadas para el 18 de mayo eldiario.es/internacional/pr…', stats=Stats(comments=2, retweets=33, quotes=1, likes=64)),\n",
      " TwitterTweet(tweet_id=1900276407722233897, author='iescolar', created_on=datetime.datetime(2025, 3, 13, 20, 2, tzinfo=datetime.timezone.utc), text='Qué puede pasar si los demócratas rechazan financiar la nueva Administración Trump eldiario.es/internacional/pa…', stats=Stats(comments=0, retweets=11, quotes=0, likes=28)),\n",
      " TwitterTweet(tweet_id=1900275673584861423, author='iescolar', created_on=datetime.datetime(2025, 3, 13, 20, 0, tzinfo=datetime.timezone.utc), text='La Justicia confirma condenas de hasta 27 años de cárcel para diez personas por prostituir a una niña tutelada en Madrid eldiario.es/madrid/justicia-…', stats=Stats(comments=13, retweets=127, quotes=1, likes=224)),\n",
      " TwitterTweet(tweet_id=1900270639207825894, author='iescolar', created_on=datetime.datetime(2025, 3, 13, 19, 40, tzinfo=datetime.timezone.utc), text='Planas avisa que la UE reaccionará a los aranceles al vino: “No nos va a temblar el pulso al defender a nuestros productores” eldiario.es/economia/planas-…', stats=Stats(comments=20, retweets=80, quotes=1, likes=225)),\n",
      " TwitterTweet(tweet_id=1900265606169219518, author='iescolar', created_on=datetime.datetime(2025, 3, 13, 19, 20, tzinfo=datetime.timezone.utc), text='Siria establece la unidad del país en su constitución para la transición tras las matanzas sectarias eldiario.es/internacional/si…', stats=Stats(comments=2, retweets=4, quotes=0, likes=17)),\n",
      " TwitterTweet(tweet_id=1900260580075917599, author='iescolar', created_on=datetime.datetime(2025, 3, 13, 19, 0, tzinfo=datetime.timezone.utc), text='El exdirigente del PNV Alfredo de Miguel buscó una indemnización pública tras ser despedido por corrupción eldiario.es/euskadi/exdirige…', stats=Stats(comments=0, retweets=33, quotes=1, likes=40)),\n",
      " TwitterTweet(tweet_id=1900255539675758597, author='iescolar', created_on=datetime.datetime(2025, 3, 13, 18, 40, tzinfo=datetime.timezone.utc), text='El Papa cumple 12 años de pontificado y un mes ingresado en el hospital Gemelli eldiario.es/sociedad/papa-cu…', stats=Stats(comments=1, retweets=2, quotes=0, likes=14)),\n",
      " TwitterTweet(tweet_id=1900252252180209827, author='iescolar', created_on=datetime.datetime(2025, 3, 13, 18, 26, tzinfo=datetime.timezone.utc), text=\"El director de '7291' responde a Ayuso y a sus acusaciones de que el documental que estrena en RTVE es “engañoso” eldiario.es/madrid/somos/dir…\", stats=Stats(comments=242, retweets=471, quotes=10, likes=1075)),\n",
      " TwitterTweet(tweet_id=1900250506594775081, author='iescolar', created_on=datetime.datetime(2025, 3, 13, 18, 20, tzinfo=datetime.timezone.utc), text='ARCHILETRAS | Donde dije Defensa digo ahora Seguridad y Democracia eldiario.es/cultura/dije-def…', stats=Stats(comments=0, retweets=3, quotes=0, likes=16)),\n",
      " TwitterTweet(tweet_id=1900247139998949808, author='iescolar', created_on=datetime.datetime(2025, 3, 13, 18, 6, tzinfo=datetime.timezone.utc), text='Sánchez promete no recortar “ni un céntimo” en políticas sociales para gastar en Defensa: “Es invertir mejor y hacerlo juntos” eldiario.es/politica/sanchez…', stats=Stats(comments=70, retweets=11, quotes=2, likes=50)),\n",
      " TwitterTweet(tweet_id=1900245473405133293, author='iescolar', created_on=datetime.datetime(2025, 3, 13, 18, 0, tzinfo=datetime.timezone.utc), text='El PP cierra filas con Iberdrola y Endesa para intentar que se alargue la vida de las nucleares eldiario.es/economia/pp-cier…', stats=Stats(comments=7, retweets=7, quotes=1, likes=15)),\n",
      " TwitterTweet(tweet_id=1900240440210972687, author='iescolar', created_on=datetime.datetime(2025, 3, 13, 17, 40, tzinfo=datetime.timezone.utc), text='El Constitucional avala el decreto que limita los pisos turísticos en Catalunya al rechazar el recurso del PP eldiario.es/catalunya/consti…', stats=Stats(comments=1, retweets=101, quotes=1, likes=207)),\n",
      " TwitterTweet(tweet_id=1900235406853226766, author='iescolar', created_on=datetime.datetime(2025, 3, 13, 17, 20, tzinfo=datetime.timezone.utc), text='Gonzalo Suárez saca del cajón unas viñetas enterradas hace 50 años: “La escritura abarca atemporalidad” eldiario.es/cultura/libros/g…', stats=Stats(comments=1, retweets=1, quotes=0, likes=17)),\n",
      " TwitterTweet(tweet_id=1900230377039683773, author='iescolar', created_on=datetime.datetime(2025, 3, 13, 17, 0, tzinfo=datetime.timezone.utc), text='Los concejales tránsfugas de València encienden el ventilador contra Vox: Badenas denuncia a dos cargos “por hostigamiento” eldiario.es/comunitat-valenc…', stats=Stats(comments=4, retweets=171, quotes=2, likes=281)),\n",
      " TwitterTweet(tweet_id=1900225340624253435, author='iescolar', created_on=datetime.datetime(2025, 3, 13, 16, 40, tzinfo=datetime.timezone.utc), text='EXCLUSIVA | Un estudio encargado por Almeida ve viable levantar una noria de 260 metros de altura en un parque de Arganzuela eldiario.es/madrid/somos/arg…', stats=Stats(comments=22, retweets=19, quotes=0, likes=25)),\n",
      " TwitterTweet(tweet_id=1900220307576901939, author='iescolar', created_on=datetime.datetime(2025, 3, 13, 16, 20, tzinfo=datetime.timezone.utc), text='La reforma del procedimiento para determinar la edad de menores migrantes avanza en el Congreso tras superar el veto de PP y Vox  eldiario.es/desalambre/pp-vo…', stats=Stats(comments=5, retweets=9, quotes=0, likes=21)),\n",
      " TwitterTweet(tweet_id=1900216373432684713, author='iescolar', created_on=datetime.datetime(2025, 3, 13, 16, 4, tzinfo=datetime.timezone.utc), text='Putin pone condiciones al alto el fuego pactado por Trump y Zelenski: “Ucrania puede usarlo para recibir más armas” eldiario.es/internacional/pu…', stats=Stats(comments=0, retweets=2, quotes=0, likes=12)),\n",
      " TwitterTweet(tweet_id=1900215277087858941, author='iescolar', created_on=datetime.datetime(2025, 3, 13, 16, 0, tzinfo=datetime.timezone.utc), text='PP y Vox impiden la lectura de una declaración institucional por el Día de la Mujer en el Consell de Mallorca eldiario.es/illes-balears/so…', stats=Stats(comments=6, retweets=51, quotes=1, likes=77)),\n",
      " TwitterTweet(tweet_id=1900210241414774968, author='iescolar', created_on=datetime.datetime(2025, 3, 13, 15, 40, tzinfo=datetime.timezone.utc), text='El Supremo solicita información sobre los viajes oficiales de Ábalos con su expareja y sus contratos en empresas públicas eldiario.es/politica/supremo…', stats=Stats(comments=13, retweets=4, quotes=1, likes=27)),\n",
      " TwitterTweet(tweet_id=1900205208002847185, author='iescolar', created_on=datetime.datetime(2025, 3, 13, 15, 20, tzinfo=datetime.timezone.utc), text='El profesor que impulsa la primera ley que pretende acabar con el sinhogarismo: “Es urgente dotarles de dignidad” eldiario.es/catalunya/profes…', stats=Stats(comments=1, retweets=8, quotes=0, likes=37)),\n",
      " TwitterTweet(tweet_id=1900200930580324498, author='iescolar', created_on=datetime.datetime(2025, 3, 13, 15, 3, tzinfo=datetime.timezone.utc), text='El Congreso aprueba la creación de una comisión de investigación sobre la gestión de la DANA con el rechazo de Vox y el PP eldiario.es/politica/ultima-…', stats=Stats(comments=63, retweets=426, quotes=13, likes=880)),\n",
      " TwitterTweet(tweet_id=1900195645115556035, author='iescolar', created_on=datetime.datetime(2025, 3, 13, 14, 42, tzinfo=datetime.timezone.utc), text='Claves de la crisis en Rumanía: espías rusos, mercenarios y una victoria de la extrema derecha anulada por la Justicia\\neldiario.es/internacional/cl…', stats=Stats(comments=10, retweets=7, quotes=1, likes=23)),\n",
      " TwitterTweet(tweet_id=1900190611929784467, author='iescolar', created_on=datetime.datetime(2025, 3, 13, 14, 22, tzinfo=datetime.timezone.utc), text=\"A la venta por 26 millones la base de operaciones del 'hombre español' de Madoff que refugió a ricos en Mallorca\\neldiario.es/illes-balears/so…\", stats=Stats(comments=6, retweets=4, quotes=0, likes=13)),\n",
      " TwitterTweet(tweet_id=1900185895996645609, author='iescolar', created_on=datetime.datetime(2025, 3, 13, 14, 3, tzinfo=datetime.timezone.utc), text=\"ÚLTIMA HORA | RTVE considera una “intromisión indebida” la exigencia de Ayuso de que se emita un vídeo suyo antes del documental '7291'\\neldiario.es/madrid/rtve-cons…\", stats=Stats(comments=290, retweets=1098, quotes=36, likes=3181)),\n",
      " TwitterTweet(tweet_id=1900183565653999868, author='iescolar', created_on=datetime.datetime(2025, 3, 13, 13, 54, tzinfo=datetime.timezone.utc), text='La policía belga investiga una trama de sobornos de Huawei que salpica a una quincena de eurodiputados\\neldiario.es/internacional/po…', stats=Stats(comments=7, retweets=48, quotes=1, likes=75)),\n",
      " TwitterTweet(tweet_id=1900183014807630071, author='iescolar', created_on=datetime.datetime(2025, 3, 13, 13, 51, tzinfo=datetime.timezone.utc), text='Esta tarde a las 19:00 estaré charlando con @JoaquimBoschGra en Madrid, en la Biblioteca Ángel González . Nos vemos allí.', stats=Stats(comments=0, retweets=22, quotes=3, likes=84)),\n",
      " TwitterTweet(tweet_id=1900178784256720914, author='iescolar', created_on=datetime.datetime(2025, 3, 13, 13, 35, tzinfo=datetime.timezone.utc), text='Vida y muerte sin nombre en un contenedor de Madrid\\neldiario.es/madrid/somos/vid…', stats=Stats(comments=1, retweets=8, quotes=0, likes=17)),\n",
      " TwitterTweet(tweet_id=1900172492599079412, author='iescolar', created_on=datetime.datetime(2025, 3, 13, 13, 10, tzinfo=datetime.timezone.utc), text='Sanidad da por hecha la mayoría para sacar adelante la nueva Agencia Estatal de Salud Pública\\neldiario.es/sociedad/sanidad…', stats=Stats(comments=6, retweets=8, quotes=1, likes=30)),\n",
      " TwitterTweet(tweet_id=1900167459702747256, author='iescolar', created_on=datetime.datetime(2025, 3, 13, 12, 50, tzinfo=datetime.timezone.utc), text='La sonda Hera captura nuevas y “asombrosas” imágenes de la enigmática luna de Marte, Deimos\\neldiario.es/sociedad/sonda-h…', stats=Stats(comments=2, retweets=4, quotes=1, likes=29)),\n",
      " TwitterTweet(tweet_id=1900162429524517089, author='iescolar', created_on=datetime.datetime(2025, 3, 13, 12, 30, tzinfo=datetime.timezone.utc), text=\"La actriz de 'The Bear' Ayo Edebiri carga contra Elon Musk por mentir sobre su participación en 'Piratas del Caribe': “Es un idiota”\\neldiario.es/cultura/cine/ayo…\", stats=Stats(comments=0, retweets=13, quotes=0, likes=48)),\n",
      " TwitterTweet(tweet_id=1900159338619998431, author='iescolar', created_on=datetime.datetime(2025, 3, 13, 12, 17, tzinfo=datetime.timezone.utc), text='ÚLTIMA HORA | Trump amenaza a la UE con aranceles del 200% al vino, champán y bebidas alcohólicas\\neldiario.es/internacional/tr…', stats=Stats(comments=213, retweets=154, quotes=35, likes=348)),\n",
      " TwitterTweet(tweet_id=1900158806031487370, author='iescolar', created_on=datetime.datetime(2025, 3, 13, 12, 15, tzinfo=datetime.timezone.utc), text='Feijóo dice que “Europa y España deben rearmarse”, pero duda de que Sánchez pueda hacerlo\\neldiario.es/politica/feijoo-…', stats=Stats(comments=97, retweets=29, quotes=9, likes=83)),\n",
      " TwitterTweet(tweet_id=1900152547333026248, author='iescolar', created_on=datetime.datetime(2025, 3, 13, 11, 50, tzinfo=datetime.timezone.utc), text='El jefe humanitario de la ONU relata cómo los perros se comen los cadáveres en Gaza: “Es una película de terror”\\neldiario.es/internacional/je…', stats=Stats(comments=5, retweets=67, quotes=2, likes=64)),\n",
      " TwitterTweet(tweet_id=1900145565159006541, author='iescolar', created_on=datetime.datetime(2025, 3, 13, 11, 23, tzinfo=datetime.timezone.utc), text='La extrema derecha arremete contra la jueza de la DANA y asume las tesis de Mazón desacreditadas en sus autos\\neldiario.es/comunitat-valenc…', stats=Stats(comments=40, retweets=43, quotes=8, likes=107)),\n",
      " TwitterTweet(tweet_id=1900139777925493042, author='iescolar', created_on=datetime.datetime(2025, 3, 13, 11, 0, tzinfo=datetime.timezone.utc), text='Putin gana tiempo ante la propuesta de EEUU de un alto al fuego mientras avanza en el campo de batalla\\neldiario.es/internacional/pu…', stats=Stats(comments=6, retweets=3, quotes=1, likes=21)),\n",
      " TwitterTweet(tweet_id=1900133485811294342, author='iescolar', created_on=datetime.datetime(2025, 3, 13, 10, 35, tzinfo=datetime.timezone.utc), text='Cinco años de la pandemia: por qué no queremos mirar atrás\\neldiario.es/sociedad/cinco-a…', stats=Stats(comments=2, retweets=3, quotes=0, likes=14)),\n",
      " TwitterTweet(tweet_id=1900127445619265736, author='iescolar', created_on=datetime.datetime(2025, 3, 13, 10, 11, tzinfo=datetime.timezone.utc), text='La oposición pide a Ayuso que vea el documental de los 7.291 muertos en residencias y ella les acusa de “retorcer el dolor”\\neldiario.es/madrid/oposicion…', stats=Stats(comments=57, retweets=74, quotes=4, likes=204)),\n",
      " TwitterTweet(tweet_id=1900120902932566250, author='iescolar', created_on=datetime.datetime(2025, 3, 13, 9, 45, tzinfo=datetime.timezone.utc), text='La crónica de @Guerraeterna -> No me hables de Gaza y Ucrania y cuéntame algo de Catalunya y Ábalos\\neldiario.es/politica/no-habl…', stats=Stats(comments=1, retweets=6, quotes=0, likes=20)),\n",
      " TwitterTweet(tweet_id=1900117904072262105, author='iescolar', created_on=datetime.datetime(2025, 3, 13, 9, 33, tzinfo=datetime.timezone.utc), text='ÚLTIMA HORA | Feijóo rectifica y devuelve el congreso del PP Europeo a Valencia eldiario.es/politica/feijoo-…', stats=Stats(comments=104, retweets=97, quotes=23, likes=178)),\n",
      " TwitterTweet(tweet_id=1900116496002478224, author='iescolar', created_on=datetime.datetime(2025, 3, 13, 9, 27, tzinfo=datetime.timezone.utc), text='Arranca la reunión entre Sánchez y Feijóo sobre el aumento del gasto en defensa eldiario.es/politica/ultima-…', stats=Stats(comments=2, retweets=2, quotes=0, likes=19)),\n",
      " TwitterTweet(tweet_id=1900110837064618062, author='iescolar', created_on=datetime.datetime(2025, 3, 13, 9, 5, tzinfo=datetime.timezone.utc), text='Los socios del Gobierno defenderán su rechazo a aumentar el gasto militar en la reunión con Sánchez que el PP desprecia\\neldiario.es/politica/socios-…', stats=Stats(comments=1, retweets=8, quotes=1, likes=26)),\n",
      " TwitterTweet(tweet_id=1900105299496783913, author='iescolar', created_on=datetime.datetime(2025, 3, 13, 8, 43, tzinfo=datetime.timezone.utc), text='Más de cien detenidos y cientos de heridos en la represión de Milei a la protesta de los jubilados\\neldiario.es/internacional/ja…', stats=Stats(comments=46, retweets=114, quotes=6, likes=154)),\n",
      " TwitterTweet(tweet_id=1900101004848193642, author='iescolar', created_on=datetime.datetime(2025, 3, 13, 8, 25, tzinfo=datetime.timezone.utc), text='INVESTIGACIÓN | El Gobierno de Ayuso mantuvo a dos altos cargos que tenían una asesoría para que empresas optasen a contratos públicos eldiario.es/madrid/gobierno-…', stats=Stats(comments=37, retweets=467, quotes=10, likes=650)),\n",
      " TwitterTweet(tweet_id=1900086930274234809, author='iescolar', created_on=datetime.datetime(2025, 3, 13, 7, 30, tzinfo=datetime.timezone.utc), text='La política errática de Trump pone en peligro la economía mundial\\neldiario.es/economia/politic…', stats=Stats(comments=14, retweets=39, quotes=2, likes=66)),\n",
      " TwitterTweet(tweet_id=1900080061149012366, author='iescolar', created_on=datetime.datetime(2025, 3, 13, 7, 2, tzinfo=datetime.timezone.utc), text='La Comunidad de Madrid pide a RTVE emitir un vídeo de Ayuso sobre su gestión de la pandemia para contrarrestar el documental de las residencias\\neldiario.es/madrid/comunidad…', stats=Stats(comments=376, retweets=203, quotes=50, likes=466)),\n",
      " TwitterTweet(tweet_id=1899926052568449166, author='iescolar', created_on=datetime.datetime(2025, 3, 12, 20, 50, tzinfo=datetime.timezone.utc), text='ÚLTIMA HORA | Moreno cesa al alto cargo de la sanidad andaluza que diseñó los contratos a dedo con la privada investigados por el juez eldiario.es/andalucia/moreno…', stats=Stats(comments=50, retweets=570, quotes=9, likes=850)),\n",
      " TwitterTweet(tweet_id=1899920834958864589, author='iescolar', created_on=datetime.datetime(2025, 3, 12, 20, 30, tzinfo=datetime.timezone.utc), text='147 permisos solo en Extremadura y boom de los metales: las cifras de la minería en España eldiario.es/economia/147-per…', stats=Stats(comments=2, retweets=9, quotes=0, likes=30)),\n",
      " TwitterTweet(tweet_id=1899915800867463624, author='iescolar', created_on=datetime.datetime(2025, 3, 12, 20, 10, tzinfo=datetime.timezone.utc), text='Trump se sube a un Tesla para apoyar a Elon Musk tras su desplome en bolsa: “No se le puede penalizar por ser patriota” eldiario.es/internacional/tr…', stats=Stats(comments=11, retweets=8, quotes=1, likes=26)),\n",
      " TwitterTweet(tweet_id=1899910767807197199, author='iescolar', created_on=datetime.datetime(2025, 3, 12, 19, 50, tzinfo=datetime.timezone.utc), text='Thierry Frémaux, director del Festival de Cannes: “El capitalismo está ganando, ha convertido al espectador de cine en un consumidor” eldiario.es/cultura/cine/thi…', stats=Stats(comments=3, retweets=9, quotes=0, likes=20)),\n",
      " TwitterTweet(tweet_id=1899905734609129684, author='iescolar', created_on=datetime.datetime(2025, 3, 12, 19, 30, tzinfo=datetime.timezone.utc), text='“VPO para ricos”: el Ayuntamiento de Sevilla desata una polvareda social al ofertar pisos públicos a 350.000 euros eldiario.es/sevilla/vpo-rico…', stats=Stats(comments=25, retweets=213, quotes=2, likes=338)),\n",
      " TwitterTweet(tweet_id=1899900701322731976, author='iescolar', created_on=datetime.datetime(2025, 3, 12, 19, 10, tzinfo=datetime.timezone.utc), text='Varias entidades llevan al Constitucional la ley de simplificación del PP en Balears por ser “la mayor operación especulativa” eldiario.es/illes-balears/po…', stats=Stats(comments=1, retweets=63, quotes=0, likes=106)),\n",
      " TwitterTweet(tweet_id=1899895668342157382, author='iescolar', created_on=datetime.datetime(2025, 3, 12, 18, 50, tzinfo=datetime.timezone.utc), text='HazteOir denuncia a la exdiputada Esther López Barceló por afirmar que habría que dinamitar la cruz de Cuelgamuros eldiario.es/politica/ultima-…', stats=Stats(comments=0, retweets=8, quotes=2, likes=25)),\n",
      " TwitterTweet(tweet_id=1899890638159831247, author='iescolar', created_on=datetime.datetime(2025, 3, 12, 18, 30, tzinfo=datetime.timezone.utc), text='Sobrevivir a la llegada de un bebé: los malabares para que una pareja no se rompa en los primeros meses eldiario.es/nidos/sobrevivir…', stats=Stats(comments=14, retweets=5, quotes=0, likes=33)),\n",
      " TwitterTweet(tweet_id=1899885602193236214, author='iescolar', created_on=datetime.datetime(2025, 3, 12, 18, 10, tzinfo=datetime.timezone.utc), text='Los tapices de los pecados capitales que decoraron las paredes de los monarcas españoles, la gran apuesta de la Galería de las Colecciones Reales eldiario.es/cultura/arte/tap…', stats=Stats(comments=0, retweets=3, quotes=0, likes=17)),\n",
      " TwitterTweet(tweet_id=1899880569229492405, author='iescolar', created_on=datetime.datetime(2025, 3, 12, 17, 50, tzinfo=datetime.timezone.utc), text='Condenan a la Xunta a pagar 60.000 euros a la familia de un hombre muerto de infarto tras una “deficiente” atención eldiario.es/galicia/condenan…', stats=Stats(comments=2, retweets=41, quotes=0, likes=101)),\n",
      " TwitterTweet(tweet_id=1899875536228200538, author='iescolar', created_on=datetime.datetime(2025, 3, 12, 17, 30, tzinfo=datetime.timezone.utc), text='Un diputado republicano llama “señor” a una compañera trans y obliga a suspender la sesión: “No tiene usted decencia” eldiario.es/rastreador/diput…', stats=Stats(comments=7, retweets=16, quotes=0, likes=34)),\n",
      " TwitterTweet(tweet_id=1899870503117983811, author='iescolar', created_on=datetime.datetime(2025, 3, 12, 17, 10, tzinfo=datetime.timezone.utc), text='Inquilinos exigen a la Generalitat que retire las demandas de desahucio de los pisos adquiridos a InmoCriteria eldiario.es/catalunya/inquil…', stats=Stats(comments=5, retweets=7, quotes=0, likes=16)),\n",
      " TwitterTweet(tweet_id=1899865470334836845, author='iescolar', created_on=datetime.datetime(2025, 3, 12, 16, 50, tzinfo=datetime.timezone.utc), text='Los bancos aceleran la concesión de crédito a familias y empresas con la bajada de tipos eldiario.es/economia/bancos-…', stats=Stats(comments=2, retweets=8, quotes=0, likes=16)),\n",
      " TwitterTweet(tweet_id=1899863139190968354, author='iescolar', created_on=datetime.datetime(2025, 3, 12, 16, 40, tzinfo=datetime.timezone.utc), text='Atención a esto --> El principal investigado del caso FP apunta al Gobierno de Ayuso y admite a la jueza que el procedimiento irregular se hacía “desde siempre”  eldiario.es/madrid/politica/…', stats=Stats(comments=31, retweets=1001, quotes=20, likes=1497)),\n",
      " TwitterTweet(tweet_id=1899862760994775320, author='iescolar', created_on=datetime.datetime(2025, 3, 12, 16, 39, tzinfo=datetime.timezone.utc), text='Pakistán trata de rescatar a más de un centenar de secuestrados en un tren por un grupo armado separatista eldiario.es/internacional/th…', stats=Stats(comments=0, retweets=1, quotes=0, likes=10)),\n",
      " TwitterTweet(tweet_id=1899860438067917175, author='iescolar', created_on=datetime.datetime(2025, 3, 12, 16, 30, tzinfo=datetime.timezone.utc), text='Canadá responde a los aranceles de EEUU sobre acero y aluminio con tasas recíprocas del 25% eldiario.es/internacional/ca…', stats=Stats(comments=1, retweets=30, quotes=0, likes=76)),\n",
      " TwitterTweet(tweet_id=1899855404013703593, author='iescolar', created_on=datetime.datetime(2025, 3, 12, 16, 10, tzinfo=datetime.timezone.utc), text='ABC enseña la puerta de salida a Mazón con un editorial en portada con mensajes a Feijóo eldiario.es/rastreador/abc-e…', stats=Stats(comments=16, retweets=39, quotes=2, likes=171)),\n",
      " TwitterTweet(tweet_id=1899853736643600611, author='iescolar', created_on=datetime.datetime(2025, 3, 12, 16, 3, tzinfo=datetime.timezone.utc), text='Atención a esto --> La misteriosa cara hallada en Atapuerca que abre “una nueva página en la evolución humana” eldiario.es/sociedad/misteri…', stats=Stats(comments=1, retweets=13, quotes=1, likes=37)),\n",
      " TwitterTweet(tweet_id=1899850370827837773, author='iescolar', created_on=datetime.datetime(2025, 3, 12, 15, 50, tzinfo=datetime.timezone.utc), text='La portavoz de Vox en el Parlamento de Navarra abandona el partido y lo deja con un único representante eldiario.es/navarra/portavoz…', stats=Stats(comments=4, retweets=41, quotes=2, likes=106)),\n",
      " TwitterTweet(tweet_id=1899846092910379394, author='iescolar', created_on=datetime.datetime(2025, 3, 12, 15, 33, tzinfo=datetime.timezone.utc), text='Un juez abre la puerta a que las entidades de derechos devuelvan parte de lo cobrado por las canciones de series y películas\\neldiario.es/tecnologia/juez-…', stats=Stats(comments=0, retweets=2, quotes=0, likes=12)),\n",
      " TwitterTweet(tweet_id=1899841193103462674, author='iescolar', created_on=datetime.datetime(2025, 3, 12, 15, 13, tzinfo=datetime.timezone.utc), text='El Constitucional tumba la reforma del reglamento del Senado con la que el PP retrasó la amnistía eldiario.es/politica/constit…', stats=Stats(comments=107, retweets=699, quotes=12, likes=1513)),\n",
      " TwitterTweet(tweet_id=1899840303831593350, author='iescolar', created_on=datetime.datetime(2025, 3, 12, 15, 10, tzinfo=datetime.timezone.utc), text='Los perjudicados por el caos de Rodalies se organizan: “No me da la gana cambiar de vida para evitar el tren”\\neldiario.es/catalunya/perjud…', stats=Stats(comments=2, retweets=7, quotes=0, likes=21)),\n",
      " TwitterTweet(tweet_id=1899834012950311186, author='iescolar', created_on=datetime.datetime(2025, 3, 12, 14, 45, tzinfo=datetime.timezone.utc), text='Archivadas todas las causas contra los exconcejales de Colau en Barcelona tras exculpar el Supremo a Eloi Badia\\neldiario.es/catalunya/archiv…', stats=Stats(comments=4, retweets=69, quotes=0, likes=150)),\n",
      " TwitterTweet(tweet_id=1899827953258602517, author='iescolar', created_on=datetime.datetime(2025, 3, 12, 14, 20, tzinfo=datetime.timezone.utc), text='La Sareb vuelve a intentar dejar sin casa a varias familias vulnerables en Las Palmas eldiario.es/canariasahora/so…', stats=Stats(comments=5, retweets=13, quotes=0, likes=21)),\n",
      " TwitterTweet(tweet_id=1899826967735685389, author='iescolar', created_on=datetime.datetime(2025, 3, 12, 14, 17, tzinfo=datetime.timezone.utc), text='Albares pide a Europa “actuar ya a escala mundial” ante la “crisis existencial” agravada por la presidencia de Trump\\neldiario.es/internacional/al…', stats=Stats(comments=9, retweets=17, quotes=0, likes=59)),\n",
      " TwitterTweet(tweet_id=1899820926503628944, author='iescolar', created_on=datetime.datetime(2025, 3, 12, 13, 53, tzinfo=datetime.timezone.utc), text='Acoso a los científicos climáticos: “Me da miedo, al final la gente sabe dónde trabajo y cómo me llamo”\\neldiario.es/ballenablanca/cr…', stats=Stats(comments=20, retweets=23, quotes=1, likes=51)),\n",
      " TwitterTweet(tweet_id=1899814886688842227, author='iescolar', created_on=datetime.datetime(2025, 3, 12, 13, 29, tzinfo=datetime.timezone.utc), text='CLAVES | “Golpear donde duele”: los aranceles de la UE se dirigen a productos simbólicos de EEUU y de estados de Trump\\neldiario.es/economia/golpear…', stats=Stats(comments=15, retweets=26, quotes=3, likes=94)),\n",
      " TwitterTweet(tweet_id=1899809350216212792, author='iescolar', created_on=datetime.datetime(2025, 3, 12, 13, 7, tzinfo=datetime.timezone.utc), text='El TSJ catalán absuelve al exconseller Puig de desobediencia en la entrega de las obras de arte de Sijena de 2017\\neldiario.es/catalunya/tsj-ca…', stats=Stats(comments=2, retweets=9, quotes=0, likes=16)),\n",
      " TwitterTweet(tweet_id=1899798780473676040, author='iescolar', created_on=datetime.datetime(2025, 3, 12, 12, 25, tzinfo=datetime.timezone.utc), text=\"La cómica Rosie O'Donnell anuncia que se ha ido de EEUU con la vuelta de Trump: “Es desgarrador lo que sucede”\\neldiario.es/cultura/comica-r…\", stats=Stats(comments=3, retweets=13, quotes=0, likes=59)),\n",
      " TwitterTweet(tweet_id=1899792499545145347, author='iescolar', created_on=datetime.datetime(2025, 3, 12, 12, 0, tzinfo=datetime.timezone.utc), text='Sánchez Acera desvincula a Moncloa de la filtración del correo de la pareja de Ayuso y asegura que le llegó por la prensa\\neldiario.es/politica/sanchez…', stats=Stats(comments=50, retweets=114, quotes=3, likes=301)),\n",
      " TwitterTweet(tweet_id=1899787788351856743, author='iescolar', created_on=datetime.datetime(2025, 3, 12, 11, 41, tzinfo=datetime.timezone.utc), text='ÚLTIMA HORA | El juez rechaza la denuncia ultra contra Broncano y Lalachus por la estampita en las Campanadas\\neldiario.es/vertele/noticias…', stats=Stats(comments=166, retweets=499, quotes=40, likes=2389)),\n",
      " TwitterTweet(tweet_id=1899785694685577279, author='iescolar', created_on=datetime.datetime(2025, 3, 12, 11, 33, tzinfo=datetime.timezone.utc), text='El día que Ana compartió su hígado con Lluch, sin ser familia: “Ni dudas ni miedo, jamás cambiaría la experiencia”\\neldiario.es/illes-balears/so…', stats=Stats(comments=0, retweets=10, quotes=0, likes=36)),\n",
      " TwitterTweet(tweet_id=1899781243647955040, author='iescolar', created_on=datetime.datetime(2025, 3, 12, 11, 15, tzinfo=datetime.timezone.utc), text='ÚLTIMA HORA | La Audiencia Nacional confirma siete años de cárcel al exvicepresidente madrileño por la fallida Ciudad de la Justicia de Aguirre\\neldiario.es/politica/audienc…', stats=Stats(comments=380, retweets=2063, quotes=127, likes=4065)),\n",
      " TwitterTweet(tweet_id=1899778648296559009, author='iescolar', created_on=datetime.datetime(2025, 3, 12, 11, 5, tzinfo=datetime.timezone.utc), text='Portugal se asoma a nuevas elecciones un año después: cómo hemos llegado hasta aquí y qué dicen las encuestas\\neldiario.es/internacional/po…', stats=Stats(comments=3, retweets=7, quotes=0, likes=19)),\n",
      " TwitterTweet(tweet_id=1899772356186214662, author='iescolar', created_on=datetime.datetime(2025, 3, 12, 10, 40, tzinfo=datetime.timezone.utc), text='Solo Vox mantiene la teoría de la conspiración sobre el atentado yihadista del 11M\\neldiario.es/politica/vox-man…', stats=Stats(comments=77, retweets=71, quotes=9, likes=209)),\n",
      " TwitterTweet(tweet_id=1899766568281895017, author='iescolar', created_on=datetime.datetime(2025, 3, 12, 10, 17, tzinfo=datetime.timezone.utc), text='Centros de expulsión fuera de la UE, multas y más detención: la puntilla al endurecimiento de la política migratoria\\neldiario.es/desalambre/centr…', stats=Stats(comments=11, retweets=11, quotes=2, likes=24)),\n",
      " TwitterTweet(tweet_id=1899760528332877886, author='iescolar', created_on=datetime.datetime(2025, 3, 12, 9, 53, tzinfo=datetime.timezone.utc), text='Moscú responde al acuerdo entre EEUU y Ucrania: “La postura rusa no se decide en el extranjero”\\neldiario.es/internacional/mo…', stats=Stats(comments=4, retweets=2, quotes=2, likes=16)),\n",
      " TwitterTweet(tweet_id=1899755244084441171, author='iescolar', created_on=datetime.datetime(2025, 3, 12, 9, 32, tzinfo=datetime.timezone.utc), text='¿Está en peligro la Primera Enmienda? Así amenaza Trump la libertad de prensa, de expresión y de protesta\\neldiario.es/internacional/pe…', stats=Stats(comments=2, retweets=11, quotes=0, likes=25)),\n",
      " TwitterTweet(tweet_id=1899749737168863300, author='iescolar', created_on=datetime.datetime(2025, 3, 12, 9, 10, tzinfo=datetime.timezone.utc), text='ÚLTIMA HORA | Sánchez pide fondos europeos para el gasto en Defensa y ve a España “preparada” para alcanzar el 2% del PIB eldiario.es/politica/sanchez…', stats=Stats(comments=53, retweets=58, quotes=5, likes=140)),\n",
      " TwitterTweet(tweet_id=1899748449232273918, author='iescolar', created_on=datetime.datetime(2025, 3, 12, 9, 5, tzinfo=datetime.timezone.utc), text='Una noche con las personas sin techo que duermen en el aeropuerto de Barajas: “No encontramos un sitio mejor”\\neldiario.es/madrid/noche-per…', stats=Stats(comments=3, retweets=37, quotes=3, likes=35)),\n",
      " TwitterTweet(tweet_id=1899743415308529785, author='iescolar', created_on=datetime.datetime(2025, 3, 12, 8, 45, tzinfo=datetime.timezone.utc), text='Un año del fraude de la pareja de Ayuso: el caso que quiso cerrar en secreto el “técnico sanitario” que era comisionista\\neldiario.es/politica/ano-fra…', stats=Stats(comments=25, retweets=464, quotes=12, likes=758)),\n",
      " TwitterTweet(tweet_id=1899737124338880719, author='iescolar', created_on=datetime.datetime(2025, 3, 12, 8, 20, tzinfo=datetime.timezone.utc), text='La jueza de la DANA pide las grabaciones de las llamadas al 112 de los familiares de las víctimas que lo han consentido\\neldiario.es/comunitat-valenc…', stats=Stats(comments=7, retweets=106, quotes=0, likes=268)),\n",
      " TwitterTweet(tweet_id=1899730832492728713, author='iescolar', created_on=datetime.datetime(2025, 3, 12, 7, 55, tzinfo=datetime.timezone.utc), text='El independentismo moderado gana las elecciones en Groenlandia y los votantes dicen no a Trump\\neldiario.es/internacional/in…', stats=Stats(comments=4, retweets=115, quotes=0, likes=281)),\n",
      " TwitterTweet(tweet_id=1899727423861665960, author='iescolar', created_on=datetime.datetime(2025, 3, 12, 7, 41, tzinfo=datetime.timezone.utc), text='Sánchez intentará suavizar las exigencias de Europa sobre el gasto en Defensa y garantiza que no habrá recortes\\neldiario.es/politica/sanchez…', stats=Stats(comments=39, retweets=23, quotes=8, likes=49)),\n",
      " TwitterTweet(tweet_id=1899704398512521543, author='iescolar', created_on=datetime.datetime(2025, 3, 12, 6, 9, tzinfo=datetime.timezone.utc), text='ÚLTIMA HORA | La UE reintroduce aranceles a EEUU desde el 1 de abril para responder a la guerra comercial de Trump\\neldiario.es/economia/ue-rein…', stats=Stats(comments=12, retweets=275, quotes=7, likes=665)),\n",
      " TwitterTweet(tweet_id=1899566004935737746, author='iescolar', created_on=datetime.datetime(2025, 3, 11, 21, 0, tzinfo=datetime.timezone.utc), text='Informe AEMET: un invierno más cálido y seco de lo normal da paso a una primavera con altas temperaturas eldiario.es/sociedad/informe…', stats=Stats(comments=97, retweets=16, quotes=14, likes=82)),\n",
      " TwitterTweet(tweet_id=1899560963898012031, author='iescolar', created_on=datetime.datetime(2025, 3, 11, 20, 40, tzinfo=datetime.timezone.utc), text='“Guerracivilismo”, ETA y “las checas republicanas”: el vídeo de Ayuso con expresidentes madrileños contra la memoria histórica en la Puerta del Sol eldiario.es/sociedad/guerrac…', stats=Stats(comments=53, retweets=71, quotes=3, likes=160)),\n",
      " TwitterTweet(tweet_id=1899555931093934171, author='iescolar', created_on=datetime.datetime(2025, 3, 11, 20, 20, tzinfo=datetime.timezone.utc), text='El PP incide en las diferencias del Gobierno ante el aumento del gasto en defensa que reclama Europa eldiario.es/politica/pp-inci…', stats=Stats(comments=1, retweets=0, quotes=0, likes=11)),\n",
      " TwitterTweet(tweet_id=1899550901041586398, author='iescolar', created_on=datetime.datetime(2025, 3, 11, 20, 0, tzinfo=datetime.timezone.utc), text=\"Ana Belén, el caso de una 'bebé robada' contra la “trama” que cambió su vida: “La Fiscalía nos apoya” eldiario.es/castilla-la-manc…\", stats=Stats(comments=1, retweets=10, quotes=0, likes=30)),\n",
      " TwitterTweet(tweet_id=1899548635148194104, author='iescolar', created_on=datetime.datetime(2025, 3, 11, 19, 51, tzinfo=datetime.timezone.utc), text='ÚLTIMA HORA | El primer ministro de Portugal pierde la moción de confianza y el país se encamina a elecciones anticipadas eldiario.es/internacional/pr…', stats=Stats(comments=11, retweets=60, quotes=1, likes=144)),\n",
      " TwitterTweet(tweet_id=1899545864542052745, author='iescolar', created_on=datetime.datetime(2025, 3, 11, 19, 40, tzinfo=datetime.timezone.utc), text='La economía, la política y el medioambiente, principales inquietudes de los jóvenes, según Unicef eldiario.es/andalucia/econom…', stats=Stats(comments=5, retweets=14, quotes=0, likes=22)),\n",
      " TwitterTweet(tweet_id=1899540831394242793, author='iescolar', created_on=datetime.datetime(2025, 3, 11, 19, 20, tzinfo=datetime.timezone.utc), text=\"Concha Jerez, la 'francotiradora' de la autocensura en ARCO: “Hemos confiado demasiado en que las libertades funcionan por sí solas” eldiario.es/cultura/arte/con…\", stats=Stats(comments=2, retweets=10, quotes=0, likes=20)),\n",
      " TwitterTweet(tweet_id=1899535798493696011, author='iescolar', created_on=datetime.datetime(2025, 3, 11, 19, 0, tzinfo=datetime.timezone.utc), text='Las razones de R.E.M., al descubierto: por qué el grupo no ha vuelto a reunirse para hacer música eldiario.es/cultura/musica/r…', stats=Stats(comments=2, retweets=3, quotes=0, likes=15)),\n",
      " TwitterTweet(tweet_id=1899530890671431779, author='iescolar', created_on=datetime.datetime(2025, 3, 11, 18, 40, tzinfo=datetime.timezone.utc), text='El Gobierno no ve “un obstáculo” en la ausencia de presupuestos para subir el gasto en defensa eldiario.es/economia/gobiern…', stats=Stats(comments=14, retweets=9, quotes=1, likes=28)),\n",
      " TwitterTweet(tweet_id=1899530765815128475, author='iescolar', created_on=datetime.datetime(2025, 3, 11, 18, 40, tzinfo=datetime.timezone.utc), text='El Gobierno no ve “un obstáculo” en la ausencia de presupuestos para subir el gasto en defensa eldiario.es/economia/gobiern…', stats=Stats(comments=9, retweets=7, quotes=1, likes=23)),\n",
      " TwitterTweet(tweet_id=1899525730897113538, author='iescolar', created_on=datetime.datetime(2025, 3, 11, 18, 20, tzinfo=datetime.timezone.utc), text='El Gobierno activa la expropiación de El Algarrobico amparándose en dos informes de la Abogacía del Estado eldiario.es/andalucia/almeri…', stats=Stats(comments=4, retweets=50, quotes=0, likes=125)),\n",
      " TwitterTweet(tweet_id=1899525702954737803, author='iescolar', created_on=datetime.datetime(2025, 3, 11, 18, 19, tzinfo=datetime.timezone.utc), text='EEUU y Ucrania se reúnen en Arabia Saudí para explorar la paz con Putin eldiario.es/internacional/co…', stats=Stats(comments=2, retweets=2, quotes=0, likes=18)),\n",
      " TwitterTweet(tweet_id=1899520698223366294, author='iescolar', created_on=datetime.datetime(2025, 3, 11, 18, 0, tzinfo=datetime.timezone.utc), text='La alcaldesa de València, abocada a gobernar en minoría tras el escándalo en Vox por contratos irregulares y acoso eldiario.es/comunitat-valenc…', stats=Stats(comments=10, retweets=70, quotes=1, likes=162)),\n",
      " TwitterTweet(tweet_id=1899515665330876664, author='iescolar', created_on=datetime.datetime(2025, 3, 11, 17, 40, tzinfo=datetime.timezone.utc), text='Las acciones de Tesla caen más del 15 %, ante las dudas por su rendimiento y por Elon Musk eldiario.es/economia/accione…', stats=Stats(comments=1, retweets=28, quotes=0, likes=74)),\n",
      " TwitterTweet(tweet_id=1899514955902091458, author='iescolar', created_on=datetime.datetime(2025, 3, 11, 17, 37, tzinfo=datetime.timezone.utc), text='ÚLTIMA HORA | La Fiscalía pide la imputación del abogado que representó a la pareja de Ayuso ante Hacienda eldiario.es/politica/fiscali…', stats=Stats(comments=111, retweets=787, quotes=35, likes=1920)),\n",
      " TwitterTweet(tweet_id=1899510631478255867, author='iescolar', created_on=datetime.datetime(2025, 3, 11, 17, 20, tzinfo=datetime.timezone.utc), text='Sumar dice que aumentar el gasto en defensa “no garantiza” la autonomía europea tras la reunión con Sánchez eldiario.es/politica/sumar-d…', stats=Stats(comments=3, retweets=9, quotes=0, likes=21)),\n",
      " TwitterTweet(tweet_id=1899505603300499781, author='iescolar', created_on=datetime.datetime(2025, 3, 11, 17, 0, tzinfo=datetime.timezone.utc), text='“El novio de América”: por qué el fenómeno fan en torno a Luigi Mangione podría influir en su juicio por asesinato\\n \\neldiario.es/era/novio-americ…', stats=Stats(comments=0, retweets=4, quotes=0, likes=9)),\n",
      " TwitterTweet(tweet_id=1899501823762780290, author='iescolar', created_on=datetime.datetime(2025, 3, 11, 16, 45, tzinfo=datetime.timezone.utc), text='Un turista español desaparece en un alud en la montaña más alta de Armenia eldiario.es/catalunya/turist…', stats=Stats(comments=1, retweets=3, quotes=0, likes=8)),\n",
      " TwitterTweet(tweet_id=1899495531845767497, author='iescolar', created_on=datetime.datetime(2025, 3, 11, 16, 20, tzinfo=datetime.timezone.utc), text='El PP aprueba en solitario la ley que le permitirá reforzar el control político de la TVG e imponer a su director eldiario.es/galicia/pp-aprue…', stats=Stats(comments=15, retweets=40, quotes=1, likes=58)),\n",
      " TwitterTweet(tweet_id=1899490502157742133, author='iescolar', created_on=datetime.datetime(2025, 3, 11, 16, 0, tzinfo=datetime.timezone.utc), text='El boom de la gasolina ‘low cost’: Leganés como símbolo de un sector que bate récords eldiario.es/economia/boom-ga…', stats=Stats(comments=1, retweets=5, quotes=0, likes=14)),\n",
      " TwitterTweet(tweet_id=1899485465457357057, author='iescolar', created_on=datetime.datetime(2025, 3, 11, 15, 40, tzinfo=datetime.timezone.utc), text=\"Una cofradía religiosa denuncia por delito de odio la exhibición de una Virgen de Covadonga 'queer' el 8M en Gijón eldiario.es/asturias/cofradi…\", stats=Stats(comments=43, retweets=21, quotes=7, likes=63)),\n",
      " TwitterTweet(tweet_id=1899481520479359086, author='iescolar', created_on=datetime.datetime(2025, 3, 11, 15, 24, tzinfo=datetime.timezone.utc), text='ÚLTIMA HORA | El Tribunal de Cuentas abre diligencias contra Feria Valencia y la Generalitat por pagar sueldos y dietas indebidos eldiario.es/comunitat-valenc…', stats=Stats(comments=172, retweets=1777, quotes=64, likes=3265)),\n",
      " TwitterTweet(tweet_id=1899480432673984555, author='iescolar', created_on=datetime.datetime(2025, 3, 11, 15, 20, tzinfo=datetime.timezone.utc), text='La Junta de Extremadura conocía las incidencias abiertas a los menores implicados en el asesinato de la educadora en Badajoz eldiario.es/extremadura/soci…', stats=Stats(comments=23, retweets=244, quotes=6, likes=276)),\n",
      " TwitterTweet(tweet_id=1899477242574496023, author='iescolar', created_on=datetime.datetime(2025, 3, 11, 15, 7, tzinfo=datetime.timezone.utc), text='Atención a esto --> Trump anuncia que duplicará al 50 % los aranceles al acero y aluminio canadiense eldiario.es/internacional/tr…', stats=Stats(comments=4, retweets=13, quotes=2, likes=28)),\n",
      " TwitterTweet(tweet_id=1899475411068670299, author='iescolar', created_on=datetime.datetime(2025, 3, 11, 15, 0, tzinfo=datetime.timezone.utc), text=\"El Supremo confirma 720 euros de multa a un 'tuitero' por injurias al rey Felipe VI: “Cortémosle el cuello a ese hijo de puta” eldiario.es/politica/supremo…\", stats=Stats(comments=5, retweets=2, quotes=4, likes=10)),\n",
      " TwitterTweet(tweet_id=1899470365824606396, author='iescolar', created_on=datetime.datetime(2025, 3, 11, 14, 40, tzinfo=datetime.timezone.utc), text='Las lluvias disparan las reservas de agua en España: los datos, embalse por embalse eldiario.es/sociedad/mapa-re…', stats=Stats(comments=11, retweets=19, quotes=0, likes=55)),\n",
      " TwitterTweet(tweet_id=1899465584745521340, author='iescolar', created_on=datetime.datetime(2025, 3, 11, 14, 21, tzinfo=datetime.timezone.utc), text='La juez de los contratos sanitarios troceados deja fuera al Gobierno andaluz hasta aclarar si es defensa o acusación\\neldiario.es/andalucia/juez-c…', stats=Stats(comments=0, retweets=79, quotes=0, likes=103)),\n",
      " TwitterTweet(tweet_id=1899460048155246658, author='iescolar', created_on=datetime.datetime(2025, 3, 11, 13, 59, tzinfo=datetime.timezone.utc), text='Los cazadores españoles se preparan para matar 100.000 tórtolas de nuevo\\neldiario.es/sociedad/cazador…', stats=Stats(comments=35, retweets=32, quotes=15, likes=45)),\n",
      " TwitterTweet(tweet_id=1899456021430509651, author='iescolar', created_on=datetime.datetime(2025, 3, 11, 13, 43, tzinfo=datetime.timezone.utc), text='Arranca el juicio por la muerte de Maradona: sus últimos 14 días de vida y ocho imputados que se culpan entre sí\\neldiario.es/internacional/ar…', stats=Stats(comments=0, retweets=2, quotes=1, likes=6)),\n",
      " TwitterTweet(tweet_id=1899450233433858049, author='iescolar', created_on=datetime.datetime(2025, 3, 11, 13, 20, tzinfo=datetime.timezone.utc), text=\"El Gobierno de Mazón insiste en el bulo del 'apagón informativo' pese al auto de la jueza que lo desmiente\\neldiario.es/comunitat-valenc…\", stats=Stats(comments=110, retweets=490, quotes=21, likes=1067)),\n",
      " TwitterTweet(tweet_id=1899445211073544665, author='iescolar', created_on=datetime.datetime(2025, 3, 11, 13, 0, tzinfo=datetime.timezone.utc), text='Bruselas sienta las bases para los centros de deportación de migrantes fuera de la UE similares a los de Meloni\\neldiario.es/desalambre/bruse…', stats=Stats(comments=8, retweets=8, quotes=5, likes=18)),\n",
      " TwitterTweet(tweet_id=1899439915642884115, author='iescolar', created_on=datetime.datetime(2025, 3, 11, 12, 39, tzinfo=datetime.timezone.utc), text='Von der Leyen se salta el Parlamento Europeo con su multimillonario plan de rearme para la UE\\neldiario.es/internacional/vo…', stats=Stats(comments=24, retweets=29, quotes=5, likes=63)),\n",
      " TwitterTweet(tweet_id=1899435134429905122, author='iescolar', created_on=datetime.datetime(2025, 3, 11, 12, 20, tzinfo=datetime.timezone.utc), text='Claves de la ley para alejar a los menores del alcohol: prohibidos los anuncios cerca del colegio y beber en partidos infantiles\\neldiario.es/sociedad/claves-…', stats=Stats(comments=2, retweets=18, quotes=2, likes=38)),\n",
      " TwitterTweet(tweet_id=1899430914825900458, author='iescolar', created_on=datetime.datetime(2025, 3, 11, 12, 3, tzinfo=datetime.timezone.utc), text='ÚLTIMA HORA | El Banco de España eleva otras dos décimas el crecimiento al 2,7% en 2025 sin tener en cuenta la guerra comercial\\neldiario.es/economia/banco-e…', stats=Stats(comments=30, retweets=134, quotes=2, likes=268)),\n",
      " TwitterTweet(tweet_id=1899427584200335789, author='iescolar', created_on=datetime.datetime(2025, 3, 11, 11, 50, tzinfo=datetime.timezone.utc), text='Groenlandia acude a las urnas tras una campaña dominada por las ansias imperialistas de Donald Trump\\neldiario.es/internacional/gr…', stats=Stats(comments=1, retweets=2, quotes=0, likes=13)),\n",
      " TwitterTweet(tweet_id=1899422299167805565, author='iescolar', created_on=datetime.datetime(2025, 3, 11, 11, 29, tzinfo=datetime.timezone.utc), text='Anticorrupción abre un nuevo frente judicial a Vox mientras suma deserciones\\neldiario.es/politica/anticor…', stats=Stats(comments=7, retweets=80, quotes=0, likes=193)),\n",
      " TwitterTweet(tweet_id=1899415756653408458, author='iescolar', created_on=datetime.datetime(2025, 3, 11, 11, 3, tzinfo=datetime.timezone.utc), text='Qué está pasando en Siria: claves para entender la mayor ola de violencia desde la caída de Al Asad\\neldiario.es/internacional/pa…', stats=Stats(comments=4, retweets=4, quotes=1, likes=17)),\n",
      " TwitterTweet(tweet_id=1899409968228352080, author='iescolar', created_on=datetime.datetime(2025, 3, 11, 10, 40, tzinfo=datetime.timezone.utc), text='Las 11 frases de la jueza de la DANA que tumban las excusas de Mazón: “No era precisa la emergencia nacional”\\neldiario.es/comunitat-valenc…', stats=Stats(comments=7, retweets=173, quotes=3, likes=288)),\n",
      " TwitterTweet(tweet_id=1899407451197198746, author='iescolar', created_on=datetime.datetime(2025, 3, 11, 10, 30, tzinfo=datetime.timezone.utc), text='El juez Peinado amplía la investigación contra Begoña Gómez a un presunto delito de malversación de fondos eldiario.es/politica/ultima-…', stats=Stats(comments=60, retweets=27, quotes=1, likes=63)),\n",
      " TwitterTweet(tweet_id=1899403676726202825, author='iescolar', created_on=datetime.datetime(2025, 3, 11, 10, 15, tzinfo=datetime.timezone.utc), text='Comienza la reunión entre EEUU y Ucrania en Arabia Saudí para explorar la paz con Putin\\neldiario.es/internacional/co…', stats=Stats(comments=1, retweets=1, quotes=0, likes=10)),\n",
      " TwitterTweet(tweet_id=1899399910803587332, author='iescolar', created_on=datetime.datetime(2025, 3, 11, 10, 0, tzinfo=datetime.timezone.utc), text='Una jueza condena a Alvise Pérez a indemnizar con 60.000 euros a Ábalos por difamarle\\neldiario.es/politica/jueza-c…', stats=Stats(comments=143, retweets=437, quotes=17, likes=1243)),\n",
      " TwitterTweet(tweet_id=1899394113453121747, author='iescolar', created_on=datetime.datetime(2025, 3, 11, 9, 37, tzinfo=datetime.timezone.utc), text='Una muerte violenta, menores tutelados y una denuncia previa: qué se sabe del asesinato de una cuidadora en Badajoz\\neldiario.es/extremadura/soci…', stats=Stats(comments=11, retweets=8, quotes=1, likes=39)),\n",
      " TwitterTweet(tweet_id=1899388576942669928, author='iescolar', created_on=datetime.datetime(2025, 3, 11, 9, 15, tzinfo=datetime.timezone.utc), text='PSOE y Sumar intentan consensuar una política de Defensa ante las resistencias de sus socios a aumentar el gasto\\neldiario.es/politica/psoe-su…', stats=Stats(comments=10, retweets=0, quotes=1, likes=18)),\n",
      " TwitterTweet(tweet_id=1899382788840915195, author='iescolar', created_on=datetime.datetime(2025, 3, 11, 8, 52, tzinfo=datetime.timezone.utc), text='Los diagnósticos de autismo se han cuadruplicado en diez años: “Muchas familias no se lo esperan”\\neldiario.es/sociedad/diagnos…', stats=Stats(comments=0, retweets=22, quotes=0, likes=50)),\n",
      " TwitterTweet(tweet_id=1899375994131153358, author='iescolar', created_on=datetime.datetime(2025, 3, 11, 8, 25, tzinfo=datetime.timezone.utc), text='La Policía detiene a Duterte por orden de la Corte Penal Internacional acusado de crímenes contra la humanidad\\neldiario.es/internacional/du…', stats=Stats(comments=1, retweets=10, quotes=3, likes=38)),\n",
      " TwitterTweet(tweet_id=1899369714780188881, author='iescolar', created_on=datetime.datetime(2025, 3, 11, 8, 0, tzinfo=datetime.timezone.utc), text=\"Jordi de la Fuente, el neonazi y prorruso que Vox ha aupado al frente de su sindicato 'Solidaridad'\\neldiario.es/catalunya/politi…\", stats=Stats(comments=19, retweets=58, quotes=5, likes=100)),\n",
      " TwitterTweet(tweet_id=1899361901127352713, author='iescolar', created_on=datetime.datetime(2025, 3, 11, 7, 29, tzinfo=datetime.timezone.utc), text='La crónica de @Guerraeterna -> En el debate del gasto militar, todos esconden más de lo que muestran\\neldiario.es/politica/debate-…', stats=Stats(comments=3, retweets=4, quotes=1, likes=16)),\n",
      " TwitterTweet(tweet_id=1899354607794761818, author='iescolar', created_on=datetime.datetime(2025, 3, 11, 7, 0, tzinfo=datetime.timezone.utc), text='La jueza de la DANA destroza la versión de Mazón sobre la respuesta a la catástrofe y apuntala la “negligencia”\\neldiario.es/comunitat-valenc…', stats=Stats(comments=70, retweets=443, quotes=10, likes=918)),\n",
      " TwitterTweet(tweet_id=1899201091826286825, author='iescolar', created_on=datetime.datetime(2025, 3, 10, 20, 50, tzinfo=datetime.timezone.utc), text=\"Portazo del Constitucional al recurso del youtuber machista 'Un Tío Blanco Hetero' contra la comunicadora Yolanda Domínguez  eldiario.es/catalunya/portaz…\", stats=Stats(comments=112, retweets=28, quotes=7, likes=119)),\n",
      " TwitterTweet(tweet_id=1899196058376581223, author='iescolar', created_on=datetime.datetime(2025, 3, 10, 20, 30, tzinfo=datetime.timezone.utc), text='La jueza de la DANA ofrece a Carlos Mazón la posibilidad de declarar voluntariamente como investigado eldiario.es/comunitat-valenc…', stats=Stats(comments=26, retweets=107, quotes=4, likes=253)),\n",
      " TwitterTweet(tweet_id=1899191025253396711, author='iescolar', created_on=datetime.datetime(2025, 3, 10, 20, 10, tzinfo=datetime.timezone.utc), text='ENTREVISTA | N. Pino Luna: “Se nos olvida que los cuerpos enfermos también desean” eldiario.es/cultura/libros/n…', stats=Stats(comments=4, retweets=5, quotes=0, likes=27)),\n",
      " TwitterTweet(tweet_id=1899185991815930253, author='iescolar', created_on=datetime.datetime(2025, 3, 10, 19, 50, tzinfo=datetime.timezone.utc), text='A la venta por 4,5 millones la finca donde iba a construirse la macrogranja “más contaminante” de España eldiario.es/illes-balears/so…', stats=Stats(comments=6, retweets=14, quotes=0, likes=44)),\n",
      " TwitterTweet(tweet_id=1899180960299860090, author='iescolar', created_on=datetime.datetime(2025, 3, 10, 19, 30, tzinfo=datetime.timezone.utc), text='Aznar, sobre el traspaso de competencias de inmigración a Catalunya: “Es mucho más grave que el 1-O” eldiario.es/politica/aznar-t…', stats=Stats(comments=155, retweets=29, quotes=8, likes=67)),\n",
      " TwitterTweet(tweet_id=1899175925943779359, author='iescolar', created_on=datetime.datetime(2025, 3, 10, 19, 10, tzinfo=datetime.timezone.utc), text='El Deportivo denunciará “al más alto nivel” los insultos racistas que provocaron un ataque de ansiedad a un futbolista de su filial  eldiario.es/galicia/deportiv…', stats=Stats(comments=3, retweets=12, quotes=1, likes=66)),\n",
      " TwitterTweet(tweet_id=1899170892552491202, author='iescolar', created_on=datetime.datetime(2025, 3, 10, 18, 50, tzinfo=datetime.timezone.utc), text='El 73% de las juezas cree que el sistema de acceso a la cúpula judicial es discriminatorio para las mujeres eldiario.es/politica/73-juez…', stats=Stats(comments=20, retweets=154, quotes=5, likes=313)),\n",
      " TwitterTweet(tweet_id=1899166932747595843, author='iescolar', created_on=datetime.datetime(2025, 3, 10, 18, 34, tzinfo=datetime.timezone.utc), text='ÚLTIMA HORA | La exconsellera Salomé Pradas, tras ser imputada por la jueza de la DANA: “Se sabrá toda la verdad, cumplí desde el primer minuto con mis funciones” eldiario.es/comunitat-valenc…', stats=Stats(comments=193, retweets=468, quotes=16, likes=1105)),\n",
      " TwitterTweet(tweet_id=1899165859635204256, author='iescolar', created_on=datetime.datetime(2025, 3, 10, 18, 30, tzinfo=datetime.timezone.utc), text='España, Francia, Alemania, Italia, Holanda, Polonia y Luxemburgo avanzan en un producto de ahorro europeo eldiario.es/economia/espana-…', stats=Stats(comments=3, retweets=7, quotes=0, likes=33)),\n",
      " TwitterTweet(tweet_id=1899160826029961325, author='iescolar', created_on=datetime.datetime(2025, 3, 10, 18, 10, tzinfo=datetime.timezone.utc), text='El Tribunal de Cuentas detecta que Aliança Catalana se financió con pagos en efectivo en las municipales de 2023 eldiario.es/catalunya/tribun…', stats=Stats(comments=6, retweets=38, quotes=2, likes=73)),\n",
      " TwitterTweet(tweet_id=1899155793460555899, author='iescolar', created_on=datetime.datetime(2025, 3, 10, 17, 50, tzinfo=datetime.timezone.utc), text='La violencia sigue presente en Catatumbo donde ya hay más de 52.000 personas desplazadas, superando en menos de un mes los registros de todo 2024\\n\\neldiario.es/desalambre/crisi…', stats=Stats(comments=0, retweets=5, quotes=0, likes=12)),\n",
      " TwitterTweet(tweet_id=1899155023801589912, author='iescolar', created_on=datetime.datetime(2025, 3, 10, 17, 46, tzinfo=datetime.timezone.utc), text='ÚLTIMA HORA | El juez Peinado cita como testigo a Félix Bolaños en el caso contra Begoña Gómez eldiario.es/politica/juez-pe…', stats=Stats(comments=78, retweets=39, quotes=13, likes=116)),\n",
      " TwitterTweet(tweet_id=1899153284968915158, author='iescolar', created_on=datetime.datetime(2025, 3, 10, 17, 40, tzinfo=datetime.timezone.utc), text='Wall Street se desploma después de que Trump no descarte una recesión y arrastra al resto de bolsas eldiario.es/economia/bolsa-e…', stats=Stats(comments=15, retweets=40, quotes=5, likes=81)),\n",
      " TwitterTweet(tweet_id=1899150761566621734, author='iescolar', created_on=datetime.datetime(2025, 3, 10, 17, 30, tzinfo=datetime.timezone.utc), text=\"Un empresario del PNV admite en un juicio que Hondarribia burló la ley para adjudicarle contratos públicos 'a dedo' eldiario.es/euskadi/empresar…\", stats=Stats(comments=1, retweets=28, quotes=1, likes=39)),\n",
      " TwitterTweet(tweet_id=1899149568568066471, author='iescolar', created_on=datetime.datetime(2025, 3, 10, 17, 25, tzinfo=datetime.timezone.utc), text='Atención a esto ---> La jueza impide a la Comunidad de Madrid personarse en el caso de prevaricación en FP que afecta al Gobierno de Ayuso eldiario.es/madrid/politica/…', stats=Stats(comments=47, retweets=494, quotes=10, likes=1021)),\n",
      " TwitterTweet(tweet_id=1899145726468444346, author='iescolar', created_on=datetime.datetime(2025, 3, 10, 17, 10, tzinfo=datetime.timezone.utc), text='El sector privado acelera los fichajes de militares en pleno auge del gasto en defensa eldiario.es/economia/sector-…', stats=Stats(comments=19, retweets=11, quotes=2, likes=23)),\n",
      " TwitterTweet(tweet_id=1899141698195722648, author='iescolar', created_on=datetime.datetime(2025, 3, 10, 16, 53, tzinfo=datetime.timezone.utc), text='Santiago Segura compara el Orgullo LGTBIQ+ con los “frikis” que se disfrazan para ir a la Comic-Con eldiario.es/rastreador/santi…', stats=Stats(comments=297, retweets=89, quotes=58, likes=291)),\n",
      " TwitterTweet(tweet_id=1899140693429239857, author='iescolar', created_on=datetime.datetime(2025, 3, 10, 16, 50, tzinfo=datetime.timezone.utc), text='Profesionales del Summa 112 de Madrid alertan del deterioro del servicio: “Lo están destruyendo poco a poco” eldiario.es/madrid/politica/…', stats=Stats(comments=36, retweets=741, quotes=20, likes=1093)),\n",
      " TwitterTweet(tweet_id=1899135661455692116, author='iescolar', created_on=datetime.datetime(2025, 3, 10, 16, 30, tzinfo=datetime.timezone.utc), text='ENTREVISTA | Ramon Espadaler: “Tenemos una oportunidad única para hacer de la Justicia un servicio eficaz”\\n \\neldiario.es/catalunya/ramon-…', stats=Stats(comments=3, retweets=5, quotes=2, likes=21)),\n",
      " TwitterTweet(tweet_id=1899130627292529082, author='iescolar', created_on=datetime.datetime(2025, 3, 10, 16, 10, tzinfo=datetime.timezone.utc), text='El Gobierno se da una semana para cerrar el texto con Canarias sobre el reparto puntual de menores a la espera de Junts eldiario.es/desalambre/gobie…', stats=Stats(comments=7, retweets=7, quotes=1, likes=26)),\n",
      " TwitterTweet(tweet_id=1899129154123026468, author='iescolar', created_on=datetime.datetime(2025, 3, 10, 16, 4, tzinfo=datetime.timezone.utc), text='Un petrolero y un carguero se incendian tras chocar en el mar del Norte eldiario.es/internacional/pe…', stats=Stats(comments=2, retweets=11, quotes=0, likes=22)),\n",
      " TwitterTweet(tweet_id=1899125593960055176, author='iescolar', created_on=datetime.datetime(2025, 3, 10, 15, 50, tzinfo=datetime.timezone.utc), text='El PP quiere reformar el Senado para convertirlo en un órgano de oposición permanente a Pedro Sánchez eldiario.es/politica/pp-quie…', stats=Stats(comments=49, retweets=60, quotes=9, likes=82)),\n",
      " TwitterTweet(tweet_id=1899121064376218037, author='iescolar', created_on=datetime.datetime(2025, 3, 10, 15, 32, tzinfo=datetime.timezone.utc), text='El Poder Judicial acaba con parte de las limitaciones de sus viajes impuestas tras el ‘caso Dívar’\\neldiario.es/politica/judicia…', stats=Stats(comments=6, retweets=10, quotes=2, likes=29)),\n",
      " TwitterTweet(tweet_id=1899115527865573797, author='iescolar', created_on=datetime.datetime(2025, 3, 10, 15, 10, tzinfo=datetime.timezone.utc), text='Yolanda Díaz, sobre el aumento del gasto militar: “No va a de subir o bajar sino de reordenar la política de defensa”\\neldiario.es/politica/yolanda…', stats=Stats(comments=77, retweets=9, quotes=9, likes=39)),\n",
      " TwitterTweet(tweet_id=1899108984772329646, author='iescolar', created_on=datetime.datetime(2025, 3, 10, 14, 44, tzinfo=datetime.timezone.utc), text='La Generalitat reconoce que mandó a sus bomberos al Poyo a las 12.20 del día de la DANA pese a estar meses negando las competencias\\neldiario.es/comunitat-valenc…', stats=Stats(comments=33, retweets=449, quotes=3, likes=886)),\n",
      " TwitterTweet(tweet_id=1899102944668332513, author='iescolar', created_on=datetime.datetime(2025, 3, 10, 14, 20, tzinfo=datetime.timezone.utc), text='La Justicia confirma dos años de cárcel a un guardia civil que estafó a un compañero para conseguir créditos\\neldiario.es/politica/justici…', stats=Stats(comments=3, retweets=15, quotes=0, likes=50)),\n",
      " TwitterTweet(tweet_id=1899096904765522119, author='iescolar', created_on=datetime.datetime(2025, 3, 10, 13, 56, tzinfo=datetime.timezone.utc), text='La trama del falso aceite de oliva virgen extra destapada en Córdoba desvela otra de evasión fiscal de oro y plata\\ncordopolis.eldiario.es/cordo…..', stats=Stats(comments=0, retweets=29, quotes=0, likes=42)),\n",
      " TwitterTweet(tweet_id=1899094311880286709, author='iescolar', created_on=datetime.datetime(2025, 3, 10, 13, 45, tzinfo=datetime.timezone.utc), text='ÚLTIMA HORA | La jueza de la DANA imputa a la exconsellera Salomé Pradas eldiario.es/comunitat-valenc…', stats=Stats(comments=178, retweets=804, quotes=47, likes=2366)),\n",
      " TwitterTweet(tweet_id=1899091116995268816, author='iescolar', created_on=datetime.datetime(2025, 3, 10, 13, 33, tzinfo=datetime.timezone.utc), text='Qué es Oryzon, la biofarmacéutica que lucha contra la agresividad en el Alzheimer y está disparada en Bolsa\\neldiario.es/catalunya/econom…', stats=Stats(comments=0, retweets=8, quotes=0, likes=16)),\n",
      " TwitterTweet(tweet_id=1899085580912193807, author='iescolar', created_on=datetime.datetime(2025, 3, 10, 13, 11, tzinfo=datetime.timezone.utc), text='ÚLTIMA HORA | Las inspectoras de Trabajo ratifican ante la jueza que Glovo no contrató a sus falsos autónomos\\neldiario.es/catalunya/inspec…', stats=Stats(comments=3, retweets=52, quotes=0, likes=113)),\n",
      " TwitterTweet(tweet_id=1899079793691279592, author='iescolar', created_on=datetime.datetime(2025, 3, 10, 12, 48, tzinfo=datetime.timezone.utc), text='El Tribunal de Cuentas detecta que Aliança Catalana se financió con pagos en efectivo en las municipales de 2023\\neldiario.es/catalunya/tribun…', stats=Stats(comments=24, retweets=192, quotes=6, likes=331)),\n",
      " TwitterTweet(tweet_id=1899073501429989743, author='iescolar', created_on=datetime.datetime(2025, 3, 10, 12, 23, tzinfo=datetime.timezone.utc), text='El Consejo de Estado avala que Pedro Sánchez no comparezca en la Asamblea de Madrid por el caso de su esposa\\neldiario.es/politica/consejo…', stats=Stats(comments=66, retweets=95, quotes=1, likes=318)),\n",
      " TwitterTweet(tweet_id=1899064592430469536, author='iescolar', created_on=datetime.datetime(2025, 3, 10, 11, 47, tzinfo=datetime.timezone.utc), text=\"'Caso Huchas de Vox': Anticorrupción investiga si el partido disfraza una financiación ilegal con puestos callejeros\\neldiario.es/politica/caso-hu…\", stats=Stats(comments=36, retweets=182, quotes=3, likes=349)),\n",
      " TwitterTweet(tweet_id=1899061170004213814, author='iescolar', created_on=datetime.datetime(2025, 3, 10, 11, 34, tzinfo=datetime.timezone.utc), text='La prestación universal por hijo que España se plantea ya tiene recorrido en Europa: “Es una ayuda sagrada”\\neldiario.es/sociedad/prestac…', stats=Stats(comments=0, retweets=4, quotes=0, likes=30)),\n",
      " TwitterTweet(tweet_id=1899052667978010772, author='iescolar', created_on=datetime.datetime(2025, 3, 10, 11, 0, tzinfo=datetime.timezone.utc), text='ÚLTIMA HORA | La Fiscalía pide al Supremo que la malversación de Puigdemont sea amnistiada: “La norma es clara”\\neldiario.es/catalunya/fiscal…', stats=Stats(comments=42, retweets=13, quotes=3, likes=59)),\n",
      " TwitterTweet(tweet_id=1899050348272296087, author='iescolar', created_on=datetime.datetime(2025, 3, 10, 10, 51, tzinfo=datetime.timezone.utc), text='Jean Ziegler, el hombre que destapó los peores secretos de Suiza inspirado por el Che Guevara\\neldiario.es/internacional/th…', stats=Stats(comments=6, retweets=7, quotes=0, likes=20)),\n",
      " TwitterTweet(tweet_id=1899044056962892229, author='iescolar', created_on=datetime.datetime(2025, 3, 10, 10, 26, tzinfo=datetime.timezone.utc), text=\"Bróders, la plataforma que busca mitigar el auge de la 'manosfera': “Los jóvenes se sienten solos y desconcertados”\\neldiario.es/sociedad/broders…\", stats=Stats(comments=1, retweets=3, quotes=0, likes=15)),\n",
      " TwitterTweet(tweet_id=1899037523885666453, author='iescolar', created_on=datetime.datetime(2025, 3, 10, 10, 0, tzinfo=datetime.timezone.utc), text='Menos de un 10% de propietarios han pedido la compensación por la moratoria antidesahucios: “Las cifras no hablan de una alarma”\\neldiario.es/economia/10-prop…', stats=Stats(comments=2, retweets=45, quotes=0, likes=98)),\n",
      " TwitterTweet(tweet_id=1899030719206236539, author='iescolar', created_on=datetime.datetime(2025, 3, 10, 9, 33, tzinfo=datetime.timezone.utc), text='De las revistas depredadoras a los congresos fantasma: la mala praxis se extiende por la ciencia\\neldiario.es/sociedad/revista…', stats=Stats(comments=2, retweets=7, quotes=0, likes=18)),\n",
      " TwitterTweet(tweet_id=1899023421641503112, author='iescolar', created_on=datetime.datetime(2025, 3, 10, 9, 4, tzinfo=datetime.timezone.utc), text='Mark Carney será el primer ministro de Canadá tras ser elegido para sustituir a Justin Trudeau al frente del Partido Liberal\\neldiario.es/internacional/ex…', stats=Stats(comments=3, retweets=9, quotes=0, likes=28)),\n",
      " TwitterTweet(tweet_id=1899017129405698540, author='iescolar', created_on=datetime.datetime(2025, 3, 10, 8, 39, tzinfo=datetime.timezone.utc), text='INVESTIGACIÓN | La patronal de autónomos ATA lleva a decenas de empleados y sus familiares a votar en la reelección de Lorenzo Amor\\neldiario.es/economia/patrona…', stats=Stats(comments=1, retweets=14, quotes=0, likes=31)),\n",
      " TwitterTweet(tweet_id=1899011089460760640, author='iescolar', created_on=datetime.datetime(2025, 3, 10, 8, 15, tzinfo=datetime.timezone.utc), text='El análisis de @olgarodriguezfr -> Defender los intereses de Europa implica entender qué quieren EEUU y Rusia\\neldiario.es/internacional/de…', stats=Stats(comments=4, retweets=4, quotes=0, likes=16)),\n",
      " TwitterTweet(tweet_id=1899005559476572299, author='iescolar', created_on=datetime.datetime(2025, 3, 10, 7, 53, tzinfo=datetime.timezone.utc), text='Ojo -> La Fiscalía Anticorrupción abre una investigación a Vox por financiación irregular\\neldiario.es/politica/fiscali…', stats=Stats(comments=368, retweets=722, quotes=22, likes=1838)),\n",
      " TwitterTweet(tweet_id=1898999766266372187, author='iescolar', created_on=datetime.datetime(2025, 3, 10, 7, 30, tzinfo=datetime.timezone.utc), text='Cómo pasó Elon Musk de adalid del ecologismo a defensor de la guerra de Trump contra el coche eléctrico\\neldiario.es/internacional/th…', stats=Stats(comments=12, retweets=40, quotes=2, likes=100)),\n",
      " TwitterTweet(tweet_id=1898992216372384119, author='iescolar', created_on=datetime.datetime(2025, 3, 10, 7, 0, tzinfo=datetime.timezone.utc), text='El plan de vivienda, la reducción de jornada y la reforma judicial: todo parado sin mayoría en el Congreso\\neldiario.es/politica/plan-vi…', stats=Stats(comments=36, retweets=9, quotes=1, likes=44))]\n"
     ]
    }
   ],
   "source": [
    "# Find user tweets during a date range\n",
    "tweets = pnytter.get_user_tweets_list(\"iescolar\", filter_from=\"2025-03-10\", filter_to=\"2025-03-17\")\n",
    "pprint.pp(tweets)"
   ]
  },
  {
   "cell_type": "markdown",
   "metadata": {},
   "source": [
    "### Obtenemos la información de un tweet"
   ]
  },
  {
   "cell_type": "code",
   "execution_count": 15,
   "metadata": {},
   "outputs": [
    {
     "name": "stdout",
     "output_type": "stream",
     "text": [
      "{'tweet_id': 1807308130704896177,\n",
      " 'author': 'delta49941691',\n",
      " 'created_on': datetime.datetime(2024, 6, 30, 7, 0, tzinfo=datetime.timezone.utc),\n",
      " 'text': 'pero del bueno jose luis',\n",
      " 'stats': {'comments': 0, 'retweets': 0, 'quotes': 0, 'likes': 0}}\n"
     ]
    }
   ],
   "source": [
    "# Find single tweet, con la información del tweet_id obtenemos el retweet\n",
    "tweet = pnytter.get_tweet(1807308130704896177)\n",
    "pprint.pp(tweet.dict())"
   ]
  },
  {
   "cell_type": "code",
   "execution_count": 25,
   "metadata": {},
   "outputs": [
    {
     "name": "stdout",
     "output_type": "stream",
     "text": [
      "1807308130704896177\n",
      "delta49941691\n",
      "2024-06-30 07:00:00+00:00\n",
      "pero del bueno jose luis\n",
      "0\n",
      "0\n",
      "0\n",
      "0\n"
     ]
    }
   ],
   "source": [
    "print(tweet.tweet_id)\n",
    "print(tweet.author)\n",
    "print(tweet.created_on)\n",
    "print(tweet.text)\n",
    "print(tweet.stats.comments)\n",
    "print(tweet.stats.retweets)\n",
    "print(tweet.stats.likes)\n",
    "print(tweet.stats.quotes)\n"
   ]
  },
  {
   "cell_type": "code",
   "execution_count": null,
   "metadata": {},
   "outputs": [
    {
     "name": "stdout",
     "output_type": "stream",
     "text": [
      "{'tweet_id': 1762516172744892622,\n",
      " 'author': 'JLSanchez78',\n",
      " 'created_on': datetime.datetime(2024, 2, 27, 16, 32, tzinfo=datetime.timezone.utc),\n",
      " 'text': '📖 MIEDO EN LA CARA DEL RIVAL\\n'\n",
      "         '\\n'\n",
      "         '📍El próximo 13 de marzo sale a la venta mi primer libro. \\n'\n",
      "         '\\n'\n",
      "         '⌛️ TIC TAC\\n'\n",
      "         '\\n'\n",
      "         'amazon.es/Miedo-cara-del-riv…',\n",
      " 'stats': {'comments': 1277, 'retweets': 374, 'quotes': 61, 'likes': 2575}}\n"
     ]
    }
   ],
   "source": [
    "# Find single tweet, con la información del conversation_id obtenemos el tweet\n",
    "tweet = pnytter.get_tweet(1762516172744892622)\n",
    "pprint.pp(tweet.dict())"
   ]
  },
  {
   "cell_type": "code",
   "execution_count": 18,
   "metadata": {},
   "outputs": [
    {
     "name": "stdout",
     "output_type": "stream",
     "text": [
      "{'tweet_id': 1805559081433776564,\n",
      " 'author': 'AracilPilar',\n",
      " 'created_on': datetime.datetime(2024, 6, 25, 11, 10, tzinfo=datetime.timezone.utc),\n",
      " 'text': 'Para llevar a la gentuza del gobierno mejor va solo.',\n",
      " 'stats': {'comments': 0, 'retweets': 0, 'quotes': 0, 'likes': 0}}\n"
     ]
    }
   ],
   "source": [
    "# Find single tweet\n",
    "tweet = pnytter.get_tweet(1805559081433776564)\n",
    "pprint.pp(tweet.dict())"
   ]
  },
  {
   "cell_type": "code",
   "execution_count": 17,
   "metadata": {},
   "outputs": [
    {
     "name": "stdout",
     "output_type": "stream",
     "text": [
      "{'tweet_id': 1805501918904512585,\n",
      " 'author': 'AlmudenaMF',\n",
      " 'created_on': datetime.datetime(2024, 6, 25, 7, 22, tzinfo=datetime.timezone.utc),\n",
      " 'text': 'Las más altas autoridades de Letonia reciben con honores a un Rey '\n",
      "         'solitario \\n'\n",
      "         '\\n'\n",
      "         'El presidente de Letonia, la primera ministra, la presidenta del '\n",
      "         'Parlamento y los ministros de Exteriores y Defensa dan la bienvenida '\n",
      "         'a Don Felipe\\n'\n",
      "         '\\n'\n",
      "         'eldebate.com/espana/casa-rea…',\n",
      " 'stats': {'comments': 16, 'retweets': 61, 'quotes': 1, 'likes': 191}}\n"
     ]
    }
   ],
   "source": [
    "# Find single tweet\n",
    "tweet = pnytter.get_tweet(1805501918904512585)\n",
    "pprint.pp(tweet.dict())"
   ]
  }
 ],
 "metadata": {
  "kernelspec": {
   "display_name": "tweets",
   "language": "python",
   "name": "python3"
  },
  "language_info": {
   "codemirror_mode": {
    "name": "ipython",
    "version": 3
   },
   "file_extension": ".py",
   "mimetype": "text/x-python",
   "name": "python",
   "nbconvert_exporter": "python",
   "pygments_lexer": "ipython3",
   "version": "3.11.11"
  }
 },
 "nbformat": 4,
 "nbformat_minor": 2
}
