{
 "cells": [
  {
   "cell_type": "markdown",
   "metadata": {},
   "source": [
    "# GETTING INFORMATION FROM AUTHORS"
   ]
  },
  {
   "cell_type": "code",
   "execution_count": 1,
   "metadata": {},
   "outputs": [],
   "source": [
    "import json, os\n",
    "import datetime\n",
    "from pydantic import HttpUrl\n",
    "import pandas as pd\n",
    "from tqdm import tqdm\n",
    "\n",
    "from pnytter import Pnytter"
   ]
  },
  {
   "cell_type": "markdown",
   "metadata": {},
   "source": [
    "## 1. Load the Author's list\n",
    "\n",
    "Obtenemos esta lista, a partir de los datos de los retweets, obteniendo los autores únicos"
   ]
  },
  {
   "cell_type": "code",
   "execution_count": 2,
   "metadata": {},
   "outputs": [],
   "source": [
    "df_retweets = pd.read_csv('retweets_previo.csv', index_col=None)\n",
    "df_retweets = df_retweets.rename(columns={'count_star()':'ocurrencias'})"
   ]
  },
  {
   "cell_type": "code",
   "execution_count": 3,
   "metadata": {},
   "outputs": [
    {
     "data": {
      "text/html": [
       "<div>\n",
       "<style scoped>\n",
       "    .dataframe tbody tr th:only-of-type {\n",
       "        vertical-align: middle;\n",
       "    }\n",
       "\n",
       "    .dataframe tbody tr th {\n",
       "        vertical-align: top;\n",
       "    }\n",
       "\n",
       "    .dataframe thead th {\n",
       "        text-align: right;\n",
       "    }\n",
       "</style>\n",
       "<table border=\"1\" class=\"dataframe\">\n",
       "  <thead>\n",
       "    <tr style=\"text-align: right;\">\n",
       "      <th></th>\n",
       "      <th>tweet_id</th>\n",
       "      <th>author</th>\n",
       "      <th>author_id</th>\n",
       "      <th>created_at</th>\n",
       "      <th>text</th>\n",
       "      <th>retweets_count</th>\n",
       "      <th>comments_count</th>\n",
       "      <th>likes_count</th>\n",
       "      <th>quotes_count</th>\n",
       "    </tr>\n",
       "  </thead>\n",
       "  <tbody>\n",
       "    <tr>\n",
       "      <th>0</th>\n",
       "      <td>1805843500069437937</td>\n",
       "      <td>TonyRoj97441120</td>\n",
       "      <td>967339935777869824</td>\n",
       "      <td>2024-06-26 06:00:00+00:00</td>\n",
       "      <td>Tienes razón,el pagafantas es tu jefe de gobie...</td>\n",
       "      <td>0</td>\n",
       "      <td>0</td>\n",
       "      <td>0</td>\n",
       "      <td>0</td>\n",
       "    </tr>\n",
       "    <tr>\n",
       "      <th>1</th>\n",
       "      <td>1807452579426599256</td>\n",
       "      <td>aridany80</td>\n",
       "      <td>1358153328073584653</td>\n",
       "      <td>2024-06-30 16:34:00+00:00</td>\n",
       "      <td>Idiota si tú quieres que se queden jajajajajs ...</td>\n",
       "      <td>0</td>\n",
       "      <td>0</td>\n",
       "      <td>0</td>\n",
       "      <td>0</td>\n",
       "    </tr>\n",
       "    <tr>\n",
       "      <th>2</th>\n",
       "      <td>1806878139471077701</td>\n",
       "      <td>RicarditoMtz</td>\n",
       "      <td>317444245</td>\n",
       "      <td>2024-06-29 02:31:00+00:00</td>\n",
       "      <td>No paras de hacer el ridículo ahora hay que ce...</td>\n",
       "      <td>0</td>\n",
       "      <td>0</td>\n",
       "      <td>8</td>\n",
       "      <td>0</td>\n",
       "    </tr>\n",
       "    <tr>\n",
       "      <th>3</th>\n",
       "      <td>1807894027418980425</td>\n",
       "      <td>Alejand67264632</td>\n",
       "      <td>1381734361058439168</td>\n",
       "      <td>2024-07-01 21:48:00+00:00</td>\n",
       "      <td>que vieja más pendeja esta</td>\n",
       "      <td>0</td>\n",
       "      <td>0</td>\n",
       "      <td>0</td>\n",
       "      <td>0</td>\n",
       "    </tr>\n",
       "    <tr>\n",
       "      <th>4</th>\n",
       "      <td>1806319715532275859</td>\n",
       "      <td>ceciliohrubira</td>\n",
       "      <td>792789250500616192</td>\n",
       "      <td>2024-06-27 13:32:00+00:00</td>\n",
       "      <td>Estudia, María, que eres muy tendenciosa. Hay ...</td>\n",
       "      <td>0</td>\n",
       "      <td>0</td>\n",
       "      <td>0</td>\n",
       "      <td>0</td>\n",
       "    </tr>\n",
       "  </tbody>\n",
       "</table>\n",
       "</div>"
      ],
      "text/plain": [
       "              tweet_id           author            author_id  \\\n",
       "0  1805843500069437937  TonyRoj97441120   967339935777869824   \n",
       "1  1807452579426599256        aridany80  1358153328073584653   \n",
       "2  1806878139471077701     RicarditoMtz            317444245   \n",
       "3  1807894027418980425  Alejand67264632  1381734361058439168   \n",
       "4  1806319715532275859   ceciliohrubira   792789250500616192   \n",
       "\n",
       "                  created_at  \\\n",
       "0  2024-06-26 06:00:00+00:00   \n",
       "1  2024-06-30 16:34:00+00:00   \n",
       "2  2024-06-29 02:31:00+00:00   \n",
       "3  2024-07-01 21:48:00+00:00   \n",
       "4  2024-06-27 13:32:00+00:00   \n",
       "\n",
       "                                                text  retweets_count  \\\n",
       "0  Tienes razón,el pagafantas es tu jefe de gobie...               0   \n",
       "1  Idiota si tú quieres que se queden jajajajajs ...               0   \n",
       "2  No paras de hacer el ridículo ahora hay que ce...               0   \n",
       "3                         que vieja más pendeja esta               0   \n",
       "4  Estudia, María, que eres muy tendenciosa. Hay ...               0   \n",
       "\n",
       "   comments_count  likes_count  quotes_count  \n",
       "0               0            0             0  \n",
       "1               0            0             0  \n",
       "2               0            8             0  \n",
       "3               0            0             0  \n",
       "4               0            0             0  "
      ]
     },
     "execution_count": 3,
     "metadata": {},
     "output_type": "execute_result"
    }
   ],
   "source": [
    "df_retweets.head()"
   ]
  },
  {
   "cell_type": "code",
   "execution_count": 4,
   "metadata": {},
   "outputs": [],
   "source": [
    "df_authors = pd.DataFrame(df_retweets.author.value_counts()).reset_index()\n",
    "df_authors = df_authors.rename(columns={'count':'ocurrencias'})"
   ]
  },
  {
   "cell_type": "code",
   "execution_count": 5,
   "metadata": {},
   "outputs": [
    {
     "data": {
      "text/html": [
       "<div>\n",
       "<style scoped>\n",
       "    .dataframe tbody tr th:only-of-type {\n",
       "        vertical-align: middle;\n",
       "    }\n",
       "\n",
       "    .dataframe tbody tr th {\n",
       "        vertical-align: top;\n",
       "    }\n",
       "\n",
       "    .dataframe thead th {\n",
       "        text-align: right;\n",
       "    }\n",
       "</style>\n",
       "<table border=\"1\" class=\"dataframe\">\n",
       "  <thead>\n",
       "    <tr style=\"text-align: right;\">\n",
       "      <th></th>\n",
       "      <th>author</th>\n",
       "      <th>ocurrencias</th>\n",
       "    </tr>\n",
       "  </thead>\n",
       "  <tbody>\n",
       "    <tr>\n",
       "      <th>0</th>\n",
       "      <td>v66710974699714</td>\n",
       "      <td>94</td>\n",
       "    </tr>\n",
       "    <tr>\n",
       "      <th>1</th>\n",
       "      <td>quinomartinez58</td>\n",
       "      <td>14</td>\n",
       "    </tr>\n",
       "    <tr>\n",
       "      <th>2</th>\n",
       "      <td>Agc_19827</td>\n",
       "      <td>6</td>\n",
       "    </tr>\n",
       "    <tr>\n",
       "      <th>3</th>\n",
       "      <td>AE_HencheDiego</td>\n",
       "      <td>6</td>\n",
       "    </tr>\n",
       "    <tr>\n",
       "      <th>4</th>\n",
       "      <td>thorito2014</td>\n",
       "      <td>5</td>\n",
       "    </tr>\n",
       "  </tbody>\n",
       "</table>\n",
       "</div>"
      ],
      "text/plain": [
       "            author  ocurrencias\n",
       "0  v66710974699714           94\n",
       "1  quinomartinez58           14\n",
       "2        Agc_19827            6\n",
       "3   AE_HencheDiego            6\n",
       "4      thorito2014            5"
      ]
     },
     "execution_count": 5,
     "metadata": {},
     "output_type": "execute_result"
    }
   ],
   "source": [
    "df_authors.head()"
   ]
  },
  {
   "cell_type": "code",
   "execution_count": 6,
   "metadata": {},
   "outputs": [
    {
     "data": {
      "text/plain": [
       "(1309, 2)"
      ]
     },
     "execution_count": 6,
     "metadata": {},
     "output_type": "execute_result"
    }
   ],
   "source": [
    "df_authors.shape"
   ]
  },
  {
   "cell_type": "code",
   "execution_count": 7,
   "metadata": {},
   "outputs": [],
   "source": [
    "df_authors = df_authors.head(100)"
   ]
  },
  {
   "cell_type": "markdown",
   "metadata": {},
   "source": [
    "## 2. Get the Author's information"
   ]
  },
  {
   "cell_type": "code",
   "execution_count": 8,
   "metadata": {},
   "outputs": [],
   "source": [
    "# The Pnytter object needs at least 1 Nitter instance to work, but these can be added after initialization\n",
    "pnytter = Pnytter(\n",
    "  #nitter_instances=[\"http://localhost:8080\"]\n",
    "  nitter_instances=[\n",
    "  #'https://xcancel.com',\n",
    " 'https://lightbrd.com',\n",
    " 'https://nitter.lucabased.xyz',\n",
    " 'https://nitter.space',\n",
    " 'https://nitter.net',\n",
    " #'https://nitter.privacyredirect.com',\n",
    "  #'https://nitter.privacydev.net',\n",
    " 'https://nitter.poast.org']\n",
    "  #'http://nitter.coffee2m3bjsrrqqycx6ghkxrnejl2q6nl7pjw2j4clchjj6uk5zozad.onion']\n",
    ")"
   ]
  },
  {
   "cell_type": "markdown",
   "metadata": {},
   "source": [
    "Si partimos de datos ya descagados, estos han de estar en un fichero denominado **authors_previo.csv** para seguir descargando datos a partir de estos."
   ]
  },
  {
   "cell_type": "code",
   "execution_count": 9,
   "metadata": {},
   "outputs": [],
   "source": [
    "if os.path.exists('authors_previo.csv'):\n",
    "    df_anterior = pd.read_csv('authors_previo.csv')"
   ]
  },
  {
   "cell_type": "code",
   "execution_count": 10,
   "metadata": {},
   "outputs": [
    {
     "data": {
      "text/plain": [
       "{'id': 19816793,\n",
       " 'username': 'MiguelAngel_',\n",
       " 'fullname': 'Miguel A_lf',\n",
       " 'biography': 'la curiosidad mato al gato.....por eso le dieron 7 vidas...',\n",
       " 'verified': True,\n",
       " 'joined_datetime': datetime.datetime(2009, 1, 31, 14, 36, tzinfo=datetime.timezone.utc),\n",
       " 'stats': {'tweets': 16981, 'following': 46, 'followers': 58, 'likes': 729},\n",
       " 'pictures': {'profile': {'twitter_url': HttpUrl('https://pbs.twimg.com/profile_images/1680813410185891840/RSupFctd.jpg', scheme='https', host='pbs.twimg.com', tld='com', host_type='domain', port='443', path='/profile_images/1680813410185891840/RSupFctd.jpg'),\n",
       "   'nitter_path': '/pic/pbs.twimg.com%2Fprofile_images%2F1680813410185891840%2FRSupFctd.jpg'},\n",
       "  'banner': {'twitter_url': HttpUrl('https://pbs.twimg.com/profile_banners/19816793/1645769094/1500x500', scheme='https', host='pbs.twimg.com', tld='com', host_type='domain', port='443', path='/profile_banners/19816793/1645769094/1500x500'),\n",
       "   'nitter_path': '/pic/https%3A%2F%2Fpbs.twimg.com%2Fprofile_banners%2F19816793%2F1645769094%2F1500x500'}}}"
      ]
     },
     "execution_count": 10,
     "metadata": {},
     "output_type": "execute_result"
    }
   ],
   "source": [
    "{'id': 19816793,\n",
    " 'username': 'MiguelAngel_',\n",
    " 'fullname': 'Miguel A_lf',\n",
    " 'biography': 'la curiosidad mato al gato.....por eso le dieron 7 vidas...',\n",
    " 'verified': True,\n",
    " 'joined_datetime': datetime.datetime(2009, 1, 31, 14, 36, tzinfo=datetime.timezone.utc),\n",
    " 'stats': {'tweets': 16981, 'following': 46, 'followers': 58, 'likes': 729},\n",
    " 'pictures': {'profile': {'twitter_url': HttpUrl('https://pbs.twimg.com/profile_images/1680813410185891840/RSupFctd.jpg', scheme='https', host='pbs.twimg.com', tld='com', host_type='domain', port='443', path='/profile_images/1680813410185891840/RSupFctd.jpg'),\n",
    "                          'nitter_path': '/pic/pbs.twimg.com%2Fprofile_images%2F1680813410185891840%2FRSupFctd.jpg'},\n",
    "              'banner': {'twitter_url': HttpUrl('https://pbs.twimg.com/profile_banners/19816793/1645769094/1500x500', scheme='https', host='pbs.twimg.com', tld='com', host_type='domain', port='443', path='/profile_banners/19816793/1645769094/1500x500'),\n",
    "                         'nitter_path': '/pic/https%3A%2F%2Fpbs.twimg.com%2Fprofile_banners%2F19816793%2F1645769094%2F1500x500'}}}"
   ]
  },
  {
   "cell_type": "code",
   "execution_count": 35,
   "metadata": {},
   "outputs": [
    {
     "name": "stderr",
     "output_type": "stream",
     "text": [
      "Buscando Authors:   1%|          | 1/100 [00:00<00:31,  3.18it/s]"
     ]
    },
    {
     "name": "stdout",
     "output_type": "stream",
     "text": [
      "Error al obtener el user v66710974699714: 403 Client Error: Forbidden for url: https://lightbrd.com/v66710974699714\n",
      "Error al obtener el user quinomartinez58: 403 Client Error: Forbidden for url: https://nitter.space/quinomartinez58\n"
     ]
    },
    {
     "name": "stderr",
     "output_type": "stream",
     "text": [
      "Buscando Authors:   3%|▎         | 3/100 [00:00<00:18,  5.30it/s]"
     ]
    },
    {
     "name": "stdout",
     "output_type": "stream",
     "text": [
      "Error al obtener el user Agc_19827: 'NoneType' object has no attribute 'text'\n"
     ]
    },
    {
     "name": "stderr",
     "output_type": "stream",
     "text": [
      "Buscando Authors:   6%|▌         | 6/100 [00:02<00:36,  2.56it/s]"
     ]
    },
    {
     "name": "stdout",
     "output_type": "stream",
     "text": [
      "Error al obtener el user thorito2014: 'NoneType' object has no attribute 'text'\n",
      "Error al obtener el user evathees: 403 Client Error: Forbidden for url: https://nitter.space/evathees\n"
     ]
    },
    {
     "name": "stderr",
     "output_type": "stream",
     "text": [
      "Buscando Authors:   8%|▊         | 8/100 [00:02<00:26,  3.53it/s]"
     ]
    },
    {
     "name": "stdout",
     "output_type": "stream",
     "text": [
      "Error al obtener el user lavanduardia012: 403 Client Error: Forbidden for url: https://lightbrd.com/lavanduardia012\n",
      "Error al obtener el user Luis22Pedro: 403 Client Error: Forbidden for url: https://nitter.space/Luis22Pedro\n"
     ]
    },
    {
     "name": "stderr",
     "output_type": "stream",
     "text": [
      "Buscando Authors:   9%|▉         | 9/100 [00:03<00:25,  3.57it/s]"
     ]
    },
    {
     "name": "stdout",
     "output_type": "stream",
     "text": [
      "Error al obtener el user jdonosolorenzo: 429 Client Error: Too Many Requests for url: https://nitter.lucabased.xyz/jdonosolorenzo\n"
     ]
    },
    {
     "name": "stderr",
     "output_type": "stream",
     "text": [
      "Buscando Authors:  10%|█         | 10/100 [00:03<00:33,  2.65it/s]"
     ]
    },
    {
     "name": "stdout",
     "output_type": "stream",
     "text": [
      "Error al obtener el user LuisR_86: 403 Client Error: Forbidden for url: https://nitter.poast.org/LuisR_86\n"
     ]
    },
    {
     "name": "stderr",
     "output_type": "stream",
     "text": [
      "Buscando Authors:  11%|█         | 11/100 [00:04<00:37,  2.36it/s]"
     ]
    },
    {
     "name": "stdout",
     "output_type": "stream",
     "text": [
      "Error al obtener el user Titaniu27960435: 403 Client Error: Forbidden for url: https://nitter.poast.org/Titaniu27960435\n"
     ]
    },
    {
     "name": "stderr",
     "output_type": "stream",
     "text": [
      "Buscando Authors:  12%|█▏        | 12/100 [00:04<00:39,  2.21it/s]"
     ]
    },
    {
     "name": "stdout",
     "output_type": "stream",
     "text": [
      "Error al obtener el user Pilar01039688: 403 Client Error: Forbidden for url: https://nitter.poast.org/Pilar01039688\n",
      "Error al obtener el user bourne64118534: 403 Client Error: Forbidden for url: https://nitter.space/bourne64118534\n"
     ]
    },
    {
     "name": "stderr",
     "output_type": "stream",
     "text": [
      "Buscando Authors:  15%|█▌        | 15/100 [00:05<00:22,  3.74it/s]"
     ]
    },
    {
     "name": "stdout",
     "output_type": "stream",
     "text": [
      "Error al obtener el user alanaco14715853: 403 Client Error: Forbidden for url: https://nitter.lucabased.xyz/alanaco14715853\n",
      "Error al obtener el user fernandovilabla: 429 Client Error: Too Many Requests for url: https://nitter.net/fernandovilabla\n"
     ]
    },
    {
     "name": "stderr",
     "output_type": "stream",
     "text": [
      "Buscando Authors:  16%|█▌        | 16/100 [00:05<00:23,  3.52it/s]"
     ]
    },
    {
     "name": "stdout",
     "output_type": "stream",
     "text": [
      "Error al obtener el user MIGUELHOSPI: 403 Client Error: Forbidden for url: https://lightbrd.com/MIGUELHOSPI\n"
     ]
    },
    {
     "name": "stderr",
     "output_type": "stream",
     "text": [
      "Buscando Authors:  18%|█▊        | 18/100 [00:06<00:19,  4.15it/s]"
     ]
    },
    {
     "name": "stdout",
     "output_type": "stream",
     "text": [
      "Error al obtener el user pedroluisanta7: 403 Client Error: Forbidden for url: https://lightbrd.com/pedroluisanta7\n",
      "Error al obtener el user gerardotrece11: 403 Client Error: Forbidden for url: https://nitter.space/gerardotrece11\n"
     ]
    },
    {
     "name": "stderr",
     "output_type": "stream",
     "text": [
      "Buscando Authors:  20%|██        | 20/100 [00:06<00:14,  5.39it/s]"
     ]
    },
    {
     "name": "stdout",
     "output_type": "stream",
     "text": [
      "Error al obtener el user Malditasea84611: 429 Client Error: Too Many Requests for url: https://nitter.net/Malditasea84611\n",
      "Error al obtener el user Junior27126: 403 Client Error: Forbidden for url: https://nitter.lucabased.xyz/Junior27126\n"
     ]
    },
    {
     "name": "stderr",
     "output_type": "stream",
     "text": [
      "Buscando Authors:  21%|██        | 21/100 [00:06<00:22,  3.55it/s]"
     ]
    },
    {
     "name": "stdout",
     "output_type": "stream",
     "text": [
      "Error al obtener el user Borghi1970: 403 Client Error: Forbidden for url: https://nitter.poast.org/Borghi1970\n"
     ]
    },
    {
     "name": "stderr",
     "output_type": "stream",
     "text": [
      "Buscando Authors:  23%|██▎       | 23/100 [00:07<00:23,  3.31it/s]"
     ]
    },
    {
     "name": "stdout",
     "output_type": "stream",
     "text": [
      "Error al obtener el user vevina69: 403 Client Error: Forbidden for url: https://nitter.poast.org/vevina69\n",
      "Error al obtener el user _ZonaJuanjo: 403 Client Error: Forbidden for url: https://nitter.lucabased.xyz/_ZonaJuanjo\n"
     ]
    },
    {
     "name": "stderr",
     "output_type": "stream",
     "text": [
      "Buscando Authors:  24%|██▍       | 24/100 [00:07<00:23,  3.26it/s]"
     ]
    },
    {
     "name": "stdout",
     "output_type": "stream",
     "text": [
      "Error al obtener el user Pepvalldo2: 403 Client Error: Forbidden for url: https://lightbrd.com/Pepvalldo2\n"
     ]
    },
    {
     "name": "stderr",
     "output_type": "stream",
     "text": [
      "Buscando Authors:  26%|██▌       | 26/100 [00:08<00:20,  3.70it/s]"
     ]
    },
    {
     "name": "stdout",
     "output_type": "stream",
     "text": [
      "Error al obtener el user GioOrwell1984: 403 Client Error: Forbidden for url: https://lightbrd.com/GioOrwell1984\n",
      "Error al obtener el user Paco06024851: 429 Client Error: Too Many Requests for url: https://nitter.net/Paco06024851\n"
     ]
    },
    {
     "name": "stderr",
     "output_type": "stream",
     "text": [
      "Buscando Authors:  28%|██▊       | 28/100 [00:09<00:20,  3.56it/s]"
     ]
    },
    {
     "name": "stdout",
     "output_type": "stream",
     "text": [
      "Error al obtener el user Madridebasta78: 403 Client Error: Forbidden for url: https://nitter.poast.org/Madridebasta78\n",
      "Error al obtener el user kova022: 403 Client Error: Forbidden for url: https://nitter.space/kova022\n"
     ]
    },
    {
     "name": "stderr",
     "output_type": "stream",
     "text": [
      "Buscando Authors:  31%|███       | 31/100 [00:09<00:12,  5.48it/s]"
     ]
    },
    {
     "name": "stdout",
     "output_type": "stream",
     "text": [
      "Error al obtener el user GabelaRaul: 'NoneType' object has no attribute 'text'\n",
      "Error al obtener el user FredyAguirreL: 403 Client Error: Forbidden for url: https://nitter.space/FredyAguirreL\n",
      "Error al obtener el user bocapapa74: 403 Client Error: Forbidden for url: https://nitter.lucabased.xyz/bocapapa74\n"
     ]
    },
    {
     "name": "stderr",
     "output_type": "stream",
     "text": [
      "Buscando Authors:  32%|███▏      | 32/100 [00:09<00:12,  5.37it/s]"
     ]
    },
    {
     "name": "stdout",
     "output_type": "stream",
     "text": [
      "Error al obtener el user queguasa: 429 Client Error: Too Many Requests for url: https://nitter.net/queguasa\n"
     ]
    },
    {
     "name": "stderr",
     "output_type": "stream",
     "text": [
      "Buscando Authors:  34%|███▍      | 34/100 [00:10<00:15,  4.18it/s]"
     ]
    },
    {
     "name": "stdout",
     "output_type": "stream",
     "text": [
      "Error al obtener el user filipjotafrai: 403 Client Error: Forbidden for url: https://nitter.poast.org/filipjotafrai\n",
      "Error al obtener el user CC071nHRbAst33K: 403 Client Error: Forbidden for url: https://nitter.lucabased.xyz/CC071nHRbAst33K\n"
     ]
    },
    {
     "name": "stderr",
     "output_type": "stream",
     "text": [
      "Buscando Authors:  36%|███▌      | 36/100 [00:10<00:12,  5.33it/s]"
     ]
    },
    {
     "name": "stdout",
     "output_type": "stream",
     "text": [
      "Error al obtener el user diazmedina58: 429 Client Error: Too Many Requests for url: https://nitter.net/diazmedina58\n",
      "Error al obtener el user raafiitaa_: 403 Client Error: Forbidden for url: https://nitter.lucabased.xyz/raafiitaa_\n"
     ]
    },
    {
     "name": "stderr",
     "output_type": "stream",
     "text": [
      "Buscando Authors:  37%|███▋      | 37/100 [00:10<00:11,  5.30it/s]"
     ]
    },
    {
     "name": "stdout",
     "output_type": "stream",
     "text": [
      "Error al obtener el user SergiEstape: 429 Client Error: Too Many Requests for url: https://nitter.net/SergiEstape\n"
     ]
    },
    {
     "name": "stderr",
     "output_type": "stream",
     "text": [
      "Buscando Authors:  39%|███▉      | 39/100 [00:11<00:14,  4.13it/s]"
     ]
    },
    {
     "name": "stdout",
     "output_type": "stream",
     "text": [
      "Error al obtener el user srlorite: 403 Client Error: Forbidden for url: https://nitter.poast.org/srlorite\n",
      "Error al obtener el user Natalia01664757: 403 Client Error: Forbidden for url: https://nitter.lucabased.xyz/Natalia01664757\n"
     ]
    },
    {
     "name": "stderr",
     "output_type": "stream",
     "text": [
      "Buscando Authors:  41%|████      | 41/100 [00:11<00:13,  4.33it/s]"
     ]
    },
    {
     "name": "stdout",
     "output_type": "stream",
     "text": [
      "Error al obtener el user Dv11336382: 403 Client Error: Forbidden for url: https://lightbrd.com/Dv11336382\n",
      "Error al obtener el user pablo_c71: 403 Client Error: Forbidden for url: https://nitter.space/pablo_c71\n"
     ]
    },
    {
     "name": "stderr",
     "output_type": "stream",
     "text": [
      "Buscando Authors:  42%|████▏     | 42/100 [00:12<00:12,  4.59it/s]"
     ]
    },
    {
     "name": "stdout",
     "output_type": "stream",
     "text": [
      "Error al obtener el user Alovictorius: 429 Client Error: Too Many Requests for url: https://nitter.net/Alovictorius\n"
     ]
    },
    {
     "name": "stderr",
     "output_type": "stream",
     "text": [
      "Buscando Authors:  44%|████▍     | 44/100 [00:13<00:26,  2.13it/s]"
     ]
    },
    {
     "name": "stdout",
     "output_type": "stream",
     "text": [
      "Error al obtener el user JesusMVG: 403 Client Error: Forbidden for url: https://lightbrd.com/JesusMVG\n"
     ]
    },
    {
     "name": "stderr",
     "output_type": "stream",
     "text": [
      "Buscando Authors:  45%|████▌     | 45/100 [00:14<00:26,  2.04it/s]"
     ]
    },
    {
     "name": "stdout",
     "output_type": "stream",
     "text": [
      "Error al obtener el user mapa4425: 403 Client Error: Forbidden for url: https://nitter.poast.org/mapa4425\n"
     ]
    },
    {
     "name": "stderr",
     "output_type": "stream",
     "text": [
      "Buscando Authors:  47%|████▋     | 47/100 [00:14<00:17,  3.00it/s]"
     ]
    },
    {
     "name": "stdout",
     "output_type": "stream",
     "text": [
      "Error al obtener el user luisa63912461: 403 Client Error: Forbidden for url: https://lightbrd.com/luisa63912461\n",
      "Error al obtener el user javigarser: 403 Client Error: Forbidden for url: https://nitter.space/javigarser\n"
     ]
    },
    {
     "name": "stderr",
     "output_type": "stream",
     "text": [
      "Buscando Authors:  48%|████▊     | 48/100 [00:14<00:17,  2.99it/s]"
     ]
    },
    {
     "name": "stdout",
     "output_type": "stream",
     "text": [
      "Error al obtener el user kontyky71: 403 Client Error: Forbidden for url: https://lightbrd.com/kontyky71\n"
     ]
    },
    {
     "name": "stderr",
     "output_type": "stream",
     "text": [
      "Buscando Authors:  49%|████▉     | 49/100 [00:15<00:15,  3.35it/s]"
     ]
    },
    {
     "name": "stdout",
     "output_type": "stream",
     "text": [
      "Error al obtener el user carlosyguau: 429 Client Error: Too Many Requests for url: https://nitter.net/carlosyguau\n"
     ]
    },
    {
     "name": "stderr",
     "output_type": "stream",
     "text": [
      "Buscando Authors:  50%|█████     | 50/100 [00:15<00:20,  2.43it/s]"
     ]
    },
    {
     "name": "stdout",
     "output_type": "stream",
     "text": [
      "Error al obtener el user juanman02391023: 403 Client Error: Forbidden for url: https://nitter.poast.org/juanman02391023\n"
     ]
    },
    {
     "name": "stderr",
     "output_type": "stream",
     "text": [
      "Buscando Authors:  51%|█████     | 51/100 [00:16<00:18,  2.63it/s]"
     ]
    },
    {
     "name": "stdout",
     "output_type": "stream",
     "text": [
      "Error al obtener el user alv1_su: 403 Client Error: Forbidden for url: https://lightbrd.com/alv1_su\n",
      "Error al obtener el user CesarMBfisio: 403 Client Error: Forbidden for url: https://nitter.space/CesarMBfisio\n"
     ]
    },
    {
     "name": "stderr",
     "output_type": "stream",
     "text": [
      "Buscando Authors:  54%|█████▍    | 54/100 [00:16<00:11,  3.85it/s]"
     ]
    },
    {
     "name": "stdout",
     "output_type": "stream",
     "text": [
      "Error al obtener el user Flickball19: 403 Client Error: Forbidden for url: https://lightbrd.com/Flickball19\n",
      "Error al obtener el user Kinder029069319: 403 Client Error: Forbidden for url: https://nitter.lucabased.xyz/Kinder029069319\n"
     ]
    },
    {
     "name": "stderr",
     "output_type": "stream",
     "text": [
      "Buscando Authors:  55%|█████▌    | 55/100 [00:17<00:12,  3.67it/s]"
     ]
    },
    {
     "name": "stdout",
     "output_type": "stream",
     "text": [
      "Error al obtener el user kikorguez: 403 Client Error: Forbidden for url: https://lightbrd.com/kikorguez\n"
     ]
    },
    {
     "name": "stderr",
     "output_type": "stream",
     "text": [
      "Buscando Authors:  57%|█████▋    | 57/100 [00:19<00:24,  1.77it/s]"
     ]
    },
    {
     "name": "stdout",
     "output_type": "stream",
     "text": [
      "Error al obtener el user BrnoMerlos: 429 Client Error: Too Many Requests for url: https://nitter.net/BrnoMerlos\n"
     ]
    },
    {
     "name": "stderr",
     "output_type": "stream",
     "text": [
      "Buscando Authors:  59%|█████▉    | 59/100 [00:19<00:18,  2.22it/s]"
     ]
    },
    {
     "name": "stdout",
     "output_type": "stream",
     "text": [
      "Error al obtener el user JuanCarlos70674: 403 Client Error: Forbidden for url: https://nitter.poast.org/JuanCarlos70674\n",
      "Error al obtener el user todosemosETB: 'NoneType' object has no attribute 'text'\n"
     ]
    },
    {
     "name": "stderr",
     "output_type": "stream",
     "text": [
      "Buscando Authors:  60%|██████    | 60/100 [00:19<00:14,  2.81it/s]"
     ]
    },
    {
     "name": "stdout",
     "output_type": "stream",
     "text": [
      "Error al obtener el user adrbcn73234279: 403 Client Error: Forbidden for url: https://nitter.lucabased.xyz/adrbcn73234279\n",
      "Error al obtener el user Casemirismo__: 403 Client Error: Forbidden for url: https://nitter.lucabased.xyz/Casemirismo__\n"
     ]
    },
    {
     "name": "stderr",
     "output_type": "stream",
     "text": [
      "Buscando Authors:  62%|██████▏   | 62/100 [00:20<00:10,  3.46it/s]"
     ]
    },
    {
     "name": "stdout",
     "output_type": "stream",
     "text": [
      "Error al obtener el user Juliarnau13: 403 Client Error: Forbidden for url: https://lightbrd.com/Juliarnau13\n"
     ]
    },
    {
     "name": "stderr",
     "output_type": "stream",
     "text": [
      "Buscando Authors:  63%|██████▎   | 63/100 [00:21<00:15,  2.42it/s]"
     ]
    },
    {
     "name": "stdout",
     "output_type": "stream",
     "text": [
      "Error al obtener el user Futboln333: 403 Client Error: Forbidden for url: https://nitter.poast.org/Futboln333\n"
     ]
    },
    {
     "name": "stderr",
     "output_type": "stream",
     "text": [
      "Buscando Authors:  64%|██████▍   | 64/100 [00:21<00:14,  2.57it/s]"
     ]
    },
    {
     "name": "stdout",
     "output_type": "stream",
     "text": [
      "Error al obtener el user danielgvzla: 403 Client Error: Forbidden for url: https://lightbrd.com/danielgvzla\n"
     ]
    },
    {
     "name": "stderr",
     "output_type": "stream",
     "text": [
      "Buscando Authors:  65%|██████▌   | 65/100 [00:21<00:12,  2.74it/s]"
     ]
    },
    {
     "name": "stdout",
     "output_type": "stream",
     "text": [
      "Error al obtener el user eldeldavid: 403 Client Error: Forbidden for url: https://lightbrd.com/eldeldavid\n"
     ]
    },
    {
     "name": "stderr",
     "output_type": "stream",
     "text": [
      "Buscando Authors:  68%|██████▊   | 68/100 [00:23<00:13,  2.32it/s]"
     ]
    },
    {
     "name": "stdout",
     "output_type": "stream",
     "text": [
      "Error al obtener el user pistola82: 403 Client Error: Forbidden for url: https://nitter.lucabased.xyz/pistola82\n",
      "Error al obtener el user josecalp: 403 Client Error: Forbidden for url: https://nitter.space/josecalp\n"
     ]
    },
    {
     "name": "stderr",
     "output_type": "stream",
     "text": [
      "Buscando Authors:  69%|██████▉   | 69/100 [00:23<00:11,  2.73it/s]"
     ]
    },
    {
     "name": "stdout",
     "output_type": "stream",
     "text": [
      "Error al obtener el user jota_pamies: 'NoneType' object has no attribute 'text'\n"
     ]
    },
    {
     "name": "stderr",
     "output_type": "stream",
     "text": [
      "Buscando Authors:  70%|███████   | 70/100 [00:24<00:16,  1.78it/s]"
     ]
    },
    {
     "name": "stdout",
     "output_type": "stream",
     "text": [
      "Error al obtener el user xcreed17: 403 Client Error: Forbidden for url: https://nitter.lucabased.xyz/xcreed17\n"
     ]
    },
    {
     "name": "stderr",
     "output_type": "stream",
     "text": [
      "Buscando Authors:  71%|███████   | 71/100 [00:25<00:14,  1.98it/s]"
     ]
    },
    {
     "name": "stdout",
     "output_type": "stream",
     "text": [
      "Error al obtener el user DandydelCenteno: 403 Client Error: Forbidden for url: https://lightbrd.com/DandydelCenteno\n"
     ]
    },
    {
     "name": "stderr",
     "output_type": "stream",
     "text": [
      "Buscando Authors:  72%|███████▏  | 72/100 [00:25<00:15,  1.80it/s]"
     ]
    },
    {
     "name": "stdout",
     "output_type": "stream",
     "text": [
      "Error al obtener el user JoseCarlosFigu9: 403 Client Error: Forbidden for url: https://nitter.poast.org/JoseCarlosFigu9\n"
     ]
    },
    {
     "name": "stderr",
     "output_type": "stream",
     "text": [
      "Buscando Authors:  74%|███████▍  | 74/100 [00:26<00:09,  2.75it/s]"
     ]
    },
    {
     "name": "stdout",
     "output_type": "stream",
     "text": [
      "Error al obtener el user gadolfobecquer3: 403 Client Error: Forbidden for url: https://lightbrd.com/gadolfobecquer3\n",
      "Error al obtener el user mynor_marro: 403 Client Error: Forbidden for url: https://nitter.lucabased.xyz/mynor_marro\n"
     ]
    },
    {
     "name": "stderr",
     "output_type": "stream",
     "text": [
      "Buscando Authors:  75%|███████▌  | 75/100 [00:26<00:10,  2.44it/s]"
     ]
    },
    {
     "name": "stdout",
     "output_type": "stream",
     "text": [
      "Error al obtener el user mariantoniaram2: 403 Client Error: Forbidden for url: https://nitter.poast.org/mariantoniaram2\n"
     ]
    },
    {
     "name": "stderr",
     "output_type": "stream",
     "text": [
      "Buscando Authors:  77%|███████▋  | 77/100 [00:27<00:06,  3.38it/s]"
     ]
    },
    {
     "name": "stdout",
     "output_type": "stream",
     "text": [
      "Error al obtener el user BobLiberado: 'NoneType' object has no attribute 'text'\n",
      "Error al obtener el user cuentosvarios: 429 Client Error: Too Many Requests for url: https://nitter.net/cuentosvarios\n"
     ]
    },
    {
     "name": "stderr",
     "output_type": "stream",
     "text": [
      "Buscando Authors:  78%|███████▊  | 78/100 [00:27<00:07,  3.03it/s]"
     ]
    },
    {
     "name": "stdout",
     "output_type": "stream",
     "text": [
      "Error al obtener el user Gato608: 403 Client Error: Forbidden for url: https://lightbrd.com/Gato608\n"
     ]
    },
    {
     "name": "stderr",
     "output_type": "stream",
     "text": [
      "Buscando Authors:  81%|████████  | 81/100 [00:29<00:09,  2.09it/s]"
     ]
    },
    {
     "name": "stdout",
     "output_type": "stream",
     "text": [
      "Error al obtener el user Cris44320199: 429 Client Error: Too Many Requests for url: https://nitter.net/Cris44320199\n",
      "Error al obtener el user RoyVargasGuido2: 429 Client Error: Too Many Requests for url: https://nitter.net/RoyVargasGuido2\n"
     ]
    },
    {
     "name": "stderr",
     "output_type": "stream",
     "text": [
      "Buscando Authors:  83%|████████▎ | 83/100 [00:30<00:05,  3.22it/s]"
     ]
    },
    {
     "name": "stdout",
     "output_type": "stream",
     "text": [
      "Error al obtener el user Reciodc10: 429 Client Error: Too Many Requests for url: https://nitter.net/Reciodc10\n",
      "Error al obtener el user doblel66: 403 Client Error: Forbidden for url: https://nitter.lucabased.xyz/doblel66\n"
     ]
    },
    {
     "name": "stderr",
     "output_type": "stream",
     "text": [
      "Buscando Authors:  85%|████████▌ | 85/100 [00:30<00:03,  4.43it/s]"
     ]
    },
    {
     "name": "stdout",
     "output_type": "stream",
     "text": [
      "Error al obtener el user kmichael_travel: 429 Client Error: Too Many Requests for url: https://nitter.net/kmichael_travel\n",
      "Error al obtener el user carloseguerraa: 403 Client Error: Forbidden for url: https://nitter.lucabased.xyz/carloseguerraa\n"
     ]
    },
    {
     "name": "stderr",
     "output_type": "stream",
     "text": [
      "Buscando Authors:  86%|████████▌ | 86/100 [00:30<00:02,  5.20it/s]"
     ]
    },
    {
     "name": "stdout",
     "output_type": "stream",
     "text": [
      "Error al obtener el user MiguelB35260361: 403 Client Error: Forbidden for url: https://nitter.space/MiguelB35260361\n"
     ]
    },
    {
     "name": "stderr",
     "output_type": "stream",
     "text": [
      "Buscando Authors:  87%|████████▋ | 87/100 [00:30<00:03,  4.31it/s]"
     ]
    },
    {
     "name": "stdout",
     "output_type": "stream",
     "text": [
      "Error al obtener el user Flordel25270662: 403 Client Error: Forbidden for url: https://lightbrd.com/Flordel25270662\n"
     ]
    },
    {
     "name": "stderr",
     "output_type": "stream",
     "text": [
      "Buscando Authors:  90%|█████████ | 90/100 [00:32<00:03,  2.59it/s]"
     ]
    },
    {
     "name": "stdout",
     "output_type": "stream",
     "text": [
      "Error al obtener el user LuisEmeJota: 403 Client Error: Forbidden for url: https://nitter.lucabased.xyz/LuisEmeJota\n",
      "Error al obtener el user SALVATRACTIVE25: 'NoneType' object has no attribute 'text'\n"
     ]
    },
    {
     "name": "stderr",
     "output_type": "stream",
     "text": [
      "Buscando Authors:  91%|█████████ | 91/100 [00:32<00:02,  3.09it/s]"
     ]
    },
    {
     "name": "stdout",
     "output_type": "stream",
     "text": [
      "Error al obtener el user crisant48428549: 429 Client Error: Too Many Requests for url: https://nitter.net/crisant48428549\n"
     ]
    },
    {
     "name": "stderr",
     "output_type": "stream",
     "text": [
      "Buscando Authors:  93%|█████████▎| 93/100 [00:33<00:02,  3.16it/s]"
     ]
    },
    {
     "name": "stdout",
     "output_type": "stream",
     "text": [
      "Error al obtener el user Rodrigo25948954: 403 Client Error: Forbidden for url: https://nitter.poast.org/Rodrigo25948954\n",
      "Error al obtener el user Lalo_MLG: 403 Client Error: Forbidden for url: https://nitter.lucabased.xyz/Lalo_MLG\n"
     ]
    },
    {
     "name": "stderr",
     "output_type": "stream",
     "text": [
      "Buscando Authors:  95%|█████████▌| 95/100 [00:33<00:01,  4.13it/s]"
     ]
    },
    {
     "name": "stdout",
     "output_type": "stream",
     "text": [
      "Error al obtener el user LoyolaYoshio: 429 Client Error: Too Many Requests for url: https://nitter.net/LoyolaYoshio\n",
      "Error al obtener el user Preludio84597: 429 Client Error: Too Many Requests for url: https://nitter.net/Preludio84597\n"
     ]
    },
    {
     "name": "stderr",
     "output_type": "stream",
     "text": [
      "Buscando Authors:  96%|█████████▌| 96/100 [00:33<00:00,  4.91it/s]"
     ]
    },
    {
     "name": "stdout",
     "output_type": "stream",
     "text": [
      "Error al obtener el user ajaa7711: 403 Client Error: Forbidden for url: https://nitter.lucabased.xyz/ajaa7711\n",
      "Error al obtener el user Javiiic_a23: 403 Client Error: Forbidden for url: https://nitter.space/Javiiic_a23\n"
     ]
    },
    {
     "name": "stderr",
     "output_type": "stream",
     "text": [
      "Buscando Authors:  99%|█████████▉| 99/100 [00:34<00:00,  4.25it/s]"
     ]
    },
    {
     "name": "stdout",
     "output_type": "stream",
     "text": [
      "Error al obtener el user essiurell: 403 Client Error: Forbidden for url: https://nitter.poast.org/essiurell\n",
      "Error al obtener el user JuanSanchezSus1: 429 Client Error: Too Many Requests for url: https://nitter.net/JuanSanchezSus1\n"
     ]
    },
    {
     "name": "stderr",
     "output_type": "stream",
     "text": [
      "Buscando Authors: 100%|██████████| 100/100 [00:35<00:00,  2.85it/s]"
     ]
    },
    {
     "name": "stdout",
     "output_type": "stream",
     "text": [
      "Error al obtener el user Victoria1495652: 403 Client Error: Forbidden for url: https://lightbrd.com/Victoria1495652\n",
      "Archivos authors.csv y errors_author.csv generados correctamente.\n"
     ]
    },
    {
     "name": "stderr",
     "output_type": "stream",
     "text": [
      "\n"
     ]
    }
   ],
   "source": [
    "cont = 0\n",
    "\n",
    "data = {\n",
    "    'author_id': [],\n",
    "    'username': [],\n",
    "    'fullname': [],\n",
    "    'biography': [],\n",
    "    'verified': [],\n",
    "    'joined_datetime': [],\n",
    "    'tweets_count': [],\n",
    "    'following_count': [], \n",
    "    'followers_count': [],\n",
    "    'likes_count': [],\n",
    "    'profile_picture_url': [],\n",
    "    'banner_picture_url': []\n",
    "}\n",
    "\n",
    "error = {\n",
    "    'username': [],\n",
    "}\n",
    "\n",
    "for row in tqdm(df_authors.itertuples(), total=len(df_authors), desc='Buscando Authors'):\n",
    "    \n",
    "    # check if the tweet was already processed\n",
    "    if 'df_anterior' in locals():\n",
    "        if row.author in df_anterior.username.values:\n",
    "            cont += 1\n",
    "            continue\n",
    "\n",
    "    try:\n",
    "        user = pnytter.find_user(row.author) \n",
    "    except Exception as e:\n",
    "        cont += 1\n",
    "        print(f\"Error al obtener el user {row.author}: {e}\")\n",
    "        error['username'].append(row.author)\n",
    "        continue\n",
    "\n",
    "    if not(user is None):\n",
    "\n",
    "        try: \n",
    "            data['author_id'].append(user.id) \n",
    "            data['fullname'].append(user.fullname)\n",
    "            data['biography'].append(user.biography)\n",
    "            data['verified'].append(user.verified)\n",
    "            if user.joined_datetime != None:\n",
    "                data['joined_datetime'].append(user.joined_datetime.strftime('%Y-%m-%d %H:%M:%S'))\n",
    "            else:\n",
    "                data['joined_datetime'].append(None)\n",
    "            data['tweets_count'].append(user.stats.tweets)\n",
    "            data['following_count'].append(user.stats.following)\n",
    "            data['followers_count'].append(user.stats.followers)\n",
    "            data['likes_count'].append(user.stats.likes)\n",
    "            if user.pictures.profile != None:\n",
    "                data['profile_picture_url'].append(str(user.pictures.profile.twitter_url))\n",
    "            else:\n",
    "                data['profile_picture_url'].append(None)\n",
    "            if user.pictures.banner != None:\n",
    "                data['banner_picture_url'].append(str(user.pictures.banner.twitter_url))\n",
    "            else:\n",
    "                data['banner_picture_url'].append(None)\n",
    "            data['username'].append(row.author)\n",
    "\n",
    "        except AttributeError:\n",
    "            error['username'].append(row.author)\n",
    "\n",
    "        cont += 1\n",
    "\n",
    "        if cont == 100:\n",
    "            cont = 0       \n",
    "            df = pd.DataFrame(data)\n",
    "            df_error = pd.DataFrame(error)\n",
    "            df.to_csv('authors_temp.csv', index=False)\n",
    "            df_error.to_csv('errors_author_temp.csv', index=False)\n",
    "\n",
    "\n",
    "df = pd.DataFrame(data)\n",
    "df_error = pd.DataFrame(error)\n",
    "df.to_csv('authors.csv', index=False)\n",
    "df_error.to_csv('errors_author.csv', index=False)\n",
    "print(\"Archivos authors.csv y errors_author.csv generados correctamente.\")\n"
   ]
  },
  {
   "cell_type": "code",
   "execution_count": 36,
   "metadata": {},
   "outputs": [],
   "source": [
    "if user.pictures.banner.twitter_url:\n",
    "    str(user.pictures.banner.twitter_url)\n",
    "else: \n",
    "    None"
   ]
  },
  {
   "cell_type": "code",
   "execution_count": 37,
   "metadata": {},
   "outputs": [
    {
     "data": {
      "text/plain": [
       "['https://pbs.twimg.com/profile_banners/982730824532578304/1593984454/1500x500',\n",
       " 'https://pbs.twimg.com/profile_banners/1611163558837886977/1725042529/1500x500',\n",
       " 'https://pbs.twimg.com/profile_banners/1363533106179952644/1689836597/1500x500',\n",
       " 'https://pbs.twimg.com/profile_banners/1181725796739760135/1718167133/1500x500',\n",
       " 'https://pbs.twimg.com/profile_banners/1386424573051248642/1731639792/1500x500',\n",
       " 'https://pbs.twimg.com/profile_banners/190351194/1417187609/1500x500']"
      ]
     },
     "execution_count": 37,
     "metadata": {},
     "output_type": "execute_result"
    }
   ],
   "source": [
    "data['banner_picture_url']"
   ]
  },
  {
   "cell_type": "code",
   "execution_count": 38,
   "metadata": {},
   "outputs": [
    {
     "data": {
      "text/plain": [
       "6"
      ]
     },
     "execution_count": 38,
     "metadata": {},
     "output_type": "execute_result"
    }
   ],
   "source": [
    "len(data['banner_picture_url'])"
   ]
  },
  {
   "cell_type": "code",
   "execution_count": 39,
   "metadata": {},
   "outputs": [
    {
     "data": {
      "text/plain": [
       "6"
      ]
     },
     "execution_count": 39,
     "metadata": {},
     "output_type": "execute_result"
    }
   ],
   "source": [
    "len(data['profile_picture_url'])"
   ]
  },
  {
   "cell_type": "markdown",
   "metadata": {},
   "source": [
    "## Concat de retweets_previo y retweets\n",
    "\n",
    "Cómo hemos comentado anteriormente, si hemos partido de datos ya descargados, partiremos de retweets_previo, por eso hemos de hacer un concat de retweets_previo y retweets en retweets_final."
   ]
  },
  {
   "cell_type": "code",
   "execution_count": 40,
   "metadata": {},
   "outputs": [],
   "source": [
    "if os.path.exists('authors_previo.csv'):\n",
    "    df_temp = pd.read_csv('authors_previo.csv')\n",
    "    if os.path.exists('authors.csv'):\n",
    "        df = pd.read_csv('authors.csv')\n",
    "        df_final = pd.concat([df, df_temp], ignore_index=True)\n",
    "        df_final.to_csv('authors_final.csv', index=False)"
   ]
  },
  {
   "cell_type": "code",
   "execution_count": 41,
   "metadata": {},
   "outputs": [
    {
     "ename": "NameError",
     "evalue": "name 'df_temp' is not defined",
     "output_type": "error",
     "traceback": [
      "\u001b[31m---------------------------------------------------------------------------\u001b[39m",
      "\u001b[31mNameError\u001b[39m                                 Traceback (most recent call last)",
      "\u001b[36mCell\u001b[39m\u001b[36m \u001b[39m\u001b[32mIn[41]\u001b[39m\u001b[32m, line 1\u001b[39m\n\u001b[32m----> \u001b[39m\u001b[32m1\u001b[39m \u001b[38;5;28mprint\u001b[39m(\u001b[33m\"\u001b[39m\u001b[33mDatos en authors Previos:\u001b[39m\u001b[33m\"\u001b[39m, \u001b[43mdf_temp\u001b[49m.shape)\n\u001b[32m      2\u001b[39m \u001b[38;5;28mprint\u001b[39m(\u001b[33m\"\u001b[39m\u001b[33mDatos descargados en esta ejecución:\u001b[39m\u001b[33m\"\u001b[39m, df.shape)\n\u001b[32m      3\u001b[39m \u001b[38;5;28mprint\u001b[39m(\u001b[33m\"\u001b[39m\u001b[33mDatos Totales:\u001b[39m\u001b[33m\"\u001b[39m, df_final.shape)\n",
      "\u001b[31mNameError\u001b[39m: name 'df_temp' is not defined"
     ]
    }
   ],
   "source": [
    "print(\"Datos en authors Previos:\", df_temp.shape)\n",
    "print(\"Datos descargados en esta ejecución:\", df.shape)\n",
    "print(\"Datos Totales:\", df_final.shape)"
   ]
  },
  {
   "cell_type": "code",
   "execution_count": null,
   "metadata": {},
   "outputs": [],
   "source": [
    "# Verificar duplicatas em todas as colunas\n",
    "duplicated_rows = df_final[df_final.duplicated()]\n",
    "\n",
    "# Exibir as duplicatas\n",
    "print(duplicated_rows)\n",
    "\n",
    "# Contar o número de duplicatas\n",
    "print(f\"Número de duplicatas: {duplicated_rows.shape[0]}\")"
   ]
  },
  {
   "cell_type": "code",
   "execution_count": null,
   "metadata": {},
   "outputs": [],
   "source": [
    "# Verificar duplicatas em todas as colunas\n",
    "duplicated_rows = df[df.duplicated()]\n",
    "\n",
    "# Exibir as duplicatas\n",
    "print(duplicated_rows)\n",
    "\n",
    "# Contar o número de duplicatas\n",
    "print(f\"Número de duplicatas: {duplicated_rows.shape[0]}\")"
   ]
  },
  {
   "cell_type": "code",
   "execution_count": null,
   "metadata": {},
   "outputs": [],
   "source": [
    "# Verificar duplicatas em todas as colunas\n",
    "duplicated_rows = df_temp[df_temp.duplicated()]\n",
    "\n",
    "# Exibir as duplicatas\n",
    "print(duplicated_rows)\n",
    "\n",
    "# Contar o número de duplicatas\n",
    "print(f\"Número de duplicatas: {duplicated_rows.shape[0]}\")"
   ]
  },
  {
   "cell_type": "code",
   "execution_count": null,
   "metadata": {},
   "outputs": [],
   "source": [
    "# borramos y renombramos los ficheros resultantes\n",
    "os.remove('retweets.csv')\n",
    "os.remove('retweets_previo.csv')\n",
    "os.rename('retweets_final.csv', 'retweets_previo.csv')"
   ]
  },
  {
   "cell_type": "code",
   "execution_count": null,
   "metadata": {},
   "outputs": [],
   "source": [
    "df_test = pd.read_csv('retweets_previo.csv')\n",
    "print(\"Datos Finales:\", df_test.shape)"
   ]
  }
 ],
 "metadata": {
  "kernelspec": {
   "display_name": "tweets",
   "language": "python",
   "name": "python3"
  },
  "language_info": {
   "codemirror_mode": {
    "name": "ipython",
    "version": 3
   },
   "file_extension": ".py",
   "mimetype": "text/x-python",
   "name": "python",
   "nbconvert_exporter": "python",
   "pygments_lexer": "ipython3",
   "version": "3.11.11"
  }
 },
 "nbformat": 4,
 "nbformat_minor": 4
}
