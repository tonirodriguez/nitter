{
 "cells": [
  {
   "cell_type": "markdown",
   "metadata": {},
   "source": [
    "# GETTING INFORMATION FROM AUTHORS"
   ]
  },
  {
   "cell_type": "code",
   "execution_count": 1,
   "metadata": {},
   "outputs": [],
   "source": [
    "import json, os\n",
    "import datetime\n",
    "from pydantic import HttpUrl\n",
    "import pandas as pd\n",
    "from tqdm import tqdm\n",
    "\n",
    "from pnytter import Pnytter"
   ]
  },
  {
   "cell_type": "markdown",
   "metadata": {},
   "source": [
    "## 1. Load the Author's list\n",
    "\n",
    "Obtenemos esta lista, a partir de los datos de los retweets, obteniendo los autores únicos"
   ]
  },
  {
   "cell_type": "code",
   "execution_count": 2,
   "metadata": {},
   "outputs": [],
   "source": [
    "df_retweets = pd.read_csv('retweets_previo.csv', index_col=None)\n",
    "df_retweets = df_retweets.rename(columns={'count_star()':'ocurrencias'})"
   ]
  },
  {
   "cell_type": "code",
   "execution_count": 3,
   "metadata": {},
   "outputs": [
    {
     "data": {
      "text/html": [
       "<div>\n",
       "<style scoped>\n",
       "    .dataframe tbody tr th:only-of-type {\n",
       "        vertical-align: middle;\n",
       "    }\n",
       "\n",
       "    .dataframe tbody tr th {\n",
       "        vertical-align: top;\n",
       "    }\n",
       "\n",
       "    .dataframe thead th {\n",
       "        text-align: right;\n",
       "    }\n",
       "</style>\n",
       "<table border=\"1\" class=\"dataframe\">\n",
       "  <thead>\n",
       "    <tr style=\"text-align: right;\">\n",
       "      <th></th>\n",
       "      <th>tweet_id</th>\n",
       "      <th>author</th>\n",
       "      <th>author_id</th>\n",
       "      <th>created_at</th>\n",
       "      <th>text</th>\n",
       "      <th>retweets_count</th>\n",
       "      <th>comments_count</th>\n",
       "      <th>likes_count</th>\n",
       "      <th>quotes_count</th>\n",
       "    </tr>\n",
       "  </thead>\n",
       "  <tbody>\n",
       "    <tr>\n",
       "      <th>0</th>\n",
       "      <td>1805843500069437937</td>\n",
       "      <td>TonyRoj97441120</td>\n",
       "      <td>967339935777869824</td>\n",
       "      <td>2024-06-26 06:00:00+00:00</td>\n",
       "      <td>Tienes razón,el pagafantas es tu jefe de gobie...</td>\n",
       "      <td>0</td>\n",
       "      <td>0</td>\n",
       "      <td>0</td>\n",
       "      <td>0</td>\n",
       "    </tr>\n",
       "    <tr>\n",
       "      <th>1</th>\n",
       "      <td>1807452579426599256</td>\n",
       "      <td>aridany80</td>\n",
       "      <td>1358153328073584653</td>\n",
       "      <td>2024-06-30 16:34:00+00:00</td>\n",
       "      <td>Idiota si tú quieres que se queden jajajajajs ...</td>\n",
       "      <td>0</td>\n",
       "      <td>0</td>\n",
       "      <td>0</td>\n",
       "      <td>0</td>\n",
       "    </tr>\n",
       "    <tr>\n",
       "      <th>2</th>\n",
       "      <td>1806878139471077701</td>\n",
       "      <td>RicarditoMtz</td>\n",
       "      <td>317444245</td>\n",
       "      <td>2024-06-29 02:31:00+00:00</td>\n",
       "      <td>No paras de hacer el ridículo ahora hay que ce...</td>\n",
       "      <td>0</td>\n",
       "      <td>0</td>\n",
       "      <td>8</td>\n",
       "      <td>0</td>\n",
       "    </tr>\n",
       "    <tr>\n",
       "      <th>3</th>\n",
       "      <td>1807894027418980425</td>\n",
       "      <td>Alejand67264632</td>\n",
       "      <td>1381734361058439168</td>\n",
       "      <td>2024-07-01 21:48:00+00:00</td>\n",
       "      <td>que vieja más pendeja esta</td>\n",
       "      <td>0</td>\n",
       "      <td>0</td>\n",
       "      <td>0</td>\n",
       "      <td>0</td>\n",
       "    </tr>\n",
       "    <tr>\n",
       "      <th>4</th>\n",
       "      <td>1806319715532275859</td>\n",
       "      <td>ceciliohrubira</td>\n",
       "      <td>792789250500616192</td>\n",
       "      <td>2024-06-27 13:32:00+00:00</td>\n",
       "      <td>Estudia, María, que eres muy tendenciosa. Hay ...</td>\n",
       "      <td>0</td>\n",
       "      <td>0</td>\n",
       "      <td>0</td>\n",
       "      <td>0</td>\n",
       "    </tr>\n",
       "  </tbody>\n",
       "</table>\n",
       "</div>"
      ],
      "text/plain": [
       "              tweet_id           author            author_id  \\\n",
       "0  1805843500069437937  TonyRoj97441120   967339935777869824   \n",
       "1  1807452579426599256        aridany80  1358153328073584653   \n",
       "2  1806878139471077701     RicarditoMtz            317444245   \n",
       "3  1807894027418980425  Alejand67264632  1381734361058439168   \n",
       "4  1806319715532275859   ceciliohrubira   792789250500616192   \n",
       "\n",
       "                  created_at  \\\n",
       "0  2024-06-26 06:00:00+00:00   \n",
       "1  2024-06-30 16:34:00+00:00   \n",
       "2  2024-06-29 02:31:00+00:00   \n",
       "3  2024-07-01 21:48:00+00:00   \n",
       "4  2024-06-27 13:32:00+00:00   \n",
       "\n",
       "                                                text  retweets_count  \\\n",
       "0  Tienes razón,el pagafantas es tu jefe de gobie...               0   \n",
       "1  Idiota si tú quieres que se queden jajajajajs ...               0   \n",
       "2  No paras de hacer el ridículo ahora hay que ce...               0   \n",
       "3                         que vieja más pendeja esta               0   \n",
       "4  Estudia, María, que eres muy tendenciosa. Hay ...               0   \n",
       "\n",
       "   comments_count  likes_count  quotes_count  \n",
       "0               0            0             0  \n",
       "1               0            0             0  \n",
       "2               0            8             0  \n",
       "3               0            0             0  \n",
       "4               0            0             0  "
      ]
     },
     "execution_count": 3,
     "metadata": {},
     "output_type": "execute_result"
    }
   ],
   "source": [
    "df_retweets.head()"
   ]
  },
  {
   "cell_type": "code",
   "execution_count": 4,
   "metadata": {},
   "outputs": [],
   "source": [
    "df_authors = pd.DataFrame(df_retweets.author.value_counts()).reset_index()\n",
    "df_authors = df_authors.rename(columns={'count':'ocurrencias'})"
   ]
  },
  {
   "cell_type": "code",
   "execution_count": 5,
   "metadata": {},
   "outputs": [
    {
     "data": {
      "text/html": [
       "<div>\n",
       "<style scoped>\n",
       "    .dataframe tbody tr th:only-of-type {\n",
       "        vertical-align: middle;\n",
       "    }\n",
       "\n",
       "    .dataframe tbody tr th {\n",
       "        vertical-align: top;\n",
       "    }\n",
       "\n",
       "    .dataframe thead th {\n",
       "        text-align: right;\n",
       "    }\n",
       "</style>\n",
       "<table border=\"1\" class=\"dataframe\">\n",
       "  <thead>\n",
       "    <tr style=\"text-align: right;\">\n",
       "      <th></th>\n",
       "      <th>author</th>\n",
       "      <th>ocurrencias</th>\n",
       "    </tr>\n",
       "  </thead>\n",
       "  <tbody>\n",
       "    <tr>\n",
       "      <th>0</th>\n",
       "      <td>v66710974699714</td>\n",
       "      <td>94</td>\n",
       "    </tr>\n",
       "    <tr>\n",
       "      <th>1</th>\n",
       "      <td>quinomartinez58</td>\n",
       "      <td>14</td>\n",
       "    </tr>\n",
       "    <tr>\n",
       "      <th>2</th>\n",
       "      <td>Agc_19827</td>\n",
       "      <td>6</td>\n",
       "    </tr>\n",
       "    <tr>\n",
       "      <th>3</th>\n",
       "      <td>AE_HencheDiego</td>\n",
       "      <td>6</td>\n",
       "    </tr>\n",
       "    <tr>\n",
       "      <th>4</th>\n",
       "      <td>thorito2014</td>\n",
       "      <td>5</td>\n",
       "    </tr>\n",
       "  </tbody>\n",
       "</table>\n",
       "</div>"
      ],
      "text/plain": [
       "            author  ocurrencias\n",
       "0  v66710974699714           94\n",
       "1  quinomartinez58           14\n",
       "2        Agc_19827            6\n",
       "3   AE_HencheDiego            6\n",
       "4      thorito2014            5"
      ]
     },
     "execution_count": 5,
     "metadata": {},
     "output_type": "execute_result"
    }
   ],
   "source": [
    "df_authors.head()"
   ]
  },
  {
   "cell_type": "code",
   "execution_count": 6,
   "metadata": {},
   "outputs": [
    {
     "data": {
      "text/plain": [
       "(1309, 2)"
      ]
     },
     "execution_count": 6,
     "metadata": {},
     "output_type": "execute_result"
    }
   ],
   "source": [
    "df_authors.shape"
   ]
  },
  {
   "cell_type": "code",
   "execution_count": 7,
   "metadata": {},
   "outputs": [],
   "source": [
    "df_authors = df_authors.head(100)"
   ]
  },
  {
   "cell_type": "markdown",
   "metadata": {},
   "source": [
    "## 2. Get the Author's information"
   ]
  },
  {
   "cell_type": "code",
   "execution_count": 8,
   "metadata": {},
   "outputs": [],
   "source": [
    "# The Pnytter object needs at least 1 Nitter instance to work, but these can be added after initialization\n",
    "pnytter = Pnytter(\n",
    "  #nitter_instances=[\"http://localhost:8080\"]\n",
    "  nitter_instances=[\n",
    "  #'https://xcancel.com',\n",
    " 'https://lightbrd.com',\n",
    " 'https://nitter.lucabased.xyz',\n",
    " 'https://nitter.space',\n",
    " 'https://nitter.net',\n",
    " #'https://nitter.privacyredirect.com',\n",
    "  #'https://nitter.privacydev.net',\n",
    " 'https://nitter.poast.org']\n",
    "  #'http://nitter.coffee2m3bjsrrqqycx6ghkxrnejl2q6nl7pjw2j4clchjj6uk5zozad.onion']\n",
    ")"
   ]
  },
  {
   "cell_type": "markdown",
   "metadata": {},
   "source": [
    "Si partimos de datos ya descagados, estos han de estar en un fichero denominado **authors_previo.csv** para seguir descargando datos a partir de estos."
   ]
  },
  {
   "cell_type": "code",
   "execution_count": 9,
   "metadata": {},
   "outputs": [],
   "source": [
    "if os.path.exists('authors_previo.csv'):\n",
    "    df_anterior = pd.read_csv('authors_previo.csv')"
   ]
  },
  {
   "cell_type": "code",
   "execution_count": 10,
   "metadata": {},
   "outputs": [
    {
     "data": {
      "text/plain": [
       "{'id': 19816793,\n",
       " 'username': 'MiguelAngel_',\n",
       " 'fullname': 'Miguel A_lf',\n",
       " 'biography': 'la curiosidad mato al gato.....por eso le dieron 7 vidas...',\n",
       " 'verified': True,\n",
       " 'joined_datetime': datetime.datetime(2009, 1, 31, 14, 36, tzinfo=datetime.timezone.utc),\n",
       " 'stats': {'tweets': 16981, 'following': 46, 'followers': 58, 'likes': 729},\n",
       " 'pictures': {'profile': {'twitter_url': HttpUrl('https://pbs.twimg.com/profile_images/1680813410185891840/RSupFctd.jpg', scheme='https', host='pbs.twimg.com', tld='com', host_type='domain', port='443', path='/profile_images/1680813410185891840/RSupFctd.jpg'),\n",
       "   'nitter_path': '/pic/pbs.twimg.com%2Fprofile_images%2F1680813410185891840%2FRSupFctd.jpg'},\n",
       "  'banner': {'twitter_url': HttpUrl('https://pbs.twimg.com/profile_banners/19816793/1645769094/1500x500', scheme='https', host='pbs.twimg.com', tld='com', host_type='domain', port='443', path='/profile_banners/19816793/1645769094/1500x500'),\n",
       "   'nitter_path': '/pic/https%3A%2F%2Fpbs.twimg.com%2Fprofile_banners%2F19816793%2F1645769094%2F1500x500'}}}"
      ]
     },
     "execution_count": 10,
     "metadata": {},
     "output_type": "execute_result"
    }
   ],
   "source": [
    "{'id': 19816793,\n",
    " 'username': 'MiguelAngel_',\n",
    " 'fullname': 'Miguel A_lf',\n",
    " 'biography': 'la curiosidad mato al gato.....por eso le dieron 7 vidas...',\n",
    " 'verified': True,\n",
    " 'joined_datetime': datetime.datetime(2009, 1, 31, 14, 36, tzinfo=datetime.timezone.utc),\n",
    " 'stats': {'tweets': 16981, 'following': 46, 'followers': 58, 'likes': 729},\n",
    " 'pictures': {'profile': {'twitter_url': HttpUrl('https://pbs.twimg.com/profile_images/1680813410185891840/RSupFctd.jpg', scheme='https', host='pbs.twimg.com', tld='com', host_type='domain', port='443', path='/profile_images/1680813410185891840/RSupFctd.jpg'),\n",
    "                          'nitter_path': '/pic/pbs.twimg.com%2Fprofile_images%2F1680813410185891840%2FRSupFctd.jpg'},\n",
    "              'banner': {'twitter_url': HttpUrl('https://pbs.twimg.com/profile_banners/19816793/1645769094/1500x500', scheme='https', host='pbs.twimg.com', tld='com', host_type='domain', port='443', path='/profile_banners/19816793/1645769094/1500x500'),\n",
    "                         'nitter_path': '/pic/https%3A%2F%2Fpbs.twimg.com%2Fprofile_banners%2F19816793%2F1645769094%2F1500x500'}}}"
   ]
  },
  {
   "cell_type": "code",
   "execution_count": 26,
   "metadata": {},
   "outputs": [
    {
     "name": "stderr",
     "output_type": "stream",
     "text": [
      "Buscando Authors:   2%|▏         | 2/100 [00:01<00:59,  1.65it/s]"
     ]
    },
    {
     "name": "stdout",
     "output_type": "stream",
     "text": [
      "Error al obtener el user quinomartinez58: 'NoneType' object has no attribute 'text'\n"
     ]
    },
    {
     "name": "stderr",
     "output_type": "stream",
     "text": [
      "Buscando Authors:   3%|▎         | 3/100 [00:01<00:56,  1.71it/s]"
     ]
    },
    {
     "name": "stdout",
     "output_type": "stream",
     "text": [
      "Error al obtener el user Agc_19827: 403 Client Error: Forbidden for url: https://nitter.poast.org/Agc_19827\n"
     ]
    },
    {
     "name": "stderr",
     "output_type": "stream",
     "text": [
      "Buscando Authors:   4%|▍         | 4/100 [00:02<00:53,  1.78it/s]"
     ]
    },
    {
     "name": "stdout",
     "output_type": "stream",
     "text": [
      "Error al obtener el user AE_HencheDiego: 403 Client Error: Forbidden for url: https://nitter.poast.org/AE_HencheDiego\n",
      "Error al obtener el user thorito2014: 403 Client Error: Forbidden for url: https://nitter.lucabased.xyz/thorito2014\n"
     ]
    },
    {
     "name": "stderr",
     "output_type": "stream",
     "text": [
      "Buscando Authors:   7%|▋         | 7/100 [00:02<00:26,  3.48it/s]"
     ]
    },
    {
     "name": "stdout",
     "output_type": "stream",
     "text": [
      "Error al obtener el user evathees: 429 Client Error: Too Many Requests for url: https://nitter.lucabased.xyz/evathees\n",
      "Error al obtener el user lavanduardia012: 'NoneType' object has no attribute 'text'\n"
     ]
    },
    {
     "name": "stderr",
     "output_type": "stream",
     "text": [
      "Buscando Authors:   9%|▉         | 9/100 [00:03<00:26,  3.46it/s]"
     ]
    },
    {
     "name": "stdout",
     "output_type": "stream",
     "text": [
      "Error al obtener el user Luis22Pedro: 403 Client Error: Forbidden for url: https://nitter.poast.org/Luis22Pedro\n",
      "Error al obtener el user jdonosolorenzo: 403 Client Error: Forbidden for url: https://nitter.lucabased.xyz/jdonosolorenzo\n"
     ]
    },
    {
     "name": "stderr",
     "output_type": "stream",
     "text": [
      "Buscando Authors:  12%|█▏        | 12/100 [00:04<00:26,  3.34it/s]"
     ]
    },
    {
     "name": "stdout",
     "output_type": "stream",
     "text": [
      "Error al obtener el user Titaniu27960435: 403 Client Error: Forbidden for url: https://nitter.space/Titaniu27960435\n",
      "Error al obtener el user Pilar01039688: 403 Client Error: Forbidden for url: https://nitter.lucabased.xyz/Pilar01039688\n"
     ]
    },
    {
     "name": "stderr",
     "output_type": "stream",
     "text": [
      "Buscando Authors:  13%|█▎        | 13/100 [00:04<00:20,  4.16it/s]"
     ]
    },
    {
     "name": "stdout",
     "output_type": "stream",
     "text": [
      "Error al obtener el user bourne64118534: 403 Client Error: Forbidden for url: https://nitter.space/bourne64118534\n"
     ]
    },
    {
     "name": "stderr",
     "output_type": "stream",
     "text": [
      "Buscando Authors:  14%|█▍        | 14/100 [00:06<00:45,  1.90it/s]"
     ]
    },
    {
     "name": "stdout",
     "output_type": "stream",
     "text": [
      "Error al obtener el user fernandovilabla: 403 Client Error: Forbidden for url: https://nitter.lucabased.xyz/fernandovilabla\n"
     ]
    },
    {
     "name": "stderr",
     "output_type": "stream",
     "text": [
      "Buscando Authors:  18%|█▊        | 18/100 [00:07<00:34,  2.40it/s]"
     ]
    },
    {
     "name": "stdout",
     "output_type": "stream",
     "text": [
      "Error al obtener el user pedroluisanta7: 403 Client Error: Forbidden for url: https://nitter.lucabased.xyz/pedroluisanta7\n",
      "Error al obtener el user gerardotrece11: 'NoneType' object has no attribute 'text'\n"
     ]
    },
    {
     "name": "stderr",
     "output_type": "stream",
     "text": [
      "Buscando Authors:  20%|██        | 20/100 [00:09<00:49,  1.61it/s]"
     ]
    },
    {
     "name": "stdout",
     "output_type": "stream",
     "text": [
      "Error al obtener el user Junior27126: 'NoneType' object has no attribute 'text'\n"
     ]
    },
    {
     "name": "stderr",
     "output_type": "stream",
     "text": [
      "Buscando Authors:  21%|██        | 21/100 [00:10<00:47,  1.68it/s]"
     ]
    },
    {
     "name": "stdout",
     "output_type": "stream",
     "text": [
      "Error al obtener el user Borghi1970: 403 Client Error: Forbidden for url: https://nitter.poast.org/Borghi1970\n",
      "Error al obtener el user vevina69: 403 Client Error: Forbidden for url: https://nitter.lucabased.xyz/vevina69\n"
     ]
    },
    {
     "name": "stderr",
     "output_type": "stream",
     "text": [
      "Buscando Authors:  23%|██▎       | 23/100 [00:10<00:29,  2.64it/s]"
     ]
    },
    {
     "name": "stdout",
     "output_type": "stream",
     "text": [
      "Error al obtener el user _ZonaJuanjo: 403 Client Error: Forbidden for url: https://nitter.lucabased.xyz/_ZonaJuanjo\n"
     ]
    },
    {
     "name": "stderr",
     "output_type": "stream",
     "text": [
      "Buscando Authors:  27%|██▋       | 27/100 [00:14<00:46,  1.57it/s]"
     ]
    },
    {
     "name": "stdout",
     "output_type": "stream",
     "text": [
      "Error al obtener el user Paco06024851: 403 Client Error: Forbidden for url: https://nitter.poast.org/Paco06024851\n",
      "Error al obtener el user Madridebasta78: 403 Client Error: Forbidden for url: https://nitter.space/Madridebasta78\n"
     ]
    },
    {
     "name": "stderr",
     "output_type": "stream",
     "text": [
      "Buscando Authors:  28%|██▊       | 28/100 [00:14<00:36,  1.99it/s]"
     ]
    },
    {
     "name": "stdout",
     "output_type": "stream",
     "text": [
      "Error al obtener el user kova022: 'NoneType' object has no attribute 'text'\n",
      "Error al obtener el user GabelaRaul: 403 Client Error: Forbidden for url: https://nitter.lucabased.xyz/GabelaRaul\n"
     ]
    },
    {
     "name": "stderr",
     "output_type": "stream",
     "text": [
      "Buscando Authors:  32%|███▏      | 32/100 [00:16<00:31,  2.17it/s]"
     ]
    },
    {
     "name": "stdout",
     "output_type": "stream",
     "text": [
      "Error al obtener el user bocapapa74: 403 Client Error: Forbidden for url: https://nitter.poast.org/bocapapa74\n",
      "Error al obtener el user queguasa: 403 Client Error: Forbidden for url: https://nitter.space/queguasa\n",
      "Error al obtener el user filipjotafrai: 403 Client Error: Forbidden for url: https://nitter.lucabased.xyz/filipjotafrai\n"
     ]
    },
    {
     "name": "stderr",
     "output_type": "stream",
     "text": [
      "Buscando Authors:  34%|███▍      | 34/100 [00:17<00:26,  2.48it/s]"
     ]
    },
    {
     "name": "stdout",
     "output_type": "stream",
     "text": [
      "Error al obtener el user CC071nHRbAst33K: 403 Client Error: Forbidden for url: https://nitter.poast.org/CC071nHRbAst33K\n"
     ]
    },
    {
     "name": "stderr",
     "output_type": "stream",
     "text": [
      "Buscando Authors:  37%|███▋      | 37/100 [00:19<00:28,  2.21it/s]"
     ]
    },
    {
     "name": "stdout",
     "output_type": "stream",
     "text": [
      "Error al obtener el user raafiitaa_: 'NoneType' object has no attribute 'text'\n",
      "Error al obtener el user SergiEstape: 403 Client Error: Forbidden for url: https://nitter.lucabased.xyz/SergiEstape\n"
     ]
    },
    {
     "name": "stderr",
     "output_type": "stream",
     "text": [
      "Buscando Authors:  38%|███▊      | 38/100 [00:19<00:23,  2.66it/s]"
     ]
    },
    {
     "name": "stdout",
     "output_type": "stream",
     "text": [
      "Error al obtener el user srlorite: 'NoneType' object has no attribute 'text'\n"
     ]
    },
    {
     "name": "stderr",
     "output_type": "stream",
     "text": [
      "Buscando Authors:  41%|████      | 41/100 [00:21<00:28,  2.06it/s]"
     ]
    },
    {
     "name": "stdout",
     "output_type": "stream",
     "text": [
      "Error al obtener el user Dv11336382: 403 Client Error: Forbidden for url: https://nitter.space/Dv11336382\n",
      "Error al obtener el user pablo_c71: 'NoneType' object has no attribute 'text'\n"
     ]
    },
    {
     "name": "stderr",
     "output_type": "stream",
     "text": [
      "Buscando Authors:  42%|████▏     | 42/100 [00:21<00:23,  2.44it/s]"
     ]
    },
    {
     "name": "stdout",
     "output_type": "stream",
     "text": [
      "Error al obtener el user Alovictorius: 429 Client Error: Too Many Requests for url: https://nitter.net/Alovictorius\n"
     ]
    },
    {
     "name": "stderr",
     "output_type": "stream",
     "text": [
      "Buscando Authors:  45%|████▌     | 45/100 [00:22<00:16,  3.44it/s]"
     ]
    },
    {
     "name": "stdout",
     "output_type": "stream",
     "text": [
      "Error al obtener el user thekoalawizard: 403 Client Error: Forbidden for url: https://nitter.poast.org/thekoalawizard\n",
      "Error al obtener el user JesusMVG: 403 Client Error: Forbidden for url: https://nitter.lucabased.xyz/JesusMVG\n",
      "Error al obtener el user mapa4425: 403 Client Error: Forbidden for url: https://nitter.lucabased.xyz/mapa4425\n"
     ]
    },
    {
     "name": "stderr",
     "output_type": "stream",
     "text": [
      "Buscando Authors:  46%|████▌     | 46/100 [00:22<00:13,  4.05it/s]"
     ]
    },
    {
     "name": "stdout",
     "output_type": "stream",
     "text": [
      "Error al obtener el user luisa63912461: 403 Client Error: Forbidden for url: https://nitter.space/luisa63912461\n"
     ]
    },
    {
     "name": "stderr",
     "output_type": "stream",
     "text": [
      "Buscando Authors:  48%|████▊     | 48/100 [00:23<00:13,  3.77it/s]"
     ]
    },
    {
     "name": "stdout",
     "output_type": "stream",
     "text": [
      "Error al obtener el user javigarser: 403 Client Error: Forbidden for url: https://nitter.poast.org/javigarser\n",
      "Error al obtener el user kontyky71: 403 Client Error: Forbidden for url: https://nitter.lucabased.xyz/kontyky71\n"
     ]
    },
    {
     "name": "stderr",
     "output_type": "stream",
     "text": [
      "Buscando Authors:  49%|████▉     | 49/100 [00:23<00:13,  3.71it/s]"
     ]
    },
    {
     "name": "stdout",
     "output_type": "stream",
     "text": [
      "Error al obtener el user carlosyguau: 429 Client Error: Too Many Requests for url: https://nitter.lucabased.xyz/carlosyguau\n",
      "Error al obtener el user juanman02391023: 403 Client Error: Forbidden for url: https://nitter.lucabased.xyz/juanman02391023\n"
     ]
    },
    {
     "name": "stderr",
     "output_type": "stream",
     "text": [
      "Buscando Authors:  51%|█████     | 51/100 [00:24<00:14,  3.47it/s]"
     ]
    },
    {
     "name": "stdout",
     "output_type": "stream",
     "text": [
      "Error al obtener el user alv1_su: 403 Client Error: Forbidden for url: https://nitter.poast.org/alv1_su\n"
     ]
    },
    {
     "name": "stderr",
     "output_type": "stream",
     "text": [
      "Buscando Authors:  53%|█████▎    | 53/100 [00:24<00:14,  3.17it/s]"
     ]
    },
    {
     "name": "stdout",
     "output_type": "stream",
     "text": [
      "Error al obtener el user CesarMBfisio: 403 Client Error: Forbidden for url: https://nitter.poast.org/CesarMBfisio\n",
      "Error al obtener el user Flickball19: 429 Client Error: Too Many Requests for url: https://nitter.net/Flickball19\n"
     ]
    },
    {
     "name": "stderr",
     "output_type": "stream",
     "text": [
      "Buscando Authors:  55%|█████▌    | 55/100 [00:25<00:09,  4.55it/s]"
     ]
    },
    {
     "name": "stdout",
     "output_type": "stream",
     "text": [
      "Error al obtener el user Kinder029069319: 403 Client Error: Forbidden for url: https://nitter.space/Kinder029069319\n",
      "Error al obtener el user kikorguez: 403 Client Error: Forbidden for url: https://nitter.lucabased.xyz/kikorguez\n"
     ]
    },
    {
     "name": "stderr",
     "output_type": "stream",
     "text": [
      "Buscando Authors:  57%|█████▋    | 57/100 [00:25<00:11,  3.88it/s]"
     ]
    },
    {
     "name": "stdout",
     "output_type": "stream",
     "text": [
      "Error al obtener el user Alberto66087550: 403 Client Error: Forbidden for url: https://nitter.poast.org/Alberto66087550\n",
      "Error al obtener el user BrnoMerlos: 403 Client Error: Forbidden for url: https://nitter.lucabased.xyz/BrnoMerlos\n"
     ]
    },
    {
     "name": "stderr",
     "output_type": "stream",
     "text": [
      "Buscando Authors:  58%|█████▊    | 58/100 [00:25<00:09,  4.66it/s]"
     ]
    },
    {
     "name": "stdout",
     "output_type": "stream",
     "text": [
      "Error al obtener el user JuanCarlos70674: 403 Client Error: Forbidden for url: https://nitter.lucabased.xyz/JuanCarlos70674\n"
     ]
    },
    {
     "name": "stderr",
     "output_type": "stream",
     "text": [
      "Buscando Authors:  59%|█████▉    | 59/100 [00:27<00:20,  1.98it/s]"
     ]
    },
    {
     "name": "stdout",
     "output_type": "stream",
     "text": [
      "Error al obtener el user adrbcn73234279: 403 Client Error: Forbidden for url: https://nitter.space/adrbcn73234279\n"
     ]
    },
    {
     "name": "stderr",
     "output_type": "stream",
     "text": [
      "Buscando Authors:  61%|██████    | 61/100 [00:27<00:16,  2.42it/s]"
     ]
    },
    {
     "name": "stdout",
     "output_type": "stream",
     "text": [
      "Error al obtener el user Casemirismo__: 403 Client Error: Forbidden for url: https://nitter.poast.org/Casemirismo__\n"
     ]
    },
    {
     "name": "stderr",
     "output_type": "stream",
     "text": [
      "Buscando Authors:  63%|██████▎   | 63/100 [00:28<00:17,  2.13it/s]"
     ]
    },
    {
     "name": "stdout",
     "output_type": "stream",
     "text": [
      "Error al obtener el user Futboln333: 'NoneType' object has no attribute 'text'\n"
     ]
    },
    {
     "name": "stderr",
     "output_type": "stream",
     "text": [
      "Buscando Authors:  65%|██████▌   | 65/100 [00:29<00:14,  2.44it/s]"
     ]
    },
    {
     "name": "stdout",
     "output_type": "stream",
     "text": [
      "Error al obtener el user danielgvzla: 403 Client Error: Forbidden for url: https://nitter.poast.org/danielgvzla\n",
      "Error al obtener el user eldeldavid: 'NoneType' object has no attribute 'text'\n"
     ]
    },
    {
     "name": "stderr",
     "output_type": "stream",
     "text": [
      "Buscando Authors:  67%|██████▋   | 67/100 [00:30<00:12,  2.70it/s]"
     ]
    },
    {
     "name": "stdout",
     "output_type": "stream",
     "text": [
      "Error al obtener el user peteret50135854: 403 Client Error: Forbidden for url: https://nitter.poast.org/peteret50135854\n",
      "Error al obtener el user pistola82: 429 Client Error: Too Many Requests for url: https://nitter.net/pistola82\n"
     ]
    },
    {
     "name": "stderr",
     "output_type": "stream",
     "text": [
      "Buscando Authors:  69%|██████▉   | 69/100 [00:30<00:07,  4.10it/s]"
     ]
    },
    {
     "name": "stdout",
     "output_type": "stream",
     "text": [
      "Error al obtener el user josecalp: 403 Client Error: Forbidden for url: https://nitter.lucabased.xyz/josecalp\n",
      "Error al obtener el user jota_pamies: 403 Client Error: Forbidden for url: https://nitter.lucabased.xyz/jota_pamies\n"
     ]
    },
    {
     "name": "stderr",
     "output_type": "stream",
     "text": [
      "Buscando Authors:  71%|███████   | 71/100 [00:31<00:08,  3.50it/s]"
     ]
    },
    {
     "name": "stdout",
     "output_type": "stream",
     "text": [
      "Error al obtener el user xcreed17: 403 Client Error: Forbidden for url: https://nitter.poast.org/xcreed17\n",
      "Error al obtener el user DandydelCenteno: 429 Client Error: Too Many Requests for url: https://nitter.net/DandydelCenteno\n"
     ]
    },
    {
     "name": "stderr",
     "output_type": "stream",
     "text": [
      "Buscando Authors:  73%|███████▎  | 73/100 [00:31<00:05,  4.91it/s]"
     ]
    },
    {
     "name": "stdout",
     "output_type": "stream",
     "text": [
      "Error al obtener el user JoseCarlosFigu9: 403 Client Error: Forbidden for url: https://nitter.space/JoseCarlosFigu9\n",
      "Error al obtener el user gadolfobecquer3: 403 Client Error: Forbidden for url: https://nitter.lucabased.xyz/gadolfobecquer3\n"
     ]
    },
    {
     "name": "stderr",
     "output_type": "stream",
     "text": [
      "Buscando Authors:  74%|███████▍  | 74/100 [00:31<00:04,  5.37it/s]"
     ]
    },
    {
     "name": "stdout",
     "output_type": "stream",
     "text": [
      "Error al obtener el user mynor_marro: 403 Client Error: Forbidden for url: https://nitter.lucabased.xyz/mynor_marro\n"
     ]
    },
    {
     "name": "stderr",
     "output_type": "stream",
     "text": [
      "Buscando Authors:  78%|███████▊  | 78/100 [00:37<00:18,  1.17it/s]"
     ]
    },
    {
     "name": "stdout",
     "output_type": "stream",
     "text": [
      "Error al obtener el user Gato608: 403 Client Error: Forbidden for url: https://nitter.space/Gato608\n"
     ]
    },
    {
     "name": "stderr",
     "output_type": "stream",
     "text": [
      "Buscando Authors:  81%|████████  | 81/100 [00:37<00:08,  2.16it/s]"
     ]
    },
    {
     "name": "stdout",
     "output_type": "stream",
     "text": [
      "Error al obtener el user AlbertoNeiraL: 403 Client Error: Forbidden for url: https://nitter.poast.org/AlbertoNeiraL\n",
      "Error al obtener el user Cris44320199: 403 Client Error: Forbidden for url: https://nitter.space/Cris44320199\n",
      "Error al obtener el user RoyVargasGuido2: 403 Client Error: Forbidden for url: https://nitter.space/RoyVargasGuido2\n"
     ]
    },
    {
     "name": "stderr",
     "output_type": "stream",
     "text": [
      "Buscando Authors:  82%|████████▏ | 82/100 [00:38<00:06,  2.64it/s]"
     ]
    },
    {
     "name": "stdout",
     "output_type": "stream",
     "text": [
      "Error al obtener el user Reciodc10: 403 Client Error: Forbidden for url: https://nitter.lucabased.xyz/Reciodc10\n"
     ]
    },
    {
     "name": "stderr",
     "output_type": "stream",
     "text": [
      "Buscando Authors:  84%|████████▍ | 84/100 [00:38<00:05,  2.93it/s]"
     ]
    },
    {
     "name": "stdout",
     "output_type": "stream",
     "text": [
      "Error al obtener el user doblel66: 403 Client Error: Forbidden for url: https://nitter.poast.org/doblel66\n",
      "Error al obtener el user kmichael_travel: 403 Client Error: Forbidden for url: https://nitter.space/kmichael_travel\n"
     ]
    },
    {
     "name": "stderr",
     "output_type": "stream",
     "text": [
      "Buscando Authors:  85%|████████▌ | 85/100 [00:38<00:04,  3.44it/s]"
     ]
    },
    {
     "name": "stdout",
     "output_type": "stream",
     "text": [
      "Error al obtener el user carloseguerraa: 429 Client Error: Too Many Requests for url: https://nitter.net/carloseguerraa\n"
     ]
    },
    {
     "name": "stderr",
     "output_type": "stream",
     "text": [
      "Buscando Authors:  87%|████████▋ | 87/100 [00:39<00:03,  3.43it/s]"
     ]
    },
    {
     "name": "stdout",
     "output_type": "stream",
     "text": [
      "Error al obtener el user MiguelB35260361: 403 Client Error: Forbidden for url: https://nitter.poast.org/MiguelB35260361\n",
      "Error al obtener el user Flordel25270662: 403 Client Error: Forbidden for url: https://nitter.lucabased.xyz/Flordel25270662\n"
     ]
    },
    {
     "name": "stderr",
     "output_type": "stream",
     "text": [
      "Buscando Authors:  89%|████████▉ | 89/100 [00:39<00:02,  4.64it/s]"
     ]
    },
    {
     "name": "stdout",
     "output_type": "stream",
     "text": [
      "Error al obtener el user JoseMariBailo: 429 Client Error: Too Many Requests for url: https://nitter.net/JoseMariBailo\n",
      "Error al obtener el user LuisEmeJota: 403 Client Error: Forbidden for url: https://nitter.lucabased.xyz/LuisEmeJota\n"
     ]
    },
    {
     "name": "stderr",
     "output_type": "stream",
     "text": [
      "Buscando Authors:  90%|█████████ | 90/100 [00:40<00:03,  3.21it/s]"
     ]
    },
    {
     "name": "stdout",
     "output_type": "stream",
     "text": [
      "Error al obtener el user SALVATRACTIVE25: 403 Client Error: Forbidden for url: https://nitter.poast.org/SALVATRACTIVE25\n"
     ]
    },
    {
     "name": "stderr",
     "output_type": "stream",
     "text": [
      "Buscando Authors:  91%|█████████ | 91/100 [00:40<00:03,  2.59it/s]"
     ]
    },
    {
     "name": "stdout",
     "output_type": "stream",
     "text": [
      "Error al obtener el user crisant48428549: 403 Client Error: Forbidden for url: https://nitter.poast.org/crisant48428549\n"
     ]
    },
    {
     "name": "stderr",
     "output_type": "stream",
     "text": [
      "Buscando Authors:  95%|█████████▌| 95/100 [00:45<00:04,  1.23it/s]"
     ]
    },
    {
     "name": "stdout",
     "output_type": "stream",
     "text": [
      "Error al obtener el user Preludio84597: 429 Client Error: Too Many Requests for url: https://nitter.net/Preludio84597\n"
     ]
    },
    {
     "name": "stderr",
     "output_type": "stream",
     "text": [
      "Buscando Authors:  97%|█████████▋| 97/100 [00:45<00:01,  2.11it/s]"
     ]
    },
    {
     "name": "stdout",
     "output_type": "stream",
     "text": [
      "Error al obtener el user ajaa7711: 429 Client Error: Too Many Requests for url: https://nitter.net/ajaa7711\n",
      "Error al obtener el user Javiiic_a23: 403 Client Error: Forbidden for url: https://nitter.space/Javiiic_a23\n"
     ]
    },
    {
     "name": "stderr",
     "output_type": "stream",
     "text": [
      "Buscando Authors: 100%|██████████| 100/100 [00:47<00:00,  2.01it/s]"
     ]
    },
    {
     "name": "stdout",
     "output_type": "stream",
     "text": [
      "Error al obtener el user JuanSanchezSus1: 403 Client Error: Forbidden for url: https://nitter.space/JuanSanchezSus1\n",
      "Error al obtener el user Victoria1495652: 429 Client Error: Too Many Requests for url: https://nitter.net/Victoria1495652\n"
     ]
    },
    {
     "name": "stderr",
     "output_type": "stream",
     "text": [
      "Buscando Authors: 100%|██████████| 100/100 [00:47<00:00,  2.09it/s]\n"
     ]
    },
    {
     "ename": "ValueError",
     "evalue": "All arrays must be of the same length",
     "output_type": "error",
     "traceback": [
      "\u001b[31m---------------------------------------------------------------------------\u001b[39m",
      "\u001b[31mValueError\u001b[39m                                Traceback (most recent call last)",
      "\u001b[36mCell\u001b[39m\u001b[36m \u001b[39m\u001b[32mIn[26]\u001b[39m\u001b[32m, line 76\u001b[39m\n\u001b[32m     72\u001b[39m             df.to_csv(\u001b[33m'\u001b[39m\u001b[33mauthors_temp.csv\u001b[39m\u001b[33m'\u001b[39m, index=\u001b[38;5;28;01mFalse\u001b[39;00m)\n\u001b[32m     73\u001b[39m             df_error.to_csv(\u001b[33m'\u001b[39m\u001b[33merrors_author_temp.csv\u001b[39m\u001b[33m'\u001b[39m, index=\u001b[38;5;28;01mFalse\u001b[39;00m)\n\u001b[32m---> \u001b[39m\u001b[32m76\u001b[39m df = \u001b[43mpd\u001b[49m\u001b[43m.\u001b[49m\u001b[43mDataFrame\u001b[49m\u001b[43m(\u001b[49m\u001b[43mdata\u001b[49m\u001b[43m)\u001b[49m\n\u001b[32m     77\u001b[39m df_error = pd.DataFrame(error)\n\u001b[32m     78\u001b[39m df.to_csv(\u001b[33m'\u001b[39m\u001b[33mauthors.csv\u001b[39m\u001b[33m'\u001b[39m, index=\u001b[38;5;28;01mFalse\u001b[39;00m)\n",
      "\u001b[36mFile \u001b[39m\u001b[32mc:\\Users\\trodriguez\\AppData\\Local\\miniconda3\\envs\\tweets\\Lib\\site-packages\\pandas\\core\\frame.py:778\u001b[39m, in \u001b[36mDataFrame.__init__\u001b[39m\u001b[34m(self, data, index, columns, dtype, copy)\u001b[39m\n\u001b[32m    772\u001b[39m     mgr = \u001b[38;5;28mself\u001b[39m._init_mgr(\n\u001b[32m    773\u001b[39m         data, axes={\u001b[33m\"\u001b[39m\u001b[33mindex\u001b[39m\u001b[33m\"\u001b[39m: index, \u001b[33m\"\u001b[39m\u001b[33mcolumns\u001b[39m\u001b[33m\"\u001b[39m: columns}, dtype=dtype, copy=copy\n\u001b[32m    774\u001b[39m     )\n\u001b[32m    776\u001b[39m \u001b[38;5;28;01melif\u001b[39;00m \u001b[38;5;28misinstance\u001b[39m(data, \u001b[38;5;28mdict\u001b[39m):\n\u001b[32m    777\u001b[39m     \u001b[38;5;66;03m# GH#38939 de facto copy defaults to False only in non-dict cases\u001b[39;00m\n\u001b[32m--> \u001b[39m\u001b[32m778\u001b[39m     mgr = \u001b[43mdict_to_mgr\u001b[49m\u001b[43m(\u001b[49m\u001b[43mdata\u001b[49m\u001b[43m,\u001b[49m\u001b[43m \u001b[49m\u001b[43mindex\u001b[49m\u001b[43m,\u001b[49m\u001b[43m \u001b[49m\u001b[43mcolumns\u001b[49m\u001b[43m,\u001b[49m\u001b[43m \u001b[49m\u001b[43mdtype\u001b[49m\u001b[43m=\u001b[49m\u001b[43mdtype\u001b[49m\u001b[43m,\u001b[49m\u001b[43m \u001b[49m\u001b[43mcopy\u001b[49m\u001b[43m=\u001b[49m\u001b[43mcopy\u001b[49m\u001b[43m,\u001b[49m\u001b[43m \u001b[49m\u001b[43mtyp\u001b[49m\u001b[43m=\u001b[49m\u001b[43mmanager\u001b[49m\u001b[43m)\u001b[49m\n\u001b[32m    779\u001b[39m \u001b[38;5;28;01melif\u001b[39;00m \u001b[38;5;28misinstance\u001b[39m(data, ma.MaskedArray):\n\u001b[32m    780\u001b[39m     \u001b[38;5;28;01mfrom\u001b[39;00m\u001b[38;5;250m \u001b[39m\u001b[34;01mnumpy\u001b[39;00m\u001b[34;01m.\u001b[39;00m\u001b[34;01mma\u001b[39;00m\u001b[38;5;250m \u001b[39m\u001b[38;5;28;01mimport\u001b[39;00m mrecords\n",
      "\u001b[36mFile \u001b[39m\u001b[32mc:\\Users\\trodriguez\\AppData\\Local\\miniconda3\\envs\\tweets\\Lib\\site-packages\\pandas\\core\\internals\\construction.py:503\u001b[39m, in \u001b[36mdict_to_mgr\u001b[39m\u001b[34m(data, index, columns, dtype, typ, copy)\u001b[39m\n\u001b[32m    499\u001b[39m     \u001b[38;5;28;01melse\u001b[39;00m:\n\u001b[32m    500\u001b[39m         \u001b[38;5;66;03m# dtype check to exclude e.g. range objects, scalars\u001b[39;00m\n\u001b[32m    501\u001b[39m         arrays = [x.copy() \u001b[38;5;28;01mif\u001b[39;00m \u001b[38;5;28mhasattr\u001b[39m(x, \u001b[33m\"\u001b[39m\u001b[33mdtype\u001b[39m\u001b[33m\"\u001b[39m) \u001b[38;5;28;01melse\u001b[39;00m x \u001b[38;5;28;01mfor\u001b[39;00m x \u001b[38;5;129;01min\u001b[39;00m arrays]\n\u001b[32m--> \u001b[39m\u001b[32m503\u001b[39m \u001b[38;5;28;01mreturn\u001b[39;00m \u001b[43marrays_to_mgr\u001b[49m\u001b[43m(\u001b[49m\u001b[43marrays\u001b[49m\u001b[43m,\u001b[49m\u001b[43m \u001b[49m\u001b[43mcolumns\u001b[49m\u001b[43m,\u001b[49m\u001b[43m \u001b[49m\u001b[43mindex\u001b[49m\u001b[43m,\u001b[49m\u001b[43m \u001b[49m\u001b[43mdtype\u001b[49m\u001b[43m=\u001b[49m\u001b[43mdtype\u001b[49m\u001b[43m,\u001b[49m\u001b[43m \u001b[49m\u001b[43mtyp\u001b[49m\u001b[43m=\u001b[49m\u001b[43mtyp\u001b[49m\u001b[43m,\u001b[49m\u001b[43m \u001b[49m\u001b[43mconsolidate\u001b[49m\u001b[43m=\u001b[49m\u001b[43mcopy\u001b[49m\u001b[43m)\u001b[49m\n",
      "\u001b[36mFile \u001b[39m\u001b[32mc:\\Users\\trodriguez\\AppData\\Local\\miniconda3\\envs\\tweets\\Lib\\site-packages\\pandas\\core\\internals\\construction.py:114\u001b[39m, in \u001b[36marrays_to_mgr\u001b[39m\u001b[34m(arrays, columns, index, dtype, verify_integrity, typ, consolidate)\u001b[39m\n\u001b[32m    111\u001b[39m \u001b[38;5;28;01mif\u001b[39;00m verify_integrity:\n\u001b[32m    112\u001b[39m     \u001b[38;5;66;03m# figure out the index, if necessary\u001b[39;00m\n\u001b[32m    113\u001b[39m     \u001b[38;5;28;01mif\u001b[39;00m index \u001b[38;5;129;01mis\u001b[39;00m \u001b[38;5;28;01mNone\u001b[39;00m:\n\u001b[32m--> \u001b[39m\u001b[32m114\u001b[39m         index = \u001b[43m_extract_index\u001b[49m\u001b[43m(\u001b[49m\u001b[43marrays\u001b[49m\u001b[43m)\u001b[49m\n\u001b[32m    115\u001b[39m     \u001b[38;5;28;01melse\u001b[39;00m:\n\u001b[32m    116\u001b[39m         index = ensure_index(index)\n",
      "\u001b[36mFile \u001b[39m\u001b[32mc:\\Users\\trodriguez\\AppData\\Local\\miniconda3\\envs\\tweets\\Lib\\site-packages\\pandas\\core\\internals\\construction.py:677\u001b[39m, in \u001b[36m_extract_index\u001b[39m\u001b[34m(data)\u001b[39m\n\u001b[32m    675\u001b[39m lengths = \u001b[38;5;28mlist\u001b[39m(\u001b[38;5;28mset\u001b[39m(raw_lengths))\n\u001b[32m    676\u001b[39m \u001b[38;5;28;01mif\u001b[39;00m \u001b[38;5;28mlen\u001b[39m(lengths) > \u001b[32m1\u001b[39m:\n\u001b[32m--> \u001b[39m\u001b[32m677\u001b[39m     \u001b[38;5;28;01mraise\u001b[39;00m \u001b[38;5;167;01mValueError\u001b[39;00m(\u001b[33m\"\u001b[39m\u001b[33mAll arrays must be of the same length\u001b[39m\u001b[33m\"\u001b[39m)\n\u001b[32m    679\u001b[39m \u001b[38;5;28;01mif\u001b[39;00m have_dicts:\n\u001b[32m    680\u001b[39m     \u001b[38;5;28;01mraise\u001b[39;00m \u001b[38;5;167;01mValueError\u001b[39;00m(\n\u001b[32m    681\u001b[39m         \u001b[33m\"\u001b[39m\u001b[33mMixing dicts with non-Series may lead to ambiguous ordering.\u001b[39m\u001b[33m\"\u001b[39m\n\u001b[32m    682\u001b[39m     )\n",
      "\u001b[31mValueError\u001b[39m: All arrays must be of the same length"
     ]
    }
   ],
   "source": [
    "cont = 0\n",
    "\n",
    "data = {\n",
    "    'author_id': [],\n",
    "    'username': [],\n",
    "    'fullname': [],\n",
    "    'biography': [],\n",
    "    'verified': [],\n",
    "    'joined_datetime': [],\n",
    "    'tweets_count': [],\n",
    "    'following_count': [], \n",
    "    'followers_count': [],\n",
    "    'likes_count': [],\n",
    "    'profile_picture_url': [],\n",
    "    'banner_picture_url': []\n",
    "}\n",
    "\n",
    "error = {\n",
    "    'username': [],\n",
    "}\n",
    "\n",
    "for row in tqdm(df_authors.itertuples(), total=len(df_authors), desc='Buscando Authors'):\n",
    "    \n",
    "    # check if the tweet was already processed\n",
    "    if 'df_anterior' in locals():\n",
    "        if row.author in df_anterior.username.values:\n",
    "            cont += 1\n",
    "            continue\n",
    "\n",
    "    try:\n",
    "        user = pnytter.find_user(row.author) \n",
    "    except Exception as e:\n",
    "        cont += 1\n",
    "        print(f\"Error al obtener el user {row.author}: {e}\")\n",
    "        error['username'].append(row.author)\n",
    "        continue\n",
    "\n",
    "    if not(user is None):\n",
    "\n",
    "        try: \n",
    "            data['author_id'].append(user.id) \n",
    "            data['fullname'].append(user.fullname)\n",
    "            data['biography'].append(user.biography)\n",
    "            data['verified'].append(user.verified)\n",
    "            if user.joined_datetime:\n",
    "                data['joined_datetime'].append(user.joined_datetime.strftime('%Y-%m-%d %H:%M:%S'))\n",
    "            else:\n",
    "                data['joined_datetime'].append('')\n",
    "            data['tweets_count'].append(user.stats.tweets)\n",
    "            data['following_count'].append(user.stats.following)\n",
    "            data['followers_count'].append(user.stats.followers)\n",
    "            data['likes_count'].append(user.stats.likes)\n",
    "            if user.pictures.profile.twitter_url:\n",
    "                data['profile_picture_url'].append(str(user.pictures.profile.twitter_url))\n",
    "            else:\n",
    "                data['profile_picture_url'].append('')\n",
    "            if user.pictures.banner.twitter_url:\n",
    "                data['banner_picture_url'].append(str(user.pictures.banner.twitter_url))\n",
    "            else:\n",
    "                data['banner_picture_url'].append('')\n",
    "            data['username'].append(row.author)\n",
    "\n",
    "        except AttributeError:\n",
    "            error['username'].append(row.author)\n",
    "\n",
    "        cont += 1\n",
    "\n",
    "        if cont == 100:\n",
    "            cont = 0       \n",
    "            df = pd.DataFrame(data)\n",
    "            df_error = pd.DataFrame(error)\n",
    "            df.to_csv('authors_temp.csv', index=False)\n",
    "            df_error.to_csv('errors_author_temp.csv', index=False)\n",
    "\n",
    "\n",
    "df = pd.DataFrame(data)\n",
    "df_error = pd.DataFrame(error)\n",
    "df.to_csv('authors.csv', index=False)\n",
    "df_error.to_csv('errors_author.csv', index=False)\n",
    "print(\"Archivos authors.csv y errors_author.csv generados correctamente.\")\n"
   ]
  },
  {
   "cell_type": "code",
   "execution_count": 17,
   "metadata": {},
   "outputs": [],
   "source": [
    "if user.pictures.banner.twitter_url:\n",
    "    str(user.pictures.banner.twitter_url)\n",
    "else: \n",
    "    None"
   ]
  },
  {
   "cell_type": "code",
   "execution_count": 29,
   "metadata": {},
   "outputs": [
    {
     "data": {
      "text/plain": [
       "['https://pbs.twimg.com/profile_banners/1694344217554776065/1730813202/1500x500',\n",
       " 'https://pbs.twimg.com/profile_banners/1024300438278078464/1658338265/1500x500',\n",
       " 'https://pbs.twimg.com/profile_banners/185392823/1655927673/1500x500',\n",
       " 'https://pbs.twimg.com/profile_banners/1597641671302385668/1677267899/1500x500',\n",
       " 'https://pbs.twimg.com/profile_banners/308092811/1715776044/1500x500',\n",
       " 'https://pbs.twimg.com/profile_banners/3154566215/1439471443/1500x500',\n",
       " 'https://pbs.twimg.com/profile_banners/1328144932318703617/1644084285/1500x500',\n",
       " 'https://pbs.twimg.com/profile_banners/3019584137/1628740136/1500x500',\n",
       " 'https://pbs.twimg.com/profile_banners/4878820983/1617548230/1500x500',\n",
       " 'https://pbs.twimg.com/profile_banners/250765556/1621938473/1500x500',\n",
       " 'https://pbs.twimg.com/profile_banners/1521485664998633477/1704473004/1500x500',\n",
       " 'https://pbs.twimg.com/profile_banners/1280870751759892481/1607983090/1500x500',\n",
       " 'https://pbs.twimg.com/profile_banners/1122628896/1675037646/1500x500']"
      ]
     },
     "execution_count": 29,
     "metadata": {},
     "output_type": "execute_result"
    }
   ],
   "source": [
    "data['banner_picture_url']"
   ]
  },
  {
   "cell_type": "code",
   "execution_count": 27,
   "metadata": {},
   "outputs": [
    {
     "data": {
      "text/plain": [
       "13"
      ]
     },
     "execution_count": 27,
     "metadata": {},
     "output_type": "execute_result"
    }
   ],
   "source": [
    "len(data['banner_picture_url'])"
   ]
  },
  {
   "cell_type": "code",
   "execution_count": 28,
   "metadata": {},
   "outputs": [
    {
     "data": {
      "text/plain": [
       "17"
      ]
     },
     "execution_count": 28,
     "metadata": {},
     "output_type": "execute_result"
    }
   ],
   "source": [
    "len(data['profile_picture_url'])"
   ]
  },
  {
   "cell_type": "markdown",
   "metadata": {},
   "source": [
    "## Concat de retweets_previo y retweets\n",
    "\n",
    "Cómo hemos comentado anteriormente, si hemos partido de datos ya descargados, partiremos de retweets_previo, por eso hemos de hacer un concat de retweets_previo y retweets en retweets_final."
   ]
  },
  {
   "cell_type": "code",
   "execution_count": null,
   "metadata": {},
   "outputs": [],
   "source": [
    "if os.path.exists('authors_previo.csv'):\n",
    "    df_temp = pd.read_csv('authors_previo.csv')\n",
    "    if os.path.exists('authors.csv'):\n",
    "        df = pd.read_csv('authors.csv')\n",
    "        df_final = pd.concat([df, df_temp], ignore_index=True)\n",
    "        df_final.to_csv('authors_final.csv', index=False)"
   ]
  },
  {
   "cell_type": "code",
   "execution_count": null,
   "metadata": {},
   "outputs": [],
   "source": [
    "print(\"Datos en authors Previos:\", df_temp.shape)\n",
    "print(\"Datos descargados en esta ejecución:\", df.shape)\n",
    "print(\"Datos Totales:\", df_final.shape)"
   ]
  },
  {
   "cell_type": "code",
   "execution_count": null,
   "metadata": {},
   "outputs": [],
   "source": [
    "# Verificar duplicatas em todas as colunas\n",
    "duplicated_rows = df_final[df_final.duplicated()]\n",
    "\n",
    "# Exibir as duplicatas\n",
    "print(duplicated_rows)\n",
    "\n",
    "# Contar o número de duplicatas\n",
    "print(f\"Número de duplicatas: {duplicated_rows.shape[0]}\")"
   ]
  },
  {
   "cell_type": "code",
   "execution_count": null,
   "metadata": {},
   "outputs": [],
   "source": [
    "# Verificar duplicatas em todas as colunas\n",
    "duplicated_rows = df[df.duplicated()]\n",
    "\n",
    "# Exibir as duplicatas\n",
    "print(duplicated_rows)\n",
    "\n",
    "# Contar o número de duplicatas\n",
    "print(f\"Número de duplicatas: {duplicated_rows.shape[0]}\")"
   ]
  },
  {
   "cell_type": "code",
   "execution_count": null,
   "metadata": {},
   "outputs": [],
   "source": [
    "# Verificar duplicatas em todas as colunas\n",
    "duplicated_rows = df_temp[df_temp.duplicated()]\n",
    "\n",
    "# Exibir as duplicatas\n",
    "print(duplicated_rows)\n",
    "\n",
    "# Contar o número de duplicatas\n",
    "print(f\"Número de duplicatas: {duplicated_rows.shape[0]}\")"
   ]
  },
  {
   "cell_type": "code",
   "execution_count": null,
   "metadata": {},
   "outputs": [],
   "source": [
    "# borramos y renombramos los ficheros resultantes\n",
    "os.remove('retweets.csv')\n",
    "os.remove('retweets_previo.csv')\n",
    "os.rename('retweets_final.csv', 'retweets_previo.csv')"
   ]
  },
  {
   "cell_type": "code",
   "execution_count": null,
   "metadata": {},
   "outputs": [],
   "source": [
    "df_test = pd.read_csv('retweets_previo.csv')\n",
    "print(\"Datos Finales:\", df_test.shape)"
   ]
  }
 ],
 "metadata": {
  "kernelspec": {
   "display_name": "tweets",
   "language": "python",
   "name": "python3"
  },
  "language_info": {
   "codemirror_mode": {
    "name": "ipython",
    "version": 3
   },
   "file_extension": ".py",
   "mimetype": "text/x-python",
   "name": "python",
   "nbconvert_exporter": "python",
   "pygments_lexer": "ipython3",
   "version": "3.11.11"
  }
 },
 "nbformat": 4,
 "nbformat_minor": 4
}
