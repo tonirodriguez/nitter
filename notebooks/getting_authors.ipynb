{
 "cells": [
  {
   "cell_type": "markdown",
   "metadata": {},
   "source": [
    "# GETTING INFORMATION FROM AUTHORS"
   ]
  },
  {
   "cell_type": "code",
   "execution_count": 1,
   "metadata": {},
   "outputs": [],
   "source": [
    "import json, os\n",
    "import datetime\n",
    "from pydantic import HttpUrl\n",
    "import pandas as pd\n",
    "from tqdm import tqdm\n",
    "\n",
    "from pnytter import Pnytter"
   ]
  },
  {
   "cell_type": "markdown",
   "metadata": {},
   "source": [
    "## 1. Load the Author's list\n",
    "\n",
    "Obtenemos esta lista, a partir de los datos de los retweets, obteniendo los autores únicos"
   ]
  },
  {
   "cell_type": "code",
   "execution_count": 2,
   "metadata": {},
   "outputs": [],
   "source": [
    "df_retweets = pd.read_csv('retweets_previo.csv', index_col=None)\n",
    "df_retweets = df_retweets.rename(columns={'count_star()':'ocurrencias'})"
   ]
  },
  {
   "cell_type": "code",
   "execution_count": 3,
   "metadata": {},
   "outputs": [
    {
     "data": {
      "text/html": [
       "<div>\n",
       "<style scoped>\n",
       "    .dataframe tbody tr th:only-of-type {\n",
       "        vertical-align: middle;\n",
       "    }\n",
       "\n",
       "    .dataframe tbody tr th {\n",
       "        vertical-align: top;\n",
       "    }\n",
       "\n",
       "    .dataframe thead th {\n",
       "        text-align: right;\n",
       "    }\n",
       "</style>\n",
       "<table border=\"1\" class=\"dataframe\">\n",
       "  <thead>\n",
       "    <tr style=\"text-align: right;\">\n",
       "      <th></th>\n",
       "      <th>tweet_id</th>\n",
       "      <th>author</th>\n",
       "      <th>author_id</th>\n",
       "      <th>created_at</th>\n",
       "      <th>text</th>\n",
       "      <th>retweets_count</th>\n",
       "      <th>comments_count</th>\n",
       "      <th>likes_count</th>\n",
       "      <th>quotes_count</th>\n",
       "    </tr>\n",
       "  </thead>\n",
       "  <tbody>\n",
       "    <tr>\n",
       "      <th>0</th>\n",
       "      <td>1805843500069437937</td>\n",
       "      <td>TonyRoj97441120</td>\n",
       "      <td>967339935777869824</td>\n",
       "      <td>2024-06-26 06:00:00+00:00</td>\n",
       "      <td>Tienes razón,el pagafantas es tu jefe de gobie...</td>\n",
       "      <td>0</td>\n",
       "      <td>0</td>\n",
       "      <td>0</td>\n",
       "      <td>0</td>\n",
       "    </tr>\n",
       "    <tr>\n",
       "      <th>1</th>\n",
       "      <td>1807452579426599256</td>\n",
       "      <td>aridany80</td>\n",
       "      <td>1358153328073584653</td>\n",
       "      <td>2024-06-30 16:34:00+00:00</td>\n",
       "      <td>Idiota si tú quieres que se queden jajajajajs ...</td>\n",
       "      <td>0</td>\n",
       "      <td>0</td>\n",
       "      <td>0</td>\n",
       "      <td>0</td>\n",
       "    </tr>\n",
       "    <tr>\n",
       "      <th>2</th>\n",
       "      <td>1806878139471077701</td>\n",
       "      <td>RicarditoMtz</td>\n",
       "      <td>317444245</td>\n",
       "      <td>2024-06-29 02:31:00+00:00</td>\n",
       "      <td>No paras de hacer el ridículo ahora hay que ce...</td>\n",
       "      <td>0</td>\n",
       "      <td>0</td>\n",
       "      <td>8</td>\n",
       "      <td>0</td>\n",
       "    </tr>\n",
       "    <tr>\n",
       "      <th>3</th>\n",
       "      <td>1807894027418980425</td>\n",
       "      <td>Alejand67264632</td>\n",
       "      <td>1381734361058439168</td>\n",
       "      <td>2024-07-01 21:48:00+00:00</td>\n",
       "      <td>que vieja más pendeja esta</td>\n",
       "      <td>0</td>\n",
       "      <td>0</td>\n",
       "      <td>0</td>\n",
       "      <td>0</td>\n",
       "    </tr>\n",
       "    <tr>\n",
       "      <th>4</th>\n",
       "      <td>1806319715532275859</td>\n",
       "      <td>ceciliohrubira</td>\n",
       "      <td>792789250500616192</td>\n",
       "      <td>2024-06-27 13:32:00+00:00</td>\n",
       "      <td>Estudia, María, que eres muy tendenciosa. Hay ...</td>\n",
       "      <td>0</td>\n",
       "      <td>0</td>\n",
       "      <td>0</td>\n",
       "      <td>0</td>\n",
       "    </tr>\n",
       "  </tbody>\n",
       "</table>\n",
       "</div>"
      ],
      "text/plain": [
       "              tweet_id           author            author_id  \\\n",
       "0  1805843500069437937  TonyRoj97441120   967339935777869824   \n",
       "1  1807452579426599256        aridany80  1358153328073584653   \n",
       "2  1806878139471077701     RicarditoMtz            317444245   \n",
       "3  1807894027418980425  Alejand67264632  1381734361058439168   \n",
       "4  1806319715532275859   ceciliohrubira   792789250500616192   \n",
       "\n",
       "                  created_at  \\\n",
       "0  2024-06-26 06:00:00+00:00   \n",
       "1  2024-06-30 16:34:00+00:00   \n",
       "2  2024-06-29 02:31:00+00:00   \n",
       "3  2024-07-01 21:48:00+00:00   \n",
       "4  2024-06-27 13:32:00+00:00   \n",
       "\n",
       "                                                text  retweets_count  \\\n",
       "0  Tienes razón,el pagafantas es tu jefe de gobie...               0   \n",
       "1  Idiota si tú quieres que se queden jajajajajs ...               0   \n",
       "2  No paras de hacer el ridículo ahora hay que ce...               0   \n",
       "3                         que vieja más pendeja esta               0   \n",
       "4  Estudia, María, que eres muy tendenciosa. Hay ...               0   \n",
       "\n",
       "   comments_count  likes_count  quotes_count  \n",
       "0               0            0             0  \n",
       "1               0            0             0  \n",
       "2               0            8             0  \n",
       "3               0            0             0  \n",
       "4               0            0             0  "
      ]
     },
     "execution_count": 3,
     "metadata": {},
     "output_type": "execute_result"
    }
   ],
   "source": [
    "df_retweets.head()"
   ]
  },
  {
   "cell_type": "code",
   "execution_count": 4,
   "metadata": {},
   "outputs": [],
   "source": [
    "df_authors = pd.DataFrame(df_retweets.author.value_counts()).reset_index()\n",
    "df_authors = df_authors.rename(columns={'count':'ocurrencias'})"
   ]
  },
  {
   "cell_type": "code",
   "execution_count": 5,
   "metadata": {},
   "outputs": [
    {
     "data": {
      "text/html": [
       "<div>\n",
       "<style scoped>\n",
       "    .dataframe tbody tr th:only-of-type {\n",
       "        vertical-align: middle;\n",
       "    }\n",
       "\n",
       "    .dataframe tbody tr th {\n",
       "        vertical-align: top;\n",
       "    }\n",
       "\n",
       "    .dataframe thead th {\n",
       "        text-align: right;\n",
       "    }\n",
       "</style>\n",
       "<table border=\"1\" class=\"dataframe\">\n",
       "  <thead>\n",
       "    <tr style=\"text-align: right;\">\n",
       "      <th></th>\n",
       "      <th>author</th>\n",
       "      <th>ocurrencias</th>\n",
       "    </tr>\n",
       "  </thead>\n",
       "  <tbody>\n",
       "    <tr>\n",
       "      <th>0</th>\n",
       "      <td>v66710974699714</td>\n",
       "      <td>94</td>\n",
       "    </tr>\n",
       "    <tr>\n",
       "      <th>1</th>\n",
       "      <td>quinomartinez58</td>\n",
       "      <td>14</td>\n",
       "    </tr>\n",
       "    <tr>\n",
       "      <th>2</th>\n",
       "      <td>Agc_19827</td>\n",
       "      <td>6</td>\n",
       "    </tr>\n",
       "    <tr>\n",
       "      <th>3</th>\n",
       "      <td>AE_HencheDiego</td>\n",
       "      <td>6</td>\n",
       "    </tr>\n",
       "    <tr>\n",
       "      <th>4</th>\n",
       "      <td>thorito2014</td>\n",
       "      <td>5</td>\n",
       "    </tr>\n",
       "  </tbody>\n",
       "</table>\n",
       "</div>"
      ],
      "text/plain": [
       "            author  ocurrencias\n",
       "0  v66710974699714           94\n",
       "1  quinomartinez58           14\n",
       "2        Agc_19827            6\n",
       "3   AE_HencheDiego            6\n",
       "4      thorito2014            5"
      ]
     },
     "execution_count": 5,
     "metadata": {},
     "output_type": "execute_result"
    }
   ],
   "source": [
    "df_authors.head()"
   ]
  },
  {
   "cell_type": "code",
   "execution_count": 6,
   "metadata": {},
   "outputs": [
    {
     "data": {
      "text/plain": [
       "(1309, 2)"
      ]
     },
     "execution_count": 6,
     "metadata": {},
     "output_type": "execute_result"
    }
   ],
   "source": [
    "df_authors.shape"
   ]
  },
  {
   "cell_type": "code",
   "execution_count": 7,
   "metadata": {},
   "outputs": [],
   "source": [
    "df_authors = df_authors.head(100)"
   ]
  },
  {
   "cell_type": "markdown",
   "metadata": {},
   "source": [
    "## 2. Get the Author's information"
   ]
  },
  {
   "cell_type": "code",
   "execution_count": 8,
   "metadata": {},
   "outputs": [],
   "source": [
    "# The Pnytter object needs at least 1 Nitter instance to work, but these can be added after initialization\n",
    "pnytter = Pnytter(\n",
    "  #nitter_instances=[\"http://localhost:8080\"]\n",
    "  nitter_instances=[\n",
    "  #'https://xcancel.com',\n",
    " 'https://lightbrd.com',\n",
    " 'https://nitter.lucabased.xyz',\n",
    " 'https://nitter.space',\n",
    " 'https://nitter.net',\n",
    " #'https://nitter.privacyredirect.com',\n",
    "  #'https://nitter.privacydev.net',\n",
    " 'https://nitter.poast.org']\n",
    "  #'http://nitter.coffee2m3bjsrrqqycx6ghkxrnejl2q6nl7pjw2j4clchjj6uk5zozad.onion']\n",
    ")"
   ]
  },
  {
   "cell_type": "markdown",
   "metadata": {},
   "source": [
    "Si partimos de datos ya descagados, estos han de estar en un fichero denominado **authors_previo.csv** para seguir descargando datos a partir de estos."
   ]
  },
  {
   "cell_type": "code",
   "execution_count": 9,
   "metadata": {},
   "outputs": [],
   "source": [
    "if os.path.exists('authors_previo.csv'):\n",
    "    df_anterior = pd.read_csv('authors_previo.csv')"
   ]
  },
  {
   "cell_type": "code",
   "execution_count": 10,
   "metadata": {},
   "outputs": [
    {
     "data": {
      "text/plain": [
       "{'id': 19816793,\n",
       " 'username': 'MiguelAngel_',\n",
       " 'fullname': 'Miguel A_lf',\n",
       " 'biography': 'la curiosidad mato al gato.....por eso le dieron 7 vidas...',\n",
       " 'verified': True,\n",
       " 'joined_datetime': datetime.datetime(2009, 1, 31, 14, 36, tzinfo=datetime.timezone.utc),\n",
       " 'stats': {'tweets': 16981, 'following': 46, 'followers': 58, 'likes': 729},\n",
       " 'pictures': {'profile': {'twitter_url': HttpUrl('https://pbs.twimg.com/profile_images/1680813410185891840/RSupFctd.jpg', scheme='https', host='pbs.twimg.com', tld='com', host_type='domain', port='443', path='/profile_images/1680813410185891840/RSupFctd.jpg'),\n",
       "   'nitter_path': '/pic/pbs.twimg.com%2Fprofile_images%2F1680813410185891840%2FRSupFctd.jpg'},\n",
       "  'banner': {'twitter_url': HttpUrl('https://pbs.twimg.com/profile_banners/19816793/1645769094/1500x500', scheme='https', host='pbs.twimg.com', tld='com', host_type='domain', port='443', path='/profile_banners/19816793/1645769094/1500x500'),\n",
       "   'nitter_path': '/pic/https%3A%2F%2Fpbs.twimg.com%2Fprofile_banners%2F19816793%2F1645769094%2F1500x500'}}}"
      ]
     },
     "execution_count": 10,
     "metadata": {},
     "output_type": "execute_result"
    }
   ],
   "source": [
    "{'id': 19816793,\n",
    " 'username': 'MiguelAngel_',\n",
    " 'fullname': 'Miguel A_lf',\n",
    " 'biography': 'la curiosidad mato al gato.....por eso le dieron 7 vidas...',\n",
    " 'verified': True,\n",
    " 'joined_datetime': datetime.datetime(2009, 1, 31, 14, 36, tzinfo=datetime.timezone.utc),\n",
    " 'stats': {'tweets': 16981, 'following': 46, 'followers': 58, 'likes': 729},\n",
    " 'pictures': {'profile': {'twitter_url': HttpUrl('https://pbs.twimg.com/profile_images/1680813410185891840/RSupFctd.jpg', scheme='https', host='pbs.twimg.com', tld='com', host_type='domain', port='443', path='/profile_images/1680813410185891840/RSupFctd.jpg'),\n",
    "                          'nitter_path': '/pic/pbs.twimg.com%2Fprofile_images%2F1680813410185891840%2FRSupFctd.jpg'},\n",
    "              'banner': {'twitter_url': HttpUrl('https://pbs.twimg.com/profile_banners/19816793/1645769094/1500x500', scheme='https', host='pbs.twimg.com', tld='com', host_type='domain', port='443', path='/profile_banners/19816793/1645769094/1500x500'),\n",
    "                         'nitter_path': '/pic/https%3A%2F%2Fpbs.twimg.com%2Fprofile_banners%2F19816793%2F1645769094%2F1500x500'}}}"
   ]
  },
  {
   "cell_type": "code",
   "execution_count": 11,
   "metadata": {},
   "outputs": [
    {
     "name": "stderr",
     "output_type": "stream",
     "text": [
      "Buscando Authors:   2%|▏         | 2/100 [00:00<00:16,  5.83it/s]"
     ]
    },
    {
     "name": "stdout",
     "output_type": "stream",
     "text": [
      "Error al obtener el user v66710974699714: 429 Client Error: Too Many Requests for url: https://nitter.net/v66710974699714\n",
      "Error al obtener el user quinomartinez58: 429 Client Error: Too Many Requests for url: https://nitter.net/quinomartinez58\n"
     ]
    },
    {
     "name": "stderr",
     "output_type": "stream",
     "text": [
      "Buscando Authors:   3%|▎         | 3/100 [00:00<00:32,  2.95it/s]"
     ]
    },
    {
     "name": "stdout",
     "output_type": "stream",
     "text": [
      "Error al obtener el user Agc_19827: 403 Client Error: Forbidden for url: https://nitter.poast.org/Agc_19827\n"
     ]
    },
    {
     "name": "stderr",
     "output_type": "stream",
     "text": [
      "Buscando Authors:   4%|▍         | 4/100 [00:01<00:39,  2.43it/s]"
     ]
    },
    {
     "name": "stdout",
     "output_type": "stream",
     "text": [
      "Error al obtener el user AE_HencheDiego: 403 Client Error: Forbidden for url: https://nitter.poast.org/AE_HencheDiego\n"
     ]
    },
    {
     "name": "stderr",
     "output_type": "stream",
     "text": [
      "Buscando Authors:   6%|▌         | 6/100 [00:02<00:31,  2.97it/s]"
     ]
    },
    {
     "name": "stdout",
     "output_type": "stream",
     "text": [
      "Error al obtener el user thorito2014: 403 Client Error: Forbidden for url: https://nitter.poast.org/thorito2014\n",
      "Error al obtener el user evathees: 403 Client Error: Forbidden for url: https://nitter.space/evathees\n"
     ]
    },
    {
     "name": "stderr",
     "output_type": "stream",
     "text": [
      "Buscando Authors:   8%|▊         | 8/100 [00:02<00:19,  4.63it/s]"
     ]
    },
    {
     "name": "stdout",
     "output_type": "stream",
     "text": [
      "Error al obtener el user lavanduardia012: 403 Client Error: Forbidden for url: https://nitter.lucabased.xyz/lavanduardia012\n",
      "Error al obtener el user Luis22Pedro: 403 Client Error: Forbidden for url: https://nitter.space/Luis22Pedro\n"
     ]
    },
    {
     "name": "stderr",
     "output_type": "stream",
     "text": [
      "Buscando Authors:  10%|█         | 10/100 [00:02<00:15,  5.93it/s]"
     ]
    },
    {
     "name": "stdout",
     "output_type": "stream",
     "text": [
      "Error al obtener el user jdonosolorenzo: 403 Client Error: Forbidden for url: https://nitter.space/jdonosolorenzo\n",
      "Error al obtener el user LuisR_86: 403 Client Error: Forbidden for url: https://nitter.lucabased.xyz/LuisR_86\n"
     ]
    },
    {
     "name": "stderr",
     "output_type": "stream",
     "text": [
      "Buscando Authors:  12%|█▏        | 12/100 [00:02<00:15,  5.71it/s]"
     ]
    },
    {
     "name": "stdout",
     "output_type": "stream",
     "text": [
      "Error al obtener el user Titaniu27960435: 'NoneType' object has no attribute 'text'\n",
      "Error al obtener el user Pilar01039688: 429 Client Error: Too Many Requests for url: https://nitter.net/Pilar01039688\n"
     ]
    },
    {
     "name": "stderr",
     "output_type": "stream",
     "text": [
      "Buscando Authors:  14%|█▍        | 14/100 [00:03<00:12,  6.99it/s]"
     ]
    },
    {
     "name": "stdout",
     "output_type": "stream",
     "text": [
      "Error al obtener el user bourne64118534: 403 Client Error: Forbidden for url: https://nitter.lucabased.xyz/bourne64118534\n",
      "Error al obtener el user alanaco14715853: 403 Client Error: Forbidden for url: https://nitter.space/alanaco14715853\n"
     ]
    },
    {
     "name": "stderr",
     "output_type": "stream",
     "text": [
      "Buscando Authors:  16%|█▌        | 16/100 [00:03<00:13,  6.13it/s]"
     ]
    },
    {
     "name": "stdout",
     "output_type": "stream",
     "text": [
      "Error al obtener el user fernandovilabla: 'NoneType' object has no attribute 'text'\n",
      "Error al obtener el user MIGUELHOSPI: 'NoneType' object has no attribute 'text'\n"
     ]
    },
    {
     "name": "stderr",
     "output_type": "stream",
     "text": [
      "Buscando Authors:  17%|█▋        | 17/100 [00:03<00:13,  6.10it/s]"
     ]
    },
    {
     "name": "stdout",
     "output_type": "stream",
     "text": [
      "Error al obtener el user pedroluisanta7: 429 Client Error: Too Many Requests for url: https://nitter.net/pedroluisanta7\n"
     ]
    },
    {
     "name": "stderr",
     "output_type": "stream",
     "text": [
      "Buscando Authors:  19%|█▉        | 19/100 [00:06<00:51,  1.58it/s]"
     ]
    },
    {
     "name": "stdout",
     "output_type": "stream",
     "text": [
      "Error al obtener el user Malditasea84611: 403 Client Error: Forbidden for url: https://nitter.poast.org/Malditasea84611\n"
     ]
    },
    {
     "name": "stderr",
     "output_type": "stream",
     "text": [
      "Buscando Authors:  20%|██        | 20/100 [00:07<01:10,  1.14it/s]"
     ]
    },
    {
     "name": "stdout",
     "output_type": "stream",
     "text": [
      "Error al obtener el user Borghi1970: 403 Client Error: Forbidden for url: https://nitter.lucabased.xyz/Borghi1970\n"
     ]
    },
    {
     "name": "stderr",
     "output_type": "stream",
     "text": [
      "Buscando Authors:  25%|██▌       | 25/100 [00:10<00:45,  1.65it/s]"
     ]
    },
    {
     "name": "stdout",
     "output_type": "stream",
     "text": [
      "Error al obtener el user Pepvalldo2: 403 Client Error: Forbidden for url: https://nitter.space/Pepvalldo2\n",
      "Error al obtener el user GioOrwell1984: 403 Client Error: Forbidden for url: https://nitter.space/GioOrwell1984\n"
     ]
    },
    {
     "name": "stderr",
     "output_type": "stream",
     "text": [
      "Buscando Authors:  29%|██▉       | 29/100 [00:14<00:47,  1.51it/s]"
     ]
    },
    {
     "name": "stdout",
     "output_type": "stream",
     "text": [
      "Error al obtener el user kova022: 403 Client Error: Forbidden for url: https://nitter.space/kova022\n",
      "Error al obtener el user GabelaRaul: 'NoneType' object has no attribute 'text'\n"
     ]
    },
    {
     "name": "stderr",
     "output_type": "stream",
     "text": [
      "Buscando Authors:  31%|███       | 31/100 [00:14<00:27,  2.53it/s]"
     ]
    },
    {
     "name": "stdout",
     "output_type": "stream",
     "text": [
      "Error al obtener el user FredyAguirreL: 'NoneType' object has no attribute 'text'\n",
      "Error al obtener el user bocapapa74: 403 Client Error: Forbidden for url: https://nitter.lucabased.xyz/bocapapa74\n"
     ]
    },
    {
     "name": "stderr",
     "output_type": "stream",
     "text": [
      "Buscando Authors:  32%|███▏      | 32/100 [00:15<00:29,  2.28it/s]"
     ]
    },
    {
     "name": "stdout",
     "output_type": "stream",
     "text": [
      "Error al obtener el user queguasa: 403 Client Error: Forbidden for url: https://nitter.poast.org/queguasa\n"
     ]
    },
    {
     "name": "stderr",
     "output_type": "stream",
     "text": [
      "Buscando Authors:  33%|███▎      | 33/100 [00:16<00:31,  2.13it/s]"
     ]
    },
    {
     "name": "stdout",
     "output_type": "stream",
     "text": [
      "Error al obtener el user filipjotafrai: 403 Client Error: Forbidden for url: https://nitter.poast.org/filipjotafrai\n"
     ]
    },
    {
     "name": "stderr",
     "output_type": "stream",
     "text": [
      "Buscando Authors:  36%|███▌      | 36/100 [00:18<00:36,  1.76it/s]"
     ]
    },
    {
     "name": "stdout",
     "output_type": "stream",
     "text": [
      "Error al obtener el user diazmedina58: 403 Client Error: Forbidden for url: https://nitter.poast.org/diazmedina58\n",
      "Error al obtener el user raafiitaa_: 'NoneType' object has no attribute 'text'\n"
     ]
    },
    {
     "name": "stderr",
     "output_type": "stream",
     "text": [
      "Buscando Authors:  37%|███▋      | 37/100 [00:18<00:27,  2.32it/s]"
     ]
    },
    {
     "name": "stdout",
     "output_type": "stream",
     "text": [
      "Error al obtener el user SergiEstape: 403 Client Error: Forbidden for url: https://nitter.lucabased.xyz/SergiEstape\n"
     ]
    },
    {
     "name": "stderr",
     "output_type": "stream",
     "text": [
      "Buscando Authors:  41%|████      | 41/100 [00:20<00:21,  2.69it/s]"
     ]
    },
    {
     "name": "stdout",
     "output_type": "stream",
     "text": [
      "Error al obtener el user Natalia01664757: 'NoneType' object has no attribute 'text'\n",
      "Error al obtener el user Dv11336382: 403 Client Error: Forbidden for url: https://nitter.lucabased.xyz/Dv11336382\n",
      "Error al obtener el user pablo_c71: 403 Client Error: Forbidden for url: https://nitter.lucabased.xyz/pablo_c71\n"
     ]
    },
    {
     "name": "stderr",
     "output_type": "stream",
     "text": [
      "Buscando Authors:  43%|████▎     | 43/100 [00:20<00:15,  3.78it/s]"
     ]
    },
    {
     "name": "stdout",
     "output_type": "stream",
     "text": [
      "Error al obtener el user Alovictorius: 429 Client Error: Too Many Requests for url: https://nitter.net/Alovictorius\n",
      "Error al obtener el user thekoalawizard: 403 Client Error: Forbidden for url: https://nitter.lucabased.xyz/thekoalawizard\n"
     ]
    },
    {
     "name": "stderr",
     "output_type": "stream",
     "text": [
      "Buscando Authors:  44%|████▍     | 44/100 [00:20<00:13,  4.13it/s]"
     ]
    },
    {
     "name": "stdout",
     "output_type": "stream",
     "text": [
      "Error al obtener el user JesusMVG: 429 Client Error: Too Many Requests for url: https://nitter.net/JesusMVG\n",
      "Error al obtener el user mapa4425: 403 Client Error: Forbidden for url: https://nitter.space/mapa4425\n"
     ]
    },
    {
     "name": "stderr",
     "output_type": "stream",
     "text": [
      "Buscando Authors:  46%|████▌     | 46/100 [00:21<00:09,  5.47it/s]"
     ]
    },
    {
     "name": "stdout",
     "output_type": "stream",
     "text": [
      "Error al obtener el user luisa63912461: 403 Client Error: Forbidden for url: https://nitter.space/luisa63912461\n"
     ]
    },
    {
     "name": "stderr",
     "output_type": "stream",
     "text": [
      "Buscando Authors:  50%|█████     | 50/100 [00:24<00:25,  1.99it/s]"
     ]
    },
    {
     "name": "stdout",
     "output_type": "stream",
     "text": [
      "Error al obtener el user carlosyguau: 403 Client Error: Forbidden for url: https://nitter.space/carlosyguau\n",
      "Error al obtener el user juanman02391023: 'NoneType' object has no attribute 'text'\n"
     ]
    },
    {
     "name": "stderr",
     "output_type": "stream",
     "text": [
      "Buscando Authors:  53%|█████▎    | 53/100 [00:25<00:12,  3.72it/s]"
     ]
    },
    {
     "name": "stdout",
     "output_type": "stream",
     "text": [
      "Error al obtener el user alv1_su: 'NoneType' object has no attribute 'text'\n",
      "Error al obtener el user CesarMBfisio: 403 Client Error: Forbidden for url: https://nitter.lucabased.xyz/CesarMBfisio\n",
      "Error al obtener el user Flickball19: 403 Client Error: Forbidden for url: https://nitter.lucabased.xyz/Flickball19\n"
     ]
    },
    {
     "name": "stderr",
     "output_type": "stream",
     "text": [
      "Buscando Authors:  54%|█████▍    | 54/100 [00:25<00:10,  4.32it/s]"
     ]
    },
    {
     "name": "stdout",
     "output_type": "stream",
     "text": [
      "Error al obtener el user Kinder029069319: 403 Client Error: Forbidden for url: https://nitter.lucabased.xyz/Kinder029069319\n"
     ]
    },
    {
     "name": "stderr",
     "output_type": "stream",
     "text": [
      "Buscando Authors:  56%|█████▌    | 56/100 [00:25<00:11,  3.77it/s]"
     ]
    },
    {
     "name": "stdout",
     "output_type": "stream",
     "text": [
      "Error al obtener el user kikorguez: 403 Client Error: Forbidden for url: https://nitter.poast.org/kikorguez\n",
      "Error al obtener el user Alberto66087550: 403 Client Error: Forbidden for url: https://nitter.lucabased.xyz/Alberto66087550\n"
     ]
    },
    {
     "name": "stderr",
     "output_type": "stream",
     "text": [
      "Buscando Authors:  58%|█████▊    | 58/100 [00:26<00:11,  3.65it/s]"
     ]
    },
    {
     "name": "stdout",
     "output_type": "stream",
     "text": [
      "Error al obtener el user BrnoMerlos: 403 Client Error: Forbidden for url: https://nitter.poast.org/BrnoMerlos\n",
      "Error al obtener el user JuanCarlos70674: 403 Client Error: Forbidden for url: https://nitter.lucabased.xyz/JuanCarlos70674\n"
     ]
    },
    {
     "name": "stderr",
     "output_type": "stream",
     "text": [
      "Buscando Authors:  60%|██████    | 60/100 [00:28<00:19,  2.10it/s]"
     ]
    },
    {
     "name": "stdout",
     "output_type": "stream",
     "text": [
      "Error al obtener el user adrbcn73234279: 429 Client Error: Too Many Requests for url: https://nitter.lucabased.xyz/adrbcn73234279\n"
     ]
    },
    {
     "name": "stderr",
     "output_type": "stream",
     "text": [
      "Buscando Authors:  62%|██████▏   | 62/100 [00:29<00:21,  1.74it/s]"
     ]
    },
    {
     "name": "stdout",
     "output_type": "stream",
     "text": [
      "Error al obtener el user Juliarnau13: 'NoneType' object has no attribute 'text'\n"
     ]
    },
    {
     "name": "stderr",
     "output_type": "stream",
     "text": [
      "Buscando Authors:  65%|██████▌   | 65/100 [00:31<00:18,  1.85it/s]"
     ]
    },
    {
     "name": "stdout",
     "output_type": "stream",
     "text": [
      "Error al obtener el user danielgvzla: 403 Client Error: Forbidden for url: https://nitter.lucabased.xyz/danielgvzla\n",
      "Error al obtener el user eldeldavid: 429 Client Error: Too Many Requests for url: https://nitter.net/eldeldavid\n"
     ]
    },
    {
     "name": "stderr",
     "output_type": "stream",
     "text": [
      "Buscando Authors:  68%|██████▊   | 68/100 [00:33<00:15,  2.10it/s]"
     ]
    },
    {
     "name": "stdout",
     "output_type": "stream",
     "text": [
      "Error al obtener el user pistola82: 429 Client Error: Too Many Requests for url: https://nitter.net/pistola82\n",
      "Error al obtener el user josecalp: 429 Client Error: Too Many Requests for url: https://nitter.net/josecalp\n"
     ]
    },
    {
     "name": "stderr",
     "output_type": "stream",
     "text": [
      "Buscando Authors:  71%|███████   | 71/100 [00:33<00:07,  3.92it/s]"
     ]
    },
    {
     "name": "stdout",
     "output_type": "stream",
     "text": [
      "Error al obtener el user jota_pamies: 429 Client Error: Too Many Requests for url: https://nitter.net/jota_pamies\n",
      "Error al obtener el user xcreed17: 403 Client Error: Forbidden for url: https://nitter.lucabased.xyz/xcreed17\n",
      "Error al obtener el user DandydelCenteno: 403 Client Error: Forbidden for url: https://nitter.lucabased.xyz/DandydelCenteno\n"
     ]
    },
    {
     "name": "stderr",
     "output_type": "stream",
     "text": [
      "Buscando Authors:  72%|███████▏  | 72/100 [00:34<00:08,  3.13it/s]"
     ]
    },
    {
     "name": "stdout",
     "output_type": "stream",
     "text": [
      "Error al obtener el user JoseCarlosFigu9: 403 Client Error: Forbidden for url: https://nitter.poast.org/JoseCarlosFigu9\n"
     ]
    },
    {
     "name": "stderr",
     "output_type": "stream",
     "text": [
      "Buscando Authors:  73%|███████▎  | 73/100 [00:34<00:10,  2.68it/s]"
     ]
    },
    {
     "name": "stdout",
     "output_type": "stream",
     "text": [
      "Error al obtener el user gadolfobecquer3: 403 Client Error: Forbidden for url: https://nitter.poast.org/gadolfobecquer3\n",
      "Error al obtener el user mynor_marro: 403 Client Error: Forbidden for url: https://nitter.lucabased.xyz/mynor_marro\n"
     ]
    },
    {
     "name": "stderr",
     "output_type": "stream",
     "text": [
      "Buscando Authors:  77%|███████▋  | 77/100 [00:37<00:09,  2.44it/s]"
     ]
    },
    {
     "name": "stdout",
     "output_type": "stream",
     "text": [
      "Error al obtener el user BobLiberado: 403 Client Error: Forbidden for url: https://nitter.lucabased.xyz/BobLiberado\n",
      "Error al obtener el user cuentosvarios: 429 Client Error: Too Many Requests for url: https://nitter.net/cuentosvarios\n"
     ]
    },
    {
     "name": "stderr",
     "output_type": "stream",
     "text": [
      "Buscando Authors:  78%|███████▊  | 78/100 [00:37<00:07,  3.00it/s]"
     ]
    },
    {
     "name": "stdout",
     "output_type": "stream",
     "text": [
      "Error al obtener el user Gato608: 403 Client Error: Forbidden for url: https://nitter.space/Gato608\n"
     ]
    },
    {
     "name": "stderr",
     "output_type": "stream",
     "text": [
      "Buscando Authors:  79%|███████▉  | 79/100 [00:37<00:08,  2.60it/s]"
     ]
    },
    {
     "name": "stdout",
     "output_type": "stream",
     "text": [
      "Error al obtener el user AlbertoNeiraL: 403 Client Error: Forbidden for url: https://nitter.poast.org/AlbertoNeiraL\n"
     ]
    },
    {
     "name": "stderr",
     "output_type": "stream",
     "text": [
      "Buscando Authors:  81%|████████  | 81/100 [00:39<00:12,  1.50it/s]"
     ]
    },
    {
     "name": "stdout",
     "output_type": "stream",
     "text": [
      "Error al obtener el user RoyVargasGuido2: 403 Client Error: Forbidden for url: https://nitter.poast.org/RoyVargasGuido2\n"
     ]
    },
    {
     "name": "stderr",
     "output_type": "stream",
     "text": [
      "Buscando Authors:  82%|████████▏ | 82/100 [00:40<00:11,  1.58it/s]"
     ]
    },
    {
     "name": "stdout",
     "output_type": "stream",
     "text": [
      "Error al obtener el user Reciodc10: 403 Client Error: Forbidden for url: https://nitter.poast.org/Reciodc10\n"
     ]
    },
    {
     "name": "stderr",
     "output_type": "stream",
     "text": [
      "Buscando Authors:  84%|████████▍ | 84/100 [00:40<00:07,  2.19it/s]"
     ]
    },
    {
     "name": "stdout",
     "output_type": "stream",
     "text": [
      "Error al obtener el user doblel66: 403 Client Error: Forbidden for url: https://nitter.poast.org/doblel66\n",
      "Error al obtener el user kmichael_travel: 403 Client Error: Forbidden for url: https://nitter.lucabased.xyz/kmichael_travel\n"
     ]
    },
    {
     "name": "stderr",
     "output_type": "stream",
     "text": [
      "Buscando Authors:  85%|████████▌ | 85/100 [00:41<00:05,  2.84it/s]"
     ]
    },
    {
     "name": "stdout",
     "output_type": "stream",
     "text": [
      "Error al obtener el user carloseguerraa: 403 Client Error: Forbidden for url: https://nitter.space/carloseguerraa\n",
      "Error al obtener el user MiguelB35260361: 403 Client Error: Forbidden for url: https://nitter.space/MiguelB35260361\n"
     ]
    },
    {
     "name": "stderr",
     "output_type": "stream",
     "text": [
      "Buscando Authors:  87%|████████▋ | 87/100 [00:41<00:04,  2.99it/s]"
     ]
    },
    {
     "name": "stdout",
     "output_type": "stream",
     "text": [
      "Error al obtener el user Flordel25270662: 403 Client Error: Forbidden for url: https://nitter.poast.org/Flordel25270662\n"
     ]
    },
    {
     "name": "stderr",
     "output_type": "stream",
     "text": [
      "Buscando Authors:  90%|█████████ | 90/100 [00:44<00:05,  1.96it/s]"
     ]
    },
    {
     "name": "stdout",
     "output_type": "stream",
     "text": [
      "Error al obtener el user LuisEmeJota: 403 Client Error: Forbidden for url: https://nitter.poast.org/LuisEmeJota\n",
      "Error al obtener el user SALVATRACTIVE25: 403 Client Error: Forbidden for url: https://nitter.space/SALVATRACTIVE25\n"
     ]
    },
    {
     "name": "stderr",
     "output_type": "stream",
     "text": [
      "Buscando Authors:  91%|█████████ | 91/100 [00:44<00:03,  2.51it/s]"
     ]
    },
    {
     "name": "stdout",
     "output_type": "stream",
     "text": [
      "Error al obtener el user crisant48428549: 403 Client Error: Forbidden for url: https://nitter.lucabased.xyz/crisant48428549\n"
     ]
    },
    {
     "name": "stderr",
     "output_type": "stream",
     "text": [
      "Buscando Authors:  92%|█████████▏| 92/100 [00:44<00:02,  2.91it/s]"
     ]
    },
    {
     "name": "stdout",
     "output_type": "stream",
     "text": [
      "Error al obtener el user Rodrigo25948954: 'NoneType' object has no attribute 'text'\n"
     ]
    },
    {
     "name": "stderr",
     "output_type": "stream",
     "text": [
      "Buscando Authors:  94%|█████████▍| 94/100 [00:46<00:04,  1.49it/s]"
     ]
    },
    {
     "name": "stdout",
     "output_type": "stream",
     "text": [
      "Error al obtener el user LoyolaYoshio: 403 Client Error: Forbidden for url: https://nitter.poast.org/LoyolaYoshio\n"
     ]
    },
    {
     "name": "stderr",
     "output_type": "stream",
     "text": [
      "Buscando Authors:  96%|█████████▌| 96/100 [00:47<00:01,  2.02it/s]"
     ]
    },
    {
     "name": "stdout",
     "output_type": "stream",
     "text": [
      "Error al obtener el user Preludio84597: 403 Client Error: Forbidden for url: https://nitter.poast.org/Preludio84597\n",
      "Error al obtener el user ajaa7711: 'NoneType' object has no attribute 'text'\n"
     ]
    },
    {
     "name": "stderr",
     "output_type": "stream",
     "text": [
      "Buscando Authors:  98%|█████████▊| 98/100 [00:47<00:00,  3.11it/s]"
     ]
    },
    {
     "name": "stdout",
     "output_type": "stream",
     "text": [
      "Error al obtener el user Javiiic_a23: 429 Client Error: Too Many Requests for url: https://nitter.net/Javiiic_a23\n",
      "Error al obtener el user essiurell: 403 Client Error: Forbidden for url: https://nitter.lucabased.xyz/essiurell\n"
     ]
    },
    {
     "name": "stderr",
     "output_type": "stream",
     "text": [
      "Buscando Authors: 100%|██████████| 100/100 [00:47<00:00,  2.09it/s]"
     ]
    },
    {
     "name": "stdout",
     "output_type": "stream",
     "text": [
      "Error al obtener el user JuanSanchezSus1: 403 Client Error: Forbidden for url: https://nitter.lucabased.xyz/JuanSanchezSus1\n",
      "Error al obtener el user Victoria1495652: 403 Client Error: Forbidden for url: https://nitter.lucabased.xyz/Victoria1495652\n"
     ]
    },
    {
     "name": "stderr",
     "output_type": "stream",
     "text": [
      "\n"
     ]
    },
    {
     "ename": "ValueError",
     "evalue": "All arrays must be of the same length",
     "output_type": "error",
     "traceback": [
      "\u001b[31m---------------------------------------------------------------------------\u001b[39m",
      "\u001b[31mValueError\u001b[39m                                Traceback (most recent call last)",
      "\u001b[36mCell\u001b[39m\u001b[36m \u001b[39m\u001b[32mIn[11]\u001b[39m\u001b[32m, line 67\u001b[39m\n\u001b[32m     63\u001b[39m             df.to_csv(\u001b[33m'\u001b[39m\u001b[33mauthors_temp.csv\u001b[39m\u001b[33m'\u001b[39m, index=\u001b[38;5;28;01mFalse\u001b[39;00m)\n\u001b[32m     64\u001b[39m             df_error.to_csv(\u001b[33m'\u001b[39m\u001b[33merrors_author_temp.csv\u001b[39m\u001b[33m'\u001b[39m, index=\u001b[38;5;28;01mFalse\u001b[39;00m)\n\u001b[32m---> \u001b[39m\u001b[32m67\u001b[39m df = \u001b[43mpd\u001b[49m\u001b[43m.\u001b[49m\u001b[43mDataFrame\u001b[49m\u001b[43m(\u001b[49m\u001b[43mdata\u001b[49m\u001b[43m)\u001b[49m\n\u001b[32m     68\u001b[39m df_error = pd.DataFrame(error)\n\u001b[32m     69\u001b[39m df.to_csv(\u001b[33m'\u001b[39m\u001b[33mauthors.csv\u001b[39m\u001b[33m'\u001b[39m, index=\u001b[38;5;28;01mFalse\u001b[39;00m)\n",
      "\u001b[36mFile \u001b[39m\u001b[32mc:\\Users\\trodriguez\\AppData\\Local\\miniconda3\\envs\\tweets\\Lib\\site-packages\\pandas\\core\\frame.py:778\u001b[39m, in \u001b[36mDataFrame.__init__\u001b[39m\u001b[34m(self, data, index, columns, dtype, copy)\u001b[39m\n\u001b[32m    772\u001b[39m     mgr = \u001b[38;5;28mself\u001b[39m._init_mgr(\n\u001b[32m    773\u001b[39m         data, axes={\u001b[33m\"\u001b[39m\u001b[33mindex\u001b[39m\u001b[33m\"\u001b[39m: index, \u001b[33m\"\u001b[39m\u001b[33mcolumns\u001b[39m\u001b[33m\"\u001b[39m: columns}, dtype=dtype, copy=copy\n\u001b[32m    774\u001b[39m     )\n\u001b[32m    776\u001b[39m \u001b[38;5;28;01melif\u001b[39;00m \u001b[38;5;28misinstance\u001b[39m(data, \u001b[38;5;28mdict\u001b[39m):\n\u001b[32m    777\u001b[39m     \u001b[38;5;66;03m# GH#38939 de facto copy defaults to False only in non-dict cases\u001b[39;00m\n\u001b[32m--> \u001b[39m\u001b[32m778\u001b[39m     mgr = \u001b[43mdict_to_mgr\u001b[49m\u001b[43m(\u001b[49m\u001b[43mdata\u001b[49m\u001b[43m,\u001b[49m\u001b[43m \u001b[49m\u001b[43mindex\u001b[49m\u001b[43m,\u001b[49m\u001b[43m \u001b[49m\u001b[43mcolumns\u001b[49m\u001b[43m,\u001b[49m\u001b[43m \u001b[49m\u001b[43mdtype\u001b[49m\u001b[43m=\u001b[49m\u001b[43mdtype\u001b[49m\u001b[43m,\u001b[49m\u001b[43m \u001b[49m\u001b[43mcopy\u001b[49m\u001b[43m=\u001b[49m\u001b[43mcopy\u001b[49m\u001b[43m,\u001b[49m\u001b[43m \u001b[49m\u001b[43mtyp\u001b[49m\u001b[43m=\u001b[49m\u001b[43mmanager\u001b[49m\u001b[43m)\u001b[49m\n\u001b[32m    779\u001b[39m \u001b[38;5;28;01melif\u001b[39;00m \u001b[38;5;28misinstance\u001b[39m(data, ma.MaskedArray):\n\u001b[32m    780\u001b[39m     \u001b[38;5;28;01mfrom\u001b[39;00m\u001b[38;5;250m \u001b[39m\u001b[34;01mnumpy\u001b[39;00m\u001b[34;01m.\u001b[39;00m\u001b[34;01mma\u001b[39;00m\u001b[38;5;250m \u001b[39m\u001b[38;5;28;01mimport\u001b[39;00m mrecords\n",
      "\u001b[36mFile \u001b[39m\u001b[32mc:\\Users\\trodriguez\\AppData\\Local\\miniconda3\\envs\\tweets\\Lib\\site-packages\\pandas\\core\\internals\\construction.py:503\u001b[39m, in \u001b[36mdict_to_mgr\u001b[39m\u001b[34m(data, index, columns, dtype, typ, copy)\u001b[39m\n\u001b[32m    499\u001b[39m     \u001b[38;5;28;01melse\u001b[39;00m:\n\u001b[32m    500\u001b[39m         \u001b[38;5;66;03m# dtype check to exclude e.g. range objects, scalars\u001b[39;00m\n\u001b[32m    501\u001b[39m         arrays = [x.copy() \u001b[38;5;28;01mif\u001b[39;00m \u001b[38;5;28mhasattr\u001b[39m(x, \u001b[33m\"\u001b[39m\u001b[33mdtype\u001b[39m\u001b[33m\"\u001b[39m) \u001b[38;5;28;01melse\u001b[39;00m x \u001b[38;5;28;01mfor\u001b[39;00m x \u001b[38;5;129;01min\u001b[39;00m arrays]\n\u001b[32m--> \u001b[39m\u001b[32m503\u001b[39m \u001b[38;5;28;01mreturn\u001b[39;00m \u001b[43marrays_to_mgr\u001b[49m\u001b[43m(\u001b[49m\u001b[43marrays\u001b[49m\u001b[43m,\u001b[49m\u001b[43m \u001b[49m\u001b[43mcolumns\u001b[49m\u001b[43m,\u001b[49m\u001b[43m \u001b[49m\u001b[43mindex\u001b[49m\u001b[43m,\u001b[49m\u001b[43m \u001b[49m\u001b[43mdtype\u001b[49m\u001b[43m=\u001b[49m\u001b[43mdtype\u001b[49m\u001b[43m,\u001b[49m\u001b[43m \u001b[49m\u001b[43mtyp\u001b[49m\u001b[43m=\u001b[49m\u001b[43mtyp\u001b[49m\u001b[43m,\u001b[49m\u001b[43m \u001b[49m\u001b[43mconsolidate\u001b[49m\u001b[43m=\u001b[49m\u001b[43mcopy\u001b[49m\u001b[43m)\u001b[49m\n",
      "\u001b[36mFile \u001b[39m\u001b[32mc:\\Users\\trodriguez\\AppData\\Local\\miniconda3\\envs\\tweets\\Lib\\site-packages\\pandas\\core\\internals\\construction.py:114\u001b[39m, in \u001b[36marrays_to_mgr\u001b[39m\u001b[34m(arrays, columns, index, dtype, verify_integrity, typ, consolidate)\u001b[39m\n\u001b[32m    111\u001b[39m \u001b[38;5;28;01mif\u001b[39;00m verify_integrity:\n\u001b[32m    112\u001b[39m     \u001b[38;5;66;03m# figure out the index, if necessary\u001b[39;00m\n\u001b[32m    113\u001b[39m     \u001b[38;5;28;01mif\u001b[39;00m index \u001b[38;5;129;01mis\u001b[39;00m \u001b[38;5;28;01mNone\u001b[39;00m:\n\u001b[32m--> \u001b[39m\u001b[32m114\u001b[39m         index = \u001b[43m_extract_index\u001b[49m\u001b[43m(\u001b[49m\u001b[43marrays\u001b[49m\u001b[43m)\u001b[49m\n\u001b[32m    115\u001b[39m     \u001b[38;5;28;01melse\u001b[39;00m:\n\u001b[32m    116\u001b[39m         index = ensure_index(index)\n",
      "\u001b[36mFile \u001b[39m\u001b[32mc:\\Users\\trodriguez\\AppData\\Local\\miniconda3\\envs\\tweets\\Lib\\site-packages\\pandas\\core\\internals\\construction.py:677\u001b[39m, in \u001b[36m_extract_index\u001b[39m\u001b[34m(data)\u001b[39m\n\u001b[32m    675\u001b[39m lengths = \u001b[38;5;28mlist\u001b[39m(\u001b[38;5;28mset\u001b[39m(raw_lengths))\n\u001b[32m    676\u001b[39m \u001b[38;5;28;01mif\u001b[39;00m \u001b[38;5;28mlen\u001b[39m(lengths) > \u001b[32m1\u001b[39m:\n\u001b[32m--> \u001b[39m\u001b[32m677\u001b[39m     \u001b[38;5;28;01mraise\u001b[39;00m \u001b[38;5;167;01mValueError\u001b[39;00m(\u001b[33m\"\u001b[39m\u001b[33mAll arrays must be of the same length\u001b[39m\u001b[33m\"\u001b[39m)\n\u001b[32m    679\u001b[39m \u001b[38;5;28;01mif\u001b[39;00m have_dicts:\n\u001b[32m    680\u001b[39m     \u001b[38;5;28;01mraise\u001b[39;00m \u001b[38;5;167;01mValueError\u001b[39;00m(\n\u001b[32m    681\u001b[39m         \u001b[33m\"\u001b[39m\u001b[33mMixing dicts with non-Series may lead to ambiguous ordering.\u001b[39m\u001b[33m\"\u001b[39m\n\u001b[32m    682\u001b[39m     )\n",
      "\u001b[31mValueError\u001b[39m: All arrays must be of the same length"
     ]
    }
   ],
   "source": [
    "cont = 0\n",
    "\n",
    "data = {\n",
    "    'author_id': [],\n",
    "    'username': [],\n",
    "    'fullname': [],\n",
    "    'biography': [],\n",
    "    'verified': [],\n",
    "    'joined_datetime': [],\n",
    "    'tweets_count': [],\n",
    "    'following_count': [], \n",
    "    'followers_count': [],\n",
    "    'likes_count': [],\n",
    "    'profile_picture_url': [],\n",
    "    'banner_picture_url': []\n",
    "}\n",
    "\n",
    "error = {\n",
    "    'username': [],\n",
    "}\n",
    "\n",
    "for row in tqdm(df_authors.itertuples(), total=len(df_authors), desc='Buscando Authors'):\n",
    "    \n",
    "    # check if the tweet was already processed\n",
    "    if 'df_anterior' in locals():\n",
    "        if row.author in df_anterior.username.values:\n",
    "            cont += 1\n",
    "            continue\n",
    "\n",
    "    try:\n",
    "        user = pnytter.find_user(row.author) \n",
    "    except Exception as e:\n",
    "        cont += 1\n",
    "        print(f\"Error al obtener el user {row.author}: {e}\")\n",
    "        error['username'].append(row.author)\n",
    "        continue\n",
    "\n",
    "    if not(user is None):\n",
    "\n",
    "        try: \n",
    "            data['author_id'].append(user.id) \n",
    "            data['fullname'].append(user.fullname)\n",
    "            data['biography'].append(user.biography)\n",
    "            data['verified'].append(user.verified)\n",
    "            data['joined_datetime'].append(user.joined_datetime.strftime('%Y-%m-%d %H:%M:%S'))\n",
    "            data['tweets_count'].append(user.stats.tweets)\n",
    "            data['following_count'].append(user.stats.following)\n",
    "            data['followers_count'].append(user.stats.followers)\n",
    "            data['likes_count'].append(user.stats.likes)\n",
    "            data['profile_picture_url'].append(str( user.pictures.profile.twitter_url))\n",
    "            data['banner_picture_url'].append(str(user.pictures.banner.twitter_url))\n",
    "            data['username'].append(row.author)\n",
    "\n",
    "        except AttributeError:\n",
    "            error['username'].append(row.author)\n",
    "\n",
    "        cont += 1\n",
    "\n",
    "        if cont == 100:\n",
    "            cont = 0       \n",
    "            df = pd.DataFrame(data)\n",
    "            df_error = pd.DataFrame(error)\n",
    "            df.to_csv('authors_temp.csv', index=False)\n",
    "            df_error.to_csv('errors_author_temp.csv', index=False)\n",
    "\n",
    "\n",
    "df = pd.DataFrame(data)\n",
    "df_error = pd.DataFrame(error)\n",
    "df.to_csv('authors.csv', index=False)\n",
    "df_error.to_csv('errors_author.csv', index=False)\n",
    "print(\"Archivos authors.csv y errors_author.csv generados correctamente.\")\n"
   ]
  },
  {
   "cell_type": "code",
   "execution_count": null,
   "metadata": {},
   "outputs": [
    {
     "data": {
      "text/plain": [
       "{'author_id': [None,\n",
       "  1661520962242707457,\n",
       "  1473013324396773379,\n",
       "  1331624827237634056,\n",
       "  None,\n",
       "  3014572781,\n",
       "  None,\n",
       "  1461763485768032266,\n",
       "  None,\n",
       "  202170598,\n",
       "  3019584137,\n",
       "  1402982883535507456,\n",
       "  None,\n",
       "  1181725796739760135,\n",
       "  4878820983,\n",
       "  None,\n",
       "  190351194,\n",
       "  1122628896],\n",
       " 'username': ['Junior27126',\n",
       "  'vevina69',\n",
       "  '_ZonaJuanjo',\n",
       "  'Madridebasta78',\n",
       "  'srlorite',\n",
       "  'kontyky71',\n",
       "  'todosemosETB',\n",
       "  'Casemirismo__',\n",
       "  'peteret50135854',\n",
       "  'mariantoniaram2',\n",
       "  'JoseMariBailo',\n",
       "  'Lalo_MLG'],\n",
       " 'fullname': ['Bollo',\n",
       "  'Ragnark',\n",
       "  'Veviña69 Rego',\n",
       "  'ZonaJuanjo',\n",
       "  'Paco',\n",
       "  'MFC1902',\n",
       "  'Enrique',\n",
       "  'Sergio Ruiz Lorite',\n",
       "  'javier Garcia',\n",
       "  'kontyky',\n",
       "  'todosemos ETB',\n",
       "  'Casemirismo',\n",
       "  'Futbolín',\n",
       "  'El limosnero de Europa',\n",
       "  'mari antonia ramos r',\n",
       "  'CrisSP🖤',\n",
       "  'José Mari Bailo',\n",
       "  'NapZteK'],\n",
       " 'biography': ['panadero',\n",
       "  '',\n",
       "  '',\n",
       "  '',\n",
       "  'yo también soy ultra derecha para los subnormales de la extrema izquierda',\n",
       "  'Madridismo por bandera',\n",
       "  '',\n",
       "  '',\n",
       "  '',\n",
       "  '',\n",
       "  \"una mierda pa'ti\",\n",
       "  'Vinijuniorismo como forma de vida\\n\\nReal Madrid | Bengals #RuleTheJungle',\n",
       "  'from Benidorm...',\n",
       "  'Abogado',\n",
       "  '',\n",
       "  'Feliz por ser YO, anónima e independiente',\n",
       "  'Músico. Guitarrista. Direstraitsiano. Humanista sencillo. Ortodoxo en el día a día. Enfermedades raras. Profesor de conservatorio durante 20 años. Soy de Bach.',\n",
       "  ''],\n",
       " 'verified': [True,\n",
       "  True,\n",
       "  True,\n",
       "  True,\n",
       "  True,\n",
       "  True,\n",
       "  True,\n",
       "  True,\n",
       "  True,\n",
       "  True,\n",
       "  True,\n",
       "  True,\n",
       "  True,\n",
       "  True,\n",
       "  True,\n",
       "  True,\n",
       "  True,\n",
       "  True],\n",
       " 'joined_datetime': ['2011-09-24 10:10:00',\n",
       "  '2023-05-24 23:54:00',\n",
       "  '2021-12-20 19:33:00',\n",
       "  '2020-11-25 15:44:00',\n",
       "  '2021-06-04 06:09:00',\n",
       "  '2015-02-03 14:48:00',\n",
       "  '2016-03-02 18:36:00',\n",
       "  '2021-11-19 18:29:00',\n",
       "  '2014-08-04 15:26:00',\n",
       "  '2010-10-13 13:15:00',\n",
       "  '2015-02-05 09:40:00',\n",
       "  '2021-06-10 13:36:00',\n",
       "  '2020-06-06 12:51:00',\n",
       "  '2019-10-09 00:19:00',\n",
       "  '2016-02-05 21:12:00',\n",
       "  '2017-10-27 20:16:00',\n",
       "  '2010-09-13 18:48:00',\n",
       "  '2013-01-26 17:23:00'],\n",
       " 'tweets_count': [25878,\n",
       "  13085,\n",
       "  65878,\n",
       "  14180,\n",
       "  16814,\n",
       "  10923,\n",
       "  11230,\n",
       "  11002,\n",
       "  95693,\n",
       "  20693,\n",
       "  31244,\n",
       "  13358,\n",
       "  11523,\n",
       "  1299,\n",
       "  183455,\n",
       "  38603,\n",
       "  71022,\n",
       "  3770],\n",
       " 'following_count': [0,\n",
       "  210,\n",
       "  1478,\n",
       "  933,\n",
       "  461,\n",
       "  899,\n",
       "  235,\n",
       "  470,\n",
       "  294,\n",
       "  818,\n",
       "  605,\n",
       "  1250,\n",
       "  128,\n",
       "  1114,\n",
       "  3407,\n",
       "  328,\n",
       "  1559,\n",
       "  307],\n",
       " 'followers_count': [81,\n",
       "  168,\n",
       "  798,\n",
       "  1180,\n",
       "  77,\n",
       "  354,\n",
       "  168,\n",
       "  253,\n",
       "  423,\n",
       "  164,\n",
       "  587,\n",
       "  375,\n",
       "  36,\n",
       "  53,\n",
       "  1655,\n",
       "  331,\n",
       "  2318,\n",
       "  22],\n",
       " 'likes_count': [0,\n",
       "  6688,\n",
       "  138817,\n",
       "  11737,\n",
       "  3636,\n",
       "  32270,\n",
       "  22362,\n",
       "  61057,\n",
       "  26410,\n",
       "  23892,\n",
       "  3759,\n",
       "  34595,\n",
       "  5315,\n",
       "  11709,\n",
       "  210743,\n",
       "  31454,\n",
       "  39254,\n",
       "  1302],\n",
       " 'profile_picture_url': ['https://pbs.twimg.com/profile_images/1348385086354415616/-vtQMZ53.jpg',\n",
       "  'https://pbs.twimg.com/profile_images/1879712002148282368/Yl46wKFD.jpg',\n",
       "  'https://pbs.twimg.com/profile_images/1532447762033287168/VcaZTx3P.jpg',\n",
       "  'https://pbs.twimg.com/profile_images/1828493825062354945/ubVzjH7s.jpg',\n",
       "  'https://pbs.twimg.com/profile_images/1625394847581364224/1n1nzMaE.jpg',\n",
       "  'https://pbs.twimg.com/profile_images/1194229950603309056/p1RLD5K7.jpg',\n",
       "  'https://pbs.twimg.com/profile_images/1664289385389469696/26uniiWL.jpg',\n",
       "  'https://pbs.twimg.com/profile_images/1491008004946382853/jHkOhYiP.jpg',\n",
       "  'https://pbs.twimg.com/profile_images/3380289687/4347b8987e962788d3b5ce9213f034c2.jpeg',\n",
       "  'https://pbs.twimg.com/profile_images/1436949830597808135/hsIoW0__.jpg',\n",
       "  'https://pbs.twimg.com/profile_images/1733960735326412801/jJWE82mT.jpg',\n",
       "  'https://pbs.twimg.com/profile_images/1275031991000367105/-G2rx3uS.jpg',\n",
       "  'https://pbs.twimg.com/profile_images/1182114226795667459/5DdcmUVY.jpg',\n",
       "  'https://pbs.twimg.com/profile_images/1378418190825447426/-IjnYkc9.jpg',\n",
       "  'https://pbs.twimg.com/profile_images/1239324727874924545/-kt9aanb.jpg',\n",
       "  'https://pbs.twimg.com/profile_images/1792958313316909056/ZsXVZ3dm.jpg',\n",
       "  'https://pbs.twimg.com/profile_images/1878704781134585857/jyLSOfyL.jpg'],\n",
       " 'banner_picture_url': ['https://pbs.twimg.com/profile_banners/1661520962242707457/1717462259/1500x500',\n",
       "  'https://pbs.twimg.com/profile_banners/1473013324396773379/1654198994/1500x500',\n",
       "  'https://pbs.twimg.com/profile_banners/1331624827237634056/1724781921/1500x500',\n",
       "  'https://pbs.twimg.com/profile_banners/3014572781/1573561584/1500x500',\n",
       "  'https://pbs.twimg.com/profile_banners/1461763485768032266/1685632537/1500x500',\n",
       "  'https://pbs.twimg.com/profile_banners/202170598/1363297030/1500x500',\n",
       "  'https://pbs.twimg.com/profile_banners/3019584137/1628740136/1500x500',\n",
       "  'https://pbs.twimg.com/profile_banners/1402982883535507456/1653449180/1500x500',\n",
       "  'https://pbs.twimg.com/profile_banners/1181725796739760135/1718167133/1500x500',\n",
       "  'https://pbs.twimg.com/profile_banners/4878820983/1617548230/1500x500',\n",
       "  'https://pbs.twimg.com/profile_banners/190351194/1417187609/1500x500',\n",
       "  'https://pbs.twimg.com/profile_banners/1122628896/1675037646/1500x500']}"
      ]
     },
     "execution_count": 12,
     "metadata": {},
     "output_type": "execute_result"
    }
   ],
   "source": [
    "data['author_id']"
   ]
  },
  {
   "cell_type": "markdown",
   "metadata": {},
   "source": [
    "## Concat de retweets_previo y retweets\n",
    "\n",
    "Cómo hemos comentado anteriormente, si hemos partido de datos ya descargados, partiremos de retweets_previo, por eso hemos de hacer un concat de retweets_previo y retweets en retweets_final."
   ]
  },
  {
   "cell_type": "code",
   "execution_count": null,
   "metadata": {},
   "outputs": [],
   "source": [
    "if os.path.exists('authors_previo.csv'):\n",
    "    df_temp = pd.read_csv('authors_previo.csv')\n",
    "    if os.path.exists('authors.csv'):\n",
    "        df = pd.read_csv('authors.csv')\n",
    "        df_final = pd.concat([df, df_temp], ignore_index=True)\n",
    "        df_final.to_csv('authors_final.csv', index=False)"
   ]
  },
  {
   "cell_type": "code",
   "execution_count": null,
   "metadata": {},
   "outputs": [],
   "source": [
    "print(\"Datos en authors Previos:\", df_temp.shape)\n",
    "print(\"Datos descargados en esta ejecución:\", df.shape)\n",
    "print(\"Datos Totales:\", df_final.shape)"
   ]
  },
  {
   "cell_type": "code",
   "execution_count": null,
   "metadata": {},
   "outputs": [],
   "source": [
    "# Verificar duplicatas em todas as colunas\n",
    "duplicated_rows = df_final[df_final.duplicated()]\n",
    "\n",
    "# Exibir as duplicatas\n",
    "print(duplicated_rows)\n",
    "\n",
    "# Contar o número de duplicatas\n",
    "print(f\"Número de duplicatas: {duplicated_rows.shape[0]}\")"
   ]
  },
  {
   "cell_type": "code",
   "execution_count": null,
   "metadata": {},
   "outputs": [],
   "source": [
    "# Verificar duplicatas em todas as colunas\n",
    "duplicated_rows = df[df.duplicated()]\n",
    "\n",
    "# Exibir as duplicatas\n",
    "print(duplicated_rows)\n",
    "\n",
    "# Contar o número de duplicatas\n",
    "print(f\"Número de duplicatas: {duplicated_rows.shape[0]}\")"
   ]
  },
  {
   "cell_type": "code",
   "execution_count": null,
   "metadata": {},
   "outputs": [],
   "source": [
    "# Verificar duplicatas em todas as colunas\n",
    "duplicated_rows = df_temp[df_temp.duplicated()]\n",
    "\n",
    "# Exibir as duplicatas\n",
    "print(duplicated_rows)\n",
    "\n",
    "# Contar o número de duplicatas\n",
    "print(f\"Número de duplicatas: {duplicated_rows.shape[0]}\")"
   ]
  },
  {
   "cell_type": "code",
   "execution_count": null,
   "metadata": {},
   "outputs": [],
   "source": [
    "# borramos y renombramos los ficheros resultantes\n",
    "os.remove('retweets.csv')\n",
    "os.remove('retweets_previo.csv')\n",
    "os.rename('retweets_final.csv', 'retweets_previo.csv')"
   ]
  },
  {
   "cell_type": "code",
   "execution_count": null,
   "metadata": {},
   "outputs": [],
   "source": [
    "df_test = pd.read_csv('retweets_previo.csv')\n",
    "print(\"Datos Finales:\", df_test.shape)"
   ]
  }
 ],
 "metadata": {
  "kernelspec": {
   "display_name": "tweets",
   "language": "python",
   "name": "python3"
  },
  "language_info": {
   "codemirror_mode": {
    "name": "ipython",
    "version": 3
   },
   "file_extension": ".py",
   "mimetype": "text/x-python",
   "name": "python",
   "nbconvert_exporter": "python",
   "pygments_lexer": "ipython3",
   "version": "3.11.11"
  }
 },
 "nbformat": 4,
 "nbformat_minor": 4
}
