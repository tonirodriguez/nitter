{
 "cells": [
  {
   "cell_type": "markdown",
   "metadata": {},
   "source": [
    "# NTSCRAPER\n",
    "\n",
    "- [Manual](https://pypi.org/project/ntscraper/)\n",
    "- [Articulo Medium](https://medium.com/@prathamsk130/scraping-tweets-for-real-time-data-analysis-using-ntscraper-a875f6d030b9)\n",
    "- [Instancias Status](https://status.d420.de/)\n",
    "- [Convertir ID User a Username](https://tweethunter.io/twitter-id-converter)"
   ]
  },
  {
   "cell_type": "code",
   "execution_count": 1,
   "metadata": {},
   "outputs": [
    {
     "name": "stderr",
     "output_type": "stream",
     "text": [
      "Testing instances: 100%|██████████| 7/7 [00:05<00:00,  1.37it/s]\n"
     ]
    }
   ],
   "source": [
    "from ntscraper import Nitter\n",
    "import pandas as pd\n",
    "import pprint\n",
    "\n",
    "scraper = Nitter(log_level=1, skip_instance_check=False)"
   ]
  },
  {
   "cell_type": "code",
   "execution_count": 6,
   "metadata": {},
   "outputs": [
    {
     "data": {
      "text/plain": [
       "['https://xcancel.com',\n",
       " 'https://nitter.privacydev.net',\n",
       " 'https://nitter.poast.org',\n",
       " 'https://lightbrd.com',\n",
       " 'https://nitter.lucabased.xyz',\n",
       " 'https://nitter.space',\n",
       " 'https://nitter.privacyredirect.com']"
      ]
     },
     "execution_count": 6,
     "metadata": {},
     "output_type": "execute_result"
    }
   ],
   "source": [
    "scraper.instances"
   ]
  },
  {
   "cell_type": "code",
   "execution_count": 9,
   "metadata": {},
   "outputs": [],
   "source": [
    "results = scraper.get_profile_info(\"github\", instance=\"http://localhost:8080/\")"
   ]
  },
  {
   "cell_type": "code",
   "execution_count": 10,
   "metadata": {},
   "outputs": [
    {
     "data": {
      "text/plain": [
       "{'image': 'https://pbs.twimg.com/profile_images/1633247750010830848/8zfRrYjA_400x400.png',\n",
       " 'name': 'GitHub',\n",
       " 'username': '@github',\n",
       " 'id': '13334762',\n",
       " 'bio': 'The AI-powered developer platform to build, scale, and deliver secure software.',\n",
       " 'location': 'San Francisco, CA',\n",
       " 'website': 'http://github.com',\n",
       " 'joined': '4:41 AM - 11 Feb 2008',\n",
       " 'stats': {'tweets': 9531,\n",
       "  'following': 330,\n",
       "  'followers': 2618091,\n",
       "  'likes': 8123,\n",
       "  'media': 2568}}"
      ]
     },
     "execution_count": 10,
     "metadata": {},
     "output_type": "execute_result"
    }
   ],
   "source": [
    "results"
   ]
  },
  {
   "cell_type": "code",
   "execution_count": 13,
   "metadata": {},
   "outputs": [
    {
     "name": "stdout",
     "output_type": "stream",
     "text": [
      "18-Mar-25 21:32:42 - Fetching error: Page not found\n",
      "18-Mar-25 21:32:44 - Fetching error: Page not found\n"
     ]
    }
   ],
   "source": [
    "iescolar = scraper.get_profile_info(\"iescolar\", mode='detail', instance=\"http://localhost:8080/\")"
   ]
  },
  {
   "cell_type": "code",
   "execution_count": 14,
   "metadata": {},
   "outputs": [
    {
     "data": {
      "text/plain": [
       "{'image': 'https://pbs.twimg.com/profile_images/1839701246304722944/RUDT8gqY_400x400.jpg',\n",
       " 'name': 'Ignacio Escolar',\n",
       " 'username': '@iescolar',\n",
       " 'id': '14436317',\n",
       " 'bio': 'Director de elDiario.es',\n",
       " 'location': 'Madrid // España',\n",
       " 'website': 'http://www.eldiario.es',\n",
       " 'joined': '7:01 PM - 18 Apr 2008',\n",
       " 'stats': {'tweets': 132635,\n",
       "  'following': 6494,\n",
       "  'followers': 1124398,\n",
       "  'likes': 5659,\n",
       "  'media': 5414},\n",
       " 'following_list': [],\n",
       " 'followers_list': []}"
      ]
     },
     "execution_count": 14,
     "metadata": {},
     "output_type": "execute_result"
    }
   ],
   "source": [
    "iescolar"
   ]
  },
  {
   "cell_type": "code",
   "execution_count": 15,
   "metadata": {},
   "outputs": [
    {
     "name": "stdout",
     "output_type": "stream",
     "text": [
      "18-Mar-25 21:34:23 - Fetching error: Page not found\n",
      "18-Mar-25 21:34:25 - Fetching error: Page not found\n"
     ]
    }
   ],
   "source": [
    "capitan = scraper.get_profile_info(\"CapitanBitcoin\", mode='detail', instance=\"http://localhost:8080/\")"
   ]
  },
  {
   "cell_type": "code",
   "execution_count": 16,
   "metadata": {},
   "outputs": [
    {
     "data": {
      "text/plain": [
       "{'image': 'https://pbs.twimg.com/profile_images/1506583148955586561/lwY5pQ9r_400x400.jpg',\n",
       " 'name': 'Capitán Bitcoin',\n",
       " 'username': '@CapitanBitcoin',\n",
       " 'id': '978932870',\n",
       " 'bio': 'Exiliado en Londres. Autor de la saga «Disidencia Activa», contra el discurso único {en Amazon}. Mi línea editorial no es para la masa. Mis Hilos en el link.',\n",
       " 'location': 'Kensington, London',\n",
       " 'website': 'https://capitanbitcoin.carrd.co/',\n",
       " 'joined': '6:48 PM - 29 Nov 2012',\n",
       " 'stats': {'tweets': 26061,\n",
       "  'following': 10805,\n",
       "  'followers': 516617,\n",
       "  'likes': 747168,\n",
       "  'media': 20197},\n",
       " 'following_list': [],\n",
       " 'followers_list': []}"
      ]
     },
     "execution_count": 16,
     "metadata": {},
     "output_type": "execute_result"
    }
   ],
   "source": [
    "capitan"
   ]
  },
  {
   "cell_type": "code",
   "execution_count": 18,
   "metadata": {},
   "outputs": [
    {
     "name": "stdout",
     "output_type": "stream",
     "text": [
      "18-Mar-25 22:45:26 - No instance specified, using random instance https://nitter.privacyredirect.com\n",
      "{'image': 'https://pbs.twimg.com/profile_images/1851281648395964416/Q35uoO8v_400x400.jpg',\n",
      " 'name': 'v 66@&tiburon',\n",
      " 'username': '@v66710974699714',\n",
      " 'id': '1694344217554776065',\n",
      " 'bio': '',\n",
      " 'location': '',\n",
      " 'website': '',\n",
      " 'joined': '1:42 PM - 23 Aug 2023',\n",
      " 'stats': {'tweets': 16726,\n",
      "           'following': 18,\n",
      "           'followers': 0,\n",
      "           'likes': 4,\n",
      "           'media': 12342}}\n"
     ]
    }
   ],
   "source": [
    "user1 = scraper.get_profile_info(\"v66710974699714\")\n",
    "pprint.pp(user1)"
   ]
  },
  {
   "cell_type": "code",
   "execution_count": null,
   "metadata": {},
   "outputs": [
    {
     "name": "stdout",
     "output_type": "stream",
     "text": [
      "18-Mar-25 22:45:56 - https://lightbrd.com unreachable. Trying https://nitter.privacyredirect.com\n",
      "{'image': 'https://pbs.twimg.com/profile_images/1021677838737592321/hFfXu_e__400x400.jpg',\n",
      " 'name': 'Agustin Picapiedra G',\n",
      " 'username': '@agustinpicag',\n",
      " 'id': '',\n",
      " 'bio': '',\n",
      " 'location': '',\n",
      " 'website': '',\n",
      " 'joined': '3:57 PM - 29 Dec 2014',\n",
      " 'stats': {'tweets': 632,\n",
      "           'following': 305,\n",
      "           'followers': 45,\n",
      "           'likes': 39245,\n",
      "           'media': 7}}\n"
     ]
    }
   ],
   "source": [
    "user1 = scraper.get_profile_info(\"agustinpicag\", instance=\"https://lightbrd.com\")\n",
    "pprint.pp(user1)"
   ]
  },
  {
   "cell_type": "code",
   "execution_count": 22,
   "metadata": {},
   "outputs": [
    {
     "name": "stdout",
     "output_type": "stream",
     "text": [
      "18-Mar-25 22:49:17 - https://lightbrd.com unreachable. Trying https://nitter.privacyredirect.com\n",
      "{'image': 'https://pbs.twimg.com/profile_images/1500614440118628356/5mCzDBK3_400x400.jpg',\n",
      " 'name': 'delta',\n",
      " 'username': '@delta49941691',\n",
      " 'id': '1500611832649818122',\n",
      " 'bio': '',\n",
      " 'location': '',\n",
      " 'website': '',\n",
      " 'joined': '11:18 PM - 6 Mar 2022',\n",
      " 'stats': {'tweets': 9520,\n",
      "           'following': 56,\n",
      "           'followers': 21,\n",
      "           'likes': 5589,\n",
      "           'media': 2878}}\n"
     ]
    }
   ],
   "source": [
    "user1 = scraper.get_profile_info(\"delta49941691\", instance=\"https://lightbrd.com\")\n",
    "pprint.pp(user1)"
   ]
  },
  {
   "cell_type": "code",
   "execution_count": 25,
   "metadata": {},
   "outputs": [
    {
     "name": "stdout",
     "output_type": "stream",
     "text": [
      "18-Mar-25 23:00:30 - https://lightbrd.com unreachable. Trying https://nitter.privacyredirect.com\n",
      "{'image': 'https://pbs.twimg.com/profile_images/1503718758409555974/OOM5PYNj_400x400.jpg',\n",
      " 'name': 'Antoñita la fantástica',\n",
      " 'username': '@AracilPilar',\n",
      " 'id': '1335600391078219777',\n",
      " 'bio': 'Periodista',\n",
      " 'location': '',\n",
      " 'website': '',\n",
      " 'joined': '3:02 PM - 6 Dec 2020',\n",
      " 'stats': {'tweets': 6771,\n",
      "           'following': 204,\n",
      "           'followers': 37,\n",
      "           'likes': 11839,\n",
      "           'media': 80}}\n"
     ]
    }
   ],
   "source": [
    "user1 = scraper.get_profile_info(\"AracilPilar\", instance=\"https://lightbrd.com\")\n",
    "pprint.pp(user1)"
   ]
  },
  {
   "cell_type": "code",
   "execution_count": 27,
   "metadata": {},
   "outputs": [
    {
     "data": {
      "text/plain": [
       "{'link': 'https://twitter.com/AlmudenaMF/status/1805501918904512585#m',\n",
       " 'text': 'Las más altas autoridades de Letonia reciben con honores a un Rey solitario   El presidente de Letonia, la primera ministra, la presidenta del Parlamento y los ministros de Exteriores y Defensa dan la bienvenida a Don Felipe  https://www.eldebate.com/espana/casa-real/20240625/altas-autoridades-letonia-reciben-honores-rey-solitario_207997.html#utm_source=rrss-comp&utm_medium=tw&utm_campaign=fixed-btn',\n",
       " 'user': {'name': 'Almudena MF',\n",
       "  'username': '@AlmudenaMF',\n",
       "  'profile_id': '1096557975613902848',\n",
       "  'avatar': 'https://pbs.twimg.com/profile_images/1096557975613902848/UywrrPY2_bigger.jpg'},\n",
       " 'date': 'Jun 25, 2024 · 7:22 AM UTC',\n",
       " 'is-retweet': False,\n",
       " 'is-pinned': False,\n",
       " 'external-link': '',\n",
       " 'replying-to': [],\n",
       " 'quoted-post': {},\n",
       " 'stats': {'comments': 16, 'retweets': 61, 'quotes': 1, 'likes': 191},\n",
       " 'pictures': [],\n",
       " 'videos': [],\n",
       " 'gifs': []}"
      ]
     },
     "execution_count": 27,
     "metadata": {},
     "output_type": "execute_result"
    }
   ],
   "source": [
    "tweet = scraper.get_tweet_by_id(\"AracilPilar\", tweet_id = \"1805559081433776564\")\n",
    "tweet"
   ]
  },
  {
   "cell_type": "code",
   "execution_count": 29,
   "metadata": {},
   "outputs": [
    {
     "data": {
      "text/plain": [
       "{'link': 'https://twitter.com/JLSanchez78/status/1762516172744892622#m',\n",
       " 'text': '📖 MIEDO EN LA CARA DEL RIVAL  📍El próximo 13 de marzo sale a la venta mi primer libro.   ⌛️ TIC TAC  https://www.amazon.es/Miedo-cara-del-rival-admirado/dp/841384780X/',\n",
       " 'user': {'name': 'José Luis Sánchez 🇪🇸',\n",
       "  'username': '@JLSanchez78',\n",
       "  'profile_id': '1682526073773334530',\n",
       "  'avatar': 'https://pbs.twimg.com/profile_images/1682526073773334530/IgmisZaX_bigger.jpg'},\n",
       " 'date': 'Feb 27, 2024 · 4:32 PM UTC',\n",
       " 'is-retweet': False,\n",
       " 'is-pinned': False,\n",
       " 'external-link': '',\n",
       " 'replying-to': [],\n",
       " 'quoted-post': {},\n",
       " 'stats': {'comments': 1277, 'retweets': 374, 'quotes': 61, 'likes': 2575},\n",
       " 'pictures': ['https://pbs.twimg.com/media/GHW3HlEXoAAQ24K.jpg'],\n",
       " 'videos': [],\n",
       " 'gifs': []}"
      ]
     },
     "execution_count": 29,
     "metadata": {},
     "output_type": "execute_result"
    }
   ],
   "source": [
    "tweet = scraper.get_tweet_by_id(\"delta49941691\",tweet_id = \"1807308130704896177\")\n",
    "tweet"
   ]
  },
  {
   "cell_type": "code",
   "execution_count": 24,
   "metadata": {},
   "outputs": [
    {
     "data": {
      "text/plain": [
       "{'link': 'https://twitter.com/JLSanchez78/status/1762516172744892622#m',\n",
       " 'text': '📖 MIEDO EN LA CARA DEL RIVAL  📍El próximo 13 de marzo sale a la venta mi primer libro.   ⌛️ TIC TAC  https://www.amazon.es/Miedo-cara-del-rival-admirado/dp/841384780X/',\n",
       " 'user': {'name': 'José Luis Sánchez 🇪🇸',\n",
       "  'username': '@JLSanchez78',\n",
       "  'profile_id': '1682526073773334530',\n",
       "  'avatar': 'https://pbs.twimg.com/profile_images/1682526073773334530/IgmisZaX_bigger.jpg'},\n",
       " 'date': 'Feb 27, 2024 · 4:32 PM UTC',\n",
       " 'is-retweet': False,\n",
       " 'is-pinned': False,\n",
       " 'external-link': '',\n",
       " 'replying-to': [],\n",
       " 'quoted-post': {},\n",
       " 'stats': {'comments': 1277, 'retweets': 374, 'quotes': 61, 'likes': 2575},\n",
       " 'pictures': ['https://pbs.twimg.com/media/GHW3HlEXoAAQ24K.jpg'],\n",
       " 'videos': [],\n",
       " 'gifs': []}"
      ]
     },
     "execution_count": 24,
     "metadata": {},
     "output_type": "execute_result"
    }
   ],
   "source": [
    "tweet = scraper.get_tweet_by_id(\"v66710974699714\", tweet_id = \"1807593504283021411\")\n",
    "tweet"
   ]
  }
 ],
 "metadata": {
  "kernelspec": {
   "display_name": "tweets",
   "language": "python",
   "name": "python3"
  },
  "language_info": {
   "codemirror_mode": {
    "name": "ipython",
    "version": 3
   },
   "file_extension": ".py",
   "mimetype": "text/x-python",
   "name": "python",
   "nbconvert_exporter": "python",
   "pygments_lexer": "ipython3",
   "version": "3.11.11"
  }
 },
 "nbformat": 4,
 "nbformat_minor": 2
}
