{
 "cells": [
  {
   "cell_type": "markdown",
   "metadata": {},
   "source": [
    "# GETTING INFORMATION FROM AUTHORS"
   ]
  },
  {
   "cell_type": "code",
   "execution_count": 1,
   "metadata": {},
   "outputs": [],
   "source": [
    "import json, os\n",
    "import datetime\n",
    "from pydantic import HttpUrl\n",
    "import pandas as pd\n",
    "from tqdm import tqdm\n",
    "\n",
    "from pnytter import Pnytter"
   ]
  },
  {
   "cell_type": "markdown",
   "metadata": {},
   "source": [
    "## 1. Load the Authors list"
   ]
  },
  {
   "cell_type": "code",
   "execution_count": 2,
   "metadata": {},
   "outputs": [],
   "source": [
    "df_retweets = pd.read_csv('202503192227-RETWEETS_ETIQUETADOS_CONTAINS_HATE_TRUE.csv', index_col=None)\n",
    "df_retweets = df_retweets.rename(columns={'count_star()':'ocurrencias'})"
   ]
  },
  {
   "cell_type": "code",
   "execution_count": 10,
   "metadata": {},
   "outputs": [
    {
     "data": {
      "text/html": [
       "<div>\n",
       "<style scoped>\n",
       "    .dataframe tbody tr th:only-of-type {\n",
       "        vertical-align: middle;\n",
       "    }\n",
       "\n",
       "    .dataframe tbody tr th {\n",
       "        vertical-align: top;\n",
       "    }\n",
       "\n",
       "    .dataframe thead th {\n",
       "        text-align: right;\n",
       "    }\n",
       "</style>\n",
       "<table border=\"1\" class=\"dataframe\">\n",
       "  <thead>\n",
       "    <tr style=\"text-align: right;\">\n",
       "      <th></th>\n",
       "      <th>tweet_id</th>\n",
       "      <th>author</th>\n",
       "      <th>ocurrencias</th>\n",
       "    </tr>\n",
       "  </thead>\n",
       "  <tbody>\n",
       "    <tr>\n",
       "      <th>0</th>\n",
       "      <td>1795781220925669620</td>\n",
       "      <td>963492493458329602</td>\n",
       "      <td>2</td>\n",
       "    </tr>\n",
       "    <tr>\n",
       "      <th>1</th>\n",
       "      <td>1795383660088074396</td>\n",
       "      <td>796158301788667908</td>\n",
       "      <td>2</td>\n",
       "    </tr>\n",
       "    <tr>\n",
       "      <th>2</th>\n",
       "      <td>1795168528464540035</td>\n",
       "      <td>482147864</td>\n",
       "      <td>2</td>\n",
       "    </tr>\n",
       "    <tr>\n",
       "      <th>3</th>\n",
       "      <td>1798852393096130705</td>\n",
       "      <td>1621152552258801672</td>\n",
       "      <td>2</td>\n",
       "    </tr>\n",
       "    <tr>\n",
       "      <th>4</th>\n",
       "      <td>1801196737324843027</td>\n",
       "      <td>1665677569671168002</td>\n",
       "      <td>2</td>\n",
       "    </tr>\n",
       "  </tbody>\n",
       "</table>\n",
       "</div>"
      ],
      "text/plain": [
       "              tweet_id               author  ocurrencias\n",
       "0  1795781220925669620   963492493458329602            2\n",
       "1  1795383660088074396   796158301788667908            2\n",
       "2  1795168528464540035            482147864            2\n",
       "3  1798852393096130705  1621152552258801672            2\n",
       "4  1801196737324843027  1665677569671168002            2"
      ]
     },
     "execution_count": 10,
     "metadata": {},
     "output_type": "execute_result"
    }
   ],
   "source": [
    "df_retweets.head()"
   ]
  },
  {
   "cell_type": "code",
   "execution_count": 4,
   "metadata": {},
   "outputs": [
    {
     "data": {
      "text/plain": [
       "(1776, 3)"
      ]
     },
     "execution_count": 4,
     "metadata": {},
     "output_type": "execute_result"
    }
   ],
   "source": [
    "df_retweets.shape"
   ]
  },
  {
   "cell_type": "markdown",
   "metadata": {},
   "source": [
    "## 2. Get the Author's information"
   ]
  },
  {
   "cell_type": "code",
   "execution_count": 12,
   "metadata": {},
   "outputs": [],
   "source": [
    "# The Pnytter object needs at least 1 Nitter instance to work, but these can be added after initialization\n",
    "pnytter = Pnytter(\n",
    "  #nitter_instances=[\"http://localhost:8080\"]\n",
    "  nitter_instances=[\"https://xcancel.com\", \"https://nitter.privacydev.net\", \"https://lightbrd.com\"]\n",
    ")"
   ]
  },
  {
   "cell_type": "code",
   "execution_count": 6,
   "metadata": {},
   "outputs": [],
   "source": [
    "if os.path.exists('retweets_temp.csv'):\n",
    "    df_anterior = pd.read_csv('retweets_temp.csv')"
   ]
  },
  {
   "cell_type": "code",
   "execution_count": 13,
   "metadata": {},
   "outputs": [
    {
     "name": "stderr",
     "output_type": "stream",
     "text": [
      "Buscando Retweets:   1%|▏         | 23/1776 [00:00<00:41, 41.82it/s]"
     ]
    },
    {
     "name": "stdout",
     "output_type": "stream",
     "text": [
      "Error al obtener el tweet 1804615146939003047: 429 Client Error: Too Many Requests for url: https://nitter.privacydev.net/_/status/1804615146939003047\n"
     ]
    },
    {
     "name": "stderr",
     "output_type": "stream",
     "text": [
      "Buscando Retweets:   2%|▏         | 28/1776 [00:00<00:54, 31.85it/s]"
     ]
    },
    {
     "name": "stdout",
     "output_type": "stream",
     "text": [
      "Error al obtener el tweet 1795424189316301071: 429 Client Error: Too Many Requests for url: https://nitter.privacydev.net/_/status/1795424189316301071\n"
     ]
    },
    {
     "name": "stderr",
     "output_type": "stream",
     "text": [
      "Buscando Retweets:   6%|▌         | 104/1776 [00:01<00:15, 107.29it/s]"
     ]
    },
    {
     "name": "stdout",
     "output_type": "stream",
     "text": [
      "Error al obtener el tweet 1806062757407858830: 403 Client Error: Forbidden for url: https://xcancel.com/_/status/1806062757407858830\n"
     ]
    },
    {
     "name": "stderr",
     "output_type": "stream",
     "text": [
      "Buscando Retweets:   6%|▋         | 115/1776 [00:01<00:21, 78.40it/s] "
     ]
    },
    {
     "name": "stdout",
     "output_type": "stream",
     "text": [
      "Error al obtener el tweet 1808107369777242167: 429 Client Error: Too Many Requests for url: https://nitter.privacydev.net/_/status/1808107369777242167\n"
     ]
    },
    {
     "name": "stderr",
     "output_type": "stream",
     "text": [
      "Buscando Retweets:  12%|█▏        | 207/1776 [00:05<00:56, 27.58it/s]"
     ]
    },
    {
     "name": "stdout",
     "output_type": "stream",
     "text": [
      "Error al obtener el tweet 1807936616365019427: 429 Client Error: Too Many Requests for url: https://nitter.privacydev.net/_/status/1807936616365019427\n"
     ]
    },
    {
     "name": "stderr",
     "output_type": "stream",
     "text": [
      "Buscando Retweets:  12%|█▏        | 210/1776 [00:05<01:07, 23.05it/s]"
     ]
    },
    {
     "name": "stdout",
     "output_type": "stream",
     "text": [
      "Error al obtener el tweet 1807867502321717414: 403 Client Error: Forbidden for url: https://xcancel.com/_/status/1807867502321717414\n"
     ]
    },
    {
     "name": "stderr",
     "output_type": "stream",
     "text": [
      "Buscando Retweets:  13%|█▎        | 231/1776 [00:06<01:03, 24.31it/s]"
     ]
    },
    {
     "name": "stdout",
     "output_type": "stream",
     "text": [
      "Error al obtener el tweet 1793983635705762061: 429 Client Error: Too Many Requests for url: https://nitter.privacydev.net/_/status/1793983635705762061\n"
     ]
    },
    {
     "name": "stderr",
     "output_type": "stream",
     "text": [
      "Buscando Retweets:  13%|█▎        | 237/1776 [00:07<01:31, 16.91it/s]"
     ]
    },
    {
     "name": "stdout",
     "output_type": "stream",
     "text": [
      "Error al obtener el tweet 1793902073035288664: 403 Client Error: Forbidden for url: https://xcancel.com/_/status/1793902073035288664\n"
     ]
    },
    {
     "name": "stderr",
     "output_type": "stream",
     "text": [
      "Buscando Retweets:  13%|█▎        | 239/1776 [00:07<01:55, 13.30it/s]"
     ]
    },
    {
     "name": "stdout",
     "output_type": "stream",
     "text": [
      "Error al obtener el tweet 1798090099659350145: 429 Client Error: Too Many Requests for url: https://nitter.privacydev.net/_/status/1798090099659350145\n"
     ]
    },
    {
     "name": "stderr",
     "output_type": "stream",
     "text": [
      "Buscando Retweets:  15%|█▍        | 258/1776 [00:08<01:04, 23.56it/s]"
     ]
    },
    {
     "name": "stdout",
     "output_type": "stream",
     "text": [
      "Error al obtener el tweet 1799545440192315579: 429 Client Error: Too Many Requests for url: https://nitter.privacydev.net/_/status/1799545440192315579\n"
     ]
    },
    {
     "name": "stderr",
     "output_type": "stream",
     "text": [
      "Buscando Retweets:  16%|█▌        | 287/1776 [00:09<01:11, 20.73it/s]"
     ]
    },
    {
     "name": "stdout",
     "output_type": "stream",
     "text": [
      "Error al obtener el tweet 1803969068480790899: 429 Client Error: Too Many Requests for url: https://nitter.privacydev.net/_/status/1803969068480790899\n"
     ]
    },
    {
     "name": "stderr",
     "output_type": "stream",
     "text": [
      "Buscando Retweets:  18%|█▊        | 324/1776 [00:10<00:50, 28.62it/s]"
     ]
    },
    {
     "name": "stdout",
     "output_type": "stream",
     "text": [
      "Error al obtener el tweet 1805148344139874491: 403 Client Error: Forbidden for url: https://xcancel.com/_/status/1805148344139874491\n"
     ]
    },
    {
     "name": "stderr",
     "output_type": "stream",
     "text": [
      "Buscando Retweets:  19%|█▉        | 334/1776 [00:10<00:51, 27.91it/s]"
     ]
    },
    {
     "name": "stdout",
     "output_type": "stream",
     "text": [
      "Error al obtener el tweet 1805075999777784036: 403 Client Error: Forbidden for url: https://xcancel.com/_/status/1805075999777784036\n"
     ]
    },
    {
     "name": "stderr",
     "output_type": "stream",
     "text": [
      "Buscando Retweets:  22%|██▏       | 382/1776 [00:11<00:25, 55.56it/s]"
     ]
    },
    {
     "name": "stdout",
     "output_type": "stream",
     "text": [
      "Error al obtener el tweet 1808104824262594876: 403 Client Error: Forbidden for url: https://xcancel.com/_/status/1808104824262594876\n"
     ]
    },
    {
     "name": "stderr",
     "output_type": "stream",
     "text": [
      "Buscando Retweets:  22%|██▏       | 388/1776 [00:11<00:30, 44.78it/s]"
     ]
    },
    {
     "name": "stdout",
     "output_type": "stream",
     "text": [
      "Error al obtener el tweet 1808086101367661041: 403 Client Error: Forbidden for url: https://xcancel.com/_/status/1808086101367661041\n"
     ]
    },
    {
     "name": "stderr",
     "output_type": "stream",
     "text": [
      "Buscando Retweets:  22%|██▏       | 393/1776 [00:11<00:39, 35.21it/s]"
     ]
    },
    {
     "name": "stdout",
     "output_type": "stream",
     "text": [
      "Error al obtener el tweet 1808014865723797878: 403 Client Error: Forbidden for url: https://xcancel.com/_/status/1808014865723797878\n"
     ]
    },
    {
     "name": "stderr",
     "output_type": "stream",
     "text": [
      "Buscando Retweets:  23%|██▎       | 409/1776 [00:12<00:53, 25.74it/s]"
     ]
    },
    {
     "name": "stdout",
     "output_type": "stream",
     "text": [
      "Error al obtener el tweet 1807913074805833768: 403 Client Error: Forbidden for url: https://xcancel.com/_/status/1807913074805833768\n"
     ]
    },
    {
     "name": "stderr",
     "output_type": "stream",
     "text": [
      "Buscando Retweets:  26%|██▌       | 462/1776 [00:14<00:44, 29.42it/s]"
     ]
    },
    {
     "name": "stdout",
     "output_type": "stream",
     "text": [
      "Error al obtener el tweet 1802719336886317282: 429 Client Error: Too Many Requests for url: https://nitter.privacydev.net/_/status/1802719336886317282\n"
     ]
    },
    {
     "name": "stderr",
     "output_type": "stream",
     "text": [
      "Buscando Retweets:  28%|██▊       | 494/1776 [00:14<00:26, 48.87it/s]"
     ]
    },
    {
     "name": "stdout",
     "output_type": "stream",
     "text": [
      "Error al obtener el tweet 1805142566293148049: 429 Client Error: Too Many Requests for url: https://nitter.privacydev.net/_/status/1805142566293148049\n"
     ]
    },
    {
     "name": "stderr",
     "output_type": "stream",
     "text": [
      "Buscando Retweets:  31%|███▏      | 559/1776 [00:15<00:20, 60.58it/s]"
     ]
    },
    {
     "name": "stdout",
     "output_type": "stream",
     "text": [
      "Error al obtener el tweet 1807928663523950674: 429 Client Error: Too Many Requests for url: https://nitter.privacydev.net/_/status/1807928663523950674\n",
      "Error al obtener el tweet 1807890152645447892: 429 Client Error: Too Many Requests for url: https://nitter.privacydev.net/_/status/1807890152645447892\n"
     ]
    },
    {
     "name": "stderr",
     "output_type": "stream",
     "text": [
      "Buscando Retweets:  32%|███▏      | 565/1776 [00:16<00:29, 40.96it/s]"
     ]
    },
    {
     "name": "stdout",
     "output_type": "stream",
     "text": [
      "Error al obtener el tweet 1807888562450317548: 429 Client Error: Too Many Requests for url: https://nitter.privacydev.net/_/status/1807888562450317548\n"
     ]
    },
    {
     "name": "stderr",
     "output_type": "stream",
     "text": [
      "Buscando Retweets:  32%|███▏      | 570/1776 [00:16<00:48, 25.02it/s]"
     ]
    },
    {
     "name": "stdout",
     "output_type": "stream",
     "text": [
      "Error al obtener el tweet 1807886436336574743: 403 Client Error: Forbidden for url: https://xcancel.com/_/status/1807886436336574743\n"
     ]
    },
    {
     "name": "stderr",
     "output_type": "stream",
     "text": [
      "Buscando Retweets:  32%|███▏      | 577/1776 [00:17<00:50, 23.75it/s]"
     ]
    },
    {
     "name": "stdout",
     "output_type": "stream",
     "text": [
      "Error al obtener el tweet 1804542677540565230: 403 Client Error: Forbidden for url: https://xcancel.com/_/status/1804542677540565230\n"
     ]
    },
    {
     "name": "stderr",
     "output_type": "stream",
     "text": [
      "Buscando Retweets:  34%|███▍      | 611/1776 [00:18<00:37, 31.04it/s]"
     ]
    },
    {
     "name": "stdout",
     "output_type": "stream",
     "text": [
      "Error al obtener el tweet 1808024588468527493: 429 Client Error: Too Many Requests for url: https://nitter.privacydev.net/_/status/1808024588468527493\n"
     ]
    },
    {
     "name": "stderr",
     "output_type": "stream",
     "text": [
      "Buscando Retweets:  35%|███▍      | 618/1776 [00:19<00:58, 19.93it/s]"
     ]
    },
    {
     "name": "stdout",
     "output_type": "stream",
     "text": [
      "Error al obtener el tweet 1796250616605598013: 403 Client Error: Forbidden for url: https://xcancel.com/_/status/1796250616605598013\n"
     ]
    },
    {
     "name": "stderr",
     "output_type": "stream",
     "text": [
      "Buscando Retweets:  37%|███▋      | 665/1776 [00:20<00:47, 23.38it/s]"
     ]
    },
    {
     "name": "stdout",
     "output_type": "stream",
     "text": [
      "Error al obtener el tweet 1799476896545096121: 429 Client Error: Too Many Requests for url: https://nitter.privacydev.net/_/status/1799476896545096121\n"
     ]
    },
    {
     "name": "stderr",
     "output_type": "stream",
     "text": [
      "Buscando Retweets:  40%|███▉      | 709/1776 [00:21<00:20, 52.10it/s]"
     ]
    },
    {
     "name": "stdout",
     "output_type": "stream",
     "text": [
      "Error al obtener el tweet 1802429569518928201: 429 Client Error: Too Many Requests for url: https://nitter.privacydev.net/_/status/1802429569518928201\n"
     ]
    },
    {
     "name": "stderr",
     "output_type": "stream",
     "text": [
      "Buscando Retweets:  41%|████▏     | 735/1776 [00:22<00:29, 35.03it/s]"
     ]
    },
    {
     "name": "stdout",
     "output_type": "stream",
     "text": [
      "Error al obtener el tweet 1798726605336174679: 429 Client Error: Too Many Requests for url: https://nitter.privacydev.net/_/status/1798726605336174679\n"
     ]
    },
    {
     "name": "stderr",
     "output_type": "stream",
     "text": [
      "Buscando Retweets:  42%|████▏     | 753/1776 [00:22<00:33, 30.54it/s]"
     ]
    },
    {
     "name": "stdout",
     "output_type": "stream",
     "text": [
      "Error al obtener el tweet 1805146459857125451: 403 Client Error: Forbidden for url: https://xcancel.com/_/status/1805146459857125451\n"
     ]
    },
    {
     "name": "stderr",
     "output_type": "stream",
     "text": [
      "Buscando Retweets:  43%|████▎     | 769/1776 [00:23<00:29, 34.40it/s]"
     ]
    },
    {
     "name": "stdout",
     "output_type": "stream",
     "text": [
      "Error al obtener el tweet 1805663757538148483: 403 Client Error: Forbidden for url: https://xcancel.com/_/status/1805663757538148483\n"
     ]
    },
    {
     "name": "stderr",
     "output_type": "stream",
     "text": [
      "Buscando Retweets:  44%|████▍     | 783/1776 [00:24<00:54, 18.26it/s]"
     ]
    },
    {
     "name": "stdout",
     "output_type": "stream",
     "text": [
      "Error al obtener el tweet 1807862704906068290: 403 Client Error: Forbidden for url: https://xcancel.com/_/status/1807862704906068290\n"
     ]
    },
    {
     "name": "stderr",
     "output_type": "stream",
     "text": [
      "Buscando Retweets:  45%|████▌     | 800/1776 [00:24<00:37, 25.96it/s]"
     ]
    },
    {
     "name": "stdout",
     "output_type": "stream",
     "text": [
      "Error al obtener el tweet 1807487802147586484: 403 Client Error: Forbidden for url: https://xcancel.com/_/status/1807487802147586484\n"
     ]
    },
    {
     "name": "stderr",
     "output_type": "stream",
     "text": [
      "Buscando Retweets:  45%|████▌     | 804/1776 [00:25<00:41, 23.35it/s]"
     ]
    },
    {
     "name": "stdout",
     "output_type": "stream",
     "text": [
      "Error al obtener el tweet 1807452352737075252: 429 Client Error: Too Many Requests for url: https://nitter.privacydev.net/_/status/1807452352737075252\n"
     ]
    },
    {
     "name": "stderr",
     "output_type": "stream",
     "text": [
      "Buscando Retweets:  46%|████▌     | 810/1776 [00:25<00:41, 23.19it/s]"
     ]
    },
    {
     "name": "stdout",
     "output_type": "stream",
     "text": [
      "Error al obtener el tweet 1806974710179140057: 429 Client Error: Too Many Requests for url: https://nitter.privacydev.net/_/status/1806974710179140057\n"
     ]
    },
    {
     "name": "stderr",
     "output_type": "stream",
     "text": [
      "Buscando Retweets:  46%|████▌     | 818/1776 [00:25<00:41, 22.90it/s]"
     ]
    },
    {
     "name": "stdout",
     "output_type": "stream",
     "text": [
      "Error al obtener el tweet 1808037383754916077: 403 Client Error: Forbidden for url: https://xcancel.com/_/status/1808037383754916077\n"
     ]
    },
    {
     "name": "stderr",
     "output_type": "stream",
     "text": [
      "Buscando Retweets:  46%|████▌     | 821/1776 [00:26<00:53, 17.98it/s]"
     ]
    },
    {
     "name": "stdout",
     "output_type": "stream",
     "text": [
      "Error al obtener el tweet 1807928866691768621: 403 Client Error: Forbidden for url: https://xcancel.com/_/status/1807928866691768621\n"
     ]
    },
    {
     "name": "stderr",
     "output_type": "stream",
     "text": [
      "Buscando Retweets:  47%|████▋     | 841/1776 [00:27<00:47, 19.53it/s]"
     ]
    },
    {
     "name": "stdout",
     "output_type": "stream",
     "text": [
      "Error al obtener el tweet 1804662068223549815: 403 Client Error: Forbidden for url: https://xcancel.com/_/status/1804662068223549815\n"
     ]
    },
    {
     "name": "stderr",
     "output_type": "stream",
     "text": [
      "Buscando Retweets:  48%|████▊     | 844/1776 [00:27<00:57, 16.25it/s]"
     ]
    },
    {
     "name": "stdout",
     "output_type": "stream",
     "text": [
      "Error al obtener el tweet 1804070007237677441: 403 Client Error: Forbidden for url: https://xcancel.com/_/status/1804070007237677441\n"
     ]
    },
    {
     "name": "stderr",
     "output_type": "stream",
     "text": [
      "Buscando Retweets:  48%|████▊     | 855/1776 [00:27<00:45, 20.33it/s]"
     ]
    },
    {
     "name": "stdout",
     "output_type": "stream",
     "text": [
      "Error al obtener el tweet 1805692557990441092: 403 Client Error: Forbidden for url: https://xcancel.com/_/status/1805692557990441092\n"
     ]
    },
    {
     "name": "stderr",
     "output_type": "stream",
     "text": [
      "Buscando Retweets:  48%|████▊     | 860/1776 [00:28<00:49, 18.58it/s]"
     ]
    },
    {
     "name": "stdout",
     "output_type": "stream",
     "text": [
      "Error al obtener el tweet 1804680295460778401: 403 Client Error: Forbidden for url: https://xcancel.com/_/status/1804680295460778401\n"
     ]
    },
    {
     "name": "stderr",
     "output_type": "stream",
     "text": [
      "Buscando Retweets:  49%|████▊     | 862/1776 [00:28<01:01, 14.85it/s]"
     ]
    },
    {
     "name": "stdout",
     "output_type": "stream",
     "text": [
      "Error al obtener el tweet 1804672427298869557: 403 Client Error: Forbidden for url: https://xcancel.com/_/status/1804672427298869557\n"
     ]
    },
    {
     "name": "stderr",
     "output_type": "stream",
     "text": [
      "Buscando Retweets:  49%|████▉     | 879/1776 [00:29<00:52, 17.11it/s]"
     ]
    },
    {
     "name": "stdout",
     "output_type": "stream",
     "text": [
      "Error al obtener el tweet 1802327252274647376: 429 Client Error: Too Many Requests for url: https://nitter.privacydev.net/_/status/1802327252274647376\n"
     ]
    },
    {
     "name": "stderr",
     "output_type": "stream",
     "text": [
      "Buscando Retweets:  50%|████▉     | 883/1776 [00:30<01:20, 11.14it/s]"
     ]
    },
    {
     "name": "stdout",
     "output_type": "stream",
     "text": [
      "Error al obtener el tweet 1801212115627266453: 429 Client Error: Too Many Requests for url: https://nitter.privacydev.net/_/status/1801212115627266453\n"
     ]
    },
    {
     "name": "stderr",
     "output_type": "stream",
     "text": [
      "Buscando Retweets:  51%|█████     | 900/1776 [00:30<00:37, 23.13it/s]"
     ]
    },
    {
     "name": "stdout",
     "output_type": "stream",
     "text": [
      "Error al obtener el tweet 1799941927816847569: 429 Client Error: Too Many Requests for url: https://nitter.privacydev.net/_/status/1799941927816847569\n"
     ]
    },
    {
     "name": "stderr",
     "output_type": "stream",
     "text": [
      "Buscando Retweets:  52%|█████▏    | 920/1776 [00:31<00:29, 29.03it/s]"
     ]
    },
    {
     "name": "stdout",
     "output_type": "stream",
     "text": [
      "Error al obtener el tweet 1800078525631746137: 429 Client Error: Too Many Requests for url: https://nitter.privacydev.net/_/status/1800078525631746137\n",
      "Error al obtener el tweet 1801659253624635800: 429 Client Error: Too Many Requests for url: https://nitter.privacydev.net/_/status/1801659253624635800\n"
     ]
    },
    {
     "name": "stderr",
     "output_type": "stream",
     "text": [
      "Buscando Retweets:  52%|█████▏    | 924/1776 [00:31<00:45, 18.70it/s]"
     ]
    },
    {
     "name": "stdout",
     "output_type": "stream",
     "text": [
      "Error al obtener el tweet 1800525282266488967: 403 Client Error: Forbidden for url: https://xcancel.com/_/status/1800525282266488967\n"
     ]
    },
    {
     "name": "stderr",
     "output_type": "stream",
     "text": [
      "Buscando Retweets:  52%|█████▏    | 927/1776 [00:31<00:51, 16.58it/s]"
     ]
    },
    {
     "name": "stdout",
     "output_type": "stream",
     "text": [
      "Error al obtener el tweet 1798726794884837616: 429 Client Error: Too Many Requests for url: https://nitter.privacydev.net/_/status/1798726794884837616\n"
     ]
    },
    {
     "name": "stderr",
     "output_type": "stream",
     "text": [
      "Buscando Retweets:  52%|█████▏    | 930/1776 [00:32<00:55, 15.29it/s]"
     ]
    },
    {
     "name": "stdout",
     "output_type": "stream",
     "text": [
      "Error al obtener el tweet 1805057006983606605: 429 Client Error: Too Many Requests for url: https://nitter.privacydev.net/_/status/1805057006983606605\n"
     ]
    },
    {
     "name": "stderr",
     "output_type": "stream",
     "text": [
      "Buscando Retweets:  53%|█████▎    | 948/1776 [00:32<00:32, 25.69it/s]"
     ]
    },
    {
     "name": "stdout",
     "output_type": "stream",
     "text": [
      "Error al obtener el tweet 1807488164082155658: 403 Client Error: Forbidden for url: https://xcancel.com/_/status/1807488164082155658\n"
     ]
    },
    {
     "name": "stderr",
     "output_type": "stream",
     "text": [
      "Buscando Retweets:  54%|█████▍    | 964/1776 [00:33<00:26, 30.73it/s]"
     ]
    },
    {
     "name": "stdout",
     "output_type": "stream",
     "text": [
      "Error al obtener el tweet 1808011896030662759: 403 Client Error: Forbidden for url: https://xcancel.com/_/status/1808011896030662759\n"
     ]
    },
    {
     "name": "stderr",
     "output_type": "stream",
     "text": [
      "Buscando Retweets:  55%|█████▍    | 968/1776 [00:33<00:32, 24.89it/s]"
     ]
    },
    {
     "name": "stdout",
     "output_type": "stream",
     "text": [
      "Error al obtener el tweet 1807927872394273136: 429 Client Error: Too Many Requests for url: https://nitter.privacydev.net/_/status/1807927872394273136\n"
     ]
    },
    {
     "name": "stderr",
     "output_type": "stream",
     "text": [
      "Buscando Retweets:  55%|█████▍    | 975/1776 [00:33<00:33, 24.27it/s]"
     ]
    },
    {
     "name": "stdout",
     "output_type": "stream",
     "text": [
      "Error al obtener el tweet 1808105830497071319: 429 Client Error: Too Many Requests for url: https://nitter.privacydev.net/_/status/1808105830497071319\n"
     ]
    },
    {
     "name": "stderr",
     "output_type": "stream",
     "text": [
      "Buscando Retweets:  56%|█████▌    | 989/1776 [00:34<00:41, 19.05it/s]"
     ]
    },
    {
     "name": "stdout",
     "output_type": "stream",
     "text": [
      "Error al obtener el tweet 1807550668963553349: 403 Client Error: Forbidden for url: https://xcancel.com/_/status/1807550668963553349\n"
     ]
    },
    {
     "name": "stderr",
     "output_type": "stream",
     "text": [
      "Buscando Retweets:  57%|█████▋    | 1006/1776 [00:35<00:35, 21.68it/s]"
     ]
    },
    {
     "name": "stdout",
     "output_type": "stream",
     "text": [
      "Error al obtener el tweet 1806434160917242097: 429 Client Error: Too Many Requests for url: https://nitter.privacydev.net/_/status/1806434160917242097\n"
     ]
    },
    {
     "name": "stderr",
     "output_type": "stream",
     "text": [
      "Buscando Retweets:  57%|█████▋    | 1018/1776 [00:35<00:30, 25.09it/s]"
     ]
    },
    {
     "name": "stdout",
     "output_type": "stream",
     "text": [
      "Error al obtener el tweet 1805955275855204772: 429 Client Error: Too Many Requests for url: https://nitter.privacydev.net/_/status/1805955275855204772\n"
     ]
    },
    {
     "name": "stderr",
     "output_type": "stream",
     "text": [
      "Buscando Retweets:  58%|█████▊    | 1022/1776 [00:36<00:36, 20.70it/s]"
     ]
    },
    {
     "name": "stdout",
     "output_type": "stream",
     "text": [
      "Error al obtener el tweet 1804903895929327821: 403 Client Error: Forbidden for url: https://xcancel.com/_/status/1804903895929327821\n"
     ]
    },
    {
     "name": "stderr",
     "output_type": "stream",
     "text": [
      "Buscando Retweets:  59%|█████▉    | 1047/1776 [00:36<00:21, 34.52it/s]"
     ]
    },
    {
     "name": "stdout",
     "output_type": "stream",
     "text": [
      "Error al obtener el tweet 1795936670316941558: 429 Client Error: Too Many Requests for url: https://nitter.privacydev.net/_/status/1795936670316941558\n"
     ]
    },
    {
     "name": "stderr",
     "output_type": "stream",
     "text": [
      "Buscando Retweets:  60%|█████▉    | 1061/1776 [00:37<00:27, 26.13it/s]"
     ]
    },
    {
     "name": "stdout",
     "output_type": "stream",
     "text": [
      "Error al obtener el tweet 1802193980244787220: 429 Client Error: Too Many Requests for url: https://nitter.privacydev.net/_/status/1802193980244787220\n"
     ]
    },
    {
     "name": "stderr",
     "output_type": "stream",
     "text": [
      "Buscando Retweets:  60%|██████    | 1067/1776 [00:37<00:30, 23.39it/s]"
     ]
    },
    {
     "name": "stdout",
     "output_type": "stream",
     "text": [
      "Error al obtener el tweet 1801218560917663764: 429 Client Error: Too Many Requests for url: https://nitter.privacydev.net/_/status/1801218560917663764\n"
     ]
    },
    {
     "name": "stderr",
     "output_type": "stream",
     "text": [
      "Buscando Retweets:  60%|██████    | 1070/1776 [00:38<00:35, 19.89it/s]"
     ]
    },
    {
     "name": "stdout",
     "output_type": "stream",
     "text": [
      "Error al obtener el tweet 1801208651916451911: 429 Client Error: Too Many Requests for url: https://nitter.privacydev.net/_/status/1801208651916451911\n"
     ]
    },
    {
     "name": "stderr",
     "output_type": "stream",
     "text": [
      "Buscando Retweets:  60%|██████    | 1073/1776 [00:38<00:40, 17.49it/s]"
     ]
    },
    {
     "name": "stdout",
     "output_type": "stream",
     "text": [
      "Error al obtener el tweet 1801200001428734203: 429 Client Error: Too Many Requests for url: https://nitter.privacydev.net/_/status/1801200001428734203\n"
     ]
    },
    {
     "name": "stderr",
     "output_type": "stream",
     "text": [
      "Buscando Retweets:  62%|██████▏   | 1093/1776 [00:38<00:24, 27.78it/s]"
     ]
    },
    {
     "name": "stdout",
     "output_type": "stream",
     "text": [
      "Error al obtener el tweet 1799417421406818759: 429 Client Error: Too Many Requests for url: https://nitter.privacydev.net/_/status/1799417421406818759\n"
     ]
    },
    {
     "name": "stderr",
     "output_type": "stream",
     "text": [
      "Buscando Retweets:  63%|██████▎   | 1114/1776 [00:39<00:16, 39.45it/s]"
     ]
    },
    {
     "name": "stdout",
     "output_type": "stream",
     "text": [
      "Error al obtener el tweet 1799793669723275267: 429 Client Error: Too Many Requests for url: https://nitter.privacydev.net/_/status/1799793669723275267\n"
     ]
    },
    {
     "name": "stderr",
     "output_type": "stream",
     "text": [
      "Buscando Retweets:  64%|██████▍   | 1135/1776 [00:39<00:14, 45.34it/s]"
     ]
    },
    {
     "name": "stdout",
     "output_type": "stream",
     "text": [
      "Error al obtener el tweet 1803902213078634946: 429 Client Error: Too Many Requests for url: https://nitter.privacydev.net/_/status/1803902213078634946\n"
     ]
    },
    {
     "name": "stderr",
     "output_type": "stream",
     "text": [
      "Buscando Retweets:  64%|██████▍   | 1145/1776 [00:39<00:15, 39.53it/s]"
     ]
    },
    {
     "name": "stdout",
     "output_type": "stream",
     "text": [
      "Error al obtener el tweet 1805071509599420657: 403 Client Error: Forbidden for url: https://xcancel.com/_/status/1805071509599420657\n"
     ]
    },
    {
     "name": "stderr",
     "output_type": "stream",
     "text": [
      "Buscando Retweets:  65%|██████▌   | 1156/1776 [00:40<00:16, 37.91it/s]"
     ]
    },
    {
     "name": "stdout",
     "output_type": "stream",
     "text": [
      "Error al obtener el tweet 1805163272762458210: 429 Client Error: Too Many Requests for url: https://nitter.privacydev.net/_/status/1805163272762458210\n"
     ]
    },
    {
     "name": "stderr",
     "output_type": "stream",
     "text": [
      "Buscando Retweets:  65%|██████▌   | 1160/1776 [00:40<00:22, 27.37it/s]"
     ]
    },
    {
     "name": "stdout",
     "output_type": "stream",
     "text": [
      "Error al obtener el tweet 1805665777812447621: 403 Client Error: Forbidden for url: https://xcancel.com/_/status/1805665777812447621\n"
     ]
    },
    {
     "name": "stderr",
     "output_type": "stream",
     "text": [
      "Buscando Retweets:  68%|██████▊   | 1203/1776 [00:40<00:10, 53.79it/s]"
     ]
    },
    {
     "name": "stdout",
     "output_type": "stream",
     "text": [
      "Error al obtener el tweet 1808049583454335335: 403 Client Error: Forbidden for url: https://xcancel.com/_/status/1808049583454335335\n"
     ]
    },
    {
     "name": "stderr",
     "output_type": "stream",
     "text": [
      "Buscando Retweets:  69%|██████▉   | 1225/1776 [00:41<00:09, 55.10it/s]"
     ]
    },
    {
     "name": "stdout",
     "output_type": "stream",
     "text": [
      "Error al obtener el tweet 1807887941374730676: 403 Client Error: Forbidden for url: https://xcancel.com/_/status/1807887941374730676\n"
     ]
    },
    {
     "name": "stderr",
     "output_type": "stream",
     "text": [
      "Buscando Retweets:  70%|██████▉   | 1242/1776 [00:42<00:15, 34.94it/s]"
     ]
    },
    {
     "name": "stdout",
     "output_type": "stream",
     "text": [
      "Error al obtener el tweet 1804556160600543508: 429 Client Error: Too Many Requests for url: https://nitter.privacydev.net/_/status/1804556160600543508\n"
     ]
    },
    {
     "name": "stderr",
     "output_type": "stream",
     "text": [
      "Buscando Retweets:  72%|███████▏  | 1284/1776 [00:45<00:24, 20.46it/s]"
     ]
    },
    {
     "name": "stdout",
     "output_type": "stream",
     "text": [
      "Error al obtener el tweet 1795950696732201307: 429 Client Error: Too Many Requests for url: https://nitter.privacydev.net/_/status/1795950696732201307\n"
     ]
    },
    {
     "name": "stderr",
     "output_type": "stream",
     "text": [
      "Buscando Retweets:  72%|███████▏  | 1287/1776 [00:45<00:26, 18.37it/s]"
     ]
    },
    {
     "name": "stdout",
     "output_type": "stream",
     "text": [
      "Error al obtener el tweet 1803273197334180246: 429 Client Error: Too Many Requests for url: https://nitter.privacydev.net/_/status/1803273197334180246\n"
     ]
    },
    {
     "name": "stderr",
     "output_type": "stream",
     "text": [
      "Buscando Retweets:  73%|███████▎  | 1296/1776 [00:45<00:22, 21.69it/s]"
     ]
    },
    {
     "name": "stdout",
     "output_type": "stream",
     "text": [
      "Error al obtener el tweet 1794019031806054517: 429 Client Error: Too Many Requests for url: https://nitter.privacydev.net/_/status/1794019031806054517\n"
     ]
    },
    {
     "name": "stderr",
     "output_type": "stream",
     "text": [
      "Buscando Retweets:  73%|███████▎  | 1302/1776 [00:45<00:22, 21.51it/s]"
     ]
    },
    {
     "name": "stdout",
     "output_type": "stream",
     "text": [
      "Error al obtener el tweet 1799060631708110877: 429 Client Error: Too Many Requests for url: https://nitter.privacydev.net/_/status/1799060631708110877\n"
     ]
    },
    {
     "name": "stderr",
     "output_type": "stream",
     "text": [
      "Buscando Retweets:  74%|███████▎  | 1307/1776 [00:46<00:24, 19.38it/s]"
     ]
    },
    {
     "name": "stdout",
     "output_type": "stream",
     "text": [
      "Error al obtener el tweet 1795852003937038499: 429 Client Error: Too Many Requests for url: https://nitter.privacydev.net/_/status/1795852003937038499\n"
     ]
    },
    {
     "name": "stderr",
     "output_type": "stream",
     "text": [
      "Buscando Retweets:  75%|███████▌  | 1336/1776 [00:46<00:12, 33.92it/s]"
     ]
    },
    {
     "name": "stdout",
     "output_type": "stream",
     "text": [
      "Error al obtener el tweet 1801572161439555810: 429 Client Error: Too Many Requests for url: https://nitter.privacydev.net/_/status/1801572161439555810\n"
     ]
    },
    {
     "name": "stderr",
     "output_type": "stream",
     "text": [
      "Buscando Retweets:  76%|███████▌  | 1344/1776 [00:47<00:13, 31.10it/s]"
     ]
    },
    {
     "name": "stdout",
     "output_type": "stream",
     "text": [
      "Error al obtener el tweet 1804017055793914201: 429 Client Error: Too Many Requests for url: https://nitter.privacydev.net/_/status/1804017055793914201\n"
     ]
    },
    {
     "name": "stderr",
     "output_type": "stream",
     "text": [
      "Buscando Retweets:  76%|███████▌  | 1350/1776 [00:47<00:15, 27.86it/s]"
     ]
    },
    {
     "name": "stdout",
     "output_type": "stream",
     "text": [
      "Error al obtener el tweet 1805166570047488159: 429 Client Error: Too Many Requests for url: https://nitter.privacydev.net/_/status/1805166570047488159\n"
     ]
    },
    {
     "name": "stderr",
     "output_type": "stream",
     "text": [
      "Buscando Retweets:  80%|███████▉  | 1414/1776 [00:48<00:07, 47.18it/s]"
     ]
    },
    {
     "name": "stdout",
     "output_type": "stream",
     "text": [
      "Error al obtener el tweet 1808105064873316578: 429 Client Error: Too Many Requests for url: https://nitter.privacydev.net/_/status/1808105064873316578\n"
     ]
    },
    {
     "name": "stderr",
     "output_type": "stream",
     "text": [
      "Buscando Retweets:  80%|███████▉  | 1419/1776 [00:49<00:09, 37.55it/s]"
     ]
    },
    {
     "name": "stdout",
     "output_type": "stream",
     "text": [
      "Error al obtener el tweet 1808047584310677906: 403 Client Error: Forbidden for url: https://xcancel.com/_/status/1808047584310677906\n"
     ]
    },
    {
     "name": "stderr",
     "output_type": "stream",
     "text": [
      "Buscando Retweets:  82%|████████▏ | 1463/1776 [00:50<00:08, 36.59it/s]"
     ]
    },
    {
     "name": "stdout",
     "output_type": "stream",
     "text": [
      "Error al obtener el tweet 1805993029125181504: 403 Client Error: Forbidden for url: https://xcancel.com/_/status/1805993029125181504\n"
     ]
    },
    {
     "name": "stderr",
     "output_type": "stream",
     "text": [
      "Buscando Retweets:  84%|████████▎ | 1487/1776 [00:51<00:08, 34.89it/s]"
     ]
    },
    {
     "name": "stdout",
     "output_type": "stream",
     "text": [
      "Error al obtener el tweet 1807990458951307416: 429 Client Error: Too Many Requests for url: https://nitter.privacydev.net/_/status/1807990458951307416\n"
     ]
    },
    {
     "name": "stderr",
     "output_type": "stream",
     "text": [
      "Buscando Retweets:  84%|████████▍ | 1500/1776 [00:51<00:08, 34.14it/s]"
     ]
    },
    {
     "name": "stdout",
     "output_type": "stream",
     "text": [
      "Error al obtener el tweet 1796401565470974200: 403 Client Error: Forbidden for url: https://xcancel.com/_/status/1796401565470974200\n"
     ]
    },
    {
     "name": "stderr",
     "output_type": "stream",
     "text": [
      "Buscando Retweets:  85%|████████▌ | 1516/1776 [00:51<00:07, 36.45it/s]"
     ]
    },
    {
     "name": "stdout",
     "output_type": "stream",
     "text": [
      "Error al obtener el tweet 1802583560576024858: 403 Client Error: Forbidden for url: https://xcancel.com/_/status/1802583560576024858\n"
     ]
    },
    {
     "name": "stderr",
     "output_type": "stream",
     "text": [
      "Buscando Retweets:  86%|████████▌ | 1522/1776 [00:52<00:08, 31.55it/s]"
     ]
    },
    {
     "name": "stdout",
     "output_type": "stream",
     "text": [
      "Error al obtener el tweet 1801199082909614250: 429 Client Error: Too Many Requests for url: https://nitter.privacydev.net/_/status/1801199082909614250\n"
     ]
    },
    {
     "name": "stderr",
     "output_type": "stream",
     "text": [
      "Buscando Retweets:  86%|████████▌ | 1526/1776 [00:52<00:09, 26.68it/s]"
     ]
    },
    {
     "name": "stdout",
     "output_type": "stream",
     "text": [
      "Error al obtener el tweet 1801208358755577864: 429 Client Error: Too Many Requests for url: https://nitter.privacydev.net/_/status/1801208358755577864\n"
     ]
    },
    {
     "name": "stderr",
     "output_type": "stream",
     "text": [
      "Buscando Retweets:  86%|████████▋ | 1534/1776 [00:52<00:08, 27.35it/s]"
     ]
    },
    {
     "name": "stdout",
     "output_type": "stream",
     "text": [
      "Error al obtener el tweet 1796595473106759951: 429 Client Error: Too Many Requests for url: https://nitter.privacydev.net/_/status/1796595473106759951\n"
     ]
    },
    {
     "name": "stderr",
     "output_type": "stream",
     "text": [
      "Buscando Retweets:  87%|████████▋ | 1537/1776 [00:53<00:11, 21.24it/s]"
     ]
    },
    {
     "name": "stdout",
     "output_type": "stream",
     "text": [
      "Error al obtener el tweet 1798809529851023680: 403 Client Error: Forbidden for url: https://xcancel.com/_/status/1798809529851023680\n"
     ]
    },
    {
     "name": "stderr",
     "output_type": "stream",
     "text": [
      "Buscando Retweets:  87%|████████▋ | 1543/1776 [00:53<00:10, 21.20it/s]"
     ]
    },
    {
     "name": "stdout",
     "output_type": "stream",
     "text": [
      "Error al obtener el tweet 1794063065794679028: 429 Client Error: Too Many Requests for url: https://nitter.privacydev.net/_/status/1794063065794679028\n"
     ]
    },
    {
     "name": "stderr",
     "output_type": "stream",
     "text": [
      "Buscando Retweets:  89%|████████▉ | 1577/1776 [00:53<00:04, 45.73it/s]"
     ]
    },
    {
     "name": "stdout",
     "output_type": "stream",
     "text": [
      "Error al obtener el tweet 1803895090022355273: 403 Client Error: Forbidden for url: https://xcancel.com/_/status/1803895090022355273\n"
     ]
    },
    {
     "name": "stderr",
     "output_type": "stream",
     "text": [
      "Buscando Retweets:  90%|█████████ | 1601/1776 [00:54<00:03, 56.88it/s]"
     ]
    },
    {
     "name": "stdout",
     "output_type": "stream",
     "text": [
      "Error al obtener el tweet 1806254823139856439: 429 Client Error: Too Many Requests for url: https://nitter.privacydev.net/_/status/1806254823139856439\n",
      "Error al obtener el tweet 1805843500069437937: 429 Client Error: Too Many Requests for url: https://nitter.privacydev.net/_/status/1805843500069437937\n",
      "Error al obtener el tweet 1805711523589013944: 403 Client Error: Forbidden for url: https://xcancel.com/_/status/1805711523589013944\n",
      "Error al obtener el tweet 1805663948441817559: 429 Client Error: Too Many Requests for url: https://nitter.privacydev.net/_/status/1805663948441817559\n",
      "Error al obtener el tweet 1805663504508035306: 429 Client Error: Too Many Requests for url: https://nitter.privacydev.net/_/status/1805663504508035306\n",
      "Error al obtener el tweet 1805535715138179309: 403 Client Error: Forbidden for url: https://xcancel.com/_/status/1805535715138179309\n"
     ]
    },
    {
     "name": "stderr",
     "output_type": "stream",
     "text": [
      "Buscando Retweets:  90%|█████████ | 1607/1776 [00:56<00:09, 16.90it/s]"
     ]
    },
    {
     "name": "stdout",
     "output_type": "stream",
     "text": [
      "Error al obtener el tweet 1804801012701577574: 429 Client Error: Too Many Requests for url: https://nitter.privacydev.net/_/status/1804801012701577574\n",
      "Error al obtener el tweet 1804417695607083281: 403 Client Error: Forbidden for url: https://xcancel.com/_/status/1804417695607083281\n"
     ]
    },
    {
     "name": "stderr",
     "output_type": "stream",
     "text": [
      "Buscando Retweets:  91%|█████████ | 1612/1776 [00:58<00:18,  8.64it/s]"
     ]
    },
    {
     "name": "stdout",
     "output_type": "stream",
     "text": [
      "Error al obtener el tweet 1805683330618474943: 403 Client Error: Forbidden for url: https://xcancel.com/_/status/1805683330618474943\n"
     ]
    },
    {
     "name": "stderr",
     "output_type": "stream",
     "text": [
      "Buscando Retweets:  91%|█████████ | 1615/1776 [01:00<00:24,  6.61it/s]"
     ]
    },
    {
     "name": "stdout",
     "output_type": "stream",
     "text": [
      "Error al obtener el tweet 1804293954524856804: 429 Client Error: Too Many Requests for url: https://nitter.privacydev.net/_/status/1804293954524856804\n"
     ]
    },
    {
     "name": "stderr",
     "output_type": "stream",
     "text": [
      "Buscando Retweets:  91%|█████████ | 1618/1776 [01:01<00:28,  5.47it/s]"
     ]
    },
    {
     "name": "stdout",
     "output_type": "stream",
     "text": [
      "Error al obtener el tweet 1807848607871058055: 429 Client Error: Too Many Requests for url: https://nitter.privacydev.net/_/status/1807848607871058055\n",
      "Error al obtener el tweet 1807759956302843941: 403 Client Error: Forbidden for url: https://xcancel.com/_/status/1807759956302843941\n"
     ]
    },
    {
     "name": "stderr",
     "output_type": "stream",
     "text": [
      "Buscando Retweets:  91%|█████████ | 1620/1776 [01:02<00:31,  4.88it/s]"
     ]
    },
    {
     "name": "stdout",
     "output_type": "stream",
     "text": [
      "Error al obtener el tweet 1807756171597504953: 429 Client Error: Too Many Requests for url: https://nitter.privacydev.net/_/status/1807756171597504953\n",
      "Error al obtener el tweet 1807750992554868828: 403 Client Error: Forbidden for url: https://xcancel.com/_/status/1807750992554868828\n"
     ]
    },
    {
     "name": "stderr",
     "output_type": "stream",
     "text": [
      "Buscando Retweets:  91%|█████████▏| 1622/1776 [01:02<00:35,  4.33it/s]"
     ]
    },
    {
     "name": "stdout",
     "output_type": "stream",
     "text": [
      "Error al obtener el tweet 1807624820537827578: 429 Client Error: Too Many Requests for url: https://nitter.privacydev.net/_/status/1807624820537827578\n"
     ]
    },
    {
     "name": "stderr",
     "output_type": "stream",
     "text": [
      "Buscando Retweets:  91%|█████████▏| 1623/1776 [01:03<00:37,  4.11it/s]"
     ]
    },
    {
     "name": "stdout",
     "output_type": "stream",
     "text": [
      "Error al obtener el tweet 1807528983090590179: 403 Client Error: Forbidden for url: https://xcancel.com/_/status/1807528983090590179\n"
     ]
    },
    {
     "name": "stderr",
     "output_type": "stream",
     "text": [
      "Buscando Retweets:  91%|█████████▏| 1624/1776 [01:03<00:39,  3.87it/s]"
     ]
    },
    {
     "name": "stdout",
     "output_type": "stream",
     "text": [
      "Error al obtener el tweet 1807525208267305305: 403 Client Error: Forbidden for url: https://xcancel.com/_/status/1807525208267305305\n"
     ]
    },
    {
     "name": "stderr",
     "output_type": "stream",
     "text": [
      "Buscando Retweets:  92%|█████████▏| 1626/1776 [01:04<00:46,  3.26it/s]"
     ]
    },
    {
     "name": "stdout",
     "output_type": "stream",
     "text": [
      "Error al obtener el tweet 1807527629567738115: 403 Client Error: Forbidden for url: https://xcancel.com/_/status/1807527629567738115\n"
     ]
    },
    {
     "name": "stderr",
     "output_type": "stream",
     "text": [
      "Buscando Retweets:  92%|█████████▏| 1627/1776 [01:04<00:47,  3.14it/s]"
     ]
    },
    {
     "name": "stdout",
     "output_type": "stream",
     "text": [
      "Error al obtener el tweet 1807502663367422386: 403 Client Error: Forbidden for url: https://xcancel.com/_/status/1807502663367422386\n"
     ]
    },
    {
     "name": "stderr",
     "output_type": "stream",
     "text": [
      "Buscando Retweets:  92%|█████████▏| 1628/1776 [01:05<00:46,  3.19it/s]"
     ]
    },
    {
     "name": "stdout",
     "output_type": "stream",
     "text": [
      "Error al obtener el tweet 1807488222290722908: 429 Client Error: Too Many Requests for url: https://nitter.privacydev.net/_/status/1807488222290722908\n"
     ]
    },
    {
     "name": "stderr",
     "output_type": "stream",
     "text": [
      "Buscando Retweets:  92%|█████████▏| 1629/1776 [01:05<00:47,  3.09it/s]"
     ]
    },
    {
     "name": "stdout",
     "output_type": "stream",
     "text": [
      "Error al obtener el tweet 1807766898819453379: 403 Client Error: Forbidden for url: https://xcancel.com/_/status/1807766898819453379\n"
     ]
    },
    {
     "name": "stderr",
     "output_type": "stream",
     "text": [
      "Buscando Retweets:  92%|█████████▏| 1630/1776 [01:05<00:45,  3.21it/s]"
     ]
    },
    {
     "name": "stdout",
     "output_type": "stream",
     "text": [
      "Error al obtener el tweet 1807760647255400602: 429 Client Error: Too Many Requests for url: https://nitter.privacydev.net/_/status/1807760647255400602\n"
     ]
    },
    {
     "name": "stderr",
     "output_type": "stream",
     "text": [
      "Buscando Retweets:  92%|█████████▏| 1631/1776 [01:06<00:44,  3.25it/s]"
     ]
    },
    {
     "name": "stdout",
     "output_type": "stream",
     "text": [
      "Error al obtener el tweet 1807479914624376932: 429 Client Error: Too Many Requests for url: https://nitter.privacydev.net/_/status/1807479914624376932\n"
     ]
    },
    {
     "name": "stderr",
     "output_type": "stream",
     "text": [
      "Buscando Retweets:  92%|█████████▏| 1633/1776 [01:06<00:49,  2.86it/s]"
     ]
    },
    {
     "name": "stdout",
     "output_type": "stream",
     "text": [
      "Error al obtener el tweet 1807466618261315690: 429 Client Error: Too Many Requests for url: https://nitter.privacydev.net/_/status/1807466618261315690\n"
     ]
    },
    {
     "name": "stderr",
     "output_type": "stream",
     "text": [
      "Buscando Retweets:  92%|█████████▏| 1634/1776 [01:07<00:49,  2.87it/s]"
     ]
    },
    {
     "name": "stdout",
     "output_type": "stream",
     "text": [
      "Error al obtener el tweet 1807452579426599256: 403 Client Error: Forbidden for url: https://xcancel.com/_/status/1807452579426599256\n"
     ]
    },
    {
     "name": "stderr",
     "output_type": "stream",
     "text": [
      "Buscando Retweets:  92%|█████████▏| 1635/1776 [01:07<00:49,  2.85it/s]"
     ]
    },
    {
     "name": "stdout",
     "output_type": "stream",
     "text": [
      "Error al obtener el tweet 1807235869561999407: 403 Client Error: Forbidden for url: https://xcancel.com/_/status/1807235869561999407\n"
     ]
    },
    {
     "name": "stderr",
     "output_type": "stream",
     "text": [
      "Buscando Retweets:  92%|█████████▏| 1636/1776 [01:07<00:46,  3.00it/s]"
     ]
    },
    {
     "name": "stdout",
     "output_type": "stream",
     "text": [
      "Error al obtener el tweet 1807077360744727017: 429 Client Error: Too Many Requests for url: https://nitter.privacydev.net/_/status/1807077360744727017\n"
     ]
    },
    {
     "name": "stderr",
     "output_type": "stream",
     "text": [
      "Buscando Retweets:  92%|█████████▏| 1638/1776 [01:08<00:55,  2.49it/s]"
     ]
    },
    {
     "name": "stdout",
     "output_type": "stream",
     "text": [
      "Error al obtener el tweet 1806878139471077701: 429 Client Error: Too Many Requests for url: https://nitter.privacydev.net/_/status/1806878139471077701\n"
     ]
    },
    {
     "name": "stderr",
     "output_type": "stream",
     "text": [
      "Buscando Retweets:  92%|█████████▏| 1639/1776 [01:09<00:50,  2.72it/s]"
     ]
    },
    {
     "name": "stdout",
     "output_type": "stream",
     "text": [
      "Error al obtener el tweet 1806877810222358846: 429 Client Error: Too Many Requests for url: https://nitter.privacydev.net/_/status/1806877810222358846\n"
     ]
    },
    {
     "name": "stderr",
     "output_type": "stream",
     "text": [
      "Buscando Retweets:  92%|█████████▏| 1640/1776 [01:09<00:49,  2.72it/s]"
     ]
    },
    {
     "name": "stdout",
     "output_type": "stream",
     "text": [
      "Error al obtener el tweet 1808109156584296936: 403 Client Error: Forbidden for url: https://xcancel.com/_/status/1808109156584296936\n"
     ]
    },
    {
     "name": "stderr",
     "output_type": "stream",
     "text": [
      "Buscando Retweets:  92%|█████████▏| 1641/1776 [01:09<00:47,  2.83it/s]"
     ]
    },
    {
     "name": "stdout",
     "output_type": "stream",
     "text": [
      "Error al obtener el tweet 1808106066586083509: 429 Client Error: Too Many Requests for url: https://nitter.privacydev.net/_/status/1808106066586083509\n"
     ]
    },
    {
     "name": "stderr",
     "output_type": "stream",
     "text": [
      "Buscando Retweets:  92%|█████████▏| 1642/1776 [01:10<00:43,  3.06it/s]"
     ]
    },
    {
     "name": "stdout",
     "output_type": "stream",
     "text": [
      "Error al obtener el tweet 1808097613939400890: 429 Client Error: Too Many Requests for url: https://nitter.privacydev.net/_/status/1808097613939400890\n"
     ]
    },
    {
     "name": "stderr",
     "output_type": "stream",
     "text": [
      "Buscando Retweets:  93%|█████████▎| 1645/1776 [01:11<00:55,  2.35it/s]"
     ]
    },
    {
     "name": "stdout",
     "output_type": "stream",
     "text": [
      "Error al obtener el tweet 1808051904590532947: 403 Client Error: Forbidden for url: https://xcancel.com/_/status/1808051904590532947\n"
     ]
    },
    {
     "name": "stderr",
     "output_type": "stream",
     "text": [
      "Buscando Retweets:  93%|█████████▎| 1646/1776 [01:12<00:52,  2.47it/s]"
     ]
    },
    {
     "name": "stdout",
     "output_type": "stream",
     "text": [
      "Error al obtener el tweet 1808049957238108575: 403 Client Error: Forbidden for url: https://xcancel.com/_/status/1808049957238108575\n"
     ]
    },
    {
     "name": "stderr",
     "output_type": "stream",
     "text": [
      "Buscando Retweets:  93%|█████████▎| 1648/1776 [01:13<01:01,  2.09it/s]"
     ]
    },
    {
     "name": "stdout",
     "output_type": "stream",
     "text": [
      "Error al obtener el tweet 1808041639077658683: 403 Client Error: Forbidden for url: https://xcancel.com/_/status/1808041639077658683\n"
     ]
    },
    {
     "name": "stderr",
     "output_type": "stream",
     "text": [
      "Buscando Retweets:  93%|█████████▎| 1649/1776 [01:13<00:56,  2.25it/s]"
     ]
    },
    {
     "name": "stdout",
     "output_type": "stream",
     "text": [
      "Error al obtener el tweet 1808041152639115279: 403 Client Error: Forbidden for url: https://xcancel.com/_/status/1808041152639115279\n"
     ]
    },
    {
     "name": "stderr",
     "output_type": "stream",
     "text": [
      "Buscando Retweets:  93%|█████████▎| 1651/1776 [01:14<00:51,  2.43it/s]"
     ]
    },
    {
     "name": "stdout",
     "output_type": "stream",
     "text": [
      "Error al obtener el tweet 1808034854711316536: 429 Client Error: Too Many Requests for url: https://nitter.privacydev.net/_/status/1808034854711316536\n"
     ]
    },
    {
     "name": "stderr",
     "output_type": "stream",
     "text": [
      "Buscando Retweets:  93%|█████████▎| 1652/1776 [01:14<00:47,  2.62it/s]"
     ]
    },
    {
     "name": "stdout",
     "output_type": "stream",
     "text": [
      "Error al obtener el tweet 1808020181421011065: 429 Client Error: Too Many Requests for url: https://nitter.privacydev.net/_/status/1808020181421011065\n"
     ]
    },
    {
     "name": "stderr",
     "output_type": "stream",
     "text": [
      "Buscando Retweets:  93%|█████████▎| 1653/1776 [01:15<00:46,  2.64it/s]"
     ]
    },
    {
     "name": "stdout",
     "output_type": "stream",
     "text": [
      "Error al obtener el tweet 1807979158699454592: 403 Client Error: Forbidden for url: https://xcancel.com/_/status/1807979158699454592\n"
     ]
    },
    {
     "name": "stderr",
     "output_type": "stream",
     "text": [
      "Buscando Retweets:  93%|█████████▎| 1655/1776 [01:15<00:49,  2.42it/s]"
     ]
    },
    {
     "name": "stdout",
     "output_type": "stream",
     "text": [
      "Error al obtener el tweet 1807928879769690339: 403 Client Error: Forbidden for url: https://xcancel.com/_/status/1807928879769690339\n"
     ]
    },
    {
     "name": "stderr",
     "output_type": "stream",
     "text": [
      "Buscando Retweets:  93%|█████████▎| 1656/1776 [01:16<00:48,  2.49it/s]"
     ]
    },
    {
     "name": "stdout",
     "output_type": "stream",
     "text": [
      "Error al obtener el tweet 1806890542728442331: 403 Client Error: Forbidden for url: https://xcancel.com/_/status/1806890542728442331\n"
     ]
    },
    {
     "name": "stderr",
     "output_type": "stream",
     "text": [
      "Buscando Retweets:  93%|█████████▎| 1657/1776 [01:16<00:47,  2.53it/s]"
     ]
    },
    {
     "name": "stdout",
     "output_type": "stream",
     "text": [
      "Error al obtener el tweet 1807941101980115368: 403 Client Error: Forbidden for url: https://xcancel.com/_/status/1807941101980115368\n"
     ]
    },
    {
     "name": "stderr",
     "output_type": "stream",
     "text": [
      "Buscando Retweets:  93%|█████████▎| 1659/1776 [01:17<00:45,  2.59it/s]"
     ]
    },
    {
     "name": "stdout",
     "output_type": "stream",
     "text": [
      "Error al obtener el tweet 1807987835015676360: 429 Client Error: Too Many Requests for url: https://nitter.privacydev.net/_/status/1807987835015676360\n"
     ]
    },
    {
     "name": "stderr",
     "output_type": "stream",
     "text": [
      "Buscando Retweets:  93%|█████████▎| 1660/1776 [01:17<00:40,  2.84it/s]"
     ]
    },
    {
     "name": "stdout",
     "output_type": "stream",
     "text": [
      "Error al obtener el tweet 1807905051991474340: 429 Client Error: Too Many Requests for url: https://nitter.privacydev.net/_/status/1807905051991474340\n"
     ]
    },
    {
     "name": "stderr",
     "output_type": "stream",
     "text": [
      "Buscando Retweets:  94%|█████████▎| 1661/1776 [01:18<00:39,  2.91it/s]"
     ]
    },
    {
     "name": "stdout",
     "output_type": "stream",
     "text": [
      "Error al obtener el tweet 1807899919774277854: 429 Client Error: Too Many Requests for url: https://nitter.privacydev.net/_/status/1807899919774277854\n"
     ]
    },
    {
     "name": "stderr",
     "output_type": "stream",
     "text": [
      "Buscando Retweets:  94%|█████████▎| 1662/1776 [01:18<00:40,  2.82it/s]"
     ]
    },
    {
     "name": "stdout",
     "output_type": "stream",
     "text": [
      "Error al obtener el tweet 1807894027418980425: 403 Client Error: Forbidden for url: https://xcancel.com/_/status/1807894027418980425\n"
     ]
    },
    {
     "name": "stderr",
     "output_type": "stream",
     "text": [
      "Buscando Retweets:  94%|█████████▎| 1664/1776 [01:19<00:41,  2.71it/s]"
     ]
    },
    {
     "name": "stdout",
     "output_type": "stream",
     "text": [
      "Error al obtener el tweet 1807892990280847836: 429 Client Error: Too Many Requests for url: https://nitter.privacydev.net/_/status/1807892990280847836\n"
     ]
    },
    {
     "name": "stderr",
     "output_type": "stream",
     "text": [
      "Buscando Retweets:  94%|█████████▍| 1667/1776 [01:20<00:46,  2.34it/s]"
     ]
    },
    {
     "name": "stdout",
     "output_type": "stream",
     "text": [
      "Error al obtener el tweet 1807888686127931539: 403 Client Error: Forbidden for url: https://xcancel.com/_/status/1807888686127931539\n"
     ]
    },
    {
     "name": "stderr",
     "output_type": "stream",
     "text": [
      "Buscando Retweets:  94%|█████████▍| 1668/1776 [01:21<00:41,  2.60it/s]"
     ]
    },
    {
     "name": "stdout",
     "output_type": "stream",
     "text": [
      "Error al obtener el tweet 1807888184669622483: 429 Client Error: Too Many Requests for url: https://nitter.privacydev.net/_/status/1807888184669622483\n"
     ]
    },
    {
     "name": "stderr",
     "output_type": "stream",
     "text": [
      "Buscando Retweets:  94%|█████████▍| 1669/1776 [01:21<00:37,  2.83it/s]"
     ]
    },
    {
     "name": "stdout",
     "output_type": "stream",
     "text": [
      "Error al obtener el tweet 1807886375129342302: 429 Client Error: Too Many Requests for url: https://nitter.privacydev.net/_/status/1807886375129342302\n"
     ]
    },
    {
     "name": "stderr",
     "output_type": "stream",
     "text": [
      "Buscando Retweets:  94%|█████████▍| 1672/1776 [01:22<00:45,  2.30it/s]"
     ]
    },
    {
     "name": "stdout",
     "output_type": "stream",
     "text": [
      "Error al obtener el tweet 1807689605526806573: 403 Client Error: Forbidden for url: https://xcancel.com/_/status/1807689605526806573\n"
     ]
    },
    {
     "name": "stderr",
     "output_type": "stream",
     "text": [
      "Buscando Retweets:  94%|█████████▍| 1673/1776 [01:23<00:40,  2.55it/s]"
     ]
    },
    {
     "name": "stdout",
     "output_type": "stream",
     "text": [
      "Error al obtener el tweet 1807886966479835218: 429 Client Error: Too Many Requests for url: https://nitter.privacydev.net/_/status/1807886966479835218\n"
     ]
    },
    {
     "name": "stderr",
     "output_type": "stream",
     "text": [
      "Buscando Retweets:  94%|█████████▍| 1677/1776 [01:24<00:38,  2.56it/s]"
     ]
    },
    {
     "name": "stdout",
     "output_type": "stream",
     "text": [
      "Error al obtener el tweet 1804490711548502243: 429 Client Error: Too Many Requests for url: https://nitter.privacydev.net/_/status/1804490711548502243\n"
     ]
    },
    {
     "name": "stderr",
     "output_type": "stream",
     "text": [
      "Buscando Retweets:  94%|█████████▍| 1678/1776 [01:25<00:37,  2.64it/s]"
     ]
    },
    {
     "name": "stdout",
     "output_type": "stream",
     "text": [
      "Error al obtener el tweet 1806065319489700210: 403 Client Error: Forbidden for url: https://xcancel.com/_/status/1806065319489700210\n"
     ]
    },
    {
     "name": "stderr",
     "output_type": "stream",
     "text": [
      "Buscando Retweets:  95%|█████████▍| 1680/1776 [01:26<00:39,  2.42it/s]"
     ]
    },
    {
     "name": "stdout",
     "output_type": "stream",
     "text": [
      "Error al obtener el tweet 1805546847102013648: 403 Client Error: Forbidden for url: https://xcancel.com/_/status/1805546847102013648\n"
     ]
    },
    {
     "name": "stderr",
     "output_type": "stream",
     "text": [
      "Buscando Retweets:  95%|█████████▍| 1681/1776 [01:26<00:37,  2.54it/s]"
     ]
    },
    {
     "name": "stdout",
     "output_type": "stream",
     "text": [
      "Error al obtener el tweet 1804227890067968065: 403 Client Error: Forbidden for url: https://xcancel.com/_/status/1804227890067968065\n"
     ]
    },
    {
     "name": "stderr",
     "output_type": "stream",
     "text": [
      "Buscando Retweets:  95%|█████████▍| 1682/1776 [01:26<00:36,  2.60it/s]"
     ]
    },
    {
     "name": "stdout",
     "output_type": "stream",
     "text": [
      "Error al obtener el tweet 1806419967186727396: 403 Client Error: Forbidden for url: https://xcancel.com/_/status/1806419967186727396\n"
     ]
    },
    {
     "name": "stderr",
     "output_type": "stream",
     "text": [
      "Buscando Retweets:  95%|█████████▍| 1683/1776 [01:27<00:32,  2.82it/s]"
     ]
    },
    {
     "name": "stdout",
     "output_type": "stream",
     "text": [
      "Error al obtener el tweet 1806765807289958548: 429 Client Error: Too Many Requests for url: https://nitter.privacydev.net/_/status/1806765807289958548\n"
     ]
    },
    {
     "name": "stderr",
     "output_type": "stream",
     "text": [
      "Buscando Retweets:  95%|█████████▍| 1685/1776 [01:28<00:36,  2.52it/s]"
     ]
    },
    {
     "name": "stdout",
     "output_type": "stream",
     "text": [
      "Error al obtener el tweet 1806319715532275859: 403 Client Error: Forbidden for url: https://xcancel.com/_/status/1806319715532275859\n"
     ]
    },
    {
     "name": "stderr",
     "output_type": "stream",
     "text": [
      "Buscando Retweets:  95%|█████████▍| 1687/1776 [01:28<00:38,  2.33it/s]"
     ]
    },
    {
     "name": "stdout",
     "output_type": "stream",
     "text": [
      "Error al obtener el tweet 1805871831020188031: 403 Client Error: Forbidden for url: https://xcancel.com/_/status/1805871831020188031\n"
     ]
    },
    {
     "name": "stderr",
     "output_type": "stream",
     "text": [
      "Buscando Retweets:  95%|█████████▌| 1689/1776 [01:29<00:37,  2.30it/s]"
     ]
    },
    {
     "name": "stdout",
     "output_type": "stream",
     "text": [
      "Error al obtener el tweet 1805786212390592800: 403 Client Error: Forbidden for url: https://xcancel.com/_/status/1805786212390592800\n"
     ]
    },
    {
     "name": "stderr",
     "output_type": "stream",
     "text": [
      "Buscando Retweets:  95%|█████████▌| 1690/1776 [01:30<00:35,  2.41it/s]"
     ]
    },
    {
     "name": "stdout",
     "output_type": "stream",
     "text": [
      "Error al obtener el tweet 1804797038980223402: 403 Client Error: Forbidden for url: https://xcancel.com/_/status/1804797038980223402\n"
     ]
    },
    {
     "name": "stderr",
     "output_type": "stream",
     "text": [
      "Buscando Retweets:  95%|█████████▌| 1693/1776 [01:31<00:35,  2.35it/s]"
     ]
    },
    {
     "name": "stdout",
     "output_type": "stream",
     "text": [
      "Error al obtener el tweet 1804759572776624593: 429 Client Error: Too Many Requests for url: https://nitter.privacydev.net/_/status/1804759572776624593\n"
     ]
    },
    {
     "name": "stderr",
     "output_type": "stream",
     "text": [
      "Buscando Retweets:  95%|█████████▌| 1696/1776 [01:32<00:32,  2.48it/s]"
     ]
    },
    {
     "name": "stdout",
     "output_type": "stream",
     "text": [
      "Error al obtener el tweet 1804822955869790494: 429 Client Error: Too Many Requests for url: https://nitter.privacydev.net/_/status/1804822955869790494\n"
     ]
    },
    {
     "name": "stderr",
     "output_type": "stream",
     "text": [
      "Buscando Retweets:  96%|█████████▌| 1699/1776 [01:34<00:31,  2.44it/s]"
     ]
    },
    {
     "name": "stdout",
     "output_type": "stream",
     "text": [
      "Error al obtener el tweet 1808042585790755099: 403 Client Error: Forbidden for url: https://xcancel.com/_/status/1808042585790755099\n"
     ]
    },
    {
     "name": "stderr",
     "output_type": "stream",
     "text": [
      "Buscando Retweets:  96%|█████████▌| 1700/1776 [01:34<00:30,  2.48it/s]"
     ]
    },
    {
     "name": "stdout",
     "output_type": "stream",
     "text": [
      "Error al obtener el tweet 1807929837450903746: 403 Client Error: Forbidden for url: https://xcancel.com/_/status/1807929837450903746\n"
     ]
    },
    {
     "name": "stderr",
     "output_type": "stream",
     "text": [
      "Buscando Retweets:  96%|█████████▌| 1701/1776 [01:34<00:30,  2.44it/s]"
     ]
    },
    {
     "name": "stdout",
     "output_type": "stream",
     "text": [
      "Error al obtener el tweet 1808091446378991682: 429 Client Error: Too Many Requests for url: https://nitter.privacydev.net/_/status/1808091446378991682\n"
     ]
    },
    {
     "name": "stderr",
     "output_type": "stream",
     "text": [
      "Buscando Retweets:  96%|█████████▌| 1702/1776 [01:35<00:29,  2.50it/s]"
     ]
    },
    {
     "name": "stdout",
     "output_type": "stream",
     "text": [
      "Error al obtener el tweet 1808265429455946110: 403 Client Error: Forbidden for url: https://xcancel.com/_/status/1808265429455946110\n"
     ]
    },
    {
     "name": "stderr",
     "output_type": "stream",
     "text": [
      "Buscando Retweets:  96%|█████████▌| 1703/1776 [01:35<00:26,  2.73it/s]"
     ]
    },
    {
     "name": "stdout",
     "output_type": "stream",
     "text": [
      "Error al obtener el tweet 1807371459385286714: 429 Client Error: Too Many Requests for url: https://nitter.privacydev.net/_/status/1807371459385286714\n"
     ]
    },
    {
     "name": "stderr",
     "output_type": "stream",
     "text": [
      "Buscando Retweets:  96%|█████████▌| 1704/1776 [01:35<00:25,  2.82it/s]"
     ]
    },
    {
     "name": "stdout",
     "output_type": "stream",
     "text": [
      "Error al obtener el tweet 1807006064031764680: 429 Client Error: Too Many Requests for url: https://nitter.privacydev.net/_/status/1807006064031764680\n"
     ]
    },
    {
     "name": "stderr",
     "output_type": "stream",
     "text": [
      "Buscando Retweets:  96%|█████████▌| 1705/1776 [01:36<00:25,  2.77it/s]"
     ]
    },
    {
     "name": "stdout",
     "output_type": "stream",
     "text": [
      "Error al obtener el tweet 1808113127491321935: 429 Client Error: Too Many Requests for url: https://nitter.privacydev.net/_/status/1808113127491321935\n"
     ]
    },
    {
     "name": "stderr",
     "output_type": "stream",
     "text": [
      "Buscando Retweets:  96%|█████████▌| 1706/1776 [01:36<00:25,  2.80it/s]"
     ]
    },
    {
     "name": "stdout",
     "output_type": "stream",
     "text": [
      "Error al obtener el tweet 1807019858858487876: 403 Client Error: Forbidden for url: https://xcancel.com/_/status/1807019858858487876\n"
     ]
    },
    {
     "name": "stderr",
     "output_type": "stream",
     "text": [
      "Buscando Retweets:  96%|█████████▋| 1710/1776 [01:38<00:29,  2.21it/s]"
     ]
    },
    {
     "name": "stdout",
     "output_type": "stream",
     "text": [
      "Error al obtener el tweet 1796128094694314272: 403 Client Error: Forbidden for url: https://xcancel.com/_/status/1796128094694314272\n"
     ]
    },
    {
     "name": "stderr",
     "output_type": "stream",
     "text": [
      "Buscando Retweets:  97%|█████████▋| 1714/1776 [01:40<00:30,  2.06it/s]"
     ]
    },
    {
     "name": "stdout",
     "output_type": "stream",
     "text": [
      "Error al obtener el tweet 1795793121017516444: 403 Client Error: Forbidden for url: https://xcancel.com/_/status/1795793121017516444\n"
     ]
    },
    {
     "name": "stderr",
     "output_type": "stream",
     "text": [
      "Buscando Retweets:  97%|█████████▋| 1715/1776 [01:41<00:27,  2.23it/s]"
     ]
    },
    {
     "name": "stdout",
     "output_type": "stream",
     "text": [
      "Error al obtener el tweet 1795905302442782839: 403 Client Error: Forbidden for url: https://xcancel.com/_/status/1795905302442782839\n"
     ]
    },
    {
     "name": "stderr",
     "output_type": "stream",
     "text": [
      "Buscando Retweets:  97%|█████████▋| 1716/1776 [01:41<00:25,  2.38it/s]"
     ]
    },
    {
     "name": "stdout",
     "output_type": "stream",
     "text": [
      "Error al obtener el tweet 1802972394505547854: 403 Client Error: Forbidden for url: https://xcancel.com/_/status/1802972394505547854\n"
     ]
    },
    {
     "name": "stderr",
     "output_type": "stream",
     "text": [
      "Buscando Retweets:  97%|█████████▋| 1717/1776 [01:41<00:22,  2.66it/s]"
     ]
    },
    {
     "name": "stdout",
     "output_type": "stream",
     "text": [
      "Error al obtener el tweet 1802148296217014434: 429 Client Error: Too Many Requests for url: https://nitter.privacydev.net/_/status/1802148296217014434\n"
     ]
    },
    {
     "name": "stderr",
     "output_type": "stream",
     "text": [
      "Buscando Retweets:  97%|█████████▋| 1718/1776 [01:42<00:22,  2.61it/s]"
     ]
    },
    {
     "name": "stdout",
     "output_type": "stream",
     "text": [
      "Error al obtener el tweet 1802033262593786259: 403 Client Error: Forbidden for url: https://xcancel.com/_/status/1802033262593786259\n"
     ]
    },
    {
     "name": "stderr",
     "output_type": "stream",
     "text": [
      "Buscando Retweets:  97%|█████████▋| 1720/1776 [01:43<00:22,  2.50it/s]"
     ]
    },
    {
     "name": "stdout",
     "output_type": "stream",
     "text": [
      "Error al obtener el tweet 1802811301757866468: 429 Client Error: Too Many Requests for url: https://nitter.privacydev.net/_/status/1802811301757866468\n"
     ]
    },
    {
     "name": "stderr",
     "output_type": "stream",
     "text": [
      "Buscando Retweets:  97%|█████████▋| 1723/1776 [01:44<00:22,  2.38it/s]"
     ]
    },
    {
     "name": "stdout",
     "output_type": "stream",
     "text": [
      "Error al obtener el tweet 1801203774217748678: 403 Client Error: Forbidden for url: https://xcancel.com/_/status/1801203774217748678\n"
     ]
    },
    {
     "name": "stderr",
     "output_type": "stream",
     "text": [
      "Buscando Retweets:  97%|█████████▋| 1724/1776 [01:44<00:21,  2.45it/s]"
     ]
    },
    {
     "name": "stdout",
     "output_type": "stream",
     "text": [
      "Error al obtener el tweet 1801203726369091738: 403 Client Error: Forbidden for url: https://xcancel.com/_/status/1801203726369091738\n"
     ]
    },
    {
     "name": "stderr",
     "output_type": "stream",
     "text": [
      "Buscando Retweets:  97%|█████████▋| 1725/1776 [01:45<00:18,  2.69it/s]"
     ]
    },
    {
     "name": "stdout",
     "output_type": "stream",
     "text": [
      "Error al obtener el tweet 1801200178302431588: 429 Client Error: Too Many Requests for url: https://nitter.privacydev.net/_/status/1801200178302431588\n"
     ]
    },
    {
     "name": "stderr",
     "output_type": "stream",
     "text": [
      "Buscando Retweets:  97%|█████████▋| 1726/1776 [01:45<00:17,  2.92it/s]"
     ]
    },
    {
     "name": "stdout",
     "output_type": "stream",
     "text": [
      "Error al obtener el tweet 1802317848674451884: 429 Client Error: Too Many Requests for url: https://nitter.privacydev.net/_/status/1802317848674451884\n"
     ]
    },
    {
     "name": "stderr",
     "output_type": "stream",
     "text": [
      "Buscando Retweets:  97%|█████████▋| 1728/1776 [01:46<00:18,  2.61it/s]"
     ]
    },
    {
     "name": "stdout",
     "output_type": "stream",
     "text": [
      "Error al obtener el tweet 1802021107169677528: 403 Client Error: Forbidden for url: https://xcancel.com/_/status/1802021107169677528\n"
     ]
    },
    {
     "name": "stderr",
     "output_type": "stream",
     "text": [
      "Buscando Retweets:  97%|█████████▋| 1729/1776 [01:46<00:16,  2.85it/s]"
     ]
    },
    {
     "name": "stdout",
     "output_type": "stream",
     "text": [
      "Error al obtener el tweet 1802412896325976111: 429 Client Error: Too Many Requests for url: https://nitter.privacydev.net/_/status/1802412896325976111\n"
     ]
    },
    {
     "name": "stderr",
     "output_type": "stream",
     "text": [
      "Buscando Retweets:  97%|█████████▋| 1731/1776 [01:47<00:16,  2.73it/s]"
     ]
    },
    {
     "name": "stdout",
     "output_type": "stream",
     "text": [
      "Error al obtener el tweet 1793916998491267099: 429 Client Error: Too Many Requests for url: https://nitter.privacydev.net/_/status/1793916998491267099\n"
     ]
    },
    {
     "name": "stderr",
     "output_type": "stream",
     "text": [
      "Buscando Retweets:  98%|█████████▊| 1732/1776 [01:47<00:16,  2.69it/s]"
     ]
    },
    {
     "name": "stdout",
     "output_type": "stream",
     "text": [
      "Error al obtener el tweet 1796848452657189310: 403 Client Error: Forbidden for url: https://xcancel.com/_/status/1796848452657189310\n"
     ]
    },
    {
     "name": "stderr",
     "output_type": "stream",
     "text": [
      "Buscando Retweets:  98%|█████████▊| 1733/1776 [01:47<00:14,  2.87it/s]"
     ]
    },
    {
     "name": "stdout",
     "output_type": "stream",
     "text": [
      "Error al obtener el tweet 1796698849450307829: 429 Client Error: Too Many Requests for url: https://nitter.privacydev.net/_/status/1796698849450307829\n"
     ]
    },
    {
     "name": "stderr",
     "output_type": "stream",
     "text": [
      "Buscando Retweets:  98%|█████████▊| 1734/1776 [01:48<00:13,  3.09it/s]"
     ]
    },
    {
     "name": "stdout",
     "output_type": "stream",
     "text": [
      "Error al obtener el tweet 1796651507682570667: 429 Client Error: Too Many Requests for url: https://nitter.privacydev.net/_/status/1796651507682570667\n"
     ]
    },
    {
     "name": "stderr",
     "output_type": "stream",
     "text": [
      "Buscando Retweets:  98%|█████████▊| 1735/1776 [01:48<00:13,  2.97it/s]"
     ]
    },
    {
     "name": "stdout",
     "output_type": "stream",
     "text": [
      "Error al obtener el tweet 1796847502445977640: 403 Client Error: Forbidden for url: https://xcancel.com/_/status/1796847502445977640\n"
     ]
    },
    {
     "name": "stderr",
     "output_type": "stream",
     "text": [
      "Buscando Retweets:  98%|█████████▊| 1736/1776 [01:48<00:13,  3.01it/s]"
     ]
    },
    {
     "name": "stdout",
     "output_type": "stream",
     "text": [
      "Error al obtener el tweet 1797332561435164994: 429 Client Error: Too Many Requests for url: https://nitter.privacydev.net/_/status/1797332561435164994\n"
     ]
    },
    {
     "name": "stderr",
     "output_type": "stream",
     "text": [
      "Buscando Retweets:  98%|█████████▊| 1737/1776 [01:49<00:12,  3.21it/s]"
     ]
    },
    {
     "name": "stdout",
     "output_type": "stream",
     "text": [
      "Error al obtener el tweet 1797329226841907337: 429 Client Error: Too Many Requests for url: https://nitter.privacydev.net/_/status/1797329226841907337\n"
     ]
    },
    {
     "name": "stderr",
     "output_type": "stream",
     "text": [
      "Buscando Retweets:  98%|█████████▊| 1738/1776 [01:49<00:12,  3.03it/s]"
     ]
    },
    {
     "name": "stdout",
     "output_type": "stream",
     "text": [
      "Error al obtener el tweet 1797744993064628403: 403 Client Error: Forbidden for url: https://xcancel.com/_/status/1797744993064628403\n"
     ]
    },
    {
     "name": "stderr",
     "output_type": "stream",
     "text": [
      "Buscando Retweets:  98%|█████████▊| 1739/1776 [01:49<00:11,  3.20it/s]"
     ]
    },
    {
     "name": "stdout",
     "output_type": "stream",
     "text": [
      "Error al obtener el tweet 1797741890772840817: 429 Client Error: Too Many Requests for url: https://nitter.privacydev.net/_/status/1797741890772840817\n"
     ]
    },
    {
     "name": "stderr",
     "output_type": "stream",
     "text": [
      "Buscando Retweets:  98%|█████████▊| 1741/1776 [01:50<00:11,  2.98it/s]"
     ]
    },
    {
     "name": "stdout",
     "output_type": "stream",
     "text": [
      "Error al obtener el tweet 1797709140737036504: 429 Client Error: Too Many Requests for url: https://nitter.privacydev.net/_/status/1797709140737036504\n"
     ]
    },
    {
     "name": "stderr",
     "output_type": "stream",
     "text": [
      "Buscando Retweets:  98%|█████████▊| 1743/1776 [01:51<00:12,  2.58it/s]"
     ]
    },
    {
     "name": "stdout",
     "output_type": "stream",
     "text": [
      "Error al obtener el tweet 1800491375328391219: 403 Client Error: Forbidden for url: https://xcancel.com/_/status/1800491375328391219\n"
     ]
    },
    {
     "name": "stderr",
     "output_type": "stream",
     "text": [
      "Buscando Retweets:  98%|█████████▊| 1747/1776 [01:53<00:13,  2.20it/s]"
     ]
    },
    {
     "name": "stdout",
     "output_type": "stream",
     "text": [
      "Error al obtener el tweet 1794057058154586153: 429 Client Error: Too Many Requests for url: https://nitter.privacydev.net/_/status/1794057058154586153\n"
     ]
    },
    {
     "name": "stderr",
     "output_type": "stream",
     "text": [
      "Buscando Retweets:  98%|█████████▊| 1749/1776 [01:54<00:12,  2.19it/s]"
     ]
    },
    {
     "name": "stdout",
     "output_type": "stream",
     "text": [
      "Error al obtener el tweet 1796262322878484685: 403 Client Error: Forbidden for url: https://xcancel.com/_/status/1796262322878484685\n"
     ]
    },
    {
     "name": "stderr",
     "output_type": "stream",
     "text": [
      "Buscando Retweets:  99%|█████████▊| 1750/1776 [01:54<00:10,  2.44it/s]"
     ]
    },
    {
     "name": "stdout",
     "output_type": "stream",
     "text": [
      "Error al obtener el tweet 1800722377976016906: 429 Client Error: Too Many Requests for url: https://nitter.privacydev.net/_/status/1800722377976016906\n"
     ]
    },
    {
     "name": "stderr",
     "output_type": "stream",
     "text": [
      "Buscando Retweets:  99%|█████████▊| 1753/1776 [01:56<00:09,  2.40it/s]"
     ]
    },
    {
     "name": "stdout",
     "output_type": "stream",
     "text": [
      "Error al obtener el tweet 1800432683262370039: 429 Client Error: Too Many Requests for url: https://nitter.privacydev.net/_/status/1800432683262370039\n"
     ]
    },
    {
     "name": "stderr",
     "output_type": "stream",
     "text": [
      "Buscando Retweets:  99%|█████████▉| 1754/1776 [01:56<00:08,  2.51it/s]"
     ]
    },
    {
     "name": "stdout",
     "output_type": "stream",
     "text": [
      "Error al obtener el tweet 1800164584265056596: 403 Client Error: Forbidden for url: https://xcancel.com/_/status/1800164584265056596\n"
     ]
    },
    {
     "name": "stderr",
     "output_type": "stream",
     "text": [
      "Buscando Retweets:  99%|█████████▉| 1755/1776 [01:56<00:08,  2.59it/s]"
     ]
    },
    {
     "name": "stdout",
     "output_type": "stream",
     "text": [
      "Error al obtener el tweet 1799688683693498627: 403 Client Error: Forbidden for url: https://xcancel.com/_/status/1799688683693498627\n"
     ]
    },
    {
     "name": "stderr",
     "output_type": "stream",
     "text": [
      "Buscando Retweets:  99%|█████████▉| 1757/1776 [01:57<00:06,  2.78it/s]"
     ]
    },
    {
     "name": "stdout",
     "output_type": "stream",
     "text": [
      "Error al obtener el tweet 1799429814283379155: 429 Client Error: Too Many Requests for url: https://nitter.privacydev.net/_/status/1799429814283379155\n"
     ]
    },
    {
     "name": "stderr",
     "output_type": "stream",
     "text": [
      "Buscando Retweets:  99%|█████████▉| 1758/1776 [01:57<00:06,  2.82it/s]"
     ]
    },
    {
     "name": "stdout",
     "output_type": "stream",
     "text": [
      "Error al obtener el tweet 1799425823172386892: 429 Client Error: Too Many Requests for url: https://nitter.privacydev.net/_/status/1799425823172386892\n"
     ]
    },
    {
     "name": "stderr",
     "output_type": "stream",
     "text": [
      "Buscando Retweets:  99%|█████████▉| 1759/1776 [01:58<00:06,  2.83it/s]"
     ]
    },
    {
     "name": "stdout",
     "output_type": "stream",
     "text": [
      "Error al obtener el tweet 1800951897454727450: 403 Client Error: Forbidden for url: https://xcancel.com/_/status/1800951897454727450\n"
     ]
    },
    {
     "name": "stderr",
     "output_type": "stream",
     "text": [
      "Buscando Retweets:  99%|█████████▉| 1760/1776 [01:58<00:05,  2.97it/s]"
     ]
    },
    {
     "name": "stdout",
     "output_type": "stream",
     "text": [
      "Error al obtener el tweet 1800945302641254452: 429 Client Error: Too Many Requests for url: https://nitter.privacydev.net/_/status/1800945302641254452\n"
     ]
    },
    {
     "name": "stderr",
     "output_type": "stream",
     "text": [
      "Buscando Retweets:  99%|█████████▉| 1762/1776 [01:59<00:04,  2.89it/s]"
     ]
    },
    {
     "name": "stdout",
     "output_type": "stream",
     "text": [
      "Error al obtener el tweet 1802438572852568303: 429 Client Error: Too Many Requests for url: https://nitter.privacydev.net/_/status/1802438572852568303\n"
     ]
    },
    {
     "name": "stderr",
     "output_type": "stream",
     "text": [
      "Buscando Retweets:  99%|█████████▉| 1763/1776 [01:59<00:04,  2.82it/s]"
     ]
    },
    {
     "name": "stdout",
     "output_type": "stream",
     "text": [
      "Error al obtener el tweet 1798636512399257950: 403 Client Error: Forbidden for url: https://xcancel.com/_/status/1798636512399257950\n"
     ]
    },
    {
     "name": "stderr",
     "output_type": "stream",
     "text": [
      "Buscando Retweets:  99%|█████████▉| 1764/1776 [01:59<00:04,  2.81it/s]"
     ]
    },
    {
     "name": "stdout",
     "output_type": "stream",
     "text": [
      "Error al obtener el tweet 1801759250915725379: 403 Client Error: Forbidden for url: https://xcancel.com/_/status/1801759250915725379\n"
     ]
    },
    {
     "name": "stderr",
     "output_type": "stream",
     "text": [
      "Buscando Retweets:  99%|█████████▉| 1765/1776 [02:00<00:03,  2.87it/s]"
     ]
    },
    {
     "name": "stdout",
     "output_type": "stream",
     "text": [
      "Error al obtener el tweet 1801537232446042576: 429 Client Error: Too Many Requests for url: https://nitter.privacydev.net/_/status/1801537232446042576\n"
     ]
    },
    {
     "name": "stderr",
     "output_type": "stream",
     "text": [
      "Buscando Retweets:  99%|█████████▉| 1766/1776 [02:00<00:03,  2.85it/s]"
     ]
    },
    {
     "name": "stdout",
     "output_type": "stream",
     "text": [
      "Error al obtener el tweet 1801208722825343380: 429 Client Error: Too Many Requests for url: https://nitter.privacydev.net/_/status/1801208722825343380\n"
     ]
    },
    {
     "name": "stderr",
     "output_type": "stream",
     "text": [
      "Buscando Retweets:  99%|█████████▉| 1767/1776 [02:00<00:03,  2.97it/s]"
     ]
    },
    {
     "name": "stdout",
     "output_type": "stream",
     "text": [
      "Error al obtener el tweet 1800527673208512876: 429 Client Error: Too Many Requests for url: https://nitter.privacydev.net/_/status/1800527673208512876\n"
     ]
    },
    {
     "name": "stderr",
     "output_type": "stream",
     "text": [
      "Buscando Retweets: 100%|█████████▉| 1768/1776 [02:01<00:02,  3.15it/s]"
     ]
    },
    {
     "name": "stdout",
     "output_type": "stream",
     "text": [
      "Error al obtener el tweet 1800440899031404670: 429 Client Error: Too Many Requests for url: https://nitter.privacydev.net/_/status/1800440899031404670\n"
     ]
    },
    {
     "name": "stderr",
     "output_type": "stream",
     "text": [
      "Buscando Retweets: 100%|█████████▉| 1770/1776 [02:02<00:02,  2.65it/s]"
     ]
    },
    {
     "name": "stdout",
     "output_type": "stream",
     "text": [
      "Error al obtener el tweet 1799728105445380317: 403 Client Error: Forbidden for url: https://xcancel.com/_/status/1799728105445380317\n"
     ]
    },
    {
     "name": "stderr",
     "output_type": "stream",
     "text": [
      "Buscando Retweets: 100%|█████████▉| 1772/1776 [02:02<00:01,  2.63it/s]"
     ]
    },
    {
     "name": "stdout",
     "output_type": "stream",
     "text": [
      "Error al obtener el tweet 1801522541019742524: 429 Client Error: Too Many Requests for url: https://nitter.privacydev.net/_/status/1801522541019742524\n"
     ]
    },
    {
     "name": "stderr",
     "output_type": "stream",
     "text": [
      "Buscando Retweets: 100%|█████████▉| 1774/1776 [02:03<00:00,  2.45it/s]"
     ]
    },
    {
     "name": "stdout",
     "output_type": "stream",
     "text": [
      "Error al obtener el tweet 1800251230419357813: 403 Client Error: Forbidden for url: https://xcancel.com/_/status/1800251230419357813\n"
     ]
    },
    {
     "name": "stderr",
     "output_type": "stream",
     "text": [
      "Buscando Retweets: 100%|██████████| 1776/1776 [02:04<00:00, 14.23it/s]"
     ]
    },
    {
     "name": "stdout",
     "output_type": "stream",
     "text": [
      "Error al obtener el tweet 1801279622111191227: 429 Client Error: Too Many Requests for url: https://nitter.privacydev.net/_/status/1801279622111191227\n",
      "Archivos retweets.csv y errors.csv generados correctamente.\n"
     ]
    },
    {
     "name": "stderr",
     "output_type": "stream",
     "text": [
      "\n"
     ]
    }
   ],
   "source": [
    "cont = 0\n",
    "\n",
    "data = {\n",
    "    'tweet_id': [],\n",
    "    'author': [],\n",
    "    'author_id': [],\n",
    "    'created_at': [],\n",
    "    'text': [],\n",
    "    'retweets_count': [], \n",
    "    'comments_count': [],\n",
    "    'likes_count': [],\n",
    "    'quotes_count': []\n",
    "}\n",
    "\n",
    "error = {\n",
    "    'tweet_id': [],\n",
    "}\n",
    "\n",
    "for row in tqdm(df_retweets.itertuples(), total=len(df_retweets), desc='Buscando Retweets'):\n",
    "    \n",
    "    # check if the tweet was already processed\n",
    "    if 'df_anterior' in locals():\n",
    "        if row.tweet_id in df_anterior.tweet_id.values:\n",
    "            cont += 1\n",
    "            continue\n",
    "\n",
    "    try:\n",
    "        tweet = pnytter.get_tweet(row.tweet_id)\n",
    "    except Exception as e:\n",
    "        cont += 1\n",
    "        print(f\"Error al obtener el tweet {row.tweet_id}: {e}\")\n",
    "        error['tweet_id'].append(row.tweet_id)\n",
    "        continue\n",
    "\n",
    "    try: \n",
    "        data['author'].append(tweet.author) \n",
    "        data['created_at'].append(tweet.created_on)\n",
    "        data['text'].append(tweet.text)\n",
    "        data['retweets_count'].append(tweet.stats.retweets)\n",
    "        data['comments_count'].append(tweet.stats.comments)\n",
    "        data['likes_count'].append(tweet.stats.likes)\n",
    "        data['quotes_count'].append(tweet.stats.quotes)\n",
    "        data['tweet_id'].append(row.tweet_id)\n",
    "        data['author_id'].append(row.author)\n",
    "\n",
    "    except AttributeError:\n",
    "        error['tweet_id'].append(row.tweet_id)\n",
    "\n",
    "    cont += 1\n",
    "\n",
    "    if cont == 100:\n",
    "        cont = 0       \n",
    "        df = pd.DataFrame(data)\n",
    "        df_error = pd.DataFrame(error)\n",
    "\n",
    "        # Verificar si los archivos existen antes de eliminarlos\n",
    "        if os.path.exists('retweets_temp.csv'):\n",
    "            os.remove('retweets_temp.csv')\n",
    "        if os.path.exists('errors_temp.csv'):\n",
    "            os.remove('errors_temp.csv')\n",
    "\n",
    "        df.to_csv('retweets_temp.csv', index=False)\n",
    "        df_error.to_csv('errors_temp.csv', index=False)\n",
    "\n",
    "\n",
    "df = pd.DataFrame(data)\n",
    "df_error = pd.DataFrame(error)\n",
    "df.to_csv('retweets.csv', index=False)\n",
    "df_error.to_csv('errors.csv', index=False)\n",
    "print(\"Archivos retweets.csv y errors.csv generados correctamente.\")\n"
   ]
  },
  {
   "cell_type": "markdown",
   "metadata": {},
   "source": [
    "# !!! hacer un concat de retweets_temp y retweets"
   ]
  },
  {
   "cell_type": "code",
   "execution_count": null,
   "metadata": {},
   "outputs": [],
   "source": [
    "df = pd.DataFrame(data)\n",
    "df.to_csv('tweets.csv', index=False)\n",
    "df.shape"
   ]
  },
  {
   "cell_type": "code",
   "execution_count": null,
   "metadata": {},
   "outputs": [],
   "source": [
    "len(data['tweet_id'])"
   ]
  },
  {
   "cell_type": "code",
   "execution_count": null,
   "metadata": {},
   "outputs": [],
   "source": [
    "len(data['author'])"
   ]
  },
  {
   "cell_type": "markdown",
   "metadata": {},
   "source": [
    "### 2.1 Primero deberemos obtener los datos del Retweet\n",
    "\n",
    "A través de los datos del retweet, obtenemos los datos del usuario, e información estadística del alcance del retweet."
   ]
  },
  {
   "cell_type": "code",
   "execution_count": null,
   "metadata": {},
   "outputs": [],
   "source": [
    "# The Pnytter object needs at least 1 Nitter instance to work, but these can be added after initialization\n",
    "pnytter = Pnytter(\n",
    "  nitter_instances=[\"http://localhost:8080\"]\n",
    ")"
   ]
  },
  {
   "cell_type": "code",
   "execution_count": null,
   "metadata": {},
   "outputs": [],
   "source": [
    "def get_retweet(tweet_id):\n",
    "    tweet = pnytter.get_tweet(tweet_id)\n",
    "    data = {\n",
    "        'tweet_id': [],\n",
    "        'author': [],\n",
    "        'created_at': [],\n",
    "        'text': [],\n",
    "        'retweets_count': [],\n",
    "        'comments_count': [],\n",
    "        'likes_count': [],\n",
    "        'quotes_count': []\n",
    "    }\n",
    "\n",
    "    data['tweet_id'].append(tweet.tweet_id)\n",
    "    data['author'].append(tweet.author) \n",
    "    data['created_at'].append(tweet.created_on)\n",
    "    data['text'].append(tweet.text)\n",
    "    data['retweets_count'].append(tweet.stats.retweets)\n",
    "    data['comments_count'].append(tweet.stats.comments)\n",
    "    data['likes_count'].append(tweet.stats.likes)\n",
    "    data['quotes_count'].append(tweet.stats.quotes)\n",
    "\n",
    "    return data"
   ]
  },
  {
   "cell_type": "code",
   "execution_count": null,
   "metadata": {},
   "outputs": [],
   "source": [
    "user = json.loads(f\"\"\"{'id': None,\n",
    " 'username': 'agustinpicag',\n",
    " 'fullname': 'Agustin Picapiedra G',\n",
    " 'biography': '',\n",
    " 'verified': True,\n",
    " 'joined_datetime': datetime.datetime(2014, 12, 29, 15, 57, tzinfo=datetime.timezone.utc),\n",
    " 'stats': {'tweets': 632, 'following': 305, 'followers': 45, 'likes': 39245},\n",
    " 'pictures': {'profile': {'twitter_url': HttpUrl('https://pbs.twimg.com/profile_images/1021677838737592321/hFfXu_e_.jpg'),\n",
    "                          'nitter_path': '/pic/pbs.twimg.com%2Fprofile_images%2F1021677838737592321%2FhFfXu_e_.jpg'},\n",
    "              'banner': None}}\"\"\")"
   ]
  },
  {
   "cell_type": "code",
   "execution_count": null,
   "metadata": {},
   "outputs": [],
   "source": [
    "import pydantic\n",
    "pydantic.__version__"
   ]
  }
 ],
 "metadata": {
  "kernelspec": {
   "display_name": "tweets",
   "language": "python",
   "name": "python3"
  },
  "language_info": {
   "codemirror_mode": {
    "name": "ipython",
    "version": 3
   },
   "file_extension": ".py",
   "mimetype": "text/x-python",
   "name": "python",
   "nbconvert_exporter": "python",
   "pygments_lexer": "ipython3",
   "version": "3.11.11"
  }
 },
 "nbformat": 4,
 "nbformat_minor": 4
}
