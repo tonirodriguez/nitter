{
 "cells": [
  {
   "cell_type": "markdown",
   "metadata": {},
   "source": [
    "# GETTING INFORMATION FROM AUTHORS"
   ]
  },
  {
   "cell_type": "code",
   "execution_count": 1,
   "metadata": {},
   "outputs": [],
   "source": [
    "import json, os\n",
    "import datetime\n",
    "from pydantic import HttpUrl\n",
    "import pandas as pd\n",
    "from tqdm import tqdm\n",
    "\n",
    "from pnytter import Pnytter"
   ]
  },
  {
   "cell_type": "markdown",
   "metadata": {},
   "source": [
    "## 1. Load the Authors list"
   ]
  },
  {
   "cell_type": "code",
   "execution_count": 2,
   "metadata": {},
   "outputs": [],
   "source": [
    "df = pd.read_csv('202503192227-RETWEETS_ETIQUETADOS_CONTAINS_HATE_TRUE.csv', index_col=None)\n",
    "df = df.rename(columns={'count_star()':'ocurrencias'})"
   ]
  },
  {
   "cell_type": "code",
   "execution_count": 3,
   "metadata": {},
   "outputs": [
    {
     "data": {
      "text/html": [
       "<div>\n",
       "<style scoped>\n",
       "    .dataframe tbody tr th:only-of-type {\n",
       "        vertical-align: middle;\n",
       "    }\n",
       "\n",
       "    .dataframe tbody tr th {\n",
       "        vertical-align: top;\n",
       "    }\n",
       "\n",
       "    .dataframe thead th {\n",
       "        text-align: right;\n",
       "    }\n",
       "</style>\n",
       "<table border=\"1\" class=\"dataframe\">\n",
       "  <thead>\n",
       "    <tr style=\"text-align: right;\">\n",
       "      <th></th>\n",
       "      <th>tweet_id</th>\n",
       "      <th>author</th>\n",
       "      <th>ocurrencias</th>\n",
       "    </tr>\n",
       "  </thead>\n",
       "  <tbody>\n",
       "    <tr>\n",
       "      <th>0</th>\n",
       "      <td>1795781220925669620</td>\n",
       "      <td>963492493458329602</td>\n",
       "      <td>2</td>\n",
       "    </tr>\n",
       "    <tr>\n",
       "      <th>1</th>\n",
       "      <td>1795383660088074396</td>\n",
       "      <td>796158301788667908</td>\n",
       "      <td>2</td>\n",
       "    </tr>\n",
       "    <tr>\n",
       "      <th>2</th>\n",
       "      <td>1795168528464540035</td>\n",
       "      <td>482147864</td>\n",
       "      <td>2</td>\n",
       "    </tr>\n",
       "    <tr>\n",
       "      <th>3</th>\n",
       "      <td>1798852393096130705</td>\n",
       "      <td>1621152552258801672</td>\n",
       "      <td>2</td>\n",
       "    </tr>\n",
       "    <tr>\n",
       "      <th>4</th>\n",
       "      <td>1801196737324843027</td>\n",
       "      <td>1665677569671168002</td>\n",
       "      <td>2</td>\n",
       "    </tr>\n",
       "  </tbody>\n",
       "</table>\n",
       "</div>"
      ],
      "text/plain": [
       "              tweet_id               author  ocurrencias\n",
       "0  1795781220925669620   963492493458329602            2\n",
       "1  1795383660088074396   796158301788667908            2\n",
       "2  1795168528464540035            482147864            2\n",
       "3  1798852393096130705  1621152552258801672            2\n",
       "4  1801196737324843027  1665677569671168002            2"
      ]
     },
     "execution_count": 3,
     "metadata": {},
     "output_type": "execute_result"
    }
   ],
   "source": [
    "df.head()"
   ]
  },
  {
   "cell_type": "code",
   "execution_count": 4,
   "metadata": {},
   "outputs": [
    {
     "data": {
      "text/plain": [
       "(1776, 3)"
      ]
     },
     "execution_count": 4,
     "metadata": {},
     "output_type": "execute_result"
    }
   ],
   "source": [
    "df.shape"
   ]
  },
  {
   "cell_type": "markdown",
   "metadata": {},
   "source": [
    "## 2. Get the Author's information"
   ]
  },
  {
   "cell_type": "code",
   "execution_count": 5,
   "metadata": {},
   "outputs": [],
   "source": [
    "# The Pnytter object needs at least 1 Nitter instance to work, but these can be added after initialization\n",
    "pnytter = Pnytter(\n",
    "  nitter_instances=[\"http://localhost:8080\"]\n",
    ")"
   ]
  },
  {
   "cell_type": "code",
   "execution_count": null,
   "metadata": {},
   "outputs": [
    {
     "name": "stderr",
     "output_type": "stream",
     "text": [
      "Buscando Retweets:   0%|          | 4/1776 [00:18<2:19:28,  4.72s/it]"
     ]
    }
   ],
   "source": [
    "cont = 0\n",
    "\n",
    "data = {\n",
    "    'tweet_id': [],\n",
    "    'author': [],\n",
    "    'author_id': [],\n",
    "    'created_at': [],\n",
    "    'text': [],\n",
    "    'retweets_count': [], \n",
    "    'comments_count': [],\n",
    "    'likes_count': [],\n",
    "    'quotes_count': []\n",
    "}\n",
    "\n",
    "error = {\n",
    "    'tweet_id': [],\n",
    "}\n",
    "\n",
    "for row in tqdm(df.itertuples(), total=len(df), desc='Buscando Retweets'):\n",
    "    tweet = pnytter.get_tweet(row.tweet_id) \n",
    "    try:\n",
    "        tweet = pnytter.get_tweet(row.tweet_id)\n",
    "    except Exception as e:\n",
    "        print(f\"Error al obtener el tweet {row.tweet_id}: {e}\")\n",
    "        error['tweet_id'].append(row.tweet_id)\n",
    "        continue\n",
    "\n",
    "    try: \n",
    "        data['author'].append(tweet.author) \n",
    "        data['created_at'].append(tweet.created_on)\n",
    "        data['text'].append(tweet.text)\n",
    "        data['retweets_count'].append(tweet.stats.retweets)\n",
    "        data['comments_count'].append(tweet.stats.comments)\n",
    "        data['likes_count'].append(tweet.stats.likes)\n",
    "        data['quotes_count'].append(tweet.stats.quotes)\n",
    "        data['tweet_id'].append(row.tweet_id)\n",
    "        data['author_id'].append(row.author)\n",
    "\n",
    "    except AttributeError:\n",
    "        error['tweet_id'].append(row.tweet_id)\n",
    "\n",
    "    cont += 1\n",
    "\n",
    "    if cont == 100:\n",
    "        cont = 0       \n",
    "        df = pd.DataFrame(data)\n",
    "        df_error = pd.DataFrame(error)\n",
    "\n",
    "        # Verificar si los archivos existen antes de eliminarlos\n",
    "        if os.path.exists('retweets_temp.csv'):\n",
    "            os.remove('retweets_temp.csv')\n",
    "        if os.path.exists('errors_temp.csv'):\n",
    "            os.remove('errors_temp.csv')\n",
    "\n",
    "        df.to_csv('retweets_temp.csv', index=False)\n",
    "        df_error.to_csv('errors_temp.csv', index=False)\n",
    "\n",
    "\n",
    "df = pd.DataFrame(data)\n",
    "df_error = pd.DataFrame(error)\n",
    "df.to_csv('retweets.csv', index=False)\n",
    "df_error.to_csv('errors.csv', index=False)\n",
    "print(\"Archivos retweets.csv y errors.csv generados correctamente.\")\n"
   ]
  },
  {
   "cell_type": "code",
   "execution_count": null,
   "metadata": {},
   "outputs": [],
   "source": [
    "df = pd.DataFrame(data)\n",
    "df.to_csv('tweets.csv', index=False)\n",
    "df.shape"
   ]
  },
  {
   "cell_type": "code",
   "execution_count": null,
   "metadata": {},
   "outputs": [],
   "source": [
    "len(data['tweet_id'])"
   ]
  },
  {
   "cell_type": "code",
   "execution_count": null,
   "metadata": {},
   "outputs": [],
   "source": [
    "len(data['author'])"
   ]
  },
  {
   "cell_type": "markdown",
   "metadata": {},
   "source": [
    "### 2.1 Primero deberemos obtener los datos del Retweet\n",
    "\n",
    "A través de los datos del retweet, obtenemos los datos del usuario, e información estadística del alcance del retweet."
   ]
  },
  {
   "cell_type": "code",
   "execution_count": null,
   "metadata": {},
   "outputs": [],
   "source": [
    "# The Pnytter object needs at least 1 Nitter instance to work, but these can be added after initialization\n",
    "pnytter = Pnytter(\n",
    "  nitter_instances=[\"http://localhost:8080\"]\n",
    ")"
   ]
  },
  {
   "cell_type": "code",
   "execution_count": null,
   "metadata": {},
   "outputs": [],
   "source": [
    "def get_retweet(tweet_id):\n",
    "    tweet = pnytter.get_tweet(tweet_id)\n",
    "    data = {\n",
    "        'tweet_id': [],\n",
    "        'author': [],\n",
    "        'created_at': [],\n",
    "        'text': [],\n",
    "        'retweets_count': [],\n",
    "        'comments_count': [],\n",
    "        'likes_count': [],\n",
    "        'quotes_count': []\n",
    "    }\n",
    "\n",
    "    data['tweet_id'].append(tweet.tweet_id)\n",
    "    data['author'].append(tweet.author) \n",
    "    data['created_at'].append(tweet.created_on)\n",
    "    data['text'].append(tweet.text)\n",
    "    data['retweets_count'].append(tweet.stats.retweets)\n",
    "    data['comments_count'].append(tweet.stats.comments)\n",
    "    data['likes_count'].append(tweet.stats.likes)\n",
    "    data['quotes_count'].append(tweet.stats.quotes)\n",
    "\n",
    "    return data"
   ]
  },
  {
   "cell_type": "code",
   "execution_count": null,
   "metadata": {},
   "outputs": [],
   "source": [
    "user = json.loads(f\"\"\"{'id': None,\n",
    " 'username': 'agustinpicag',\n",
    " 'fullname': 'Agustin Picapiedra G',\n",
    " 'biography': '',\n",
    " 'verified': True,\n",
    " 'joined_datetime': datetime.datetime(2014, 12, 29, 15, 57, tzinfo=datetime.timezone.utc),\n",
    " 'stats': {'tweets': 632, 'following': 305, 'followers': 45, 'likes': 39245},\n",
    " 'pictures': {'profile': {'twitter_url': HttpUrl('https://pbs.twimg.com/profile_images/1021677838737592321/hFfXu_e_.jpg'),\n",
    "                          'nitter_path': '/pic/pbs.twimg.com%2Fprofile_images%2F1021677838737592321%2FhFfXu_e_.jpg'},\n",
    "              'banner': None}}\"\"\")"
   ]
  },
  {
   "cell_type": "code",
   "execution_count": null,
   "metadata": {},
   "outputs": [],
   "source": [
    "import pydantic\n",
    "pydantic.__version__"
   ]
  }
 ],
 "metadata": {
  "kernelspec": {
   "display_name": "tweets",
   "language": "python",
   "name": "python3"
  },
  "language_info": {
   "codemirror_mode": {
    "name": "ipython",
    "version": 3
   },
   "file_extension": ".py",
   "mimetype": "text/x-python",
   "name": "python",
   "nbconvert_exporter": "python",
   "pygments_lexer": "ipython3",
   "version": "3.11.11"
  }
 },
 "nbformat": 4,
 "nbformat_minor": 4
}
